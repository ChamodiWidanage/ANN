{
 "cells": [
  {
   "cell_type": "markdown",
   "metadata": {
    "colab_type": "text",
    "id": "3cbb7fRy-eyr"
   },
   "source": [
    "# Artificial Neural Network"
   ]
  },
  {
   "cell_type": "markdown",
   "metadata": {
    "colab_type": "text",
    "id": "8sNDnxE2-pwE"
   },
   "source": [
    "### Importing the libraries"
   ]
  },
  {
   "cell_type": "code",
   "execution_count": 1,
   "metadata": {
    "colab": {},
    "colab_type": "code",
    "id": "lxChR1Rk-umf"
   },
   "outputs": [],
   "source": [
    "import numpy as np\n",
    "import pandas as pd\n",
    "import tensorflow as tf\n",
    "from sklearn.model_selection import GridSearchCV\n",
    "from tensorflow.keras.models import Sequential\n",
    "from tensorflow.keras.layers import Dense\n",
    "from scikeras.wrappers import KerasRegressor"
   ]
  },
  {
   "cell_type": "markdown",
   "metadata": {
    "colab_type": "text",
    "id": "AG3FQEch-yuA"
   },
   "source": [
    "## Part 1 - Data Preprocessing"
   ]
  },
  {
   "cell_type": "markdown",
   "metadata": {
    "colab_type": "text",
    "id": "-4zq8Mza_D9O"
   },
   "source": [
    "### Importing the dataset"
   ]
  },
  {
   "cell_type": "code",
   "execution_count": 2,
   "metadata": {
    "colab": {},
    "colab_type": "code",
    "id": "B9CV13Co_HHM"
   },
   "outputs": [
    {
     "name": "stdout",
     "output_type": "stream",
     "text": [
      "<class 'pandas.core.frame.DataFrame'>\n",
      "RangeIndex: 546 entries, 0 to 545\n",
      "Data columns (total 4 columns):\n",
      " #   Column             Non-Null Count  Dtype  \n",
      "---  ------             --------------  -----  \n",
      " 0   Charge_type        546 non-null    object \n",
      " 1   Charge_size        546 non-null    float64\n",
      " 2   Standoff_distance  546 non-null    float64\n",
      " 3   Impulse            546 non-null    float64\n",
      "dtypes: float64(3), object(1)\n",
      "memory usage: 17.2+ KB\n"
     ]
    }
   ],
   "source": [
    "dataset = pd.read_excel('IDataset1.xlsx')\n",
    "dataset.info()"
   ]
  },
  {
   "cell_type": "code",
   "execution_count": 3,
   "metadata": {},
   "outputs": [
    {
     "name": "stdout",
     "output_type": "stream",
     "text": [
      "<class 'pandas.core.frame.DataFrame'>\n",
      "RangeIndex: 546 entries, 0 to 545\n",
      "Data columns (total 5 columns):\n",
      " #   Column             Non-Null Count  Dtype  \n",
      "---  ------             --------------  -----  \n",
      " 0   Charge_size        546 non-null    float64\n",
      " 1   Standoff_distance  546 non-null    float64\n",
      " 2   Impulse            546 non-null    float64\n",
      " 3   Charge_type_CompB  546 non-null    uint8  \n",
      " 4   Charge_type_TNT    546 non-null    uint8  \n",
      "dtypes: float64(3), uint8(2)\n",
      "memory usage: 14.0 KB\n"
     ]
    }
   ],
   "source": [
    "# convert categorical variable into dummy variables\n",
    "dataset = pd.get_dummies(dataset, columns=['Charge_type'])\n",
    "dataset.info()"
   ]
  },
  {
   "cell_type": "code",
   "execution_count": 4,
   "metadata": {},
   "outputs": [
    {
     "data": {
      "text/html": [
       "<div>\n",
       "<style scoped>\n",
       "    .dataframe tbody tr th:only-of-type {\n",
       "        vertical-align: middle;\n",
       "    }\n",
       "\n",
       "    .dataframe tbody tr th {\n",
       "        vertical-align: top;\n",
       "    }\n",
       "\n",
       "    .dataframe thead th {\n",
       "        text-align: right;\n",
       "    }\n",
       "</style>\n",
       "<table border=\"1\" class=\"dataframe\">\n",
       "  <thead>\n",
       "    <tr style=\"text-align: right;\">\n",
       "      <th></th>\n",
       "      <th>Charge_size</th>\n",
       "      <th>Standoff_distance</th>\n",
       "      <th>Impulse</th>\n",
       "      <th>Charge_type_CompB</th>\n",
       "      <th>Charge_type_TNT</th>\n",
       "    </tr>\n",
       "  </thead>\n",
       "  <tbody>\n",
       "    <tr>\n",
       "      <th>0</th>\n",
       "      <td>0.5</td>\n",
       "      <td>1.5</td>\n",
       "      <td>58.168617</td>\n",
       "      <td>0</td>\n",
       "      <td>1</td>\n",
       "    </tr>\n",
       "    <tr>\n",
       "      <th>1</th>\n",
       "      <td>0.5</td>\n",
       "      <td>2.5</td>\n",
       "      <td>38.798874</td>\n",
       "      <td>0</td>\n",
       "      <td>1</td>\n",
       "    </tr>\n",
       "    <tr>\n",
       "      <th>2</th>\n",
       "      <td>0.5</td>\n",
       "      <td>3.5</td>\n",
       "      <td>28.473915</td>\n",
       "      <td>0</td>\n",
       "      <td>1</td>\n",
       "    </tr>\n",
       "    <tr>\n",
       "      <th>3</th>\n",
       "      <td>0.5</td>\n",
       "      <td>4.5</td>\n",
       "      <td>22.343452</td>\n",
       "      <td>0</td>\n",
       "      <td>1</td>\n",
       "    </tr>\n",
       "    <tr>\n",
       "      <th>4</th>\n",
       "      <td>0.5</td>\n",
       "      <td>5.5</td>\n",
       "      <td>18.326342</td>\n",
       "      <td>0</td>\n",
       "      <td>1</td>\n",
       "    </tr>\n",
       "  </tbody>\n",
       "</table>\n",
       "</div>"
      ],
      "text/plain": [
       "   Charge_size  Standoff_distance    Impulse  Charge_type_CompB  \\\n",
       "0          0.5                1.5  58.168617                  0   \n",
       "1          0.5                2.5  38.798874                  0   \n",
       "2          0.5                3.5  28.473915                  0   \n",
       "3          0.5                4.5  22.343452                  0   \n",
       "4          0.5                5.5  18.326342                  0   \n",
       "\n",
       "   Charge_type_TNT  \n",
       "0                1  \n",
       "1                1  \n",
       "2                1  \n",
       "3                1  \n",
       "4                1  "
      ]
     },
     "execution_count": 4,
     "metadata": {},
     "output_type": "execute_result"
    }
   ],
   "source": [
    "dataset.head()"
   ]
  },
  {
   "cell_type": "code",
   "execution_count": 5,
   "metadata": {},
   "outputs": [
    {
     "name": "stdout",
     "output_type": "stream",
     "text": [
      "(546, 4) (546,)\n"
     ]
    }
   ],
   "source": [
    "y = dataset['Impulse']\n",
    "X = dataset.drop('Impulse', axis=1)\n",
    "print(X.shape, y.shape)"
   ]
  },
  {
   "cell_type": "code",
   "execution_count": 6,
   "metadata": {},
   "outputs": [],
   "source": [
    "# convert to numpy array\n",
    "X = np.array(X)\n",
    "y = np.array(y)"
   ]
  },
  {
   "cell_type": "markdown",
   "metadata": {
    "colab_type": "text",
    "id": "VC6omXel_Up0"
   },
   "source": [
    "### Splitting the dataset into the Training set and Test set"
   ]
  },
  {
   "cell_type": "code",
   "execution_count": 7,
   "metadata": {
    "colab": {},
    "colab_type": "code",
    "id": "L5edeb2r_agx"
   },
   "outputs": [],
   "source": [
    "from sklearn.model_selection import train_test_split\n",
    "X_train, X_test, y_train, y_test = train_test_split(X, y, test_size = 0.2, random_state = 0)"
   ]
  },
  {
   "cell_type": "markdown",
   "metadata": {
    "tags": []
   },
   "source": [
    "### Hyperparameter tuning - batch size, epoch, optimizer, learning rate"
   ]
  },
  {
   "cell_type": "code",
   "execution_count": 8,
   "metadata": {},
   "outputs": [],
   "source": [
    "# Function to create model, required for KerasClassifier\n",
    "def create_model(optimizer):\n",
    " # create model\n",
    " model = Sequential()\n",
    " model.add(Dense(units=200, input_shape=(X_train.shape[1],), activation='relu'))\n",
    " model.add(Dense(units=100, activation='relu'))\n",
    " model.add(Dense(units=50, activation='relu'))\n",
    " model.add(Dense(units=1, activation='linear'))\n",
    " # Compile model\n",
    " model.compile(optimizer = optimizer, loss = 'mean_squared_error', metrics = ['mae'])\n",
    " return model"
   ]
  },
  {
   "cell_type": "code",
   "execution_count": 9,
   "metadata": {},
   "outputs": [
    {
     "name": "stdout",
     "output_type": "stream",
     "text": [
      "Best: 0.975733 using {'batch_size': 50, 'epochs': 400, 'model__optimizer': 'RMSprop', 'optimizer__learning_rate': 0.1}\n",
      "0.943578 (0.000547) with: {'batch_size': 50, 'epochs': 100, 'model__optimizer': 'RMSprop', 'optimizer__learning_rate': 0.001}\n",
      "0.935415 (0.008036) with: {'batch_size': 50, 'epochs': 100, 'model__optimizer': 'RMSprop', 'optimizer__learning_rate': 0.01}\n",
      "0.942265 (0.013248) with: {'batch_size': 50, 'epochs': 100, 'model__optimizer': 'RMSprop', 'optimizer__learning_rate': 0.1}\n",
      "0.370702 (0.082790) with: {'batch_size': 50, 'epochs': 100, 'model__optimizer': 'Adagrad', 'optimizer__learning_rate': 0.001}\n",
      "0.425620 (0.094036) with: {'batch_size': 50, 'epochs': 100, 'model__optimizer': 'Adagrad', 'optimizer__learning_rate': 0.01}\n",
      "0.410872 (0.048091) with: {'batch_size': 50, 'epochs': 100, 'model__optimizer': 'Adagrad', 'optimizer__learning_rate': 0.1}\n",
      "-1.360142 (0.070818) with: {'batch_size': 50, 'epochs': 100, 'model__optimizer': 'Adadelta', 'optimizer__learning_rate': 0.001}\n",
      "-1.328582 (0.100149) with: {'batch_size': 50, 'epochs': 100, 'model__optimizer': 'Adadelta', 'optimizer__learning_rate': 0.01}\n",
      "-0.829375 (0.891680) with: {'batch_size': 50, 'epochs': 100, 'model__optimizer': 'Adadelta', 'optimizer__learning_rate': 0.1}\n",
      "0.954405 (0.004171) with: {'batch_size': 50, 'epochs': 100, 'model__optimizer': 'Adam', 'optimizer__learning_rate': 0.001}\n",
      "0.953817 (0.003284) with: {'batch_size': 50, 'epochs': 100, 'model__optimizer': 'Adam', 'optimizer__learning_rate': 0.01}\n",
      "0.953588 (0.002841) with: {'batch_size': 50, 'epochs': 100, 'model__optimizer': 'Adam', 'optimizer__learning_rate': 0.1}\n",
      "0.858928 (0.029016) with: {'batch_size': 50, 'epochs': 100, 'model__optimizer': 'Adamax', 'optimizer__learning_rate': 0.001}\n",
      "0.887941 (0.009875) with: {'batch_size': 50, 'epochs': 100, 'model__optimizer': 'Adamax', 'optimizer__learning_rate': 0.01}\n",
      "0.883414 (0.016313) with: {'batch_size': 50, 'epochs': 100, 'model__optimizer': 'Adamax', 'optimizer__learning_rate': 0.1}\n",
      "0.946242 (0.001328) with: {'batch_size': 50, 'epochs': 100, 'model__optimizer': 'Nadam', 'optimizer__learning_rate': 0.001}\n",
      "0.954748 (0.002365) with: {'batch_size': 50, 'epochs': 100, 'model__optimizer': 'Nadam', 'optimizer__learning_rate': 0.01}\n",
      "0.944926 (0.004422) with: {'batch_size': 50, 'epochs': 100, 'model__optimizer': 'Nadam', 'optimizer__learning_rate': 0.1}\n",
      "0.950245 (0.014641) with: {'batch_size': 50, 'epochs': 200, 'model__optimizer': 'RMSprop', 'optimizer__learning_rate': 0.001}\n",
      "0.941901 (0.008206) with: {'batch_size': 50, 'epochs': 200, 'model__optimizer': 'RMSprop', 'optimizer__learning_rate': 0.01}\n",
      "0.956967 (0.005117) with: {'batch_size': 50, 'epochs': 200, 'model__optimizer': 'RMSprop', 'optimizer__learning_rate': 0.1}\n",
      "0.525380 (0.104545) with: {'batch_size': 50, 'epochs': 200, 'model__optimizer': 'Adagrad', 'optimizer__learning_rate': 0.001}\n",
      "0.529464 (0.102060) with: {'batch_size': 50, 'epochs': 200, 'model__optimizer': 'Adagrad', 'optimizer__learning_rate': 0.01}\n",
      "0.584209 (0.067498) with: {'batch_size': 50, 'epochs': 200, 'model__optimizer': 'Adagrad', 'optimizer__learning_rate': 0.1}\n",
      "-0.110718 (0.839617) with: {'batch_size': 50, 'epochs': 200, 'model__optimizer': 'Adadelta', 'optimizer__learning_rate': 0.001}\n",
      "0.303901 (0.234834) with: {'batch_size': 50, 'epochs': 200, 'model__optimizer': 'Adadelta', 'optimizer__learning_rate': 0.01}\n",
      "0.193964 (0.344483) with: {'batch_size': 50, 'epochs': 200, 'model__optimizer': 'Adadelta', 'optimizer__learning_rate': 0.1}\n",
      "0.963343 (0.002987) with: {'batch_size': 50, 'epochs': 200, 'model__optimizer': 'Adam', 'optimizer__learning_rate': 0.001}\n",
      "0.955712 (0.005982) with: {'batch_size': 50, 'epochs': 200, 'model__optimizer': 'Adam', 'optimizer__learning_rate': 0.01}\n",
      "0.959217 (0.003422) with: {'batch_size': 50, 'epochs': 200, 'model__optimizer': 'Adam', 'optimizer__learning_rate': 0.1}\n",
      "0.948352 (0.004516) with: {'batch_size': 50, 'epochs': 200, 'model__optimizer': 'Adamax', 'optimizer__learning_rate': 0.001}\n",
      "0.947784 (0.005197) with: {'batch_size': 50, 'epochs': 200, 'model__optimizer': 'Adamax', 'optimizer__learning_rate': 0.01}\n",
      "0.947720 (0.002041) with: {'batch_size': 50, 'epochs': 200, 'model__optimizer': 'Adamax', 'optimizer__learning_rate': 0.1}\n",
      "0.962560 (0.009147) with: {'batch_size': 50, 'epochs': 200, 'model__optimizer': 'Nadam', 'optimizer__learning_rate': 0.001}\n",
      "0.958553 (0.010750) with: {'batch_size': 50, 'epochs': 200, 'model__optimizer': 'Nadam', 'optimizer__learning_rate': 0.01}\n",
      "0.965812 (0.005761) with: {'batch_size': 50, 'epochs': 200, 'model__optimizer': 'Nadam', 'optimizer__learning_rate': 0.1}\n",
      "0.967140 (0.005371) with: {'batch_size': 50, 'epochs': 400, 'model__optimizer': 'RMSprop', 'optimizer__learning_rate': 0.001}\n",
      "0.959664 (0.001456) with: {'batch_size': 50, 'epochs': 400, 'model__optimizer': 'RMSprop', 'optimizer__learning_rate': 0.01}\n",
      "0.975733 (0.009597) with: {'batch_size': 50, 'epochs': 400, 'model__optimizer': 'RMSprop', 'optimizer__learning_rate': 0.1}\n",
      "0.718943 (0.071699) with: {'batch_size': 50, 'epochs': 400, 'model__optimizer': 'Adagrad', 'optimizer__learning_rate': 0.001}\n",
      "0.729197 (0.041265) with: {'batch_size': 50, 'epochs': 400, 'model__optimizer': 'Adagrad', 'optimizer__learning_rate': 0.01}\n",
      "0.727701 (0.057427) with: {'batch_size': 50, 'epochs': 400, 'model__optimizer': 'Adagrad', 'optimizer__learning_rate': 0.1}\n",
      "0.671834 (0.103067) with: {'batch_size': 50, 'epochs': 400, 'model__optimizer': 'Adadelta', 'optimizer__learning_rate': 0.001}\n",
      "0.658542 (0.059090) with: {'batch_size': 50, 'epochs': 400, 'model__optimizer': 'Adadelta', 'optimizer__learning_rate': 0.01}\n",
      "0.609613 (0.080355) with: {'batch_size': 50, 'epochs': 400, 'model__optimizer': 'Adadelta', 'optimizer__learning_rate': 0.1}\n",
      "0.968761 (0.003426) with: {'batch_size': 50, 'epochs': 400, 'model__optimizer': 'Adam', 'optimizer__learning_rate': 0.001}\n",
      "0.973166 (0.008593) with: {'batch_size': 50, 'epochs': 400, 'model__optimizer': 'Adam', 'optimizer__learning_rate': 0.01}\n",
      "0.967060 (0.004613) with: {'batch_size': 50, 'epochs': 400, 'model__optimizer': 'Adam', 'optimizer__learning_rate': 0.1}\n",
      "0.963931 (0.004629) with: {'batch_size': 50, 'epochs': 400, 'model__optimizer': 'Adamax', 'optimizer__learning_rate': 0.001}\n",
      "0.962299 (0.002701) with: {'batch_size': 50, 'epochs': 400, 'model__optimizer': 'Adamax', 'optimizer__learning_rate': 0.01}\n",
      "0.964347 (0.007017) with: {'batch_size': 50, 'epochs': 400, 'model__optimizer': 'Adamax', 'optimizer__learning_rate': 0.1}\n",
      "0.971309 (0.001993) with: {'batch_size': 50, 'epochs': 400, 'model__optimizer': 'Nadam', 'optimizer__learning_rate': 0.001}\n",
      "0.973105 (0.007344) with: {'batch_size': 50, 'epochs': 400, 'model__optimizer': 'Nadam', 'optimizer__learning_rate': 0.01}\n",
      "0.974436 (0.004528) with: {'batch_size': 50, 'epochs': 400, 'model__optimizer': 'Nadam', 'optimizer__learning_rate': 0.1}\n",
      "0.932531 (0.005931) with: {'batch_size': 60, 'epochs': 100, 'model__optimizer': 'RMSprop', 'optimizer__learning_rate': 0.001}\n",
      "0.933331 (0.004156) with: {'batch_size': 60, 'epochs': 100, 'model__optimizer': 'RMSprop', 'optimizer__learning_rate': 0.01}\n",
      "0.929400 (0.008524) with: {'batch_size': 60, 'epochs': 100, 'model__optimizer': 'RMSprop', 'optimizer__learning_rate': 0.1}\n",
      "0.312931 (0.082446) with: {'batch_size': 60, 'epochs': 100, 'model__optimizer': 'Adagrad', 'optimizer__learning_rate': 0.001}\n",
      "0.355614 (0.121220) with: {'batch_size': 60, 'epochs': 100, 'model__optimizer': 'Adagrad', 'optimizer__learning_rate': 0.01}\n",
      "0.349107 (0.073621) with: {'batch_size': 60, 'epochs': 100, 'model__optimizer': 'Adagrad', 'optimizer__learning_rate': 0.1}\n",
      "-1.344876 (0.086044) with: {'batch_size': 60, 'epochs': 100, 'model__optimizer': 'Adadelta', 'optimizer__learning_rate': 0.001}\n",
      "-1.410960 (0.038000) with: {'batch_size': 60, 'epochs': 100, 'model__optimizer': 'Adadelta', 'optimizer__learning_rate': 0.01}\n",
      "-1.382966 (0.067823) with: {'batch_size': 60, 'epochs': 100, 'model__optimizer': 'Adadelta', 'optimizer__learning_rate': 0.1}\n",
      "0.952062 (0.000682) with: {'batch_size': 60, 'epochs': 100, 'model__optimizer': 'Adam', 'optimizer__learning_rate': 0.001}\n",
      "0.951688 (0.003183) with: {'batch_size': 60, 'epochs': 100, 'model__optimizer': 'Adam', 'optimizer__learning_rate': 0.01}\n",
      "0.950616 (0.001670) with: {'batch_size': 60, 'epochs': 100, 'model__optimizer': 'Adam', 'optimizer__learning_rate': 0.1}\n",
      "0.844535 (0.036891) with: {'batch_size': 60, 'epochs': 100, 'model__optimizer': 'Adamax', 'optimizer__learning_rate': 0.001}\n",
      "0.846038 (0.036597) with: {'batch_size': 60, 'epochs': 100, 'model__optimizer': 'Adamax', 'optimizer__learning_rate': 0.01}\n",
      "0.854144 (0.019729) with: {'batch_size': 60, 'epochs': 100, 'model__optimizer': 'Adamax', 'optimizer__learning_rate': 0.1}\n",
      "0.947309 (0.006096) with: {'batch_size': 60, 'epochs': 100, 'model__optimizer': 'Nadam', 'optimizer__learning_rate': 0.001}\n",
      "0.947920 (0.006233) with: {'batch_size': 60, 'epochs': 100, 'model__optimizer': 'Nadam', 'optimizer__learning_rate': 0.01}\n",
      "0.952679 (0.005882) with: {'batch_size': 60, 'epochs': 100, 'model__optimizer': 'Nadam', 'optimizer__learning_rate': 0.1}\n",
      "0.954919 (0.004830) with: {'batch_size': 60, 'epochs': 200, 'model__optimizer': 'RMSprop', 'optimizer__learning_rate': 0.001}\n",
      "0.949739 (0.009879) with: {'batch_size': 60, 'epochs': 200, 'model__optimizer': 'RMSprop', 'optimizer__learning_rate': 0.01}\n",
      "0.942829 (0.023046) with: {'batch_size': 60, 'epochs': 200, 'model__optimizer': 'RMSprop', 'optimizer__learning_rate': 0.1}\n",
      "0.545605 (0.085113) with: {'batch_size': 60, 'epochs': 200, 'model__optimizer': 'Adagrad', 'optimizer__learning_rate': 0.001}\n",
      "0.512755 (0.078779) with: {'batch_size': 60, 'epochs': 200, 'model__optimizer': 'Adagrad', 'optimizer__learning_rate': 0.01}\n",
      "0.515631 (0.084552) with: {'batch_size': 60, 'epochs': 200, 'model__optimizer': 'Adagrad', 'optimizer__learning_rate': 0.1}\n",
      "-0.239314 (0.744572) with: {'batch_size': 60, 'epochs': 200, 'model__optimizer': 'Adadelta', 'optimizer__learning_rate': 0.001}\n",
      "-0.131725 (0.522775) with: {'batch_size': 60, 'epochs': 200, 'model__optimizer': 'Adadelta', 'optimizer__learning_rate': 0.01}\n",
      "0.134567 (0.541873) with: {'batch_size': 60, 'epochs': 200, 'model__optimizer': 'Adadelta', 'optimizer__learning_rate': 0.1}\n",
      "0.958765 (0.006255) with: {'batch_size': 60, 'epochs': 200, 'model__optimizer': 'Adam', 'optimizer__learning_rate': 0.001}\n",
      "0.959248 (0.003466) with: {'batch_size': 60, 'epochs': 200, 'model__optimizer': 'Adam', 'optimizer__learning_rate': 0.01}\n",
      "0.960460 (0.003050) with: {'batch_size': 60, 'epochs': 200, 'model__optimizer': 'Adam', 'optimizer__learning_rate': 0.1}\n",
      "0.942769 (0.002418) with: {'batch_size': 60, 'epochs': 200, 'model__optimizer': 'Adamax', 'optimizer__learning_rate': 0.001}\n",
      "0.943690 (0.002573) with: {'batch_size': 60, 'epochs': 200, 'model__optimizer': 'Adamax', 'optimizer__learning_rate': 0.01}\n",
      "0.946554 (0.001257) with: {'batch_size': 60, 'epochs': 200, 'model__optimizer': 'Adamax', 'optimizer__learning_rate': 0.1}\n",
      "0.961038 (0.003787) with: {'batch_size': 60, 'epochs': 200, 'model__optimizer': 'Nadam', 'optimizer__learning_rate': 0.001}\n",
      "0.959155 (0.006966) with: {'batch_size': 60, 'epochs': 200, 'model__optimizer': 'Nadam', 'optimizer__learning_rate': 0.01}\n",
      "0.956109 (0.010437) with: {'batch_size': 60, 'epochs': 200, 'model__optimizer': 'Nadam', 'optimizer__learning_rate': 0.1}\n",
      "0.939738 (0.024660) with: {'batch_size': 60, 'epochs': 400, 'model__optimizer': 'RMSprop', 'optimizer__learning_rate': 0.001}\n",
      "0.964927 (0.004740) with: {'batch_size': 60, 'epochs': 400, 'model__optimizer': 'RMSprop', 'optimizer__learning_rate': 0.01}\n",
      "0.956371 (0.008478) with: {'batch_size': 60, 'epochs': 400, 'model__optimizer': 'RMSprop', 'optimizer__learning_rate': 0.1}\n",
      "0.686100 (0.079642) with: {'batch_size': 60, 'epochs': 400, 'model__optimizer': 'Adagrad', 'optimizer__learning_rate': 0.001}\n",
      "0.703121 (0.056061) with: {'batch_size': 60, 'epochs': 400, 'model__optimizer': 'Adagrad', 'optimizer__learning_rate': 0.01}\n",
      "0.704823 (0.031154) with: {'batch_size': 60, 'epochs': 400, 'model__optimizer': 'Adagrad', 'optimizer__learning_rate': 0.1}\n",
      "0.621207 (0.103185) with: {'batch_size': 60, 'epochs': 400, 'model__optimizer': 'Adadelta', 'optimizer__learning_rate': 0.001}\n",
      "0.623955 (0.098644) with: {'batch_size': 60, 'epochs': 400, 'model__optimizer': 'Adadelta', 'optimizer__learning_rate': 0.01}\n",
      "0.619484 (0.092474) with: {'batch_size': 60, 'epochs': 400, 'model__optimizer': 'Adadelta', 'optimizer__learning_rate': 0.1}\n",
      "0.969655 (0.002954) with: {'batch_size': 60, 'epochs': 400, 'model__optimizer': 'Adam', 'optimizer__learning_rate': 0.001}\n",
      "0.967246 (0.004248) with: {'batch_size': 60, 'epochs': 400, 'model__optimizer': 'Adam', 'optimizer__learning_rate': 0.01}\n",
      "0.968742 (0.002983) with: {'batch_size': 60, 'epochs': 400, 'model__optimizer': 'Adam', 'optimizer__learning_rate': 0.1}\n",
      "0.962459 (0.004880) with: {'batch_size': 60, 'epochs': 400, 'model__optimizer': 'Adamax', 'optimizer__learning_rate': 0.001}\n",
      "0.960078 (0.005233) with: {'batch_size': 60, 'epochs': 400, 'model__optimizer': 'Adamax', 'optimizer__learning_rate': 0.01}\n",
      "0.960730 (0.004603) with: {'batch_size': 60, 'epochs': 400, 'model__optimizer': 'Adamax', 'optimizer__learning_rate': 0.1}\n",
      "0.970831 (0.002886) with: {'batch_size': 60, 'epochs': 400, 'model__optimizer': 'Nadam', 'optimizer__learning_rate': 0.001}\n",
      "0.971177 (0.003739) with: {'batch_size': 60, 'epochs': 400, 'model__optimizer': 'Nadam', 'optimizer__learning_rate': 0.01}\n",
      "0.969971 (0.002348) with: {'batch_size': 60, 'epochs': 400, 'model__optimizer': 'Nadam', 'optimizer__learning_rate': 0.1}\n",
      "0.929744 (0.002824) with: {'batch_size': 80, 'epochs': 100, 'model__optimizer': 'RMSprop', 'optimizer__learning_rate': 0.001}\n",
      "0.928760 (0.008909) with: {'batch_size': 80, 'epochs': 100, 'model__optimizer': 'RMSprop', 'optimizer__learning_rate': 0.01}\n",
      "0.938191 (0.005266) with: {'batch_size': 80, 'epochs': 100, 'model__optimizer': 'RMSprop', 'optimizer__learning_rate': 0.1}\n",
      "0.249827 (0.050487) with: {'batch_size': 80, 'epochs': 100, 'model__optimizer': 'Adagrad', 'optimizer__learning_rate': 0.001}\n",
      "0.159489 (0.114234) with: {'batch_size': 80, 'epochs': 100, 'model__optimizer': 'Adagrad', 'optimizer__learning_rate': 0.01}\n",
      "0.185354 (0.035049) with: {'batch_size': 80, 'epochs': 100, 'model__optimizer': 'Adagrad', 'optimizer__learning_rate': 0.1}\n",
      "-1.421838 (0.062046) with: {'batch_size': 80, 'epochs': 100, 'model__optimizer': 'Adadelta', 'optimizer__learning_rate': 0.001}\n",
      "-1.376942 (0.053779) with: {'batch_size': 80, 'epochs': 100, 'model__optimizer': 'Adadelta', 'optimizer__learning_rate': 0.01}\n",
      "-1.360444 (0.075154) with: {'batch_size': 80, 'epochs': 100, 'model__optimizer': 'Adadelta', 'optimizer__learning_rate': 0.1}\n",
      "0.949017 (0.002250) with: {'batch_size': 80, 'epochs': 100, 'model__optimizer': 'Adam', 'optimizer__learning_rate': 0.001}\n",
      "0.947916 (0.001428) with: {'batch_size': 80, 'epochs': 100, 'model__optimizer': 'Adam', 'optimizer__learning_rate': 0.01}\n",
      "0.947062 (0.002991) with: {'batch_size': 80, 'epochs': 100, 'model__optimizer': 'Adam', 'optimizer__learning_rate': 0.1}\n",
      "0.807255 (0.024086) with: {'batch_size': 80, 'epochs': 100, 'model__optimizer': 'Adamax', 'optimizer__learning_rate': 0.001}\n",
      "0.796207 (0.030959) with: {'batch_size': 80, 'epochs': 100, 'model__optimizer': 'Adamax', 'optimizer__learning_rate': 0.01}\n",
      "0.806290 (0.032688) with: {'batch_size': 80, 'epochs': 100, 'model__optimizer': 'Adamax', 'optimizer__learning_rate': 0.1}\n",
      "0.947169 (0.004493) with: {'batch_size': 80, 'epochs': 100, 'model__optimizer': 'Nadam', 'optimizer__learning_rate': 0.001}\n",
      "0.946224 (0.007147) with: {'batch_size': 80, 'epochs': 100, 'model__optimizer': 'Nadam', 'optimizer__learning_rate': 0.01}\n",
      "0.946310 (0.006127) with: {'batch_size': 80, 'epochs': 100, 'model__optimizer': 'Nadam', 'optimizer__learning_rate': 0.1}\n",
      "0.957417 (0.004252) with: {'batch_size': 80, 'epochs': 200, 'model__optimizer': 'RMSprop', 'optimizer__learning_rate': 0.001}\n",
      "0.955412 (0.001186) with: {'batch_size': 80, 'epochs': 200, 'model__optimizer': 'RMSprop', 'optimizer__learning_rate': 0.01}\n",
      "0.954819 (0.004498) with: {'batch_size': 80, 'epochs': 200, 'model__optimizer': 'RMSprop', 'optimizer__learning_rate': 0.1}\n",
      "0.460201 (0.083613) with: {'batch_size': 80, 'epochs': 200, 'model__optimizer': 'Adagrad', 'optimizer__learning_rate': 0.001}\n",
      "0.457366 (0.051967) with: {'batch_size': 80, 'epochs': 200, 'model__optimizer': 'Adagrad', 'optimizer__learning_rate': 0.01}\n",
      "0.467236 (0.129265) with: {'batch_size': 80, 'epochs': 200, 'model__optimizer': 'Adagrad', 'optimizer__learning_rate': 0.1}\n",
      "-0.784383 (0.766248) with: {'batch_size': 80, 'epochs': 200, 'model__optimizer': 'Adadelta', 'optimizer__learning_rate': 0.001}\n",
      "-0.191812 (0.896387) with: {'batch_size': 80, 'epochs': 200, 'model__optimizer': 'Adadelta', 'optimizer__learning_rate': 0.01}\n",
      "-0.271219 (0.702787) with: {'batch_size': 80, 'epochs': 200, 'model__optimizer': 'Adadelta', 'optimizer__learning_rate': 0.1}\n",
      "0.959183 (0.003050) with: {'batch_size': 80, 'epochs': 200, 'model__optimizer': 'Adam', 'optimizer__learning_rate': 0.001}\n",
      "0.957430 (0.003901) with: {'batch_size': 80, 'epochs': 200, 'model__optimizer': 'Adam', 'optimizer__learning_rate': 0.01}\n",
      "0.959872 (0.002687) with: {'batch_size': 80, 'epochs': 200, 'model__optimizer': 'Adam', 'optimizer__learning_rate': 0.1}\n",
      "0.930391 (0.009718) with: {'batch_size': 80, 'epochs': 200, 'model__optimizer': 'Adamax', 'optimizer__learning_rate': 0.001}\n",
      "0.939257 (0.003413) with: {'batch_size': 80, 'epochs': 200, 'model__optimizer': 'Adamax', 'optimizer__learning_rate': 0.01}\n",
      "0.936639 (0.002774) with: {'batch_size': 80, 'epochs': 200, 'model__optimizer': 'Adamax', 'optimizer__learning_rate': 0.1}\n",
      "0.957821 (0.007712) with: {'batch_size': 80, 'epochs': 200, 'model__optimizer': 'Nadam', 'optimizer__learning_rate': 0.001}\n",
      "0.961129 (0.003443) with: {'batch_size': 80, 'epochs': 200, 'model__optimizer': 'Nadam', 'optimizer__learning_rate': 0.01}\n",
      "0.958425 (0.001345) with: {'batch_size': 80, 'epochs': 200, 'model__optimizer': 'Nadam', 'optimizer__learning_rate': 0.1}\n",
      "0.958146 (0.011878) with: {'batch_size': 80, 'epochs': 400, 'model__optimizer': 'RMSprop', 'optimizer__learning_rate': 0.001}\n",
      "0.967011 (0.002664) with: {'batch_size': 80, 'epochs': 400, 'model__optimizer': 'RMSprop', 'optimizer__learning_rate': 0.01}\n",
      "0.963559 (0.013327) with: {'batch_size': 80, 'epochs': 400, 'model__optimizer': 'RMSprop', 'optimizer__learning_rate': 0.1}\n",
      "0.641023 (0.080889) with: {'batch_size': 80, 'epochs': 400, 'model__optimizer': 'Adagrad', 'optimizer__learning_rate': 0.001}\n",
      "0.682847 (0.079390) with: {'batch_size': 80, 'epochs': 400, 'model__optimizer': 'Adagrad', 'optimizer__learning_rate': 0.01}\n",
      "0.665215 (0.101282) with: {'batch_size': 80, 'epochs': 400, 'model__optimizer': 'Adagrad', 'optimizer__learning_rate': 0.1}\n",
      "0.592637 (0.127870) with: {'batch_size': 80, 'epochs': 400, 'model__optimizer': 'Adadelta', 'optimizer__learning_rate': 0.001}\n",
      "0.589367 (0.089554) with: {'batch_size': 80, 'epochs': 400, 'model__optimizer': 'Adadelta', 'optimizer__learning_rate': 0.01}\n",
      "0.627664 (0.114444) with: {'batch_size': 80, 'epochs': 400, 'model__optimizer': 'Adadelta', 'optimizer__learning_rate': 0.1}\n",
      "0.972870 (0.004954) with: {'batch_size': 80, 'epochs': 400, 'model__optimizer': 'Adam', 'optimizer__learning_rate': 0.001}\n",
      "0.968450 (0.003352) with: {'batch_size': 80, 'epochs': 400, 'model__optimizer': 'Adam', 'optimizer__learning_rate': 0.01}\n",
      "0.964712 (0.004536) with: {'batch_size': 80, 'epochs': 400, 'model__optimizer': 'Adam', 'optimizer__learning_rate': 0.1}\n",
      "0.956950 (0.003587) with: {'batch_size': 80, 'epochs': 400, 'model__optimizer': 'Adamax', 'optimizer__learning_rate': 0.001}\n",
      "0.957032 (0.003757) with: {'batch_size': 80, 'epochs': 400, 'model__optimizer': 'Adamax', 'optimizer__learning_rate': 0.01}\n",
      "0.959479 (0.004496) with: {'batch_size': 80, 'epochs': 400, 'model__optimizer': 'Adamax', 'optimizer__learning_rate': 0.1}\n",
      "0.965279 (0.007718) with: {'batch_size': 80, 'epochs': 400, 'model__optimizer': 'Nadam', 'optimizer__learning_rate': 0.001}\n",
      "0.971581 (0.004303) with: {'batch_size': 80, 'epochs': 400, 'model__optimizer': 'Nadam', 'optimizer__learning_rate': 0.01}\n",
      "0.963314 (0.006738) with: {'batch_size': 80, 'epochs': 400, 'model__optimizer': 'Nadam', 'optimizer__learning_rate': 0.1}\n",
      "0.928332 (0.004676) with: {'batch_size': 100, 'epochs': 100, 'model__optimizer': 'RMSprop', 'optimizer__learning_rate': 0.001}\n",
      "0.924542 (0.005543) with: {'batch_size': 100, 'epochs': 100, 'model__optimizer': 'RMSprop', 'optimizer__learning_rate': 0.01}\n",
      "0.921898 (0.004455) with: {'batch_size': 100, 'epochs': 100, 'model__optimizer': 'RMSprop', 'optimizer__learning_rate': 0.1}\n",
      "0.114658 (0.119205) with: {'batch_size': 100, 'epochs': 100, 'model__optimizer': 'Adagrad', 'optimizer__learning_rate': 0.001}\n",
      "0.020624 (0.130102) with: {'batch_size': 100, 'epochs': 100, 'model__optimizer': 'Adagrad', 'optimizer__learning_rate': 0.01}\n",
      "0.095016 (0.082505) with: {'batch_size': 100, 'epochs': 100, 'model__optimizer': 'Adagrad', 'optimizer__learning_rate': 0.1}\n",
      "-1.378706 (0.109284) with: {'batch_size': 100, 'epochs': 100, 'model__optimizer': 'Adadelta', 'optimizer__learning_rate': 0.001}\n",
      "-1.385433 (0.046962) with: {'batch_size': 100, 'epochs': 100, 'model__optimizer': 'Adadelta', 'optimizer__learning_rate': 0.01}\n",
      "-1.412779 (0.066128) with: {'batch_size': 100, 'epochs': 100, 'model__optimizer': 'Adadelta', 'optimizer__learning_rate': 0.1}\n",
      "0.937159 (0.002922) with: {'batch_size': 100, 'epochs': 100, 'model__optimizer': 'Adam', 'optimizer__learning_rate': 0.001}\n",
      "0.937968 (0.007116) with: {'batch_size': 100, 'epochs': 100, 'model__optimizer': 'Adam', 'optimizer__learning_rate': 0.01}\n",
      "0.932384 (0.004195) with: {'batch_size': 100, 'epochs': 100, 'model__optimizer': 'Adam', 'optimizer__learning_rate': 0.1}\n",
      "0.762774 (0.043315) with: {'batch_size': 100, 'epochs': 100, 'model__optimizer': 'Adamax', 'optimizer__learning_rate': 0.001}\n",
      "0.767181 (0.044901) with: {'batch_size': 100, 'epochs': 100, 'model__optimizer': 'Adamax', 'optimizer__learning_rate': 0.01}\n",
      "0.759377 (0.044586) with: {'batch_size': 100, 'epochs': 100, 'model__optimizer': 'Adamax', 'optimizer__learning_rate': 0.1}\n",
      "0.935662 (0.008079) with: {'batch_size': 100, 'epochs': 100, 'model__optimizer': 'Nadam', 'optimizer__learning_rate': 0.001}\n",
      "0.935447 (0.007837) with: {'batch_size': 100, 'epochs': 100, 'model__optimizer': 'Nadam', 'optimizer__learning_rate': 0.01}\n",
      "0.939988 (0.004578) with: {'batch_size': 100, 'epochs': 100, 'model__optimizer': 'Nadam', 'optimizer__learning_rate': 0.1}\n",
      "0.939831 (0.007229) with: {'batch_size': 100, 'epochs': 200, 'model__optimizer': 'RMSprop', 'optimizer__learning_rate': 0.001}\n",
      "0.944505 (0.004609) with: {'batch_size': 100, 'epochs': 200, 'model__optimizer': 'RMSprop', 'optimizer__learning_rate': 0.01}\n",
      "0.950776 (0.006003) with: {'batch_size': 100, 'epochs': 200, 'model__optimizer': 'RMSprop', 'optimizer__learning_rate': 0.1}\n",
      "0.421227 (0.084034) with: {'batch_size': 100, 'epochs': 200, 'model__optimizer': 'Adagrad', 'optimizer__learning_rate': 0.001}\n",
      "0.358619 (0.061624) with: {'batch_size': 100, 'epochs': 200, 'model__optimizer': 'Adagrad', 'optimizer__learning_rate': 0.01}\n",
      "0.345450 (0.128965) with: {'batch_size': 100, 'epochs': 200, 'model__optimizer': 'Adagrad', 'optimizer__learning_rate': 0.1}\n",
      "-0.955905 (0.600483) with: {'batch_size': 100, 'epochs': 200, 'model__optimizer': 'Adadelta', 'optimizer__learning_rate': 0.001}\n",
      "0.096922 (0.622472) with: {'batch_size': 100, 'epochs': 200, 'model__optimizer': 'Adadelta', 'optimizer__learning_rate': 0.01}\n",
      "-1.384276 (0.069619) with: {'batch_size': 100, 'epochs': 200, 'model__optimizer': 'Adadelta', 'optimizer__learning_rate': 0.1}\n",
      "0.957633 (0.002096) with: {'batch_size': 100, 'epochs': 200, 'model__optimizer': 'Adam', 'optimizer__learning_rate': 0.001}\n",
      "0.957656 (0.003255) with: {'batch_size': 100, 'epochs': 200, 'model__optimizer': 'Adam', 'optimizer__learning_rate': 0.01}\n",
      "0.958531 (0.003772) with: {'batch_size': 100, 'epochs': 200, 'model__optimizer': 'Adam', 'optimizer__learning_rate': 0.1}\n",
      "0.917982 (0.013362) with: {'batch_size': 100, 'epochs': 200, 'model__optimizer': 'Adamax', 'optimizer__learning_rate': 0.001}\n",
      "0.924664 (0.012680) with: {'batch_size': 100, 'epochs': 200, 'model__optimizer': 'Adamax', 'optimizer__learning_rate': 0.01}\n",
      "0.924485 (0.013692) with: {'batch_size': 100, 'epochs': 200, 'model__optimizer': 'Adamax', 'optimizer__learning_rate': 0.1}\n",
      "0.957902 (0.004052) with: {'batch_size': 100, 'epochs': 200, 'model__optimizer': 'Nadam', 'optimizer__learning_rate': 0.001}\n",
      "0.953441 (0.000600) with: {'batch_size': 100, 'epochs': 200, 'model__optimizer': 'Nadam', 'optimizer__learning_rate': 0.01}\n",
      "0.957602 (0.001078) with: {'batch_size': 100, 'epochs': 200, 'model__optimizer': 'Nadam', 'optimizer__learning_rate': 0.1}\n",
      "0.965209 (0.001945) with: {'batch_size': 100, 'epochs': 400, 'model__optimizer': 'RMSprop', 'optimizer__learning_rate': 0.001}\n",
      "0.963191 (0.009227) with: {'batch_size': 100, 'epochs': 400, 'model__optimizer': 'RMSprop', 'optimizer__learning_rate': 0.01}\n",
      "0.967573 (0.001020) with: {'batch_size': 100, 'epochs': 400, 'model__optimizer': 'RMSprop', 'optimizer__learning_rate': 0.1}\n",
      "0.603591 (0.062356) with: {'batch_size': 100, 'epochs': 400, 'model__optimizer': 'Adagrad', 'optimizer__learning_rate': 0.001}\n",
      "0.570001 (0.069395) with: {'batch_size': 100, 'epochs': 400, 'model__optimizer': 'Adagrad', 'optimizer__learning_rate': 0.01}\n",
      "0.608479 (0.048105) with: {'batch_size': 100, 'epochs': 400, 'model__optimizer': 'Adagrad', 'optimizer__learning_rate': 0.1}\n",
      "0.702069 (0.147743) with: {'batch_size': 100, 'epochs': 400, 'model__optimizer': 'Adadelta', 'optimizer__learning_rate': 0.001}\n",
      "0.610703 (0.041928) with: {'batch_size': 100, 'epochs': 400, 'model__optimizer': 'Adadelta', 'optimizer__learning_rate': 0.01}\n",
      "0.601715 (0.084125) with: {'batch_size': 100, 'epochs': 400, 'model__optimizer': 'Adadelta', 'optimizer__learning_rate': 0.1}\n",
      "0.964051 (0.004887) with: {'batch_size': 100, 'epochs': 400, 'model__optimizer': 'Adam', 'optimizer__learning_rate': 0.001}\n",
      "0.967375 (0.005270) with: {'batch_size': 100, 'epochs': 400, 'model__optimizer': 'Adam', 'optimizer__learning_rate': 0.01}\n",
      "0.964526 (0.002973) with: {'batch_size': 100, 'epochs': 400, 'model__optimizer': 'Adam', 'optimizer__learning_rate': 0.1}\n",
      "0.953774 (0.003279) with: {'batch_size': 100, 'epochs': 400, 'model__optimizer': 'Adamax', 'optimizer__learning_rate': 0.001}\n",
      "0.956555 (0.003275) with: {'batch_size': 100, 'epochs': 400, 'model__optimizer': 'Adamax', 'optimizer__learning_rate': 0.01}\n",
      "0.957625 (0.002910) with: {'batch_size': 100, 'epochs': 400, 'model__optimizer': 'Adamax', 'optimizer__learning_rate': 0.1}\n",
      "0.960726 (0.004551) with: {'batch_size': 100, 'epochs': 400, 'model__optimizer': 'Nadam', 'optimizer__learning_rate': 0.001}\n",
      "0.959388 (0.003950) with: {'batch_size': 100, 'epochs': 400, 'model__optimizer': 'Nadam', 'optimizer__learning_rate': 0.01}\n",
      "0.959049 (0.004556) with: {'batch_size': 100, 'epochs': 400, 'model__optimizer': 'Nadam', 'optimizer__learning_rate': 0.1}\n"
     ]
    }
   ],
   "source": [
    "# create model\n",
    "model = KerasRegressor(model=create_model, verbose=0)\n",
    "\n",
    "# define the grid search parameters\n",
    "batch_size = [40, 50, 60, 70]\n",
    "epochs = [200, 400, 450, 500]\n",
    "optimizer = ['RMSprop', 'Adagrad', 'Adam', 'Adamax', 'Nadam']\n",
    "learn_rate = [0.01, 0.1, 0.5, 1]\n",
    "\n",
    "# gridsearch\n",
    "param_grid = dict(batch_size=batch_size, epochs=epochs, model__optimizer=optimizer, optimizer__learning_rate=learn_rate)\n",
    "grid = GridSearchCV(estimator=model, param_grid=param_grid,  n_jobs=-1, cv=3, scoring = 'r2')\n",
    "grid_result = grid.fit(X_train, y_train)\n",
    "\n",
    "# summarize results\n",
    "print(\"Best: %f using %s\" % (grid_result.best_score_, grid_result.best_params_))\n",
    "means = grid_result.cv_results_['mean_test_score']\n",
    "stds = grid_result.cv_results_['std_test_score']\n",
    "params = grid_result.cv_results_['params']\n",
    "for mean, stdev, param in zip(means, stds, params):\n",
    "    print(\"%f (%f) with: %r\" % (mean, stdev, param))"
   ]
  },
  {
   "cell_type": "markdown",
   "metadata": {
    "jp-MarkdownHeadingCollapsed": true,
    "tags": []
   },
   "source": [
    "### Hyperparameter tuning - batch size, epoch, learning rate"
   ]
  },
  {
   "cell_type": "code",
   "execution_count": 10,
   "metadata": {},
   "outputs": [],
   "source": [
    "# Function to create model, required for KerasClassifier\n",
    "def create_model():\n",
    " # create model\n",
    " model = Sequential()\n",
    " model.add(Dense(units=200, input_shape=(X_train.shape[1],), activation='relu'))\n",
    " model.add(Dense(units=100, activation='relu'))\n",
    " model.add(Dense(units=50, activation='relu'))\n",
    " model.add(Dense(units=1, activation='linear'))\n",
    " return model"
   ]
  },
  {
   "cell_type": "code",
   "execution_count": null,
   "metadata": {},
   "outputs": [
    {
     "name": "stdout",
     "output_type": "stream",
     "text": [
      "Best: 0.997277 using {'batch_size': 60, 'epochs': 100, 'optimizer__learning_rate': 0.01}\n",
      "0.976974 (0.017614) with: {'batch_size': 50, 'epochs': 50, 'optimizer__learning_rate': 0.01}\n",
      "0.934511 (0.048929) with: {'batch_size': 50, 'epochs': 50, 'optimizer__learning_rate': 0.1}\n",
      "0.289896 (0.414893) with: {'batch_size': 50, 'epochs': 50, 'optimizer__learning_rate': 0.2}\n",
      "0.996621 (0.002431) with: {'batch_size': 50, 'epochs': 100, 'optimizer__learning_rate': 0.01}\n",
      "0.880614 (0.097619) with: {'batch_size': 50, 'epochs': 100, 'optimizer__learning_rate': 0.1}\n",
      "0.299880 (0.426459) with: {'batch_size': 50, 'epochs': 100, 'optimizer__learning_rate': 0.2}\n",
      "0.992978 (0.004278) with: {'batch_size': 60, 'epochs': 50, 'optimizer__learning_rate': 0.01}\n",
      "0.970004 (0.009733) with: {'batch_size': 60, 'epochs': 50, 'optimizer__learning_rate': 0.1}\n",
      "0.298315 (0.438947) with: {'batch_size': 60, 'epochs': 50, 'optimizer__learning_rate': 0.2}\n",
      "0.997277 (0.001802) with: {'batch_size': 60, 'epochs': 100, 'optimizer__learning_rate': 0.01}\n",
      "0.936912 (0.033862) with: {'batch_size': 60, 'epochs': 100, 'optimizer__learning_rate': 0.1}\n",
      "0.303367 (0.446741) with: {'batch_size': 60, 'epochs': 100, 'optimizer__learning_rate': 0.2}\n",
      "0.972010 (0.019859) with: {'batch_size': 80, 'epochs': 50, 'optimizer__learning_rate': 0.01}\n",
      "0.882566 (0.084669) with: {'batch_size': 80, 'epochs': 50, 'optimizer__learning_rate': 0.1}\n",
      "0.375773 (0.338420) with: {'batch_size': 80, 'epochs': 50, 'optimizer__learning_rate': 0.2}\n",
      "0.980654 (0.021292) with: {'batch_size': 80, 'epochs': 100, 'optimizer__learning_rate': 0.01}\n",
      "0.948337 (0.040130) with: {'batch_size': 80, 'epochs': 100, 'optimizer__learning_rate': 0.1}\n",
      "-0.005370 (0.000900) with: {'batch_size': 80, 'epochs': 100, 'optimizer__learning_rate': 0.2}\n",
      "0.962241 (0.020736) with: {'batch_size': 100, 'epochs': 50, 'optimizer__learning_rate': 0.01}\n",
      "0.897146 (0.040488) with: {'batch_size': 100, 'epochs': 50, 'optimizer__learning_rate': 0.1}\n",
      "0.303355 (0.433063) with: {'batch_size': 100, 'epochs': 50, 'optimizer__learning_rate': 0.2}\n",
      "0.993725 (0.005130) with: {'batch_size': 100, 'epochs': 100, 'optimizer__learning_rate': 0.01}\n",
      "0.911065 (0.001954) with: {'batch_size': 100, 'epochs': 100, 'optimizer__learning_rate': 0.1}\n",
      "-0.004303 (0.002623) with: {'batch_size': 100, 'epochs': 100, 'optimizer__learning_rate': 0.2}\n"
     ]
    }
   ],
   "source": [
    "# create model\n",
    "model = KerasRegressor(model=create_model, verbose=0, optimizer = 'Nadam', loss = 'mean_squared_error', metrics = ['mae'])\n",
    "\n",
    "# define the grid search parameters\n",
    "batch_size = [50, 60, 80, 100]\n",
    "epochs = [50, 100, 200]\n",
    "learn_rate = [0.001, 0.01, 0.1]\n",
    "#momentum = [0.8, 0.9]\n",
    "\n",
    "# gridsearch\n",
    "param_grid = dict(batch_size=batch_size, epochs=epochs, optimizer__learning_rate=learn_rate)\n",
    "grid = GridSearchCV(estimator=model, param_grid=param_grid, n_jobs=-1, cv=3)\n",
    "grid_result = grid.fit(X_train, y_train)\n",
    "\n",
    "# summarize results\n",
    "print(\"Best: %f using %s\" % (grid_result.best_score_, grid_result.best_params_))\n",
    "means = grid_result.cv_results_['mean_test_score']\n",
    "stds = grid_result.cv_results_['std_test_score']\n",
    "params = grid_result.cv_results_['params']\n",
    "for mean, stdev, param in zip(means, stds, params):\n",
    "    print(\"%f (%f) with: %r\" % (mean, stdev, param))"
   ]
  },
  {
   "cell_type": "markdown",
   "metadata": {},
   "source": [
    "### Hyperparameter tuning - layers, neurons, activation function"
   ]
  },
  {
   "cell_type": "code",
   "execution_count": 10,
   "metadata": {},
   "outputs": [],
   "source": [
    "from tensorflow.keras.wrappers.scikit_learn import KerasRegressor as KR\n",
    "import math\n",
    "def FindLayerNodesLinear(n_layers, first_layer_nodes, last_layer_nodes):\n",
    "    layers = []\n",
    "    \n",
    "    nodes_increment = (last_layer_nodes - first_layer_nodes)/ (n_layers-1)\n",
    "    nodes = first_layer_nodes\n",
    "    for i in range(1, n_layers+1):\n",
    "        layers.append(math.ceil(nodes))\n",
    "        nodes = nodes + nodes_increment\n",
    "    \n",
    "    return layers"
   ]
  },
  {
   "cell_type": "code",
   "execution_count": 11,
   "metadata": {},
   "outputs": [
    {
     "name": "stderr",
     "output_type": "stream",
     "text": [
      "C:\\Users\\Chathura Gamage\\AppData\\Local\\Temp\\ipykernel_10148\\3417958943.py:18: DeprecationWarning: KerasRegressor is deprecated, use Sci-Keras (https://github.com/adriangb/scikeras) instead. See https://www.adriangb.com/scikeras/stable/migration.html for help migrating.\n",
      "  model = KR(build_fn=create_model, verbose=0, epochs = 400, batch_size = 50)\n"
     ]
    }
   ],
   "source": [
    "from tensorflow.keras.optimizers import RMSprop\n",
    "def create_model(n_layers, first_layer_nodes, last_layer_nodes, activation_func):\n",
    "    model = Sequential()\n",
    "    n_nodes = FindLayerNodesLinear(n_layers, first_layer_nodes, last_layer_nodes)\n",
    "    for i in range(1, n_layers):\n",
    "        if i==1:\n",
    "            model.add(Dense(units = first_layer_nodes,  input_shape=(X_train.shape[1],), activation=activation_func))\n",
    "        else:\n",
    "            model.add(Dense(n_nodes[i-1], activation=activation_func))\n",
    "            \n",
    "    #Finally, the output layer should have a single node in binary classification\n",
    "    model.add(Dense(1, activation='linear'))\n",
    "    opt = RMSprop(learning_rate=0.1)\n",
    "    model.compile(optimizer = opt, loss = 'mean_squared_error', metrics = ['mae'])\n",
    "    return model\n",
    "\n",
    "##Wrap model into scikit-learn\n",
    "model = KR(build_fn=create_model, verbose=0, epochs = 400, batch_size = 50)"
   ]
  },
  {
   "cell_type": "code",
   "execution_count": 12,
   "metadata": {},
   "outputs": [
    {
     "name": "stdout",
     "output_type": "stream",
     "text": [
      "ERROR! Session/line number was not unique in database. History logging moved to new session 676\n",
      "Best: 0.986263 using {'activation_func': 'softplus', 'first_layer_nodes': 200, 'last_layer_nodes': 50, 'n_layers': 2}\n",
      "0.980573 (0.010610) with: {'activation_func': 'relu', 'first_layer_nodes': 200, 'last_layer_nodes': 50, 'n_layers': 2}\n",
      "0.917243 (0.035116) with: {'activation_func': 'relu', 'first_layer_nodes': 200, 'last_layer_nodes': 50, 'n_layers': 3}\n",
      "0.953663 (0.022865) with: {'activation_func': 'relu', 'first_layer_nodes': 300, 'last_layer_nodes': 50, 'n_layers': 2}\n",
      "0.916777 (0.034610) with: {'activation_func': 'relu', 'first_layer_nodes': 300, 'last_layer_nodes': 50, 'n_layers': 3}\n",
      "0.986263 (0.002684) with: {'activation_func': 'softplus', 'first_layer_nodes': 200, 'last_layer_nodes': 50, 'n_layers': 2}\n",
      "0.958869 (0.009682) with: {'activation_func': 'softplus', 'first_layer_nodes': 200, 'last_layer_nodes': 50, 'n_layers': 3}\n",
      "0.910386 (0.087254) with: {'activation_func': 'softplus', 'first_layer_nodes': 300, 'last_layer_nodes': 50, 'n_layers': 2}\n",
      "0.909530 (0.017361) with: {'activation_func': 'softplus', 'first_layer_nodes': 300, 'last_layer_nodes': 50, 'n_layers': 3}\n",
      "0.931396 (0.010506) with: {'activation_func': 'leaky_relu', 'first_layer_nodes': 200, 'last_layer_nodes': 50, 'n_layers': 2}\n",
      "-0.865704 (1.302479) with: {'activation_func': 'leaky_relu', 'first_layer_nodes': 200, 'last_layer_nodes': 50, 'n_layers': 3}\n",
      "0.752579 (0.266199) with: {'activation_func': 'leaky_relu', 'first_layer_nodes': 300, 'last_layer_nodes': 50, 'n_layers': 2}\n",
      "0.458009 (0.332423) with: {'activation_func': 'leaky_relu', 'first_layer_nodes': 300, 'last_layer_nodes': 50, 'n_layers': 3}\n"
     ]
    }
   ],
   "source": [
    "activation_funcs = ['relu', 'softplus', 'leaky_relu'] \n",
    "param_grid = dict(n_layers=[2,3], first_layer_nodes = [200,300], last_layer_nodes = [50],  activation_func = activation_funcs)\n",
    "grid = GridSearchCV(estimator = model, param_grid = param_grid,  n_jobs=-1, cv=3, scoring = 'r2')\n",
    "grid_result = grid.fit(X_train, y_train)\n",
    "\n",
    "# summarize results\n",
    "print(\"Best: %f using %s\" % (grid_result.best_score_, grid_result.best_params_))\n",
    "means = grid_result.cv_results_['mean_test_score']\n",
    "stds = grid_result.cv_results_['std_test_score']\n",
    "params = grid_result.cv_results_['params']\n",
    "for mean, stdev, param in zip(means, stds, params):\n",
    "    print(\"%f (%f) with: %r\" % (mean, stdev, param))"
   ]
  }
 ],
 "metadata": {
  "colab": {
   "collapsed_sections": [],
   "name": "Artificial Neural Network",
   "provenance": [],
   "toc_visible": true
  },
  "kernelspec": {
   "display_name": "Python 3 (ipykernel)",
   "language": "python",
   "name": "python3"
  },
  "language_info": {
   "codemirror_mode": {
    "name": "ipython",
    "version": 3
   },
   "file_extension": ".py",
   "mimetype": "text/x-python",
   "name": "python",
   "nbconvert_exporter": "python",
   "pygments_lexer": "ipython3",
   "version": "3.9.7"
  }
 },
 "nbformat": 4,
 "nbformat_minor": 4
}
