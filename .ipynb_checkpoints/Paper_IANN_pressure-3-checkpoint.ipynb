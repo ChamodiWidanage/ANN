{
 "cells": [
  {
   "cell_type": "markdown",
   "metadata": {
    "colab_type": "text",
    "id": "3cbb7fRy-eyr"
   },
   "source": [
    "# Artificial Neural Network"
   ]
  },
  {
   "cell_type": "markdown",
   "metadata": {
    "colab_type": "text",
    "id": "8sNDnxE2-pwE"
   },
   "source": [
    "### Importing the libraries"
   ]
  },
  {
   "cell_type": "code",
   "execution_count": 1,
   "metadata": {
    "colab": {},
    "colab_type": "code",
    "id": "lxChR1Rk-umf"
   },
   "outputs": [],
   "source": [
    "import numpy as np\n",
    "import pandas as pd\n",
    "import tensorflow as tf"
   ]
  },
  {
   "cell_type": "markdown",
   "metadata": {
    "colab_type": "text",
    "id": "AG3FQEch-yuA"
   },
   "source": [
    "## Part 1 - Data Preprocessing"
   ]
  },
  {
   "cell_type": "markdown",
   "metadata": {
    "colab_type": "text",
    "id": "-4zq8Mza_D9O",
    "tags": []
   },
   "source": [
    "### Importing the dataset"
   ]
  },
  {
   "cell_type": "code",
   "execution_count": 2,
   "metadata": {
    "colab": {},
    "colab_type": "code",
    "id": "B9CV13Co_HHM"
   },
   "outputs": [
    {
     "name": "stdout",
     "output_type": "stream",
     "text": [
      "<class 'pandas.core.frame.DataFrame'>\n",
      "RangeIndex: 546 entries, 0 to 545\n",
      "Data columns (total 4 columns):\n",
      " #   Column             Non-Null Count  Dtype  \n",
      "---  ------             --------------  -----  \n",
      " 0   Charge_type        546 non-null    object \n",
      " 1   Charge_size        546 non-null    float64\n",
      " 2   Standoff_distance  546 non-null    float64\n",
      " 3   Impulse            546 non-null    float64\n",
      "dtypes: float64(3), object(1)\n",
      "memory usage: 17.2+ KB\n"
     ]
    }
   ],
   "source": [
    "dataset = pd.read_excel('IDataset1.xlsx')\n",
    "dataset.info()"
   ]
  },
  {
   "cell_type": "code",
   "execution_count": 3,
   "metadata": {},
   "outputs": [
    {
     "name": "stdout",
     "output_type": "stream",
     "text": [
      "<class 'pandas.core.frame.DataFrame'>\n",
      "RangeIndex: 546 entries, 0 to 545\n",
      "Data columns (total 5 columns):\n",
      " #   Column             Non-Null Count  Dtype  \n",
      "---  ------             --------------  -----  \n",
      " 0   Charge_size        546 non-null    float64\n",
      " 1   Standoff_distance  546 non-null    float64\n",
      " 2   Impulse            546 non-null    float64\n",
      " 3   Charge_type_CompB  546 non-null    uint8  \n",
      " 4   Charge_type_TNT    546 non-null    uint8  \n",
      "dtypes: float64(3), uint8(2)\n",
      "memory usage: 14.0 KB\n"
     ]
    }
   ],
   "source": [
    "# convert categorical variable into dummy variables\n",
    "dataset = pd.get_dummies(dataset, columns=['Charge_type'])\n",
    "dataset.info()"
   ]
  },
  {
   "cell_type": "code",
   "execution_count": 4,
   "metadata": {},
   "outputs": [
    {
     "data": {
      "text/html": [
       "<div>\n",
       "<style scoped>\n",
       "    .dataframe tbody tr th:only-of-type {\n",
       "        vertical-align: middle;\n",
       "    }\n",
       "\n",
       "    .dataframe tbody tr th {\n",
       "        vertical-align: top;\n",
       "    }\n",
       "\n",
       "    .dataframe thead th {\n",
       "        text-align: right;\n",
       "    }\n",
       "</style>\n",
       "<table border=\"1\" class=\"dataframe\">\n",
       "  <thead>\n",
       "    <tr style=\"text-align: right;\">\n",
       "      <th></th>\n",
       "      <th>Charge_size</th>\n",
       "      <th>Standoff_distance</th>\n",
       "      <th>Impulse</th>\n",
       "      <th>Charge_type_CompB</th>\n",
       "      <th>Charge_type_TNT</th>\n",
       "    </tr>\n",
       "  </thead>\n",
       "  <tbody>\n",
       "    <tr>\n",
       "      <th>0</th>\n",
       "      <td>0.5</td>\n",
       "      <td>1.5</td>\n",
       "      <td>58.168617</td>\n",
       "      <td>0</td>\n",
       "      <td>1</td>\n",
       "    </tr>\n",
       "    <tr>\n",
       "      <th>1</th>\n",
       "      <td>0.5</td>\n",
       "      <td>2.5</td>\n",
       "      <td>38.798874</td>\n",
       "      <td>0</td>\n",
       "      <td>1</td>\n",
       "    </tr>\n",
       "    <tr>\n",
       "      <th>2</th>\n",
       "      <td>0.5</td>\n",
       "      <td>3.5</td>\n",
       "      <td>28.473915</td>\n",
       "      <td>0</td>\n",
       "      <td>1</td>\n",
       "    </tr>\n",
       "    <tr>\n",
       "      <th>3</th>\n",
       "      <td>0.5</td>\n",
       "      <td>4.5</td>\n",
       "      <td>22.343452</td>\n",
       "      <td>0</td>\n",
       "      <td>1</td>\n",
       "    </tr>\n",
       "    <tr>\n",
       "      <th>4</th>\n",
       "      <td>0.5</td>\n",
       "      <td>5.5</td>\n",
       "      <td>18.326342</td>\n",
       "      <td>0</td>\n",
       "      <td>1</td>\n",
       "    </tr>\n",
       "  </tbody>\n",
       "</table>\n",
       "</div>"
      ],
      "text/plain": [
       "   Charge_size  Standoff_distance    Impulse  Charge_type_CompB  \\\n",
       "0          0.5                1.5  58.168617                  0   \n",
       "1          0.5                2.5  38.798874                  0   \n",
       "2          0.5                3.5  28.473915                  0   \n",
       "3          0.5                4.5  22.343452                  0   \n",
       "4          0.5                5.5  18.326342                  0   \n",
       "\n",
       "   Charge_type_TNT  \n",
       "0                1  \n",
       "1                1  \n",
       "2                1  \n",
       "3                1  \n",
       "4                1  "
      ]
     },
     "execution_count": 4,
     "metadata": {},
     "output_type": "execute_result"
    }
   ],
   "source": [
    "dataset.head()"
   ]
  },
  {
   "cell_type": "code",
   "execution_count": 6,
   "metadata": {},
   "outputs": [
    {
     "name": "stdout",
     "output_type": "stream",
     "text": [
      "(546, 4) (546,)\n"
     ]
    }
   ],
   "source": [
    "y = dataset['Impulse']\n",
    "X = dataset.drop('Impulse', axis=1)\n",
    "print(X.shape, y.shape)"
   ]
  },
  {
   "cell_type": "code",
   "execution_count": 7,
   "metadata": {},
   "outputs": [],
   "source": [
    "# convert to numpy array\n",
    "X = np.array(X)\n",
    "y = np.array(y)"
   ]
  },
  {
   "cell_type": "markdown",
   "metadata": {
    "colab_type": "text",
    "id": "VC6omXel_Up0"
   },
   "source": [
    "### Splitting the dataset into the Training set and Test set"
   ]
  },
  {
   "cell_type": "code",
   "execution_count": 8,
   "metadata": {
    "colab": {},
    "colab_type": "code",
    "id": "L5edeb2r_agx"
   },
   "outputs": [],
   "source": [
    "from sklearn.model_selection import train_test_split\n",
    "X_train, X_test, y_train, y_test = train_test_split(X, y, test_size = 0.3, random_state = 0)\n",
    "X_val, X_test, y_val, y_test = train_test_split(X_test, y_test, test_size = 0.5, random_state = 0)"
   ]
  },
  {
   "cell_type": "code",
   "execution_count": 9,
   "metadata": {},
   "outputs": [
    {
     "name": "stdout",
     "output_type": "stream",
     "text": [
      "Train 382 382\n",
      "Test 82 82\n",
      "Val 82 82\n"
     ]
    }
   ],
   "source": [
    "print (\"Train\",len(X_train), len(y_train))\n",
    "print (\"Test\",len(X_test), len(y_test))\n",
    "print (\"Val\",len(X_val), len(y_val))"
   ]
  },
  {
   "cell_type": "markdown",
   "metadata": {
    "colab_type": "text",
    "id": "_mSLlAT9_eyI"
   },
   "source": [
    "## Part 2 - Building the ANN"
   ]
  },
  {
   "cell_type": "markdown",
   "metadata": {
    "colab_type": "text",
    "id": "CsBULd_f_wLY"
   },
   "source": [
    "### Initializing the ANN"
   ]
  },
  {
   "cell_type": "code",
   "execution_count": 10,
   "metadata": {
    "colab": {},
    "colab_type": "code",
    "id": "J6Hd97Ls__Nz"
   },
   "outputs": [],
   "source": [
    "ann = tf.keras.models.Sequential()"
   ]
  },
  {
   "cell_type": "markdown",
   "metadata": {
    "colab_type": "text",
    "id": "iitAFJS_ABUn"
   },
   "source": [
    "### Adding the input layer and the first hidden layer"
   ]
  },
  {
   "cell_type": "code",
   "execution_count": 11,
   "metadata": {
    "colab": {},
    "colab_type": "code",
    "id": "ksO_Vv40AHix"
   },
   "outputs": [],
   "source": [
    "ann.add(tf.keras.layers.Dense(units=250, input_shape=(X_train.shape[1],), activation='relu'))"
   ]
  },
  {
   "cell_type": "markdown",
   "metadata": {
    "colab_type": "text",
    "id": "-lb4kK_wAKbs"
   },
   "source": [
    "### Adding the second hidden layer"
   ]
  },
  {
   "cell_type": "code",
   "execution_count": 12,
   "metadata": {
    "colab": {},
    "colab_type": "code",
    "id": "c2357OqEAQOQ",
    "tags": []
   },
   "outputs": [],
   "source": [
    "ann.add(tf.keras.layers.Dense(units=175, activation='relu'))"
   ]
  },
  {
   "cell_type": "markdown",
   "metadata": {
    "colab_type": "text",
    "id": "-lb4kK_wAKbs",
    "tags": []
   },
   "source": [
    "### Adding the third hidden layer"
   ]
  },
  {
   "cell_type": "code",
   "execution_count": 13,
   "metadata": {
    "colab": {},
    "colab_type": "code",
    "id": "c2357OqEAQOQ",
    "tags": []
   },
   "outputs": [],
   "source": [
    "ann.add(tf.keras.layers.Dense(units=100, activation='relu'))"
   ]
  },
  {
   "cell_type": "markdown",
   "metadata": {
    "colab_type": "text",
    "id": "jwMOmKb3AdBY"
   },
   "source": [
    "### Adding the output layer"
   ]
  },
  {
   "cell_type": "code",
   "execution_count": 14,
   "metadata": {
    "colab": {},
    "colab_type": "code",
    "id": "YFATpzsUAkLL"
   },
   "outputs": [],
   "source": [
    "ann.add(tf.keras.layers.Dense(units=1, activation='linear'))"
   ]
  },
  {
   "cell_type": "markdown",
   "metadata": {},
   "source": [
    "### what model looks like"
   ]
  },
  {
   "cell_type": "code",
   "execution_count": 15,
   "metadata": {},
   "outputs": [
    {
     "name": "stdout",
     "output_type": "stream",
     "text": [
      "Model: \"sequential\"\n",
      "_________________________________________________________________\n",
      " Layer (type)                Output Shape              Param #   \n",
      "=================================================================\n",
      " dense (Dense)               (None, 250)               1250      \n",
      "                                                                 \n",
      " dense_1 (Dense)             (None, 175)               43925     \n",
      "                                                                 \n",
      " dense_2 (Dense)             (None, 100)               17600     \n",
      "                                                                 \n",
      " dense_3 (Dense)             (None, 1)                 101       \n",
      "                                                                 \n",
      "=================================================================\n",
      "Total params: 62,876\n",
      "Trainable params: 62,876\n",
      "Non-trainable params: 0\n",
      "_________________________________________________________________\n"
     ]
    }
   ],
   "source": [
    "ann.summary()"
   ]
  },
  {
   "cell_type": "markdown",
   "metadata": {
    "colab_type": "text",
    "id": "fq7e4fF6A1yy"
   },
   "source": [
    "## Part 3 - Training the ANN"
   ]
  },
  {
   "cell_type": "markdown",
   "metadata": {
    "colab_type": "text",
    "id": "qDeylAs2An25"
   },
   "source": [
    "### Compiling the ANN"
   ]
  },
  {
   "cell_type": "code",
   "execution_count": 16,
   "metadata": {
    "colab": {},
    "colab_type": "code",
    "id": "pesgbWlCAtB4"
   },
   "outputs": [],
   "source": [
    "from tensorflow.keras.optimizers import Adam\n",
    "opt = Adam(learning_rate=0.001)\n",
    "ann.compile(optimizer = opt, loss = 'mean_squared_error', metrics = ['mae'])"
   ]
  },
  {
   "cell_type": "markdown",
   "metadata": {},
   "source": [
    "### early stopping callback"
   ]
  },
  {
   "cell_type": "code",
   "execution_count": 17,
   "metadata": {},
   "outputs": [],
   "source": [
    "# protects from unnecessary further training of the model if a particular metric does not continue to improve over a number of n epochs. In such a case, the model training would be automatically aborted.\n",
    "from keras.callbacks import EarlyStopping\n",
    "es = EarlyStopping(monitor='val_loss',\n",
    "                   mode='min',\n",
    "                   patience=50,\n",
    "                   restore_best_weights = True)"
   ]
  },
  {
   "cell_type": "markdown",
   "metadata": {
    "colab_type": "text",
    "id": "YjVuiybYOo7r"
   },
   "source": [
    "### Training the ANN model on the Training set"
   ]
  },
  {
   "cell_type": "code",
   "execution_count": 18,
   "metadata": {
    "colab": {
     "base_uri": "https://localhost:8080/",
     "height": 1000
    },
    "colab_type": "code",
    "id": "c_vV-tiiA5zn",
    "outputId": "4a2b6ee6-ed75-4698-9069-b250e613803f"
   },
   "outputs": [
    {
     "name": "stdout",
     "output_type": "stream",
     "text": [
      "Epoch 1/600\n",
      "20/20 [==============================] - 1s 10ms/step - loss: 17358.5898 - mae: 93.5887 - val_loss: 9054.2715 - val_mae: 61.9597\n",
      "Epoch 2/600\n",
      "20/20 [==============================] - 0s 4ms/step - loss: 9374.4756 - mae: 71.5446 - val_loss: 5697.5928 - val_mae: 53.4180\n",
      "Epoch 3/600\n",
      "20/20 [==============================] - 0s 4ms/step - loss: 6433.3135 - mae: 54.6792 - val_loss: 3827.1704 - val_mae: 42.4016\n",
      "Epoch 4/600\n",
      "20/20 [==============================] - 0s 4ms/step - loss: 4463.4683 - mae: 46.6258 - val_loss: 2692.8838 - val_mae: 37.3396\n",
      "Epoch 5/600\n",
      "20/20 [==============================] - 0s 3ms/step - loss: 3474.9905 - mae: 42.5858 - val_loss: 1981.4097 - val_mae: 31.9019\n",
      "Epoch 6/600\n",
      "20/20 [==============================] - 0s 3ms/step - loss: 2743.6101 - mae: 36.4345 - val_loss: 1604.3441 - val_mae: 28.4378\n",
      "Epoch 7/600\n",
      "20/20 [==============================] - 0s 4ms/step - loss: 2336.4502 - mae: 33.1380 - val_loss: 1514.8096 - val_mae: 27.8147\n",
      "Epoch 8/600\n",
      "20/20 [==============================] - 0s 4ms/step - loss: 2222.8674 - mae: 32.2401 - val_loss: 1297.7412 - val_mae: 26.2044\n",
      "Epoch 9/600\n",
      "20/20 [==============================] - 0s 4ms/step - loss: 1948.0898 - mae: 29.5549 - val_loss: 1207.4634 - val_mae: 25.7564\n",
      "Epoch 10/600\n",
      "20/20 [==============================] - 0s 4ms/step - loss: 1838.8719 - mae: 28.6417 - val_loss: 1109.0546 - val_mae: 23.7905\n",
      "Epoch 11/600\n",
      "20/20 [==============================] - 0s 4ms/step - loss: 1702.1768 - mae: 27.1786 - val_loss: 1040.1295 - val_mae: 22.5932\n",
      "Epoch 12/600\n",
      "20/20 [==============================] - 0s 4ms/step - loss: 1529.7802 - mae: 25.9984 - val_loss: 989.8099 - val_mae: 22.0278\n",
      "Epoch 13/600\n",
      "20/20 [==============================] - 0s 4ms/step - loss: 1359.6670 - mae: 24.5650 - val_loss: 749.1271 - val_mae: 19.2452\n",
      "Epoch 14/600\n",
      "20/20 [==============================] - 0s 7ms/step - loss: 1176.4277 - mae: 22.4294 - val_loss: 638.0307 - val_mae: 17.9077\n",
      "Epoch 15/600\n",
      "20/20 [==============================] - 0s 4ms/step - loss: 973.4478 - mae: 19.8634 - val_loss: 559.6216 - val_mae: 15.7390\n",
      "Epoch 16/600\n",
      "20/20 [==============================] - 0s 4ms/step - loss: 823.6079 - mae: 18.3429 - val_loss: 435.0440 - val_mae: 13.8653\n",
      "Epoch 17/600\n",
      "20/20 [==============================] - 0s 4ms/step - loss: 683.1036 - mae: 15.5601 - val_loss: 341.3070 - val_mae: 11.9519\n",
      "Epoch 18/600\n",
      "20/20 [==============================] - 0s 4ms/step - loss: 598.5187 - mae: 15.2058 - val_loss: 346.3188 - val_mae: 10.9737\n",
      "Epoch 19/600\n",
      "20/20 [==============================] - 0s 4ms/step - loss: 562.9013 - mae: 14.1454 - val_loss: 257.8848 - val_mae: 9.4078\n",
      "Epoch 20/600\n",
      "20/20 [==============================] - 0s 4ms/step - loss: 514.7852 - mae: 13.7877 - val_loss: 237.8283 - val_mae: 10.1918\n",
      "Epoch 21/600\n",
      "20/20 [==============================] - 0s 4ms/step - loss: 441.9140 - mae: 12.1905 - val_loss: 204.9948 - val_mae: 8.7557\n",
      "Epoch 22/600\n",
      "20/20 [==============================] - 0s 4ms/step - loss: 424.5868 - mae: 11.6004 - val_loss: 181.6223 - val_mae: 7.5435\n",
      "Epoch 23/600\n",
      "20/20 [==============================] - 0s 4ms/step - loss: 381.6694 - mae: 10.3228 - val_loss: 251.4693 - val_mae: 11.1811\n",
      "Epoch 24/600\n",
      "20/20 [==============================] - 0s 4ms/step - loss: 419.9302 - mae: 12.9823 - val_loss: 336.3837 - val_mae: 13.7911\n",
      "Epoch 25/600\n",
      "20/20 [==============================] - 0s 3ms/step - loss: 430.7696 - mae: 11.6265 - val_loss: 184.9092 - val_mae: 8.7654\n",
      "Epoch 26/600\n",
      "20/20 [==============================] - 0s 4ms/step - loss: 355.2080 - mae: 9.9969 - val_loss: 156.2364 - val_mae: 7.1209\n",
      "Epoch 27/600\n",
      "20/20 [==============================] - 0s 3ms/step - loss: 353.5643 - mae: 10.0499 - val_loss: 225.0014 - val_mae: 9.7197\n",
      "Epoch 28/600\n",
      "20/20 [==============================] - 0s 4ms/step - loss: 463.8481 - mae: 13.4012 - val_loss: 172.8399 - val_mae: 7.8832\n",
      "Epoch 29/600\n",
      "20/20 [==============================] - 0s 4ms/step - loss: 332.4888 - mae: 10.3407 - val_loss: 149.1728 - val_mae: 6.6686\n",
      "Epoch 30/600\n",
      "20/20 [==============================] - 0s 4ms/step - loss: 322.9186 - mae: 9.1189 - val_loss: 132.9970 - val_mae: 5.5694\n",
      "Epoch 31/600\n",
      "20/20 [==============================] - 0s 3ms/step - loss: 307.0968 - mae: 8.1476 - val_loss: 156.0005 - val_mae: 6.3542\n",
      "Epoch 32/600\n",
      "20/20 [==============================] - 0s 3ms/step - loss: 315.9593 - mae: 9.5632 - val_loss: 221.6090 - val_mae: 7.8973\n",
      "Epoch 33/600\n",
      "20/20 [==============================] - 0s 3ms/step - loss: 299.5392 - mae: 9.3529 - val_loss: 283.6107 - val_mae: 11.6514\n",
      "Epoch 34/600\n",
      "20/20 [==============================] - 0s 3ms/step - loss: 329.6839 - mae: 10.3207 - val_loss: 211.9842 - val_mae: 9.5890\n",
      "Epoch 35/600\n",
      "20/20 [==============================] - 0s 3ms/step - loss: 422.2300 - mae: 12.8349 - val_loss: 186.0735 - val_mae: 7.7974\n",
      "Epoch 36/600\n",
      "20/20 [==============================] - 0s 3ms/step - loss: 293.2371 - mae: 8.2931 - val_loss: 126.7437 - val_mae: 5.2160\n",
      "Epoch 37/600\n",
      "20/20 [==============================] - 0s 3ms/step - loss: 294.6949 - mae: 7.5827 - val_loss: 130.8022 - val_mae: 6.0989\n",
      "Epoch 38/600\n",
      "20/20 [==============================] - 0s 3ms/step - loss: 256.2885 - mae: 6.9544 - val_loss: 154.4784 - val_mae: 6.9572\n",
      "Epoch 39/600\n",
      "20/20 [==============================] - 0s 3ms/step - loss: 271.4982 - mae: 8.4563 - val_loss: 156.0244 - val_mae: 6.2992\n",
      "Epoch 40/600\n",
      "20/20 [==============================] - 0s 3ms/step - loss: 321.7427 - mae: 9.7923 - val_loss: 192.5457 - val_mae: 10.7553\n",
      "Epoch 41/600\n",
      "20/20 [==============================] - 0s 3ms/step - loss: 306.2888 - mae: 10.0460 - val_loss: 131.9133 - val_mae: 5.3103\n",
      "Epoch 42/600\n",
      "20/20 [==============================] - 0s 3ms/step - loss: 264.8824 - mae: 7.1559 - val_loss: 131.7276 - val_mae: 6.2052\n",
      "Epoch 43/600\n",
      "20/20 [==============================] - 0s 4ms/step - loss: 287.2316 - mae: 8.9994 - val_loss: 184.5686 - val_mae: 10.1119\n",
      "Epoch 44/600\n",
      "20/20 [==============================] - 0s 4ms/step - loss: 267.6426 - mae: 8.6502 - val_loss: 112.8121 - val_mae: 4.7066\n",
      "Epoch 45/600\n",
      "20/20 [==============================] - 0s 4ms/step - loss: 299.7635 - mae: 10.2010 - val_loss: 206.6479 - val_mae: 11.4119\n",
      "Epoch 46/600\n",
      "20/20 [==============================] - 0s 4ms/step - loss: 307.5814 - mae: 9.3993 - val_loss: 117.2795 - val_mae: 5.3657\n",
      "Epoch 47/600\n",
      "20/20 [==============================] - 0s 4ms/step - loss: 255.6239 - mae: 7.7010 - val_loss: 134.3545 - val_mae: 5.9139\n",
      "Epoch 48/600\n",
      "20/20 [==============================] - 0s 4ms/step - loss: 285.2552 - mae: 8.4251 - val_loss: 155.5479 - val_mae: 7.9516\n",
      "Epoch 49/600\n",
      "20/20 [==============================] - 0s 4ms/step - loss: 302.1697 - mae: 10.1836 - val_loss: 115.8547 - val_mae: 4.5726\n",
      "Epoch 50/600\n",
      "20/20 [==============================] - 0s 4ms/step - loss: 254.4875 - mae: 6.8992 - val_loss: 261.5959 - val_mae: 11.9700\n",
      "Epoch 51/600\n",
      "20/20 [==============================] - 0s 4ms/step - loss: 431.1281 - mae: 13.4250 - val_loss: 145.8671 - val_mae: 7.5021\n",
      "Epoch 52/600\n",
      "20/20 [==============================] - 0s 4ms/step - loss: 247.8310 - mae: 7.1841 - val_loss: 111.9983 - val_mae: 4.4134\n",
      "Epoch 53/600\n",
      "20/20 [==============================] - 0s 4ms/step - loss: 239.7836 - mae: 6.8659 - val_loss: 125.9793 - val_mae: 6.6234\n",
      "Epoch 54/600\n",
      "20/20 [==============================] - 0s 4ms/step - loss: 243.9229 - mae: 7.4294 - val_loss: 111.8571 - val_mae: 5.3140\n",
      "Epoch 55/600\n",
      "20/20 [==============================] - 0s 4ms/step - loss: 243.8336 - mae: 6.4338 - val_loss: 101.6709 - val_mae: 4.1322\n",
      "Epoch 56/600\n",
      "20/20 [==============================] - 0s 4ms/step - loss: 224.2755 - mae: 6.0478 - val_loss: 99.3317 - val_mae: 3.7698\n",
      "Epoch 57/600\n",
      "20/20 [==============================] - 0s 4ms/step - loss: 224.6931 - mae: 5.9310 - val_loss: 113.3241 - val_mae: 5.5207\n",
      "Epoch 58/600\n",
      "20/20 [==============================] - 0s 3ms/step - loss: 231.8370 - mae: 7.0492 - val_loss: 110.6357 - val_mae: 5.5042\n",
      "Epoch 59/600\n",
      "20/20 [==============================] - 0s 4ms/step - loss: 226.3883 - mae: 6.7420 - val_loss: 105.3366 - val_mae: 5.1126\n",
      "Epoch 60/600\n",
      "20/20 [==============================] - 0s 4ms/step - loss: 232.8530 - mae: 6.8591 - val_loss: 193.7749 - val_mae: 10.9683\n",
      "Epoch 61/600\n",
      "20/20 [==============================] - 0s 4ms/step - loss: 282.4401 - mae: 10.0031 - val_loss: 120.6781 - val_mae: 5.3949\n",
      "Epoch 62/600\n",
      "20/20 [==============================] - 0s 4ms/step - loss: 279.3779 - mae: 10.4027 - val_loss: 194.7563 - val_mae: 11.0750\n",
      "Epoch 63/600\n",
      "20/20 [==============================] - 0s 4ms/step - loss: 252.7598 - mae: 8.8265 - val_loss: 140.7155 - val_mae: 7.1592\n",
      "Epoch 64/600\n",
      "20/20 [==============================] - 0s 4ms/step - loss: 258.4832 - mae: 7.7297 - val_loss: 138.7174 - val_mae: 8.2784\n",
      "Epoch 65/600\n",
      "20/20 [==============================] - 0s 3ms/step - loss: 218.4510 - mae: 7.0593 - val_loss: 138.9017 - val_mae: 5.8145\n",
      "Epoch 66/600\n",
      "20/20 [==============================] - 0s 4ms/step - loss: 215.5555 - mae: 6.6192 - val_loss: 109.1828 - val_mae: 5.0642\n",
      "Epoch 67/600\n",
      "20/20 [==============================] - 0s 4ms/step - loss: 245.0774 - mae: 7.6236 - val_loss: 161.5059 - val_mae: 7.8561\n",
      "Epoch 68/600\n",
      "20/20 [==============================] - 0s 4ms/step - loss: 230.4665 - mae: 7.8271 - val_loss: 128.9225 - val_mae: 6.7003\n",
      "Epoch 69/600\n",
      "20/20 [==============================] - 0s 4ms/step - loss: 227.7767 - mae: 7.1092 - val_loss: 263.5243 - val_mae: 12.0162\n",
      "Epoch 70/600\n",
      "20/20 [==============================] - 0s 4ms/step - loss: 463.4607 - mae: 14.4205 - val_loss: 256.2787 - val_mae: 10.9847\n",
      "Epoch 71/600\n",
      "20/20 [==============================] - 0s 5ms/step - loss: 317.9395 - mae: 10.9900 - val_loss: 109.0303 - val_mae: 5.4005\n",
      "Epoch 72/600\n",
      "20/20 [==============================] - 0s 5ms/step - loss: 219.8486 - mae: 6.5121 - val_loss: 105.2857 - val_mae: 4.9573\n",
      "Epoch 73/600\n",
      "20/20 [==============================] - 0s 4ms/step - loss: 211.2905 - mae: 6.8569 - val_loss: 104.7848 - val_mae: 4.6755\n",
      "Epoch 74/600\n",
      "20/20 [==============================] - 0s 4ms/step - loss: 217.4337 - mae: 6.6766 - val_loss: 117.4438 - val_mae: 6.3226\n",
      "Epoch 75/600\n",
      "20/20 [==============================] - 0s 4ms/step - loss: 198.7462 - mae: 6.3629 - val_loss: 138.6707 - val_mae: 7.0474\n",
      "Epoch 76/600\n",
      "20/20 [==============================] - 0s 4ms/step - loss: 271.6922 - mae: 9.1266 - val_loss: 99.5508 - val_mae: 5.3649\n",
      "Epoch 77/600\n",
      "20/20 [==============================] - 0s 4ms/step - loss: 261.2747 - mae: 8.9369 - val_loss: 99.0289 - val_mae: 4.0374\n",
      "Epoch 78/600\n",
      "20/20 [==============================] - 0s 4ms/step - loss: 208.8189 - mae: 5.8139 - val_loss: 103.1411 - val_mae: 4.4349\n",
      "Epoch 79/600\n",
      "20/20 [==============================] - 0s 4ms/step - loss: 195.8469 - mae: 5.4992 - val_loss: 93.4467 - val_mae: 4.1552\n",
      "Epoch 80/600\n",
      "20/20 [==============================] - 0s 4ms/step - loss: 198.0558 - mae: 6.0286 - val_loss: 113.9537 - val_mae: 4.5860\n",
      "Epoch 81/600\n",
      "20/20 [==============================] - 0s 4ms/step - loss: 251.5955 - mae: 7.7390 - val_loss: 133.7831 - val_mae: 7.8839\n",
      "Epoch 82/600\n",
      "20/20 [==============================] - 0s 4ms/step - loss: 261.5677 - mae: 10.5446 - val_loss: 170.0260 - val_mae: 10.6449\n",
      "Epoch 83/600\n",
      "20/20 [==============================] - 0s 4ms/step - loss: 378.4202 - mae: 11.8106 - val_loss: 215.5341 - val_mae: 12.2279\n",
      "Epoch 84/600\n",
      "20/20 [==============================] - 0s 4ms/step - loss: 228.2741 - mae: 7.9219 - val_loss: 92.5534 - val_mae: 4.7100\n",
      "Epoch 85/600\n",
      "20/20 [==============================] - 0s 4ms/step - loss: 218.2597 - mae: 6.3866 - val_loss: 169.1610 - val_mae: 8.4078\n",
      "Epoch 86/600\n",
      "20/20 [==============================] - 0s 4ms/step - loss: 229.8547 - mae: 9.1748 - val_loss: 115.5531 - val_mae: 7.1031\n",
      "Epoch 87/600\n",
      "20/20 [==============================] - 0s 4ms/step - loss: 206.4209 - mae: 6.9227 - val_loss: 97.2229 - val_mae: 4.0736\n",
      "Epoch 88/600\n",
      "20/20 [==============================] - 0s 4ms/step - loss: 181.1981 - mae: 6.0374 - val_loss: 90.1494 - val_mae: 4.1860\n",
      "Epoch 89/600\n",
      "20/20 [==============================] - 0s 4ms/step - loss: 183.3878 - mae: 5.1756 - val_loss: 89.0487 - val_mae: 3.9901\n",
      "Epoch 90/600\n",
      "20/20 [==============================] - 0s 4ms/step - loss: 178.0624 - mae: 5.4472 - val_loss: 105.1865 - val_mae: 6.5721\n",
      "Epoch 91/600\n",
      "20/20 [==============================] - 0s 4ms/step - loss: 188.2362 - mae: 6.5634 - val_loss: 151.4417 - val_mae: 5.9723\n",
      "Epoch 92/600\n",
      "20/20 [==============================] - 0s 4ms/step - loss: 224.4190 - mae: 7.5079 - val_loss: 97.3709 - val_mae: 5.0313\n",
      "Epoch 93/600\n",
      "20/20 [==============================] - 0s 4ms/step - loss: 199.4012 - mae: 6.4642 - val_loss: 117.6006 - val_mae: 7.4367\n",
      "Epoch 94/600\n",
      "20/20 [==============================] - 0s 3ms/step - loss: 186.0881 - mae: 6.0356 - val_loss: 117.6097 - val_mae: 6.0663\n",
      "Epoch 95/600\n",
      "20/20 [==============================] - 0s 4ms/step - loss: 209.7433 - mae: 7.4995 - val_loss: 140.7421 - val_mae: 5.4279\n",
      "Epoch 96/600\n",
      "20/20 [==============================] - 0s 4ms/step - loss: 220.6611 - mae: 7.3570 - val_loss: 131.5508 - val_mae: 8.3932\n",
      "Epoch 97/600\n",
      "20/20 [==============================] - 0s 4ms/step - loss: 188.6134 - mae: 7.0047 - val_loss: 93.1783 - val_mae: 4.6347\n",
      "Epoch 98/600\n",
      "20/20 [==============================] - 0s 4ms/step - loss: 196.1089 - mae: 7.0666 - val_loss: 83.4474 - val_mae: 3.5961\n",
      "Epoch 99/600\n",
      "20/20 [==============================] - 0s 4ms/step - loss: 214.4839 - mae: 7.7846 - val_loss: 120.8318 - val_mae: 6.2294\n",
      "Epoch 100/600\n",
      "20/20 [==============================] - 0s 4ms/step - loss: 163.0323 - mae: 5.4102 - val_loss: 112.3253 - val_mae: 5.6225\n",
      "Epoch 101/600\n",
      "20/20 [==============================] - 0s 4ms/step - loss: 200.4425 - mae: 7.1024 - val_loss: 141.6552 - val_mae: 9.4542\n",
      "Epoch 102/600\n",
      "20/20 [==============================] - 0s 4ms/step - loss: 180.1042 - mae: 6.2734 - val_loss: 82.2187 - val_mae: 3.7269\n",
      "Epoch 103/600\n",
      "20/20 [==============================] - 0s 4ms/step - loss: 157.9583 - mae: 4.4862 - val_loss: 84.0117 - val_mae: 4.0009\n",
      "Epoch 104/600\n",
      "20/20 [==============================] - 0s 4ms/step - loss: 161.9645 - mae: 4.8972 - val_loss: 98.2647 - val_mae: 5.1938\n",
      "Epoch 105/600\n",
      "20/20 [==============================] - 0s 4ms/step - loss: 165.7587 - mae: 5.3948 - val_loss: 87.6629 - val_mae: 4.6426\n",
      "Epoch 106/600\n",
      "20/20 [==============================] - 0s 4ms/step - loss: 176.9453 - mae: 7.1013 - val_loss: 84.0146 - val_mae: 4.3850\n",
      "Epoch 107/600\n",
      "20/20 [==============================] - 0s 3ms/step - loss: 209.8280 - mae: 8.3786 - val_loss: 87.2263 - val_mae: 5.8915\n",
      "Epoch 108/600\n",
      "20/20 [==============================] - 0s 4ms/step - loss: 180.8282 - mae: 6.1046 - val_loss: 96.4256 - val_mae: 4.8324\n",
      "Epoch 109/600\n",
      "20/20 [==============================] - 0s 4ms/step - loss: 151.0455 - mae: 5.6328 - val_loss: 89.8316 - val_mae: 5.2021\n",
      "Epoch 110/600\n",
      "20/20 [==============================] - 0s 4ms/step - loss: 170.5045 - mae: 5.6309 - val_loss: 207.5484 - val_mae: 7.4188\n",
      "Epoch 111/600\n",
      "20/20 [==============================] - 0s 4ms/step - loss: 481.2000 - mae: 14.2844 - val_loss: 133.1941 - val_mae: 8.1734\n",
      "Epoch 112/600\n",
      "20/20 [==============================] - 0s 4ms/step - loss: 171.4223 - mae: 7.4081 - val_loss: 164.9792 - val_mae: 9.8062\n",
      "Epoch 113/600\n",
      "20/20 [==============================] - 0s 4ms/step - loss: 219.9347 - mae: 7.7491 - val_loss: 165.1365 - val_mae: 7.4737\n",
      "Epoch 114/600\n",
      "20/20 [==============================] - 0s 4ms/step - loss: 192.3624 - mae: 7.7284 - val_loss: 85.0351 - val_mae: 3.7999\n",
      "Epoch 115/600\n",
      "20/20 [==============================] - 0s 4ms/step - loss: 163.0551 - mae: 5.9695 - val_loss: 80.7936 - val_mae: 4.1862\n",
      "Epoch 116/600\n",
      "20/20 [==============================] - 0s 4ms/step - loss: 157.2021 - mae: 5.9850 - val_loss: 138.1391 - val_mae: 8.0931\n",
      "Epoch 117/600\n",
      "20/20 [==============================] - 0s 4ms/step - loss: 143.8895 - mae: 4.9981 - val_loss: 82.8392 - val_mae: 3.4999\n",
      "Epoch 118/600\n",
      "20/20 [==============================] - 0s 4ms/step - loss: 141.8599 - mae: 4.9250 - val_loss: 93.4324 - val_mae: 5.0533\n",
      "Epoch 119/600\n",
      "20/20 [==============================] - 0s 4ms/step - loss: 148.3727 - mae: 6.2911 - val_loss: 75.0515 - val_mae: 3.9837\n",
      "Epoch 120/600\n",
      "20/20 [==============================] - 0s 4ms/step - loss: 140.1552 - mae: 4.7661 - val_loss: 84.2538 - val_mae: 4.5051\n",
      "Epoch 121/600\n",
      "20/20 [==============================] - 0s 4ms/step - loss: 132.4718 - mae: 5.0306 - val_loss: 96.9429 - val_mae: 5.1168\n",
      "Epoch 122/600\n",
      "20/20 [==============================] - 0s 4ms/step - loss: 151.5453 - mae: 5.8295 - val_loss: 91.7305 - val_mae: 4.3448\n",
      "Epoch 123/600\n",
      "20/20 [==============================] - 0s 4ms/step - loss: 135.1054 - mae: 4.8730 - val_loss: 83.1137 - val_mae: 4.2107\n",
      "Epoch 124/600\n",
      "20/20 [==============================] - 0s 4ms/step - loss: 127.4972 - mae: 4.2646 - val_loss: 88.8311 - val_mae: 4.5848\n",
      "Epoch 125/600\n",
      "20/20 [==============================] - 0s 4ms/step - loss: 137.5484 - mae: 5.0303 - val_loss: 108.8445 - val_mae: 4.9655\n",
      "Epoch 126/600\n",
      "20/20 [==============================] - 0s 4ms/step - loss: 153.0634 - mae: 5.7404 - val_loss: 90.6390 - val_mae: 4.7248\n",
      "Epoch 127/600\n",
      "20/20 [==============================] - 0s 4ms/step - loss: 147.5744 - mae: 5.9075 - val_loss: 168.1820 - val_mae: 8.7669\n",
      "Epoch 128/600\n",
      "20/20 [==============================] - 0s 5ms/step - loss: 226.2947 - mae: 9.4629 - val_loss: 167.2062 - val_mae: 8.0473\n",
      "Epoch 129/600\n",
      "20/20 [==============================] - 0s 5ms/step - loss: 157.6108 - mae: 6.7081 - val_loss: 88.8122 - val_mae: 5.1542\n",
      "Epoch 130/600\n",
      "20/20 [==============================] - 0s 4ms/step - loss: 138.7304 - mae: 4.7907 - val_loss: 71.3173 - val_mae: 4.2515\n",
      "Epoch 131/600\n",
      "20/20 [==============================] - 0s 3ms/step - loss: 155.3734 - mae: 6.8736 - val_loss: 152.0343 - val_mae: 9.6933\n",
      "Epoch 132/600\n",
      "20/20 [==============================] - 0s 3ms/step - loss: 137.1509 - mae: 6.5369 - val_loss: 63.2953 - val_mae: 3.5057\n",
      "Epoch 133/600\n",
      "20/20 [==============================] - 0s 4ms/step - loss: 124.1191 - mae: 4.3535 - val_loss: 96.3227 - val_mae: 4.1927\n",
      "Epoch 134/600\n",
      "20/20 [==============================] - 0s 4ms/step - loss: 131.6536 - mae: 5.6310 - val_loss: 70.9810 - val_mae: 3.7284\n",
      "Epoch 135/600\n",
      "20/20 [==============================] - 0s 4ms/step - loss: 127.4206 - mae: 6.0100 - val_loss: 113.2190 - val_mae: 7.8632\n",
      "Epoch 136/600\n",
      "20/20 [==============================] - 0s 4ms/step - loss: 198.0823 - mae: 8.1637 - val_loss: 114.3977 - val_mae: 7.5462\n",
      "Epoch 137/600\n",
      "20/20 [==============================] - 0s 4ms/step - loss: 125.9818 - mae: 5.3743 - val_loss: 136.8926 - val_mae: 5.4682\n",
      "Epoch 138/600\n",
      "20/20 [==============================] - 0s 3ms/step - loss: 184.1613 - mae: 7.9371 - val_loss: 87.7037 - val_mae: 5.8077\n",
      "Epoch 139/600\n",
      "20/20 [==============================] - 0s 4ms/step - loss: 114.9821 - mae: 4.7311 - val_loss: 134.2807 - val_mae: 7.1247\n",
      "Epoch 140/600\n",
      "20/20 [==============================] - 0s 4ms/step - loss: 146.2285 - mae: 6.7359 - val_loss: 97.7792 - val_mae: 6.5160\n",
      "Epoch 141/600\n",
      "20/20 [==============================] - 0s 4ms/step - loss: 119.2680 - mae: 5.6365 - val_loss: 87.5490 - val_mae: 5.5411\n",
      "Epoch 142/600\n",
      "20/20 [==============================] - 0s 4ms/step - loss: 135.4502 - mae: 5.9870 - val_loss: 133.4925 - val_mae: 8.1727\n",
      "Epoch 143/600\n",
      "20/20 [==============================] - 0s 4ms/step - loss: 119.8660 - mae: 5.2158 - val_loss: 62.1904 - val_mae: 3.3800\n",
      "Epoch 144/600\n",
      "20/20 [==============================] - 0s 4ms/step - loss: 102.6148 - mae: 4.0616 - val_loss: 96.5106 - val_mae: 5.1714\n",
      "Epoch 145/600\n",
      "20/20 [==============================] - 0s 4ms/step - loss: 99.3665 - mae: 4.0642 - val_loss: 78.8233 - val_mae: 4.3532\n",
      "Epoch 146/600\n",
      "20/20 [==============================] - 0s 4ms/step - loss: 108.4100 - mae: 4.8659 - val_loss: 85.4370 - val_mae: 4.6943\n",
      "Epoch 147/600\n",
      "20/20 [==============================] - 0s 4ms/step - loss: 98.6858 - mae: 3.9835 - val_loss: 67.9898 - val_mae: 4.2983\n",
      "Epoch 148/600\n",
      "20/20 [==============================] - 0s 4ms/step - loss: 119.7757 - mae: 5.3040 - val_loss: 137.9155 - val_mae: 5.5472\n",
      "Epoch 149/600\n",
      "20/20 [==============================] - 0s 4ms/step - loss: 137.3510 - mae: 6.8510 - val_loss: 96.4859 - val_mae: 5.2678\n",
      "Epoch 150/600\n",
      "20/20 [==============================] - 0s 4ms/step - loss: 100.4737 - mae: 5.1808 - val_loss: 65.1678 - val_mae: 3.2103\n",
      "Epoch 151/600\n",
      "20/20 [==============================] - 0s 4ms/step - loss: 118.3984 - mae: 5.1328 - val_loss: 87.9194 - val_mae: 6.4827\n",
      "Epoch 152/600\n",
      "20/20 [==============================] - 0s 3ms/step - loss: 116.6298 - mae: 6.1994 - val_loss: 231.4297 - val_mae: 10.2630\n",
      "Epoch 153/600\n",
      "20/20 [==============================] - 0s 4ms/step - loss: 169.3407 - mae: 7.8765 - val_loss: 216.4137 - val_mae: 10.9490\n",
      "Epoch 154/600\n",
      "20/20 [==============================] - 0s 7ms/step - loss: 148.1244 - mae: 7.5072 - val_loss: 174.3060 - val_mae: 7.0892\n",
      "Epoch 155/600\n",
      "20/20 [==============================] - 0s 5ms/step - loss: 105.3332 - mae: 4.8366 - val_loss: 76.0701 - val_mae: 5.1494\n",
      "Epoch 156/600\n",
      "20/20 [==============================] - 0s 4ms/step - loss: 101.0979 - mae: 4.8579 - val_loss: 66.5070 - val_mae: 4.7348\n",
      "Epoch 157/600\n",
      "20/20 [==============================] - 0s 4ms/step - loss: 91.2124 - mae: 3.9580 - val_loss: 77.6986 - val_mae: 5.1003\n",
      "Epoch 158/600\n",
      "20/20 [==============================] - 0s 3ms/step - loss: 106.8219 - mae: 6.2834 - val_loss: 96.3707 - val_mae: 6.6976\n",
      "Epoch 159/600\n",
      "20/20 [==============================] - 0s 3ms/step - loss: 103.3853 - mae: 5.8488 - val_loss: 73.7439 - val_mae: 4.9428\n",
      "Epoch 160/600\n",
      "20/20 [==============================] - 0s 3ms/step - loss: 88.6974 - mae: 3.9314 - val_loss: 50.0400 - val_mae: 3.0765\n",
      "Epoch 161/600\n",
      "20/20 [==============================] - 0s 3ms/step - loss: 90.3583 - mae: 4.2265 - val_loss: 62.6485 - val_mae: 3.7820\n",
      "Epoch 162/600\n",
      "20/20 [==============================] - 0s 3ms/step - loss: 84.5440 - mae: 3.6283 - val_loss: 78.9150 - val_mae: 3.7984\n",
      "Epoch 163/600\n",
      "20/20 [==============================] - 0s 3ms/step - loss: 103.6760 - mae: 5.8076 - val_loss: 70.5930 - val_mae: 4.1150\n",
      "Epoch 164/600\n",
      "20/20 [==============================] - 0s 4ms/step - loss: 90.1809 - mae: 5.1595 - val_loss: 64.5689 - val_mae: 3.7582\n",
      "Epoch 165/600\n",
      "20/20 [==============================] - 0s 3ms/step - loss: 86.1793 - mae: 4.5690 - val_loss: 56.1086 - val_mae: 3.0914\n",
      "Epoch 166/600\n",
      "20/20 [==============================] - 0s 3ms/step - loss: 89.3142 - mae: 5.0272 - val_loss: 59.5166 - val_mae: 3.8868\n",
      "Epoch 167/600\n",
      "20/20 [==============================] - 0s 3ms/step - loss: 78.0196 - mae: 3.8081 - val_loss: 67.9745 - val_mae: 5.0097\n",
      "Epoch 168/600\n",
      "20/20 [==============================] - 0s 4ms/step - loss: 75.3041 - mae: 3.8544 - val_loss: 79.8380 - val_mae: 5.9191\n",
      "Epoch 169/600\n",
      "20/20 [==============================] - 0s 3ms/step - loss: 80.5849 - mae: 4.7354 - val_loss: 159.2022 - val_mae: 6.5915\n",
      "Epoch 170/600\n",
      "20/20 [==============================] - 0s 4ms/step - loss: 103.2862 - mae: 6.1717 - val_loss: 86.9658 - val_mae: 6.7055\n",
      "Epoch 171/600\n",
      "20/20 [==============================] - 0s 4ms/step - loss: 94.5696 - mae: 5.5491 - val_loss: 78.3335 - val_mae: 5.6763\n",
      "Epoch 172/600\n",
      "20/20 [==============================] - 0s 4ms/step - loss: 72.5330 - mae: 3.9457 - val_loss: 50.3267 - val_mae: 3.2475\n",
      "Epoch 173/600\n",
      "20/20 [==============================] - 0s 4ms/step - loss: 65.0355 - mae: 3.4815 - val_loss: 55.3196 - val_mae: 3.1950\n",
      "Epoch 174/600\n",
      "20/20 [==============================] - 0s 4ms/step - loss: 70.8609 - mae: 3.9454 - val_loss: 53.6148 - val_mae: 3.1904\n",
      "Epoch 175/600\n",
      "20/20 [==============================] - 0s 3ms/step - loss: 69.4699 - mae: 3.5385 - val_loss: 73.4511 - val_mae: 5.3274\n",
      "Epoch 176/600\n",
      "20/20 [==============================] - 0s 4ms/step - loss: 76.5491 - mae: 4.1275 - val_loss: 65.9229 - val_mae: 4.3304\n",
      "Epoch 177/600\n",
      "20/20 [==============================] - 0s 4ms/step - loss: 67.2113 - mae: 3.9384 - val_loss: 75.8007 - val_mae: 3.9984\n",
      "Epoch 178/600\n",
      "20/20 [==============================] - 0s 4ms/step - loss: 74.7641 - mae: 4.0656 - val_loss: 83.5463 - val_mae: 7.0055\n",
      "Epoch 179/600\n",
      "20/20 [==============================] - 0s 4ms/step - loss: 71.9876 - mae: 3.9440 - val_loss: 56.2956 - val_mae: 2.9861\n",
      "Epoch 180/600\n",
      "20/20 [==============================] - 0s 4ms/step - loss: 62.6154 - mae: 3.4052 - val_loss: 94.8766 - val_mae: 4.7782\n",
      "Epoch 181/600\n",
      "20/20 [==============================] - 0s 3ms/step - loss: 65.5529 - mae: 4.8390 - val_loss: 39.4668 - val_mae: 3.1108\n",
      "Epoch 182/600\n",
      "20/20 [==============================] - 0s 3ms/step - loss: 59.7313 - mae: 3.1408 - val_loss: 50.6405 - val_mae: 3.2936\n",
      "Epoch 183/600\n",
      "20/20 [==============================] - 0s 4ms/step - loss: 58.7708 - mae: 3.3994 - val_loss: 57.9952 - val_mae: 4.5162\n",
      "Epoch 184/600\n",
      "20/20 [==============================] - 0s 3ms/step - loss: 64.9923 - mae: 4.2524 - val_loss: 68.0175 - val_mae: 4.0269\n",
      "Epoch 185/600\n",
      "20/20 [==============================] - 0s 4ms/step - loss: 48.2355 - mae: 3.2162 - val_loss: 35.2979 - val_mae: 2.5934\n",
      "Epoch 186/600\n",
      "20/20 [==============================] - 0s 4ms/step - loss: 50.2071 - mae: 3.1708 - val_loss: 79.2974 - val_mae: 3.7394\n",
      "Epoch 187/600\n",
      "20/20 [==============================] - 0s 4ms/step - loss: 53.5169 - mae: 3.3298 - val_loss: 49.1548 - val_mae: 3.4975\n",
      "Epoch 188/600\n",
      "20/20 [==============================] - 0s 4ms/step - loss: 51.6620 - mae: 3.5342 - val_loss: 60.1112 - val_mae: 3.4831\n",
      "Epoch 189/600\n",
      "20/20 [==============================] - 0s 4ms/step - loss: 63.4653 - mae: 4.3258 - val_loss: 49.2474 - val_mae: 3.1290\n",
      "Epoch 190/600\n",
      "20/20 [==============================] - 0s 4ms/step - loss: 79.6766 - mae: 4.7207 - val_loss: 94.2222 - val_mae: 6.8226\n",
      "Epoch 191/600\n",
      "20/20 [==============================] - 0s 4ms/step - loss: 94.4442 - mae: 5.9684 - val_loss: 78.7000 - val_mae: 6.3842\n",
      "Epoch 192/600\n",
      "20/20 [==============================] - 0s 4ms/step - loss: 64.0136 - mae: 4.6885 - val_loss: 56.2014 - val_mae: 4.5180\n",
      "Epoch 193/600\n",
      "20/20 [==============================] - 0s 4ms/step - loss: 47.5857 - mae: 3.3814 - val_loss: 43.8821 - val_mae: 2.8783\n",
      "Epoch 194/600\n",
      "20/20 [==============================] - 0s 4ms/step - loss: 63.1317 - mae: 4.0491 - val_loss: 47.9725 - val_mae: 3.9676\n",
      "Epoch 195/600\n",
      "20/20 [==============================] - 0s 4ms/step - loss: 48.6642 - mae: 3.2619 - val_loss: 38.7818 - val_mae: 2.5165\n",
      "Epoch 196/600\n",
      "20/20 [==============================] - 0s 4ms/step - loss: 59.7800 - mae: 4.4463 - val_loss: 65.4320 - val_mae: 5.9108\n",
      "Epoch 197/600\n",
      "20/20 [==============================] - 0s 4ms/step - loss: 52.5537 - mae: 4.1289 - val_loss: 41.0792 - val_mae: 3.2687\n",
      "Epoch 198/600\n",
      "20/20 [==============================] - 0s 4ms/step - loss: 53.0275 - mae: 3.9905 - val_loss: 37.1829 - val_mae: 2.7365\n",
      "Epoch 199/600\n",
      "20/20 [==============================] - 0s 4ms/step - loss: 47.3001 - mae: 3.5786 - val_loss: 42.7961 - val_mae: 3.5610\n",
      "Epoch 200/600\n",
      "20/20 [==============================] - 0s 7ms/step - loss: 38.7776 - mae: 3.0578 - val_loss: 41.0822 - val_mae: 2.6022\n",
      "Epoch 201/600\n",
      "20/20 [==============================] - 0s 4ms/step - loss: 34.3853 - mae: 2.6431 - val_loss: 31.5981 - val_mae: 2.4100\n",
      "Epoch 202/600\n",
      "20/20 [==============================] - 0s 4ms/step - loss: 43.0367 - mae: 3.5738 - val_loss: 30.8036 - val_mae: 3.0135\n",
      "Epoch 203/600\n",
      "20/20 [==============================] - 0s 4ms/step - loss: 71.6287 - mae: 4.9917 - val_loss: 108.5462 - val_mae: 8.1368\n",
      "Epoch 204/600\n",
      "20/20 [==============================] - 0s 3ms/step - loss: 49.6579 - mae: 4.4981 - val_loss: 32.8080 - val_mae: 2.8928\n",
      "Epoch 205/600\n",
      "20/20 [==============================] - 0s 4ms/step - loss: 30.1905 - mae: 2.7382 - val_loss: 32.8804 - val_mae: 2.6797\n",
      "Epoch 206/600\n",
      "20/20 [==============================] - 0s 3ms/step - loss: 42.6224 - mae: 3.6238 - val_loss: 31.4910 - val_mae: 3.3700\n",
      "Epoch 207/600\n",
      "20/20 [==============================] - 0s 3ms/step - loss: 37.1659 - mae: 2.7588 - val_loss: 46.9149 - val_mae: 3.9343\n",
      "Epoch 208/600\n",
      "20/20 [==============================] - 0s 3ms/step - loss: 27.3779 - mae: 2.5704 - val_loss: 25.5817 - val_mae: 2.4894\n",
      "Epoch 209/600\n",
      "20/20 [==============================] - 0s 4ms/step - loss: 39.7004 - mae: 3.2969 - val_loss: 31.7365 - val_mae: 2.8421\n",
      "Epoch 210/600\n",
      "20/20 [==============================] - 0s 3ms/step - loss: 76.6268 - mae: 5.9223 - val_loss: 61.1605 - val_mae: 4.3328\n",
      "Epoch 211/600\n",
      "20/20 [==============================] - 0s 3ms/step - loss: 191.3213 - mae: 8.7596 - val_loss: 50.7794 - val_mae: 5.1034\n",
      "Epoch 212/600\n",
      "20/20 [==============================] - 0s 3ms/step - loss: 40.7243 - mae: 3.7440 - val_loss: 33.5183 - val_mae: 4.0252\n",
      "Epoch 213/600\n",
      "20/20 [==============================] - 0s 3ms/step - loss: 29.0239 - mae: 2.8112 - val_loss: 32.6979 - val_mae: 2.5079\n",
      "Epoch 214/600\n",
      "20/20 [==============================] - 0s 3ms/step - loss: 34.0943 - mae: 3.3202 - val_loss: 55.2267 - val_mae: 4.9694\n",
      "Epoch 215/600\n",
      "20/20 [==============================] - 0s 3ms/step - loss: 27.2761 - mae: 3.0879 - val_loss: 54.6485 - val_mae: 3.8042\n",
      "Epoch 216/600\n",
      "20/20 [==============================] - 0s 3ms/step - loss: 29.4097 - mae: 3.0252 - val_loss: 34.7806 - val_mae: 3.0282\n",
      "Epoch 217/600\n",
      "20/20 [==============================] - 0s 4ms/step - loss: 27.5062 - mae: 2.7298 - val_loss: 37.1038 - val_mae: 3.0759\n",
      "Epoch 218/600\n",
      "20/20 [==============================] - 0s 3ms/step - loss: 22.0020 - mae: 2.6088 - val_loss: 39.5456 - val_mae: 3.2902\n",
      "Epoch 219/600\n",
      "20/20 [==============================] - 0s 3ms/step - loss: 28.1003 - mae: 3.2347 - val_loss: 25.9220 - val_mae: 3.0921\n",
      "Epoch 220/600\n",
      "20/20 [==============================] - 0s 4ms/step - loss: 28.1853 - mae: 3.0107 - val_loss: 40.9202 - val_mae: 3.8110\n",
      "Epoch 221/600\n",
      "20/20 [==============================] - 0s 3ms/step - loss: 38.2940 - mae: 3.5059 - val_loss: 31.2365 - val_mae: 3.7379\n",
      "Epoch 222/600\n",
      "20/20 [==============================] - 0s 4ms/step - loss: 28.8104 - mae: 3.4053 - val_loss: 25.6207 - val_mae: 2.5896\n",
      "Epoch 223/600\n",
      "20/20 [==============================] - 0s 4ms/step - loss: 20.5118 - mae: 2.5492 - val_loss: 20.2320 - val_mae: 2.1608\n",
      "Epoch 224/600\n",
      "20/20 [==============================] - 0s 4ms/step - loss: 22.0896 - mae: 2.7016 - val_loss: 28.0274 - val_mae: 2.9041\n",
      "Epoch 225/600\n",
      "20/20 [==============================] - 0s 4ms/step - loss: 25.1967 - mae: 2.8001 - val_loss: 21.6384 - val_mae: 2.2540\n",
      "Epoch 226/600\n",
      "20/20 [==============================] - 0s 4ms/step - loss: 31.6307 - mae: 3.3389 - val_loss: 17.7804 - val_mae: 2.6367\n",
      "Epoch 227/600\n",
      "20/20 [==============================] - 0s 4ms/step - loss: 14.8838 - mae: 1.8927 - val_loss: 30.5919 - val_mae: 2.9377\n",
      "Epoch 228/600\n",
      "20/20 [==============================] - 0s 3ms/step - loss: 22.0806 - mae: 2.8214 - val_loss: 26.2023 - val_mae: 3.0069\n",
      "Epoch 229/600\n",
      "20/20 [==============================] - 0s 3ms/step - loss: 16.8103 - mae: 2.4212 - val_loss: 35.7498 - val_mae: 2.7283\n",
      "Epoch 230/600\n",
      "20/20 [==============================] - 0s 3ms/step - loss: 18.5832 - mae: 2.4179 - val_loss: 25.4827 - val_mae: 2.6081\n",
      "Epoch 231/600\n",
      "20/20 [==============================] - 0s 3ms/step - loss: 15.4930 - mae: 2.4991 - val_loss: 23.1017 - val_mae: 2.7774\n",
      "Epoch 232/600\n",
      "20/20 [==============================] - 0s 3ms/step - loss: 11.7417 - mae: 1.8901 - val_loss: 28.3143 - val_mae: 3.2713\n",
      "Epoch 233/600\n",
      "20/20 [==============================] - 0s 4ms/step - loss: 14.5993 - mae: 2.2859 - val_loss: 23.0966 - val_mae: 2.2614\n",
      "Epoch 234/600\n",
      "20/20 [==============================] - 0s 3ms/step - loss: 14.7968 - mae: 1.9839 - val_loss: 23.4308 - val_mae: 3.0379\n",
      "Epoch 235/600\n",
      "20/20 [==============================] - 0s 3ms/step - loss: 23.0048 - mae: 3.1830 - val_loss: 25.1068 - val_mae: 2.8670\n",
      "Epoch 236/600\n",
      "20/20 [==============================] - 0s 3ms/step - loss: 28.5504 - mae: 3.4508 - val_loss: 13.2653 - val_mae: 2.1737\n",
      "Epoch 237/600\n",
      "20/20 [==============================] - 0s 3ms/step - loss: 20.6018 - mae: 2.8612 - val_loss: 27.4195 - val_mae: 3.7794\n",
      "Epoch 238/600\n",
      "20/20 [==============================] - 0s 3ms/step - loss: 13.9920 - mae: 2.4040 - val_loss: 15.2127 - val_mae: 1.9990\n",
      "Epoch 239/600\n",
      "20/20 [==============================] - 0s 3ms/step - loss: 13.0610 - mae: 2.3391 - val_loss: 22.5607 - val_mae: 2.9934\n",
      "Epoch 240/600\n",
      "20/20 [==============================] - 0s 3ms/step - loss: 10.0387 - mae: 1.9883 - val_loss: 22.7796 - val_mae: 2.7499\n",
      "Epoch 241/600\n",
      "20/20 [==============================] - 0s 4ms/step - loss: 13.0671 - mae: 2.2781 - val_loss: 18.4273 - val_mae: 2.1339\n",
      "Epoch 242/600\n",
      "20/20 [==============================] - 0s 3ms/step - loss: 19.8771 - mae: 2.5967 - val_loss: 23.3912 - val_mae: 2.9540\n",
      "Epoch 243/600\n",
      "20/20 [==============================] - 0s 3ms/step - loss: 16.7070 - mae: 2.9528 - val_loss: 18.2498 - val_mae: 2.3648\n",
      "Epoch 244/600\n",
      "20/20 [==============================] - 0s 3ms/step - loss: 12.9844 - mae: 2.2032 - val_loss: 46.0336 - val_mae: 5.1713\n",
      "Epoch 245/600\n",
      "20/20 [==============================] - 0s 3ms/step - loss: 49.0033 - mae: 4.9872 - val_loss: 10.9482 - val_mae: 1.7680\n",
      "Epoch 246/600\n",
      "20/20 [==============================] - 0s 4ms/step - loss: 13.7441 - mae: 2.1244 - val_loss: 19.3655 - val_mae: 2.4137\n",
      "Epoch 247/600\n",
      "20/20 [==============================] - 0s 3ms/step - loss: 11.5474 - mae: 2.2765 - val_loss: 11.0340 - val_mae: 1.7487\n",
      "Epoch 248/600\n",
      "20/20 [==============================] - 0s 6ms/step - loss: 7.1133 - mae: 1.5118 - val_loss: 19.1389 - val_mae: 2.0669\n",
      "Epoch 249/600\n",
      "20/20 [==============================] - 0s 3ms/step - loss: 15.2470 - mae: 2.7790 - val_loss: 21.9446 - val_mae: 2.5267\n",
      "Epoch 250/600\n",
      "20/20 [==============================] - 0s 4ms/step - loss: 14.1806 - mae: 2.3362 - val_loss: 18.9744 - val_mae: 2.3459\n",
      "Epoch 251/600\n",
      "20/20 [==============================] - 0s 3ms/step - loss: 6.7670 - mae: 1.5964 - val_loss: 10.6646 - val_mae: 2.0302\n",
      "Epoch 252/600\n",
      "20/20 [==============================] - 0s 4ms/step - loss: 7.9182 - mae: 1.5936 - val_loss: 15.1949 - val_mae: 1.9019\n",
      "Epoch 253/600\n",
      "20/20 [==============================] - 0s 3ms/step - loss: 6.7929 - mae: 1.5847 - val_loss: 11.4722 - val_mae: 1.7762\n",
      "Epoch 254/600\n",
      "20/20 [==============================] - 0s 3ms/step - loss: 9.4078 - mae: 1.7768 - val_loss: 14.2038 - val_mae: 2.0776\n",
      "Epoch 255/600\n",
      "20/20 [==============================] - 0s 3ms/step - loss: 8.5501 - mae: 1.7614 - val_loss: 16.4539 - val_mae: 2.5517\n",
      "Epoch 256/600\n",
      "20/20 [==============================] - 0s 3ms/step - loss: 13.8332 - mae: 2.4968 - val_loss: 27.7265 - val_mae: 4.3705\n",
      "Epoch 257/600\n",
      "20/20 [==============================] - 0s 3ms/step - loss: 11.6310 - mae: 2.3642 - val_loss: 24.8459 - val_mae: 3.2054\n",
      "Epoch 258/600\n",
      "20/20 [==============================] - 0s 3ms/step - loss: 8.6672 - mae: 2.0420 - val_loss: 11.3601 - val_mae: 1.7532\n",
      "Epoch 259/600\n",
      "20/20 [==============================] - 0s 3ms/step - loss: 5.8973 - mae: 1.4837 - val_loss: 18.4537 - val_mae: 2.2191\n",
      "Epoch 260/600\n",
      "20/20 [==============================] - 0s 4ms/step - loss: 16.5627 - mae: 2.4171 - val_loss: 10.1786 - val_mae: 2.0380\n",
      "Epoch 261/600\n",
      "20/20 [==============================] - 0s 3ms/step - loss: 6.7127 - mae: 1.4973 - val_loss: 10.6794 - val_mae: 1.8350\n",
      "Epoch 262/600\n",
      "20/20 [==============================] - 0s 3ms/step - loss: 15.3769 - mae: 2.7701 - val_loss: 9.2834 - val_mae: 1.7968\n",
      "Epoch 263/600\n",
      "20/20 [==============================] - 0s 3ms/step - loss: 6.8789 - mae: 1.6706 - val_loss: 12.2754 - val_mae: 1.9374\n",
      "Epoch 264/600\n",
      "20/20 [==============================] - 0s 3ms/step - loss: 6.1322 - mae: 1.5647 - val_loss: 14.7403 - val_mae: 2.2108\n",
      "Epoch 265/600\n",
      "20/20 [==============================] - 0s 3ms/step - loss: 6.6339 - mae: 1.8073 - val_loss: 9.6201 - val_mae: 1.7547\n",
      "Epoch 266/600\n",
      "20/20 [==============================] - 0s 3ms/step - loss: 7.3169 - mae: 1.7543 - val_loss: 11.9804 - val_mae: 1.9985\n",
      "Epoch 267/600\n",
      "20/20 [==============================] - 0s 3ms/step - loss: 5.2468 - mae: 1.4816 - val_loss: 8.5774 - val_mae: 1.6836\n",
      "Epoch 268/600\n",
      "20/20 [==============================] - 0s 3ms/step - loss: 4.6085 - mae: 1.3288 - val_loss: 13.4118 - val_mae: 2.2849\n",
      "Epoch 269/600\n",
      "20/20 [==============================] - 0s 3ms/step - loss: 7.5524 - mae: 1.8715 - val_loss: 13.8920 - val_mae: 2.5057\n",
      "Epoch 270/600\n",
      "20/20 [==============================] - 0s 3ms/step - loss: 8.2714 - mae: 1.8768 - val_loss: 21.3737 - val_mae: 3.5833\n",
      "Epoch 271/600\n",
      "20/20 [==============================] - 0s 3ms/step - loss: 7.5215 - mae: 1.9243 - val_loss: 11.5752 - val_mae: 1.9055\n",
      "Epoch 272/600\n",
      "20/20 [==============================] - 0s 3ms/step - loss: 5.6237 - mae: 1.5780 - val_loss: 9.6740 - val_mae: 1.7118\n",
      "Epoch 273/600\n",
      "20/20 [==============================] - 0s 3ms/step - loss: 4.1631 - mae: 1.3233 - val_loss: 10.0418 - val_mae: 1.7723\n",
      "Epoch 274/600\n",
      "20/20 [==============================] - 0s 3ms/step - loss: 7.5735 - mae: 1.7875 - val_loss: 23.2634 - val_mae: 3.2504\n",
      "Epoch 275/600\n",
      "20/20 [==============================] - 0s 3ms/step - loss: 9.4627 - mae: 2.1549 - val_loss: 12.5234 - val_mae: 2.3742\n",
      "Epoch 276/600\n",
      "20/20 [==============================] - 0s 3ms/step - loss: 9.6671 - mae: 2.1964 - val_loss: 11.8842 - val_mae: 2.2765\n",
      "Epoch 277/600\n",
      "20/20 [==============================] - 0s 3ms/step - loss: 5.6912 - mae: 1.6215 - val_loss: 9.7110 - val_mae: 1.8424\n",
      "Epoch 278/600\n",
      "20/20 [==============================] - 0s 3ms/step - loss: 6.5030 - mae: 1.7561 - val_loss: 11.5073 - val_mae: 1.9241\n",
      "Epoch 279/600\n",
      "20/20 [==============================] - 0s 3ms/step - loss: 7.8723 - mae: 1.9637 - val_loss: 10.4494 - val_mae: 2.0254\n",
      "Epoch 280/600\n",
      "20/20 [==============================] - 0s 3ms/step - loss: 6.0309 - mae: 1.6597 - val_loss: 12.4563 - val_mae: 2.3955\n",
      "Epoch 281/600\n",
      "20/20 [==============================] - 0s 3ms/step - loss: 7.7856 - mae: 1.9767 - val_loss: 17.4791 - val_mae: 3.2729\n",
      "Epoch 282/600\n",
      "20/20 [==============================] - 0s 3ms/step - loss: 7.0675 - mae: 1.9104 - val_loss: 9.7015 - val_mae: 1.8692\n",
      "Epoch 283/600\n",
      "20/20 [==============================] - 0s 3ms/step - loss: 5.7117 - mae: 1.6378 - val_loss: 8.4609 - val_mae: 2.0329\n",
      "Epoch 284/600\n",
      "20/20 [==============================] - 0s 3ms/step - loss: 4.5612 - mae: 1.3558 - val_loss: 10.3310 - val_mae: 1.8880\n",
      "Epoch 285/600\n",
      "20/20 [==============================] - 0s 5ms/step - loss: 4.2075 - mae: 1.3547 - val_loss: 9.3842 - val_mae: 1.8646\n",
      "Epoch 286/600\n",
      "20/20 [==============================] - 0s 4ms/step - loss: 5.5349 - mae: 1.6391 - val_loss: 14.9433 - val_mae: 2.6673\n",
      "Epoch 287/600\n",
      "20/20 [==============================] - 0s 3ms/step - loss: 14.2044 - mae: 2.6362 - val_loss: 23.5278 - val_mae: 4.0783\n",
      "Epoch 288/600\n",
      "20/20 [==============================] - 0s 4ms/step - loss: 13.8207 - mae: 2.7189 - val_loss: 8.5109 - val_mae: 1.8149\n",
      "Epoch 289/600\n",
      "20/20 [==============================] - 0s 3ms/step - loss: 5.9894 - mae: 1.6676 - val_loss: 9.7348 - val_mae: 1.8756\n",
      "Epoch 290/600\n",
      "20/20 [==============================] - 0s 3ms/step - loss: 5.4827 - mae: 1.5890 - val_loss: 7.4950 - val_mae: 1.7773\n",
      "Epoch 291/600\n",
      "20/20 [==============================] - 0s 3ms/step - loss: 5.7702 - mae: 1.6159 - val_loss: 10.2192 - val_mae: 2.1163\n",
      "Epoch 292/600\n",
      "20/20 [==============================] - 0s 3ms/step - loss: 8.6808 - mae: 1.9199 - val_loss: 11.9653 - val_mae: 2.0212\n",
      "Epoch 293/600\n",
      "20/20 [==============================] - 0s 3ms/step - loss: 6.9819 - mae: 1.8023 - val_loss: 13.0641 - val_mae: 2.4163\n",
      "Epoch 294/600\n",
      "20/20 [==============================] - 0s 3ms/step - loss: 9.7738 - mae: 2.2383 - val_loss: 12.7396 - val_mae: 2.2970\n",
      "Epoch 295/600\n",
      "20/20 [==============================] - 0s 3ms/step - loss: 5.8921 - mae: 1.5977 - val_loss: 9.1188 - val_mae: 1.9443\n",
      "Epoch 296/600\n",
      "20/20 [==============================] - 0s 3ms/step - loss: 3.0713 - mae: 1.2357 - val_loss: 7.7623 - val_mae: 1.7245\n",
      "Epoch 297/600\n",
      "20/20 [==============================] - 0s 3ms/step - loss: 4.0811 - mae: 1.3801 - val_loss: 9.1044 - val_mae: 2.0932\n",
      "Epoch 298/600\n",
      "20/20 [==============================] - 0s 3ms/step - loss: 3.5034 - mae: 1.2997 - val_loss: 29.1575 - val_mae: 3.5577\n",
      "Epoch 299/600\n",
      "20/20 [==============================] - 0s 3ms/step - loss: 9.6508 - mae: 2.3718 - val_loss: 26.0882 - val_mae: 2.9489\n",
      "Epoch 300/600\n",
      "20/20 [==============================] - 0s 3ms/step - loss: 21.4256 - mae: 3.2961 - val_loss: 31.3903 - val_mae: 4.4698\n",
      "Epoch 301/600\n",
      "20/20 [==============================] - 0s 3ms/step - loss: 18.7800 - mae: 3.2810 - val_loss: 19.5714 - val_mae: 3.1874\n",
      "Epoch 302/600\n",
      "20/20 [==============================] - 0s 4ms/step - loss: 22.5527 - mae: 3.2905 - val_loss: 42.7847 - val_mae: 5.3150\n",
      "Epoch 303/600\n",
      "20/20 [==============================] - 0s 3ms/step - loss: 16.1875 - mae: 2.9146 - val_loss: 42.1127 - val_mae: 5.0548\n",
      "Epoch 304/600\n",
      "20/20 [==============================] - 0s 3ms/step - loss: 29.1213 - mae: 3.9015 - val_loss: 39.0215 - val_mae: 4.0051\n",
      "Epoch 305/600\n",
      "20/20 [==============================] - 0s 3ms/step - loss: 14.5139 - mae: 2.7361 - val_loss: 13.1149 - val_mae: 2.5501\n",
      "Epoch 306/600\n",
      "20/20 [==============================] - 0s 3ms/step - loss: 6.4491 - mae: 1.7686 - val_loss: 10.1145 - val_mae: 1.8456\n",
      "Epoch 307/600\n",
      "20/20 [==============================] - 0s 3ms/step - loss: 7.4453 - mae: 1.8413 - val_loss: 24.1475 - val_mae: 4.1524\n",
      "Epoch 308/600\n",
      "20/20 [==============================] - 0s 3ms/step - loss: 11.2914 - mae: 2.3789 - val_loss: 110.3170 - val_mae: 6.8133\n",
      "Epoch 309/600\n",
      "20/20 [==============================] - 0s 3ms/step - loss: 220.5604 - mae: 9.8513 - val_loss: 55.3334 - val_mae: 3.8835\n",
      "Epoch 310/600\n",
      "20/20 [==============================] - 0s 3ms/step - loss: 49.0056 - mae: 4.6083 - val_loss: 16.2496 - val_mae: 2.4332\n",
      "Epoch 311/600\n",
      "20/20 [==============================] - 0s 3ms/step - loss: 20.8488 - mae: 3.2596 - val_loss: 31.5813 - val_mae: 3.6609\n",
      "Epoch 312/600\n",
      "20/20 [==============================] - 0s 3ms/step - loss: 17.6926 - mae: 3.0703 - val_loss: 28.5394 - val_mae: 3.3936\n",
      "Epoch 313/600\n",
      "20/20 [==============================] - 0s 3ms/step - loss: 13.4246 - mae: 2.5905 - val_loss: 16.5732 - val_mae: 2.1881\n",
      "Epoch 314/600\n",
      "20/20 [==============================] - 0s 6ms/step - loss: 7.1596 - mae: 1.7289 - val_loss: 10.1939 - val_mae: 1.8233\n",
      "Epoch 315/600\n",
      "20/20 [==============================] - 0s 4ms/step - loss: 10.6207 - mae: 2.2518 - val_loss: 10.9995 - val_mae: 1.9362\n",
      "Epoch 316/600\n",
      "20/20 [==============================] - 0s 3ms/step - loss: 6.5179 - mae: 1.6572 - val_loss: 8.9389 - val_mae: 1.8228\n",
      "Epoch 317/600\n",
      "20/20 [==============================] - 0s 4ms/step - loss: 4.7205 - mae: 1.4365 - val_loss: 9.4770 - val_mae: 1.8611\n",
      "Epoch 318/600\n",
      "20/20 [==============================] - 0s 3ms/step - loss: 4.3731 - mae: 1.3784 - val_loss: 10.1082 - val_mae: 1.8557\n",
      "Epoch 319/600\n",
      "20/20 [==============================] - 0s 3ms/step - loss: 4.2180 - mae: 1.3092 - val_loss: 9.8434 - val_mae: 1.9275\n",
      "Epoch 320/600\n",
      "20/20 [==============================] - 0s 3ms/step - loss: 6.9089 - mae: 1.8056 - val_loss: 13.3147 - val_mae: 2.7787\n",
      "Epoch 321/600\n",
      "20/20 [==============================] - 0s 3ms/step - loss: 5.0530 - mae: 1.5616 - val_loss: 9.4032 - val_mae: 1.8095\n",
      "Epoch 322/600\n",
      "20/20 [==============================] - 0s 3ms/step - loss: 3.3833 - mae: 1.2194 - val_loss: 7.3673 - val_mae: 1.5776\n",
      "Epoch 323/600\n",
      "20/20 [==============================] - 0s 3ms/step - loss: 4.2731 - mae: 1.3326 - val_loss: 9.1258 - val_mae: 1.8595\n",
      "Epoch 324/600\n",
      "20/20 [==============================] - 0s 3ms/step - loss: 2.8414 - mae: 1.1525 - val_loss: 8.4617 - val_mae: 1.6660\n",
      "Epoch 325/600\n",
      "20/20 [==============================] - 0s 3ms/step - loss: 2.6913 - mae: 1.0898 - val_loss: 9.2257 - val_mae: 1.9576\n",
      "Epoch 326/600\n",
      "20/20 [==============================] - 0s 3ms/step - loss: 9.2503 - mae: 2.1382 - val_loss: 11.9218 - val_mae: 2.1844\n",
      "Epoch 327/600\n",
      "20/20 [==============================] - 0s 3ms/step - loss: 15.0545 - mae: 2.5345 - val_loss: 8.5675 - val_mae: 1.8977\n",
      "Epoch 328/600\n",
      "20/20 [==============================] - 0s 3ms/step - loss: 10.1890 - mae: 1.8704 - val_loss: 10.1041 - val_mae: 1.9794\n",
      "Epoch 329/600\n",
      "20/20 [==============================] - 0s 3ms/step - loss: 5.9716 - mae: 1.6964 - val_loss: 10.3681 - val_mae: 1.9264\n",
      "Epoch 330/600\n",
      "20/20 [==============================] - 0s 3ms/step - loss: 5.3735 - mae: 1.5480 - val_loss: 30.9942 - val_mae: 4.2025\n",
      "Epoch 331/600\n",
      "20/20 [==============================] - 0s 4ms/step - loss: 28.6782 - mae: 3.9007 - val_loss: 55.4009 - val_mae: 5.3999\n",
      "Epoch 332/600\n",
      "20/20 [==============================] - 0s 3ms/step - loss: 18.2963 - mae: 3.1266 - val_loss: 31.2628 - val_mae: 2.7726\n",
      "Epoch 333/600\n",
      "20/20 [==============================] - 0s 3ms/step - loss: 21.6784 - mae: 3.4330 - val_loss: 31.1314 - val_mae: 3.4891\n",
      "Epoch 334/600\n",
      "20/20 [==============================] - 0s 3ms/step - loss: 10.3387 - mae: 2.1691 - val_loss: 12.8286 - val_mae: 2.0424\n",
      "Epoch 335/600\n",
      "20/20 [==============================] - 0s 3ms/step - loss: 4.6106 - mae: 1.4831 - val_loss: 10.9299 - val_mae: 2.3363\n",
      "Epoch 336/600\n",
      "20/20 [==============================] - 0s 3ms/step - loss: 4.8125 - mae: 1.5738 - val_loss: 8.6866 - val_mae: 1.8390\n",
      "Epoch 337/600\n",
      "20/20 [==============================] - 0s 3ms/step - loss: 4.4133 - mae: 1.4515 - val_loss: 10.5239 - val_mae: 1.9860\n",
      "Epoch 338/600\n",
      "20/20 [==============================] - 0s 3ms/step - loss: 3.5546 - mae: 1.2113 - val_loss: 9.5372 - val_mae: 1.8855\n",
      "Epoch 339/600\n",
      "20/20 [==============================] - 0s 4ms/step - loss: 5.8509 - mae: 1.7015 - val_loss: 12.0945 - val_mae: 2.2133\n",
      "Epoch 340/600\n",
      "20/20 [==============================] - 0s 4ms/step - loss: 6.3152 - mae: 1.7170 - val_loss: 7.7714 - val_mae: 1.6384\n",
      "Epoch 341/600\n",
      "20/20 [==============================] - 0s 3ms/step - loss: 2.6471 - mae: 1.0976 - val_loss: 9.4794 - val_mae: 1.8135\n",
      "Epoch 342/600\n",
      "20/20 [==============================] - 0s 3ms/step - loss: 7.0238 - mae: 1.7531 - val_loss: 7.9906 - val_mae: 1.7358\n",
      "Epoch 343/600\n",
      "20/20 [==============================] - 0s 3ms/step - loss: 10.7626 - mae: 2.2910 - val_loss: 6.3766 - val_mae: 1.5431\n",
      "Epoch 344/600\n",
      "20/20 [==============================] - 0s 3ms/step - loss: 3.5778 - mae: 1.3338 - val_loss: 17.5083 - val_mae: 3.2762\n",
      "Epoch 345/600\n",
      "20/20 [==============================] - 0s 3ms/step - loss: 6.0319 - mae: 1.7253 - val_loss: 8.3522 - val_mae: 1.9455\n",
      "Epoch 346/600\n",
      "20/20 [==============================] - 0s 3ms/step - loss: 4.6184 - mae: 1.5348 - val_loss: 7.0665 - val_mae: 1.7123\n",
      "Epoch 347/600\n",
      "20/20 [==============================] - 0s 3ms/step - loss: 3.5739 - mae: 1.3440 - val_loss: 6.8639 - val_mae: 1.6194\n",
      "Epoch 348/600\n",
      "20/20 [==============================] - 0s 3ms/step - loss: 3.9656 - mae: 1.4540 - val_loss: 11.3083 - val_mae: 1.8308\n",
      "Epoch 349/600\n",
      "20/20 [==============================] - 0s 3ms/step - loss: 2.6484 - mae: 1.1195 - val_loss: 7.8438 - val_mae: 1.6183\n",
      "Epoch 350/600\n",
      "20/20 [==============================] - 0s 4ms/step - loss: 2.0462 - mae: 0.9818 - val_loss: 7.9831 - val_mae: 1.6563\n",
      "Epoch 351/600\n",
      "20/20 [==============================] - 0s 3ms/step - loss: 3.2191 - mae: 1.2220 - val_loss: 10.0157 - val_mae: 1.9765\n",
      "Epoch 352/600\n",
      "20/20 [==============================] - 0s 3ms/step - loss: 3.6509 - mae: 1.3377 - val_loss: 6.6928 - val_mae: 1.5639\n",
      "Epoch 353/600\n",
      "20/20 [==============================] - 0s 3ms/step - loss: 3.1415 - mae: 1.1963 - val_loss: 10.4122 - val_mae: 1.7839\n",
      "Epoch 354/600\n",
      "20/20 [==============================] - 0s 3ms/step - loss: 3.3219 - mae: 1.2005 - val_loss: 7.1757 - val_mae: 1.6165\n",
      "Epoch 355/600\n",
      "20/20 [==============================] - 0s 3ms/step - loss: 3.4262 - mae: 1.2178 - val_loss: 10.5765 - val_mae: 2.0584\n",
      "Epoch 356/600\n",
      "20/20 [==============================] - 0s 3ms/step - loss: 2.6758 - mae: 1.0821 - val_loss: 7.1312 - val_mae: 1.5685\n",
      "Epoch 357/600\n",
      "20/20 [==============================] - 0s 4ms/step - loss: 2.6167 - mae: 1.1036 - val_loss: 9.1253 - val_mae: 1.7392\n",
      "Epoch 358/600\n",
      "20/20 [==============================] - 0s 4ms/step - loss: 3.5674 - mae: 1.2375 - val_loss: 10.7858 - val_mae: 2.0542\n",
      "Epoch 359/600\n",
      "20/20 [==============================] - 0s 3ms/step - loss: 2.8053 - mae: 1.1651 - val_loss: 6.6803 - val_mae: 1.6043\n",
      "Epoch 360/600\n",
      "20/20 [==============================] - 0s 3ms/step - loss: 2.7199 - mae: 1.0840 - val_loss: 6.2429 - val_mae: 1.5292\n",
      "Epoch 361/600\n",
      "20/20 [==============================] - 0s 3ms/step - loss: 2.3325 - mae: 1.1156 - val_loss: 6.4633 - val_mae: 1.5239\n",
      "Epoch 362/600\n",
      "20/20 [==============================] - 0s 3ms/step - loss: 2.4461 - mae: 1.0932 - val_loss: 8.4684 - val_mae: 1.7592\n",
      "Epoch 363/600\n",
      "20/20 [==============================] - 0s 3ms/step - loss: 2.8360 - mae: 1.2899 - val_loss: 11.7110 - val_mae: 2.6295\n",
      "Epoch 364/600\n",
      "20/20 [==============================] - 0s 3ms/step - loss: 2.9660 - mae: 1.2444 - val_loss: 6.7876 - val_mae: 1.5756\n",
      "Epoch 365/600\n",
      "20/20 [==============================] - 0s 3ms/step - loss: 2.6025 - mae: 1.1628 - val_loss: 7.4856 - val_mae: 1.6468\n",
      "Epoch 366/600\n",
      "20/20 [==============================] - 0s 5ms/step - loss: 3.6663 - mae: 1.3149 - val_loss: 8.2140 - val_mae: 1.8403\n",
      "Epoch 367/600\n",
      "20/20 [==============================] - 0s 3ms/step - loss: 3.4516 - mae: 1.2470 - val_loss: 11.3018 - val_mae: 2.2496\n",
      "Epoch 368/600\n",
      "20/20 [==============================] - 0s 3ms/step - loss: 6.3539 - mae: 1.7731 - val_loss: 19.8955 - val_mae: 3.0998\n",
      "Epoch 369/600\n",
      "20/20 [==============================] - 0s 4ms/step - loss: 7.5819 - mae: 2.0245 - val_loss: 10.1176 - val_mae: 1.8420\n",
      "Epoch 370/600\n",
      "20/20 [==============================] - 0s 4ms/step - loss: 5.9193 - mae: 1.5355 - val_loss: 7.3085 - val_mae: 1.7295\n",
      "Epoch 371/600\n",
      "20/20 [==============================] - 0s 3ms/step - loss: 3.1239 - mae: 1.2010 - val_loss: 8.2937 - val_mae: 1.7053\n",
      "Epoch 372/600\n",
      "20/20 [==============================] - 0s 3ms/step - loss: 5.0313 - mae: 1.5316 - val_loss: 7.9735 - val_mae: 1.6957\n",
      "Epoch 373/600\n",
      "20/20 [==============================] - 0s 3ms/step - loss: 6.3797 - mae: 1.6565 - val_loss: 8.8653 - val_mae: 1.7888\n",
      "Epoch 374/600\n",
      "20/20 [==============================] - 0s 3ms/step - loss: 5.7947 - mae: 1.6727 - val_loss: 6.8235 - val_mae: 1.6334\n",
      "Epoch 375/600\n",
      "20/20 [==============================] - 0s 3ms/step - loss: 9.4423 - mae: 2.0845 - val_loss: 14.1321 - val_mae: 2.9361\n",
      "Epoch 376/600\n",
      "20/20 [==============================] - 0s 3ms/step - loss: 6.3016 - mae: 1.7516 - val_loss: 6.9547 - val_mae: 1.6087\n",
      "Epoch 377/600\n",
      "20/20 [==============================] - 0s 3ms/step - loss: 4.6840 - mae: 1.4896 - val_loss: 6.9088 - val_mae: 1.7761\n",
      "Epoch 378/600\n",
      "20/20 [==============================] - 0s 3ms/step - loss: 4.0331 - mae: 1.3905 - val_loss: 10.1914 - val_mae: 2.2439\n",
      "Epoch 379/600\n",
      "20/20 [==============================] - 0s 3ms/step - loss: 4.5057 - mae: 1.4358 - val_loss: 37.1631 - val_mae: 4.5755\n",
      "Epoch 380/600\n",
      "20/20 [==============================] - 0s 4ms/step - loss: 28.2062 - mae: 3.5682 - val_loss: 46.5417 - val_mae: 4.3540\n",
      "Epoch 381/600\n",
      "20/20 [==============================] - 0s 3ms/step - loss: 17.2170 - mae: 2.4210 - val_loss: 12.3212 - val_mae: 2.3779\n",
      "Epoch 382/600\n",
      "20/20 [==============================] - 0s 3ms/step - loss: 14.5253 - mae: 2.8357 - val_loss: 23.8940 - val_mae: 3.8493\n",
      "Epoch 383/600\n",
      "20/20 [==============================] - 0s 3ms/step - loss: 9.0023 - mae: 2.0360 - val_loss: 12.2117 - val_mae: 1.9060\n",
      "Epoch 384/600\n",
      "20/20 [==============================] - 0s 4ms/step - loss: 6.2192 - mae: 1.6513 - val_loss: 12.2134 - val_mae: 2.1549\n",
      "Epoch 385/600\n",
      "20/20 [==============================] - 0s 3ms/step - loss: 5.0221 - mae: 1.5453 - val_loss: 10.5873 - val_mae: 2.1080\n",
      "Epoch 386/600\n",
      "20/20 [==============================] - 0s 4ms/step - loss: 7.6528 - mae: 1.8925 - val_loss: 18.2133 - val_mae: 3.6085\n",
      "Epoch 387/600\n",
      "20/20 [==============================] - 0s 3ms/step - loss: 8.6744 - mae: 2.3060 - val_loss: 8.8176 - val_mae: 1.8673\n",
      "Epoch 388/600\n",
      "20/20 [==============================] - 0s 3ms/step - loss: 4.4598 - mae: 1.4784 - val_loss: 11.4902 - val_mae: 2.3729\n",
      "Epoch 389/600\n",
      "20/20 [==============================] - 0s 3ms/step - loss: 10.9864 - mae: 2.1800 - val_loss: 35.6428 - val_mae: 3.2373\n",
      "Epoch 390/600\n",
      "20/20 [==============================] - 0s 3ms/step - loss: 14.1323 - mae: 2.5011 - val_loss: 17.7541 - val_mae: 3.0281\n",
      "Epoch 391/600\n",
      "20/20 [==============================] - 0s 3ms/step - loss: 8.3054 - mae: 2.0211 - val_loss: 21.9541 - val_mae: 3.5487\n",
      "Epoch 392/600\n",
      "20/20 [==============================] - 0s 5ms/step - loss: 12.2429 - mae: 2.5388 - val_loss: 21.0704 - val_mae: 3.0834\n",
      "Epoch 393/600\n",
      "20/20 [==============================] - 0s 4ms/step - loss: 35.2470 - mae: 4.1688 - val_loss: 34.2382 - val_mae: 4.2074\n",
      "Epoch 394/600\n",
      "20/20 [==============================] - 0s 3ms/step - loss: 19.3663 - mae: 2.9530 - val_loss: 17.7621 - val_mae: 2.7741\n",
      "Epoch 395/600\n",
      "20/20 [==============================] - 0s 4ms/step - loss: 15.5878 - mae: 2.7624 - val_loss: 24.7265 - val_mae: 4.2520\n",
      "Epoch 396/600\n",
      "20/20 [==============================] - 0s 3ms/step - loss: 9.9572 - mae: 2.2439 - val_loss: 9.4938 - val_mae: 2.2055\n",
      "Epoch 397/600\n",
      "20/20 [==============================] - 0s 3ms/step - loss: 5.5148 - mae: 1.6382 - val_loss: 8.4547 - val_mae: 1.7982\n",
      "Epoch 398/600\n",
      "20/20 [==============================] - 0s 3ms/step - loss: 5.8722 - mae: 1.7728 - val_loss: 8.3676 - val_mae: 2.0508\n",
      "Epoch 399/600\n",
      "20/20 [==============================] - 0s 3ms/step - loss: 8.6040 - mae: 2.0042 - val_loss: 10.5129 - val_mae: 1.8852\n",
      "Epoch 400/600\n",
      "20/20 [==============================] - 0s 3ms/step - loss: 5.9056 - mae: 1.7557 - val_loss: 8.3748 - val_mae: 1.9439\n",
      "Epoch 401/600\n",
      "20/20 [==============================] - 0s 3ms/step - loss: 4.2252 - mae: 1.4266 - val_loss: 13.4672 - val_mae: 2.5249\n",
      "Epoch 402/600\n",
      "20/20 [==============================] - 0s 4ms/step - loss: 3.7570 - mae: 1.2624 - val_loss: 13.2902 - val_mae: 2.1793\n",
      "Epoch 403/600\n",
      "20/20 [==============================] - 0s 3ms/step - loss: 27.8981 - mae: 3.4574 - val_loss: 46.4627 - val_mae: 3.3913\n",
      "Epoch 404/600\n",
      "20/20 [==============================] - 0s 3ms/step - loss: 39.4292 - mae: 4.1888 - val_loss: 13.6105 - val_mae: 2.4330\n",
      "Epoch 405/600\n",
      "20/20 [==============================] - 0s 3ms/step - loss: 6.9452 - mae: 1.7810 - val_loss: 12.4186 - val_mae: 2.3510\n",
      "Epoch 406/600\n",
      "20/20 [==============================] - 0s 3ms/step - loss: 11.8562 - mae: 2.1562 - val_loss: 13.6107 - val_mae: 1.9038\n",
      "Epoch 407/600\n",
      "20/20 [==============================] - 0s 4ms/step - loss: 3.6933 - mae: 1.2104 - val_loss: 9.9584 - val_mae: 1.9632\n",
      "Epoch 408/600\n",
      "20/20 [==============================] - 0s 3ms/step - loss: 4.5087 - mae: 1.4348 - val_loss: 8.8659 - val_mae: 1.7132\n",
      "Epoch 409/600\n",
      "20/20 [==============================] - 0s 3ms/step - loss: 5.5294 - mae: 1.6727 - val_loss: 18.8461 - val_mae: 2.3290\n",
      "Epoch 410/600\n",
      "20/20 [==============================] - 0s 3ms/step - loss: 5.8223 - mae: 1.7248 - val_loss: 7.8228 - val_mae: 1.7869\n"
     ]
    }
   ],
   "source": [
    "history = ann.fit(X_train, y_train,\n",
    "                    validation_data = (X_val, y_val),\n",
    "                    callbacks=[es],\n",
    "                    epochs=600,\n",
    "                    batch_size=20,\n",
    "                    verbose=1)"
   ]
  },
  {
   "cell_type": "markdown",
   "metadata": {
    "colab_type": "text",
    "id": "0H0zKKNEBLD5"
   },
   "source": [
    "### Predicting the results of the Test set"
   ]
  },
  {
   "cell_type": "code",
   "execution_count": 19,
   "metadata": {},
   "outputs": [
    {
     "data": {
      "image/png": "[encoded data removed]",
      "text/plain": [
       "<Figure size 432x288 with 1 Axes>"
      ]
     },
     "metadata": {
      "needs_background": "light"
     },
     "output_type": "display_data"
    }
   ],
   "source": [
    "import matplotlib.pyplot as plt\n",
    "# let's see the training and validation accuracy by epoch\n",
    "history_dict = history.history\n",
    "loss_values = history_dict['loss'] # you can change this\n",
    "val_loss_values = history_dict['val_loss'] # you can also change this\n",
    "epochs = range(1, len(loss_values) + 1) # range of X (no. of epochs)\n",
    "plt.plot(epochs, loss_values, 'blue', label='Train set loss')\n",
    "plt.plot(epochs, val_loss_values, 'orange', label='Validation set loss')\n",
    "plt.title('Training and testing loss')\n",
    "plt.xlabel('Epochs')\n",
    "plt.ylabel('Loss (MSE)')\n",
    "plt.legend()\n",
    "plt.show()"
   ]
  },
  {
   "cell_type": "code",
   "execution_count": 20,
   "metadata": {},
   "outputs": [
    {
     "data": {
      "image/png": "[encoded data removed]",
      "text/plain": [
       "<Figure size 432x288 with 1 Axes>"
      ]
     },
     "metadata": {
      "needs_background": "light"
     },
     "output_type": "display_data"
    }
   ],
   "source": [
    "loss_values1 = history_dict['mae'] # you can change this\n",
    "val_loss_values1 = history_dict['val_mae'] # you can also change this\n",
    "epochs = range(1, len(loss_values1) + 1) # range of X (no. of epochs)\n",
    "plt.plot(epochs, loss_values1, 'blue', label='Training MAE')\n",
    "plt.plot(epochs, val_loss_values1, 'orange', label='Testing MAE')\n",
    "plt.title('Training and testing MAE')\n",
    "plt.xlabel('Epochs')\n",
    "plt.ylabel('MAE')\n",
    "plt.legend()\n",
    "plt.show()"
   ]
  },
  {
   "cell_type": "code",
   "execution_count": 21,
   "metadata": {},
   "outputs": [
    {
     "name": "stdout",
     "output_type": "stream",
     "text": [
      "range(1, 411)\n"
     ]
    }
   ],
   "source": [
    "print (epochs)"
   ]
  },
  {
   "cell_type": "code",
   "execution_count": 22,
   "metadata": {},
   "outputs": [
    {
     "name": "stdout",
     "output_type": "stream",
     "text": [
      "12/12 [==============================] - 0s 1ms/step\n",
      "3/3 [==============================] - 0s 2ms/step\n"
     ]
    },
    {
     "data": {
      "image/png": "[encoded data removed]",
      "text/plain": [
       "<Figure size 432x288 with 2 Axes>"
      ]
     },
     "metadata": {
      "needs_background": "light"
     },
     "output_type": "display_data"
    }
   ],
   "source": [
    "# scatterplot of actual vs. pred\n",
    "# specify the dimensions \n",
    "fig, axes = plt.subplots(1,2) # 1 row, 2 columns\n",
    "\n",
    "# this makes the individual subplots\n",
    "# Training Results\n",
    "axes[0].scatter(x=y_train, y=ann.predict(X_train)) #first row, first entry (left top)\n",
    "axes[0].set_xlabel(\"Actual\", fontsize=10)\n",
    "axes[0].set_ylabel(\"Predicted\",  fontsize=10)\n",
    "axes[0].set_title(\"Training\")\n",
    "# add 45 deg line\n",
    "x = np.linspace(*axes[0].get_xlim())\n",
    "axes[0].plot(x, x, color='red')\n",
    "# Validation Results\n",
    "axes[1].scatter(x=y_test, y=ann.predict(X_test)) # first row, second entry (right top)\n",
    "axes[1].set_xlabel(\"Actual\", fontsize=10)\n",
    "axes[1].set_ylabel(\"Predicted\",  fontsize=10)\n",
    "axes[1].set_title(\"Validation\")\n",
    "# add 45 deg line\n",
    "x = np.linspace(*axes[1].get_xlim())\n",
    "axes[1].plot(x, x, color='red')\n",
    "\n",
    "# tight layout\n",
    "fig.tight_layout()\n",
    "\n",
    "# show the plot\n",
    "plt.show()"
   ]
  },
  {
   "cell_type": "code",
   "execution_count": 23,
   "metadata": {
    "colab": {
     "base_uri": "https://localhost:8080/",
     "height": 134
    },
    "colab_type": "code",
    "id": "IA0yApEmBG1X",
    "outputId": "cb981e1f-9204-4a2a-fece-9d66a6919189"
   },
   "outputs": [
    {
     "name": "stdout",
     "output_type": "stream",
     "text": [
      "3/3 [==============================] - 0s 2ms/step\n",
      "[[ 45.51  46.16]\n",
      " [107.86 106.79]\n",
      " [ 70.93  70.49]\n",
      " [ 38.93  38.93]\n",
      " [170.27 169.54]\n",
      " [ 80.31  78.32]\n",
      " [244.43 246.71]\n",
      " [ 66.27  66.54]\n",
      " [172.78 175.25]\n",
      " [117.26 116.92]\n",
      " [183.69 186.47]\n",
      " [ 49.44  54.09]\n",
      " [217.6  216.82]\n",
      " [ 68.23  68.81]\n",
      " [142.11 143.07]\n",
      " [ 76.64  77.36]\n",
      " [ 78.97  78.77]\n",
      " [290.56 296.19]\n",
      " [ 42.44  41.52]\n",
      " [ 69.81  68.5 ]\n",
      " [137.24 136.91]\n",
      " [460.01 465.29]\n",
      " [ 61.26  60.09]\n",
      " [ 28.76  27.95]\n",
      " [ 21.16  20.56]\n",
      " [ 76.4   75.35]\n",
      " [106.2  105.94]\n",
      " [180.79 183.23]\n",
      " [169.88 170.01]\n",
      " [ 30.92  31.03]\n",
      " [ 74.62  74.2 ]\n",
      " [176.46 178.35]\n",
      " [ 61.89  62.9 ]\n",
      " [284.42 284.67]\n",
      " [179.73 179.97]\n",
      " [ 71.13  72.03]\n",
      " [ 20.4   20.64]\n",
      " [289.09 293.22]\n",
      " [194.55 197.24]\n",
      " [144.29 146.06]\n",
      " [ 48.07  48.96]\n",
      " [ 60.44  59.69]\n",
      " [ 50.67  52.22]\n",
      " [ 82.46  82.95]\n",
      " [ 72.45  71.26]\n",
      " [ 73.72  73.68]\n",
      " [ 26.1   25.25]\n",
      " [ 39.63  38.42]\n",
      " [ 54.33  55.88]\n",
      " [ 10.6   10.11]\n",
      " [ 41.89  42.82]\n",
      " [ 36.03  38.8 ]\n",
      " [ 71.8   70.49]\n",
      " [ 35.93  35.03]\n",
      " [ 41.74  41.68]\n",
      " [391.18 392.18]\n",
      " [150.56 150.67]\n",
      " [ 59.01  59.12]\n",
      " [169.22 174.46]\n",
      " [ 80.75  79.63]\n",
      " [ 31.17  31.63]\n",
      " [ 79.    79.86]\n",
      " [215.03 216.48]\n",
      " [ 94.43  95.29]\n",
      " [104.51 105.61]\n",
      " [ 29.09  29.16]\n",
      " [ 14.95  14.92]\n",
      " [102.49 103.92]\n",
      " [ 16.24  15.6 ]\n",
      " [100.6  103.39]\n",
      " [  7.95   6.9 ]\n",
      " [ 76.11  74.79]\n",
      " [378.55 377.38]\n",
      " [ 59.8   59.78]\n",
      " [ 70.72  71.84]\n",
      " [100.17 103.44]\n",
      " [125.47 124.46]\n",
      " [ 15.99  16.36]\n",
      " [ 53.72  55.19]\n",
      " [ 57.55  58.79]\n",
      " [ 83.99  84.79]\n",
      " [ 51.74  52.68]]\n"
     ]
    }
   ],
   "source": [
    "#X_test=np.asarray(X_test).astype(np.int)\n",
    "\n",
    "#y_test=np.asarray(y_test).astype(np.int)\n",
    "\n",
    "y_pred = ann.predict(X_test)\n",
    "np.set_printoptions(precision=2)\n",
    "print(np.concatenate((y_pred.reshape(len(y_pred),1), y_test.reshape(len(y_test),1)),1))"
   ]
  },
  {
   "cell_type": "code",
   "execution_count": 24,
   "metadata": {},
   "outputs": [
    {
     "data": {
      "text/plain": [
       "Text(0, 0.5, 'Predicted data')"
      ]
     },
     "execution_count": 24,
     "metadata": {},
     "output_type": "execute_result"
    },
    {
     "data": {
      "image/png": "[encoded data removed]",
      "text/plain": [
       "<Figure size 432x288 with 1 Axes>"
      ]
     },
     "metadata": {
      "needs_background": "light"
     },
     "output_type": "display_data"
    }
   ],
   "source": [
    "import matplotlib.pyplot as plt\n",
    "plt.scatter(y_test, y_pred, color=\"blue\")\n",
    "plt.plot ([0,400],[0,400], color = \"red\")\n",
    "plt.axis ([0,400,0,400])\n",
    "plt.xlabel ('Actual data')\n",
    "plt.ylabel ('Predicted data')"
   ]
  },
  {
   "cell_type": "code",
   "execution_count": 25,
   "metadata": {},
   "outputs": [
    {
     "data": {
      "image/png": "[encoded data removed]",
      "text/plain": [
       "<Figure size 648x648 with 1 Axes>"
      ]
     },
     "metadata": {
      "needs_background": "light"
     },
     "output_type": "display_data"
    }
   ],
   "source": [
    "from sklearn.metrics import r2_score\n",
    "# Initialize layout\n",
    "fig1, ax1 = plt.subplots(figsize = (9, 9))\n",
    "\n",
    "\n",
    "#y = y_pred         # Model on prvious line is called here\n",
    "#x = y_test\n",
    "\n",
    "\n",
    "\n",
    "# Add scatterplot\n",
    "ax1.scatter(y_test, y_pred, s=70, alpha=1, edgecolors=\"k\",c='mediumblue',zorder=5, label = 'Points')\n",
    "\n",
    "\n",
    "plt.ylabel('Predicted Peak Impulse (Pa.s)',fontsize = 25, fontname='Times New Roman')\n",
    "plt.xlabel('Actual Peak Impulse (Pa.s)',fontsize = 25, fontname='Times New Roman')\n",
    "plt.xticks(fontsize = 20, fontname='Times New Roman')\n",
    "plt.yticks(fontsize = 20, fontname='Times New Roman')\n",
    "\n",
    "\n",
    "x1 = np.linspace(0,4000)\n",
    "\n",
    "plt.plot(x1, x1, 'Red', label='45\\N{DEGREE SIGN} line',lw=2.5,alpha=1)\n",
    "plt.plot(x1, 1.1*x1, '--m', label='\\u00B110% Error',lw=2.5,alpha=0.7)\n",
    "plt.plot(x1, 0.9*x1,'m', linestyle='--',lw=2.5,alpha=0.7)\n",
    "#plt.plot(x1, 1.2*x1, '-.g', label='\\u00B120% Error',lw=2.5,alpha=0.7)\n",
    "#plt.plot(x1, 0.8*x1,'-.g',lw=2.5,alpha=0.7)\n",
    "\n",
    "plt.ylim(0, 400)\n",
    "plt.xlim(0, 400)\n",
    "plt.legend(loc='upper left',prop = {'family' : 'Times New Roman', 'size': 20}, fancybox = False, edgecolor = 'white')\n",
    "\n",
    "plt.grid()\n",
    "\n",
    "ax1.spines['left'].set_color('black')        # setting up Y-axis tick color to red\n",
    "ax1.spines['bottom'].set_color('black')         #setting up above X-axis tick color to red\n",
    "\n",
    "\n",
    "\n",
    "#ax1.annotate(\"$R^2$ = {:.3f}\".format(r2), (2500, 1000),fontsize = 25)  #Model is called here\n",
    "#ax1.annotate(\"Adj.$R^2$ = {:.3f}\".format(adj_r2), (2500, 750),fontsize = 25)\n",
    "\n",
    "#plt.savefig('plot1.png', dpi = 600, bbox_inches = 'tight')"
   ]
  },
  {
   "cell_type": "code",
   "execution_count": 26,
   "metadata": {},
   "outputs": [
    {
     "data": {
      "image/png": "[encoded data removed]",
      "text/plain": [
       "<Figure size 648x648 with 1 Axes>"
      ]
     },
     "metadata": {
      "needs_background": "light"
     },
     "output_type": "display_data"
    }
   ],
   "source": [
    "# Initialize layout\n",
    "fig2, bx = plt.subplots(figsize = (9, 9))\n",
    "\n",
    "\n",
    "\n",
    "# Add scatterplot\n",
    "bx.scatter(y_test, y_pred, s=70, alpha=1, edgecolors=\"k\",c='mediumblue',zorder=5, label = 'Points')\n",
    "\n",
    "\n",
    "\n",
    "\n",
    "plt.ylabel('Predicted Peak Impulse (Pa.s)',fontsize = 25, fontname='Times New Roman')\n",
    "plt.xlabel('Actual Peak Impulse (Pa.s)',fontsize = 25, fontname='Times New Roman')\n",
    "plt.xticks(fontsize = 20, fontname='Times New Roman')\n",
    "plt.yticks(fontsize = 20, fontname='Times New Roman')\n",
    "\n",
    "\n",
    "\n",
    "x1 = np.linspace(0,500)\n",
    "\n",
    "plt.plot(x1, x1, 'Red', label='45\\N{DEGREE SIGN} line',lw=2.5,alpha=1)\n",
    "plt.plot(x1, 1.1*x1, '--m', label='\\u00B110% Error',lw=2.5,alpha=0.7) #\\u00B1\n",
    "plt.plot(x1, 0.9*x1,'m', linestyle='--',lw=2.5,alpha=0.7)\n",
    "#plt.plot(x1, 1.2*x1, '-.g', label='\\u00B120% Error',lw=2.5,alpha=0.7)\n",
    "#plt.plot(x1, 0.8*x1,'-.g',lw=2.5,alpha=0.7)\n",
    "\n",
    "plt.ylim(0, 100)\n",
    "plt.xlim(0, 100)\n",
    "plt.legend(loc='upper left',prop = {'family' : 'Times New Roman', 'size': 20}, fancybox = False, edgecolor = 'white')\n",
    "\n",
    "plt.grid()\n",
    "\n",
    "bx.spines['left'].set_color('black')        # setting up Y-axis tick color to red\n",
    "bx.spines['bottom'].set_color('black')         #setting up above X-axis tick color to red\n",
    "\n",
    "\n",
    "#plt.savefig('plot1.png', dpi = 600, bbox_inches = 'tight')"
   ]
  },
  {
   "cell_type": "code",
   "execution_count": 27,
   "metadata": {},
   "outputs": [
    {
     "name": "stdout",
     "output_type": "stream",
     "text": [
      "12/12 [==============================] - 0s 2ms/step\n",
      "1.0202082932307737\n",
      "1.2256071393760386\n"
     ]
    }
   ],
   "source": [
    "# metrics\n",
    "\n",
    "\n",
    "trainpreds = ann.predict(X_train)\n",
    "\n",
    "from sklearn.metrics import mean_absolute_error\n",
    "print(mean_absolute_error(y_train, trainpreds)) # train\n",
    "print(mean_absolute_error(y_test, y_pred)) # test"
   ]
  },
  {
   "cell_type": "code",
   "execution_count": 28,
   "metadata": {},
   "outputs": [
    {
     "name": "stdout",
     "output_type": "stream",
     "text": [
      "0.9996305148265275\n"
     ]
    }
   ],
   "source": [
    "from sklearn.metrics import r2_score\n",
    "r2 = r2_score(y_test, y_pred)\n",
    "print (r2)"
   ]
  },
  {
   "cell_type": "code",
   "execution_count": 29,
   "metadata": {},
   "outputs": [
    {
     "name": "stdout",
     "output_type": "stream",
     "text": [
      "0.999748879005403\n"
     ]
    }
   ],
   "source": [
    "r2_train = r2_score(y_train, trainpreds)\n",
    "print (r2_train)"
   ]
  },
  {
   "cell_type": "code",
   "execution_count": 30,
   "metadata": {},
   "outputs": [
    {
     "name": "stdout",
     "output_type": "stream",
     "text": [
      "Within 10% margin 98.78%\n",
      "Within 20% margin 100.00%\n",
      "Out of 20% margin 0.00%\n"
     ]
    }
   ],
   "source": [
    "count1 = 0\n",
    "for i in range(len(y_pred)):\n",
    "    line1 = y_pred[i] - 0.9*y_test[i]\n",
    "    line2 = y_pred[i] - 1.1*y_test[i]\n",
    "    #print ('line 1 ', line1)\n",
    "    #print ('line 2 ', line2)\n",
    "    mask1 = (line1 > 0) & (line2 < 0)\n",
    "    #print (mask)\n",
    "    count1 = np.sum(mask1+count1)\n",
    "    #print (count)\n",
    "\n",
    "count2 = 0\n",
    "for j in range(len(y_pred)):\n",
    "    line3 = y_pred[j] - 0.8*y_test[j]\n",
    "    line4 = y_pred[j] - 1.2*y_test[j]\n",
    "    mask2 = (line3 > 0) & (line4 < 0)\n",
    "    count2 = np.sum(mask2+count2)\n",
    "\n",
    "\n",
    "count3 = 0    \n",
    "for k in range(len(y_pred)):\n",
    "    line5 = y_pred[k] - 0.8*y_test[k]\n",
    "    line6 = y_pred[k] - 1.2*y_test[k]\n",
    "    mask3 = (line5 < 0) or (line6 > 0)\n",
    "    count3 = np.sum(mask3+count3)\n",
    "   \n",
    "\n",
    "print ('Within 10% margin', format((count1/len (y_pred)),'.2%'))\n",
    "print ('Within 20% margin', format((count2/len (y_pred)),'.2%'))\n",
    "print ('Out of 20% margin', format((count3/len (y_pred)),'.2%'))"
   ]
  },
  {
   "cell_type": "code",
   "execution_count": 31,
   "metadata": {},
   "outputs": [
    {
     "name": "stdout",
     "output_type": "stream",
     "text": [
      "0.9996113207915419\n"
     ]
    }
   ],
   "source": [
    "adj_r2 = 1 - ((1 - r2) * (len(X_test) - 1) / (len(X_test) - len (X_test[0]) - 1))\n",
    "print (adj_r2)"
   ]
  },
  {
   "cell_type": "code",
   "execution_count": 32,
   "metadata": {},
   "outputs": [
    {
     "data": {
      "text/plain": [
       "1.7223792700934857"
      ]
     },
     "execution_count": 32,
     "metadata": {},
     "output_type": "execute_result"
    }
   ],
   "source": [
    "import math\n",
    "from sklearn.metrics import mean_squared_error\n",
    "\n",
    "math.sqrt(mean_squared_error(y_test, y_pred))"
   ]
  },
  {
   "cell_type": "code",
   "execution_count": 33,
   "metadata": {},
   "outputs": [
    {
     "data": {
      "text/plain": [
       "1.2256071393760386"
      ]
     },
     "execution_count": 33,
     "metadata": {},
     "output_type": "execute_result"
    }
   ],
   "source": [
    "from sklearn.metrics import mean_absolute_error\n",
    "\n",
    "mean_absolute_error(y_test, y_pred)"
   ]
  }
 ],
 "metadata": {
  "colab": {
   "collapsed_sections": [],
   "name": "Artificial Neural Network",
   "provenance": [],
   "toc_visible": true
  },
  "kernelspec": {
   "display_name": "Python 3 (ipykernel)",
   "language": "python",
   "name": "python3"
  },
  "language_info": {
   "codemirror_mode": {
    "name": "ipython",
    "version": 3
   },
   "file_extension": ".py",
   "mimetype": "text/x-python",
   "name": "python",
   "nbconvert_exporter": "python",
   "pygments_lexer": "ipython3",
   "version": "3.9.7"
  }
 },
 "nbformat": 4,
 "nbformat_minor": 4
}
