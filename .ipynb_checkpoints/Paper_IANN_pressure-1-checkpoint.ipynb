{
 "cells": [
  {
   "cell_type": "markdown",
   "metadata": {
    "colab_type": "text",
    "id": "3cbb7fRy-eyr"
   },
   "source": [
    "# Artificial Neural Network"
   ]
  },
  {
   "cell_type": "markdown",
   "metadata": {
    "colab_type": "text",
    "id": "8sNDnxE2-pwE"
   },
   "source": [
    "### Importing the libraries"
   ]
  },
  {
   "cell_type": "code",
   "execution_count": 1,
   "metadata": {
    "colab": {},
    "colab_type": "code",
    "id": "lxChR1Rk-umf"
   },
   "outputs": [],
   "source": [
    "import numpy as np\n",
    "import pandas as pd\n",
    "import tensorflow as tf"
   ]
  },
  {
   "cell_type": "markdown",
   "metadata": {
    "colab_type": "text",
    "id": "AG3FQEch-yuA"
   },
   "source": [
    "## Part 1 - Data Preprocessing"
   ]
  },
  {
   "cell_type": "markdown",
   "metadata": {
    "colab_type": "text",
    "id": "-4zq8Mza_D9O",
    "tags": []
   },
   "source": [
    "### Importing the dataset"
   ]
  },
  {
   "cell_type": "code",
   "execution_count": 4,
   "metadata": {
    "colab": {},
    "colab_type": "code",
    "id": "B9CV13Co_HHM"
   },
   "outputs": [
    {
     "name": "stdout",
     "output_type": "stream",
     "text": [
      "<class 'pandas.core.frame.DataFrame'>\n",
      "RangeIndex: 546 entries, 0 to 545\n",
      "Data columns (total 4 columns):\n",
      " #   Column             Non-Null Count  Dtype  \n",
      "---  ------             --------------  -----  \n",
      " 0   Charge_type        546 non-null    object \n",
      " 1   Charge_size        546 non-null    float64\n",
      " 2   Standoff_distance  546 non-null    float64\n",
      " 3   Impulse            546 non-null    float64\n",
      "dtypes: float64(3), object(1)\n",
      "memory usage: 17.2+ KB\n"
     ]
    }
   ],
   "source": [
    "dataset = pd.read_excel('IDataset1.xlsx')\n",
    "dataset.info()"
   ]
  },
  {
   "cell_type": "code",
   "execution_count": 5,
   "metadata": {},
   "outputs": [
    {
     "name": "stdout",
     "output_type": "stream",
     "text": [
      "<class 'pandas.core.frame.DataFrame'>\n",
      "RangeIndex: 546 entries, 0 to 545\n",
      "Data columns (total 5 columns):\n",
      " #   Column             Non-Null Count  Dtype  \n",
      "---  ------             --------------  -----  \n",
      " 0   Charge_size        546 non-null    float64\n",
      " 1   Standoff_distance  546 non-null    float64\n",
      " 2   Impulse            546 non-null    float64\n",
      " 3   Charge_type_CompB  546 non-null    uint8  \n",
      " 4   Charge_type_TNT    546 non-null    uint8  \n",
      "dtypes: float64(3), uint8(2)\n",
      "memory usage: 14.0 KB\n"
     ]
    }
   ],
   "source": [
    "# convert categorical variable into dummy variables\n",
    "dataset = pd.get_dummies(dataset, columns=['Charge_type'])\n",
    "dataset.info()"
   ]
  },
  {
   "cell_type": "code",
   "execution_count": 7,
   "metadata": {},
   "outputs": [
    {
     "data": {
      "text/html": [
       "<div>\n",
       "<style scoped>\n",
       "    .dataframe tbody tr th:only-of-type {\n",
       "        vertical-align: middle;\n",
       "    }\n",
       "\n",
       "    .dataframe tbody tr th {\n",
       "        vertical-align: top;\n",
       "    }\n",
       "\n",
       "    .dataframe thead th {\n",
       "        text-align: right;\n",
       "    }\n",
       "</style>\n",
       "<table border=\"1\" class=\"dataframe\">\n",
       "  <thead>\n",
       "    <tr style=\"text-align: right;\">\n",
       "      <th></th>\n",
       "      <th>Charge_size</th>\n",
       "      <th>Standoff_distance</th>\n",
       "      <th>Impulse</th>\n",
       "      <th>Charge_type_CompB</th>\n",
       "      <th>Charge_type_TNT</th>\n",
       "    </tr>\n",
       "  </thead>\n",
       "  <tbody>\n",
       "    <tr>\n",
       "      <th>0</th>\n",
       "      <td>0.5</td>\n",
       "      <td>1.5</td>\n",
       "      <td>58.168617</td>\n",
       "      <td>0</td>\n",
       "      <td>1</td>\n",
       "    </tr>\n",
       "    <tr>\n",
       "      <th>1</th>\n",
       "      <td>0.5</td>\n",
       "      <td>2.5</td>\n",
       "      <td>38.798874</td>\n",
       "      <td>0</td>\n",
       "      <td>1</td>\n",
       "    </tr>\n",
       "    <tr>\n",
       "      <th>2</th>\n",
       "      <td>0.5</td>\n",
       "      <td>3.5</td>\n",
       "      <td>28.473915</td>\n",
       "      <td>0</td>\n",
       "      <td>1</td>\n",
       "    </tr>\n",
       "    <tr>\n",
       "      <th>3</th>\n",
       "      <td>0.5</td>\n",
       "      <td>4.5</td>\n",
       "      <td>22.343452</td>\n",
       "      <td>0</td>\n",
       "      <td>1</td>\n",
       "    </tr>\n",
       "    <tr>\n",
       "      <th>4</th>\n",
       "      <td>0.5</td>\n",
       "      <td>5.5</td>\n",
       "      <td>18.326342</td>\n",
       "      <td>0</td>\n",
       "      <td>1</td>\n",
       "    </tr>\n",
       "  </tbody>\n",
       "</table>\n",
       "</div>"
      ],
      "text/plain": [
       "   Charge_size  Standoff_distance    Impulse  Charge_type_CompB  \\\n",
       "0          0.5                1.5  58.168617                  0   \n",
       "1          0.5                2.5  38.798874                  0   \n",
       "2          0.5                3.5  28.473915                  0   \n",
       "3          0.5                4.5  22.343452                  0   \n",
       "4          0.5                5.5  18.326342                  0   \n",
       "\n",
       "   Charge_type_TNT  \n",
       "0                1  \n",
       "1                1  \n",
       "2                1  \n",
       "3                1  \n",
       "4                1  "
      ]
     },
     "execution_count": 7,
     "metadata": {},
     "output_type": "execute_result"
    }
   ],
   "source": [
    "dataset.head()"
   ]
  },
  {
   "cell_type": "code",
   "execution_count": 8,
   "metadata": {},
   "outputs": [
    {
     "name": "stdout",
     "output_type": "stream",
     "text": [
      "(546, 4) (546,)\n"
     ]
    }
   ],
   "source": [
    "y = dataset['Impulse']\n",
    "X = dataset.drop('Impulse', axis=1)\n",
    "print(X.shape, y.shape)"
   ]
  },
  {
   "cell_type": "code",
   "execution_count": 9,
   "metadata": {},
   "outputs": [],
   "source": [
    "# convert to numpy array\n",
    "X = np.array(X)\n",
    "y = np.array(y)"
   ]
  },
  {
   "cell_type": "markdown",
   "metadata": {
    "colab_type": "text",
    "id": "VC6omXel_Up0"
   },
   "source": [
    "### Splitting the dataset into the Training set and Test set"
   ]
  },
  {
   "cell_type": "code",
   "execution_count": 11,
   "metadata": {
    "colab": {},
    "colab_type": "code",
    "id": "L5edeb2r_agx"
   },
   "outputs": [],
   "source": [
    "from sklearn.model_selection import train_test_split\n",
    "X_train, X_test, y_train, y_test = train_test_split(X, y, test_size = 0.3, random_state = 0)\n",
    "X_val, X_test, y_val, y_test = train_test_split(X_test, y_test, test_size = 0.5, random_state = 0)"
   ]
  },
  {
   "cell_type": "code",
   "execution_count": 12,
   "metadata": {},
   "outputs": [
    {
     "name": "stdout",
     "output_type": "stream",
     "text": [
      "Train 382 382\n",
      "Test 82 82\n",
      "Val 82 82\n"
     ]
    }
   ],
   "source": [
    "print (\"Train\",len(X_train), len(y_train))\n",
    "print (\"Test\",len(X_test), len(y_test))\n",
    "print (\"Val\",len(X_val), len(y_val))"
   ]
  },
  {
   "cell_type": "markdown",
   "metadata": {
    "colab_type": "text",
    "id": "_mSLlAT9_eyI"
   },
   "source": [
    "## Part 2 - Building the ANN"
   ]
  },
  {
   "cell_type": "markdown",
   "metadata": {
    "colab_type": "text",
    "id": "CsBULd_f_wLY"
   },
   "source": [
    "### Initializing the ANN"
   ]
  },
  {
   "cell_type": "code",
   "execution_count": 13,
   "metadata": {
    "colab": {},
    "colab_type": "code",
    "id": "J6Hd97Ls__Nz"
   },
   "outputs": [],
   "source": [
    "ann = tf.keras.models.Sequential()"
   ]
  },
  {
   "cell_type": "markdown",
   "metadata": {
    "colab_type": "text",
    "id": "iitAFJS_ABUn"
   },
   "source": [
    "### Adding the input layer and the first hidden layer"
   ]
  },
  {
   "cell_type": "code",
   "execution_count": 14,
   "metadata": {
    "colab": {},
    "colab_type": "code",
    "id": "ksO_Vv40AHix"
   },
   "outputs": [],
   "source": [
    "ann.add(tf.keras.layers.Dense(units=300, input_shape=(X_train.shape[1],), activation='relu'))"
   ]
  },
  {
   "cell_type": "markdown",
   "metadata": {
    "colab_type": "text",
    "id": "-lb4kK_wAKbs"
   },
   "source": [
    "### Adding the second hidden layer"
   ]
  },
  {
   "cell_type": "code",
   "execution_count": 15,
   "metadata": {
    "colab": {},
    "colab_type": "code",
    "id": "c2357OqEAQOQ",
    "tags": []
   },
   "outputs": [],
   "source": [
    "ann.add(tf.keras.layers.Dense(units=175, activation='relu'))"
   ]
  },
  {
   "cell_type": "markdown",
   "metadata": {
    "colab_type": "text",
    "id": "-lb4kK_wAKbs",
    "tags": []
   },
   "source": [
    "### Adding the third hidden layer"
   ]
  },
  {
   "cell_type": "code",
   "execution_count": 16,
   "metadata": {
    "colab": {},
    "colab_type": "code",
    "id": "c2357OqEAQOQ",
    "tags": []
   },
   "outputs": [],
   "source": [
    "ann.add(tf.keras.layers.Dense(units=50, activation='relu'))"
   ]
  },
  {
   "cell_type": "markdown",
   "metadata": {
    "colab_type": "text",
    "id": "jwMOmKb3AdBY"
   },
   "source": [
    "### Adding the output layer"
   ]
  },
  {
   "cell_type": "code",
   "execution_count": 17,
   "metadata": {
    "colab": {},
    "colab_type": "code",
    "id": "YFATpzsUAkLL"
   },
   "outputs": [],
   "source": [
    "ann.add(tf.keras.layers.Dense(units=1, activation='linear'))"
   ]
  },
  {
   "cell_type": "markdown",
   "metadata": {},
   "source": [
    "### what model looks like"
   ]
  },
  {
   "cell_type": "code",
   "execution_count": 18,
   "metadata": {},
   "outputs": [
    {
     "name": "stdout",
     "output_type": "stream",
     "text": [
      "Model: \"sequential\"\n",
      "_________________________________________________________________\n",
      " Layer (type)                Output Shape              Param #   \n",
      "=================================================================\n",
      " dense (Dense)               (None, 300)               1500      \n",
      "                                                                 \n",
      " dense_1 (Dense)             (None, 175)               52675     \n",
      "                                                                 \n",
      " dense_2 (Dense)             (None, 50)                8800      \n",
      "                                                                 \n",
      " dense_3 (Dense)             (None, 1)                 51        \n",
      "                                                                 \n",
      "=================================================================\n",
      "Total params: 63,026\n",
      "Trainable params: 63,026\n",
      "Non-trainable params: 0\n",
      "_________________________________________________________________\n"
     ]
    }
   ],
   "source": [
    "ann.summary()"
   ]
  },
  {
   "cell_type": "markdown",
   "metadata": {
    "colab_type": "text",
    "id": "fq7e4fF6A1yy"
   },
   "source": [
    "## Part 3 - Training the ANN"
   ]
  },
  {
   "cell_type": "markdown",
   "metadata": {
    "colab_type": "text",
    "id": "qDeylAs2An25"
   },
   "source": [
    "### Compiling the ANN"
   ]
  },
  {
   "cell_type": "code",
   "execution_count": 19,
   "metadata": {
    "colab": {},
    "colab_type": "code",
    "id": "pesgbWlCAtB4"
   },
   "outputs": [],
   "source": [
    "from tensorflow.keras.optimizers import Nadam\n",
    "opt = Nadam(learning_rate=0.001)\n",
    "ann.compile(optimizer = opt, loss = 'mean_squared_error', metrics = ['mae'])"
   ]
  },
  {
   "cell_type": "markdown",
   "metadata": {},
   "source": [
    "### early stopping callback"
   ]
  },
  {
   "cell_type": "code",
   "execution_count": 20,
   "metadata": {},
   "outputs": [],
   "source": [
    "# protects from unnecessary further training of the model if a particular metric does not continue to improve over a number of n epochs. In such a case, the model training would be automatically aborted.\n",
    "from keras.callbacks import EarlyStopping\n",
    "es = EarlyStopping(monitor='val_loss',\n",
    "                   mode='min',\n",
    "                   patience=50,\n",
    "                   restore_best_weights = True)"
   ]
  },
  {
   "cell_type": "markdown",
   "metadata": {
    "colab_type": "text",
    "id": "YjVuiybYOo7r"
   },
   "source": [
    "### Training the ANN model on the Training set"
   ]
  },
  {
   "cell_type": "code",
   "execution_count": 21,
   "metadata": {
    "colab": {
     "base_uri": "https://localhost:8080/",
     "height": 1000
    },
    "colab_type": "code",
    "id": "c_vV-tiiA5zn",
    "outputId": "4a2b6ee6-ed75-4698-9069-b250e613803f"
   },
   "outputs": [
    {
     "name": "stdout",
     "output_type": "stream",
     "text": [
      "Epoch 1/550\n",
      "20/20 [==============================] - 1s 11ms/step - loss: 17241.9023 - mae: 94.9496 - val_loss: 8936.8096 - val_mae: 60.2421\n",
      "Epoch 2/550\n",
      "20/20 [==============================] - 0s 4ms/step - loss: 8878.8125 - mae: 63.9752 - val_loss: 5039.3350 - val_mae: 45.6598\n",
      "Epoch 3/550\n",
      "20/20 [==============================] - 0s 4ms/step - loss: 5752.1455 - mae: 51.5404 - val_loss: 3313.5273 - val_mae: 40.7378\n",
      "Epoch 4/550\n",
      "20/20 [==============================] - 0s 4ms/step - loss: 3982.5500 - mae: 45.0620 - val_loss: 2323.1108 - val_mae: 34.3232\n",
      "Epoch 5/550\n",
      "20/20 [==============================] - 0s 4ms/step - loss: 3062.0122 - mae: 39.6864 - val_loss: 1779.2245 - val_mae: 30.4231\n",
      "Epoch 6/550\n",
      "20/20 [==============================] - 0s 4ms/step - loss: 2526.6968 - mae: 34.4330 - val_loss: 1610.9785 - val_mae: 30.0439\n",
      "Epoch 7/550\n",
      "20/20 [==============================] - 0s 4ms/step - loss: 2250.9070 - mae: 32.8332 - val_loss: 1365.9062 - val_mae: 27.7131\n",
      "Epoch 8/550\n",
      "20/20 [==============================] - 0s 4ms/step - loss: 1928.8745 - mae: 29.8095 - val_loss: 4561.7041 - val_mae: 45.0466\n",
      "Epoch 9/550\n",
      "20/20 [==============================] - 0s 4ms/step - loss: 2125.8762 - mae: 30.7543 - val_loss: 1121.1511 - val_mae: 25.5789\n",
      "Epoch 10/550\n",
      "20/20 [==============================] - 0s 4ms/step - loss: 1584.6803 - mae: 26.5832 - val_loss: 893.9886 - val_mae: 21.8891\n",
      "Epoch 11/550\n",
      "20/20 [==============================] - 0s 5ms/step - loss: 1331.9634 - mae: 23.6284 - val_loss: 734.9799 - val_mae: 19.0850\n",
      "Epoch 12/550\n",
      "20/20 [==============================] - 0s 5ms/step - loss: 1129.1892 - mae: 21.8188 - val_loss: 697.2073 - val_mae: 19.2179\n",
      "Epoch 13/550\n",
      "20/20 [==============================] - 0s 5ms/step - loss: 961.6750 - mae: 19.0363 - val_loss: 473.3024 - val_mae: 13.5632\n",
      "Epoch 14/550\n",
      "20/20 [==============================] - 0s 4ms/step - loss: 801.1101 - mae: 16.7133 - val_loss: 937.4426 - val_mae: 20.7809\n",
      "Epoch 15/550\n",
      "20/20 [==============================] - 0s 4ms/step - loss: 774.7993 - mae: 16.5818 - val_loss: 370.8289 - val_mae: 10.9061\n",
      "Epoch 16/550\n",
      "20/20 [==============================] - 0s 4ms/step - loss: 623.6329 - mae: 14.3764 - val_loss: 948.4319 - val_mae: 23.4425\n",
      "Epoch 17/550\n",
      "20/20 [==============================] - 0s 4ms/step - loss: 638.0189 - mae: 14.6790 - val_loss: 282.8466 - val_mae: 9.5612\n",
      "Epoch 18/550\n",
      "20/20 [==============================] - 0s 5ms/step - loss: 559.7635 - mae: 13.2598 - val_loss: 250.9708 - val_mae: 9.0764\n",
      "Epoch 19/550\n",
      "20/20 [==============================] - 0s 5ms/step - loss: 493.1160 - mae: 11.9244 - val_loss: 231.1369 - val_mae: 8.6741\n",
      "Epoch 20/550\n",
      "20/20 [==============================] - 0s 5ms/step - loss: 504.9787 - mae: 12.4129 - val_loss: 1215.0905 - val_mae: 25.8669\n",
      "Epoch 21/550\n",
      "20/20 [==============================] - 0s 4ms/step - loss: 532.2316 - mae: 12.2104 - val_loss: 246.7159 - val_mae: 9.1590\n",
      "Epoch 22/550\n",
      "20/20 [==============================] - 0s 5ms/step - loss: 441.9352 - mae: 12.1133 - val_loss: 201.7207 - val_mae: 8.7975\n",
      "Epoch 23/550\n",
      "20/20 [==============================] - 0s 5ms/step - loss: 393.8039 - mae: 10.9790 - val_loss: 167.0459 - val_mae: 6.9007\n",
      "Epoch 24/550\n",
      "20/20 [==============================] - 0s 4ms/step - loss: 411.4258 - mae: 11.1028 - val_loss: 178.2510 - val_mae: 7.5011\n",
      "Epoch 25/550\n",
      "20/20 [==============================] - 0s 4ms/step - loss: 414.3057 - mae: 11.1038 - val_loss: 255.7078 - val_mae: 10.0444\n",
      "Epoch 26/550\n",
      "20/20 [==============================] - 0s 4ms/step - loss: 385.7893 - mae: 10.4105 - val_loss: 151.1542 - val_mae: 6.6001\n",
      "Epoch 27/550\n",
      "20/20 [==============================] - 0s 4ms/step - loss: 371.8514 - mae: 10.3385 - val_loss: 137.3118 - val_mae: 6.0639\n",
      "Epoch 28/550\n",
      "20/20 [==============================] - 0s 4ms/step - loss: 377.7727 - mae: 9.8903 - val_loss: 137.0433 - val_mae: 5.8153\n",
      "Epoch 29/550\n",
      "20/20 [==============================] - 0s 4ms/step - loss: 333.4270 - mae: 9.4119 - val_loss: 305.5354 - val_mae: 11.9134\n",
      "Epoch 30/550\n",
      "20/20 [==============================] - 0s 5ms/step - loss: 351.8700 - mae: 9.6488 - val_loss: 136.8279 - val_mae: 6.7401\n",
      "Epoch 31/550\n",
      "20/20 [==============================] - 0s 5ms/step - loss: 339.3727 - mae: 9.1423 - val_loss: 188.2663 - val_mae: 7.5431\n",
      "Epoch 32/550\n",
      "20/20 [==============================] - 0s 3ms/step - loss: 320.2500 - mae: 8.9524 - val_loss: 144.0398 - val_mae: 6.6260\n",
      "Epoch 33/550\n",
      "20/20 [==============================] - 0s 7ms/step - loss: 349.1457 - mae: 9.5724 - val_loss: 193.8897 - val_mae: 10.2592\n",
      "Epoch 34/550\n",
      "20/20 [==============================] - 0s 4ms/step - loss: 318.9772 - mae: 9.0884 - val_loss: 3433.9417 - val_mae: 42.2193\n",
      "Epoch 35/550\n",
      "20/20 [==============================] - 0s 4ms/step - loss: 823.5635 - mae: 13.9756 - val_loss: 189.8101 - val_mae: 8.3120\n",
      "Epoch 36/550\n",
      "20/20 [==============================] - 0s 4ms/step - loss: 323.0919 - mae: 8.9412 - val_loss: 663.6997 - val_mae: 20.1933\n",
      "Epoch 37/550\n",
      "20/20 [==============================] - 0s 5ms/step - loss: 349.1938 - mae: 9.6206 - val_loss: 615.5225 - val_mae: 19.1873\n",
      "Epoch 38/550\n",
      "20/20 [==============================] - 0s 4ms/step - loss: 361.2426 - mae: 9.7482 - val_loss: 125.2187 - val_mae: 5.8677\n",
      "Epoch 39/550\n",
      "20/20 [==============================] - 0s 4ms/step - loss: 280.8211 - mae: 7.8821 - val_loss: 118.6343 - val_mae: 5.2712\n",
      "Epoch 40/550\n",
      "20/20 [==============================] - 0s 4ms/step - loss: 263.7126 - mae: 7.7090 - val_loss: 134.4687 - val_mae: 6.3477\n",
      "Epoch 41/550\n",
      "20/20 [==============================] - 0s 5ms/step - loss: 307.6914 - mae: 9.0142 - val_loss: 114.9871 - val_mae: 5.3696\n",
      "Epoch 42/550\n",
      "20/20 [==============================] - 0s 4ms/step - loss: 294.9432 - mae: 8.9295 - val_loss: 114.9211 - val_mae: 5.5542\n",
      "Epoch 43/550\n",
      "20/20 [==============================] - 0s 4ms/step - loss: 253.2562 - mae: 7.4046 - val_loss: 104.4297 - val_mae: 4.4186\n",
      "Epoch 44/550\n",
      "20/20 [==============================] - 0s 5ms/step - loss: 258.1802 - mae: 7.6063 - val_loss: 109.5274 - val_mae: 4.6777\n",
      "Epoch 45/550\n",
      "20/20 [==============================] - 0s 5ms/step - loss: 258.6953 - mae: 7.8705 - val_loss: 106.6956 - val_mae: 4.7393\n",
      "Epoch 46/550\n",
      "20/20 [==============================] - 0s 4ms/step - loss: 243.3786 - mae: 6.6401 - val_loss: 103.7994 - val_mae: 4.3494\n",
      "Epoch 47/550\n",
      "20/20 [==============================] - 0s 5ms/step - loss: 250.9865 - mae: 7.3950 - val_loss: 110.4220 - val_mae: 5.2543\n",
      "Epoch 48/550\n",
      "20/20 [==============================] - 0s 5ms/step - loss: 275.3926 - mae: 8.0791 - val_loss: 155.6884 - val_mae: 9.3214\n",
      "Epoch 49/550\n",
      "20/20 [==============================] - 0s 5ms/step - loss: 260.0868 - mae: 7.5262 - val_loss: 193.8050 - val_mae: 10.4611\n",
      "Epoch 50/550\n",
      "20/20 [==============================] - 0s 5ms/step - loss: 255.1012 - mae: 7.8363 - val_loss: 100.1172 - val_mae: 4.2469\n",
      "Epoch 51/550\n",
      "20/20 [==============================] - 0s 5ms/step - loss: 241.4352 - mae: 6.9027 - val_loss: 136.1846 - val_mae: 7.8158\n",
      "Epoch 52/550\n",
      "20/20 [==============================] - 0s 5ms/step - loss: 341.7253 - mae: 9.4970 - val_loss: 103.2971 - val_mae: 5.1156\n",
      "Epoch 53/550\n",
      "20/20 [==============================] - 0s 5ms/step - loss: 253.9745 - mae: 7.8445 - val_loss: 125.7462 - val_mae: 5.6805\n",
      "Epoch 54/550\n",
      "20/20 [==============================] - 0s 5ms/step - loss: 262.5239 - mae: 7.8181 - val_loss: 103.0428 - val_mae: 4.2774\n",
      "Epoch 55/550\n",
      "20/20 [==============================] - 0s 4ms/step - loss: 236.4094 - mae: 7.0867 - val_loss: 103.4941 - val_mae: 5.0183\n",
      "Epoch 56/550\n",
      "20/20 [==============================] - 0s 4ms/step - loss: 283.3255 - mae: 8.6553 - val_loss: 113.3172 - val_mae: 6.1108\n",
      "Epoch 57/550\n",
      "20/20 [==============================] - 0s 4ms/step - loss: 249.2814 - mae: 7.2477 - val_loss: 2385.0168 - val_mae: 44.7664\n",
      "Epoch 58/550\n",
      "20/20 [==============================] - 0s 4ms/step - loss: 417.3605 - mae: 11.9792 - val_loss: 657.1489 - val_mae: 18.2852\n",
      "Epoch 59/550\n",
      "20/20 [==============================] - 0s 5ms/step - loss: 292.4817 - mae: 8.5089 - val_loss: 112.2478 - val_mae: 6.2441\n",
      "Epoch 60/550\n",
      "20/20 [==============================] - 0s 5ms/step - loss: 239.5812 - mae: 7.4043 - val_loss: 98.1401 - val_mae: 4.5697\n",
      "Epoch 61/550\n",
      "20/20 [==============================] - 0s 4ms/step - loss: 236.2642 - mae: 7.1681 - val_loss: 102.4760 - val_mae: 5.0799\n",
      "Epoch 62/550\n",
      "20/20 [==============================] - 0s 5ms/step - loss: 231.0856 - mae: 6.8815 - val_loss: 117.6189 - val_mae: 5.3440\n",
      "Epoch 63/550\n",
      "20/20 [==============================] - 0s 4ms/step - loss: 231.4884 - mae: 6.7358 - val_loss: 107.8017 - val_mae: 5.0114\n",
      "Epoch 64/550\n",
      "20/20 [==============================] - 0s 4ms/step - loss: 236.3834 - mae: 7.0368 - val_loss: 105.6464 - val_mae: 4.7882\n",
      "Epoch 65/550\n",
      "20/20 [==============================] - 0s 4ms/step - loss: 226.5985 - mae: 6.4683 - val_loss: 433.8415 - val_mae: 17.2190\n",
      "Epoch 66/550\n",
      "20/20 [==============================] - 0s 5ms/step - loss: 243.4821 - mae: 7.8688 - val_loss: 158.5882 - val_mae: 8.5886\n",
      "Epoch 67/550\n",
      "20/20 [==============================] - 0s 7ms/step - loss: 225.8635 - mae: 6.5762 - val_loss: 116.0441 - val_mae: 5.7531\n",
      "Epoch 68/550\n",
      "20/20 [==============================] - 0s 4ms/step - loss: 267.2911 - mae: 7.5516 - val_loss: 749.1238 - val_mae: 19.6941\n",
      "Epoch 69/550\n",
      "20/20 [==============================] - 0s 4ms/step - loss: 317.3072 - mae: 8.3762 - val_loss: 167.8399 - val_mae: 6.9389\n",
      "Epoch 70/550\n",
      "20/20 [==============================] - 0s 4ms/step - loss: 217.0232 - mae: 6.3471 - val_loss: 208.9183 - val_mae: 7.9538\n",
      "Epoch 71/550\n",
      "20/20 [==============================] - 0s 4ms/step - loss: 217.7185 - mae: 6.9910 - val_loss: 310.6630 - val_mae: 11.6652\n",
      "Epoch 72/550\n",
      "20/20 [==============================] - 0s 4ms/step - loss: 242.0458 - mae: 7.1033 - val_loss: 255.4196 - val_mae: 11.9567\n",
      "Epoch 73/550\n",
      "20/20 [==============================] - 0s 6ms/step - loss: 216.9607 - mae: 6.4724 - val_loss: 93.2118 - val_mae: 4.9300\n",
      "Epoch 74/550\n",
      "20/20 [==============================] - 0s 5ms/step - loss: 219.2453 - mae: 6.7206 - val_loss: 138.2653 - val_mae: 6.0711\n",
      "Epoch 75/550\n",
      "20/20 [==============================] - 0s 5ms/step - loss: 212.5175 - mae: 6.6935 - val_loss: 737.5038 - val_mae: 18.8544\n",
      "Epoch 76/550\n",
      "20/20 [==============================] - 0s 5ms/step - loss: 317.0981 - mae: 7.8195 - val_loss: 93.7671 - val_mae: 4.7850\n",
      "Epoch 77/550\n",
      "20/20 [==============================] - 0s 5ms/step - loss: 214.7307 - mae: 6.2823 - val_loss: 163.8998 - val_mae: 8.3898\n",
      "Epoch 78/550\n",
      "20/20 [==============================] - 0s 4ms/step - loss: 209.3437 - mae: 6.8819 - val_loss: 97.2648 - val_mae: 4.3155\n",
      "Epoch 79/550\n",
      "20/20 [==============================] - 0s 4ms/step - loss: 204.6225 - mae: 6.2996 - val_loss: 1412.8007 - val_mae: 27.4808\n",
      "Epoch 80/550\n",
      "20/20 [==============================] - 0s 4ms/step - loss: 361.0357 - mae: 9.7268 - val_loss: 98.7249 - val_mae: 4.9380\n",
      "Epoch 81/550\n",
      "20/20 [==============================] - 0s 5ms/step - loss: 210.0539 - mae: 6.3187 - val_loss: 86.7320 - val_mae: 3.8948\n",
      "Epoch 82/550\n",
      "20/20 [==============================] - 0s 5ms/step - loss: 181.8446 - mae: 5.4913 - val_loss: 292.2665 - val_mae: 11.9243\n",
      "Epoch 83/550\n",
      "20/20 [==============================] - 0s 5ms/step - loss: 194.4598 - mae: 6.3440 - val_loss: 135.8089 - val_mae: 7.5158\n",
      "Epoch 84/550\n",
      "20/20 [==============================] - 0s 5ms/step - loss: 194.8908 - mae: 6.3147 - val_loss: 132.0251 - val_mae: 7.0813\n",
      "Epoch 85/550\n",
      "20/20 [==============================] - 0s 5ms/step - loss: 209.7652 - mae: 7.1290 - val_loss: 90.6497 - val_mae: 4.7810\n",
      "Epoch 86/550\n",
      "20/20 [==============================] - 0s 5ms/step - loss: 193.7613 - mae: 6.2559 - val_loss: 99.4302 - val_mae: 6.0633\n",
      "Epoch 87/550\n",
      "20/20 [==============================] - 0s 5ms/step - loss: 195.2413 - mae: 6.5537 - val_loss: 93.8240 - val_mae: 4.1462\n",
      "Epoch 88/550\n",
      "20/20 [==============================] - 0s 4ms/step - loss: 227.7248 - mae: 7.3858 - val_loss: 84.4846 - val_mae: 4.4830\n",
      "Epoch 89/550\n",
      "20/20 [==============================] - 0s 4ms/step - loss: 183.9566 - mae: 6.3861 - val_loss: 93.6701 - val_mae: 5.1926\n",
      "Epoch 90/550\n",
      "20/20 [==============================] - 0s 4ms/step - loss: 211.5320 - mae: 7.1213 - val_loss: 185.8815 - val_mae: 7.9143\n",
      "Epoch 91/550\n",
      "20/20 [==============================] - 0s 4ms/step - loss: 201.4231 - mae: 6.7670 - val_loss: 152.5299 - val_mae: 5.8024\n",
      "Epoch 92/550\n",
      "20/20 [==============================] - 0s 4ms/step - loss: 247.8853 - mae: 7.4385 - val_loss: 107.5126 - val_mae: 5.2761\n",
      "Epoch 93/550\n",
      "20/20 [==============================] - 0s 5ms/step - loss: 201.7100 - mae: 6.4225 - val_loss: 84.9350 - val_mae: 4.5472\n",
      "Epoch 94/550\n",
      "20/20 [==============================] - 0s 5ms/step - loss: 194.2136 - mae: 6.1688 - val_loss: 117.1282 - val_mae: 5.3785\n",
      "Epoch 95/550\n",
      "20/20 [==============================] - 0s 4ms/step - loss: 191.2204 - mae: 6.0895 - val_loss: 89.8311 - val_mae: 4.6909\n",
      "Epoch 96/550\n",
      "20/20 [==============================] - 0s 5ms/step - loss: 190.3249 - mae: 6.4244 - val_loss: 92.7595 - val_mae: 4.2572\n",
      "Epoch 97/550\n",
      "20/20 [==============================] - 0s 5ms/step - loss: 183.7307 - mae: 6.1563 - val_loss: 238.4509 - val_mae: 11.7157\n",
      "Epoch 98/550\n",
      "20/20 [==============================] - 0s 4ms/step - loss: 198.7326 - mae: 6.7880 - val_loss: 203.6144 - val_mae: 10.7561\n",
      "Epoch 99/550\n",
      "20/20 [==============================] - 0s 3ms/step - loss: 177.6770 - mae: 5.9072 - val_loss: 103.1103 - val_mae: 4.5342\n",
      "Epoch 100/550\n",
      "20/20 [==============================] - 0s 4ms/step - loss: 179.5793 - mae: 5.5431 - val_loss: 111.7538 - val_mae: 4.8551\n",
      "Epoch 101/550\n",
      "20/20 [==============================] - 0s 4ms/step - loss: 175.7715 - mae: 5.7310 - val_loss: 132.7112 - val_mae: 6.8392\n",
      "Epoch 102/550\n",
      "20/20 [==============================] - 0s 4ms/step - loss: 178.6453 - mae: 5.8932 - val_loss: 85.8415 - val_mae: 4.9782\n",
      "Epoch 103/550\n",
      "20/20 [==============================] - 0s 4ms/step - loss: 164.1478 - mae: 5.4941 - val_loss: 85.6849 - val_mae: 4.7171\n",
      "Epoch 104/550\n",
      "20/20 [==============================] - 0s 4ms/step - loss: 183.6745 - mae: 6.1649 - val_loss: 121.3109 - val_mae: 5.1163\n",
      "Epoch 105/550\n",
      "20/20 [==============================] - 0s 4ms/step - loss: 169.5888 - mae: 5.8788 - val_loss: 117.1413 - val_mae: 6.8815\n",
      "Epoch 106/550\n",
      "20/20 [==============================] - 0s 4ms/step - loss: 172.7617 - mae: 5.8123 - val_loss: 109.6215 - val_mae: 5.9390\n",
      "Epoch 107/550\n",
      "20/20 [==============================] - 0s 5ms/step - loss: 177.1676 - mae: 6.4501 - val_loss: 92.6768 - val_mae: 4.7065\n",
      "Epoch 108/550\n",
      "20/20 [==============================] - 0s 5ms/step - loss: 194.1880 - mae: 6.1675 - val_loss: 99.8651 - val_mae: 6.2103\n",
      "Epoch 109/550\n",
      "20/20 [==============================] - 0s 5ms/step - loss: 171.5996 - mae: 5.7856 - val_loss: 118.3283 - val_mae: 5.5280\n",
      "Epoch 110/550\n",
      "20/20 [==============================] - 0s 5ms/step - loss: 166.2715 - mae: 5.7903 - val_loss: 80.7746 - val_mae: 4.3504\n",
      "Epoch 111/550\n",
      "20/20 [==============================] - 0s 5ms/step - loss: 186.5533 - mae: 6.3432 - val_loss: 78.4247 - val_mae: 4.0931\n",
      "Epoch 112/550\n",
      "20/20 [==============================] - 0s 4ms/step - loss: 184.4525 - mae: 6.6356 - val_loss: 73.1910 - val_mae: 4.5524\n",
      "Epoch 113/550\n",
      "20/20 [==============================] - 0s 4ms/step - loss: 170.7132 - mae: 5.7866 - val_loss: 97.2237 - val_mae: 5.0140\n",
      "Epoch 114/550\n",
      "20/20 [==============================] - 0s 5ms/step - loss: 182.6428 - mae: 6.1592 - val_loss: 79.8693 - val_mae: 4.3454\n",
      "Epoch 115/550\n",
      "20/20 [==============================] - 0s 5ms/step - loss: 155.4138 - mae: 5.3608 - val_loss: 102.7179 - val_mae: 5.2449\n",
      "Epoch 116/550\n",
      "20/20 [==============================] - 0s 4ms/step - loss: 155.3463 - mae: 5.5733 - val_loss: 93.6038 - val_mae: 5.3995\n",
      "Epoch 117/550\n",
      "20/20 [==============================] - 0s 4ms/step - loss: 166.5717 - mae: 6.1494 - val_loss: 2652.9927 - val_mae: 40.7635\n",
      "Epoch 118/550\n",
      "20/20 [==============================] - 0s 4ms/step - loss: 351.0677 - mae: 9.8806 - val_loss: 3292.7471 - val_mae: 45.3257\n",
      "Epoch 119/550\n",
      "20/20 [==============================] - 0s 4ms/step - loss: 474.7054 - mae: 10.6272 - val_loss: 262.0734 - val_mae: 10.9910\n",
      "Epoch 120/550\n",
      "20/20 [==============================] - 0s 4ms/step - loss: 194.5977 - mae: 6.4681 - val_loss: 70.1638 - val_mae: 3.7179\n",
      "Epoch 121/550\n",
      "20/20 [==============================] - 0s 5ms/step - loss: 151.5354 - mae: 5.2299 - val_loss: 77.5978 - val_mae: 3.9764\n",
      "Epoch 122/550\n",
      "20/20 [==============================] - 0s 4ms/step - loss: 148.9755 - mae: 5.1095 - val_loss: 93.7175 - val_mae: 4.7883\n",
      "Epoch 123/550\n",
      "20/20 [==============================] - 0s 4ms/step - loss: 145.9497 - mae: 4.8362 - val_loss: 157.4908 - val_mae: 8.3894\n",
      "Epoch 124/550\n",
      "20/20 [==============================] - 0s 4ms/step - loss: 178.5374 - mae: 5.8937 - val_loss: 161.2709 - val_mae: 6.3114\n",
      "Epoch 125/550\n",
      "20/20 [==============================] - 0s 4ms/step - loss: 167.5879 - mae: 6.1805 - val_loss: 79.5066 - val_mae: 4.8853\n",
      "Epoch 126/550\n",
      "20/20 [==============================] - 0s 4ms/step - loss: 157.0550 - mae: 5.5889 - val_loss: 119.3380 - val_mae: 5.5258\n",
      "Epoch 127/550\n",
      "20/20 [==============================] - 0s 4ms/step - loss: 172.3441 - mae: 6.1023 - val_loss: 75.5201 - val_mae: 4.5436\n",
      "Epoch 128/550\n",
      "20/20 [==============================] - 0s 4ms/step - loss: 161.3730 - mae: 5.5814 - val_loss: 160.0759 - val_mae: 8.5716\n",
      "Epoch 129/550\n",
      "20/20 [==============================] - 0s 4ms/step - loss: 146.5691 - mae: 5.3481 - val_loss: 93.8798 - val_mae: 4.3989\n",
      "Epoch 130/550\n",
      "20/20 [==============================] - 0s 4ms/step - loss: 139.8876 - mae: 5.0855 - val_loss: 379.1573 - val_mae: 13.4463\n",
      "Epoch 131/550\n",
      "20/20 [==============================] - 0s 4ms/step - loss: 211.9164 - mae: 5.7835 - val_loss: 74.1374 - val_mae: 3.8599\n",
      "Epoch 132/550\n",
      "20/20 [==============================] - 0s 8ms/step - loss: 139.5397 - mae: 4.8940 - val_loss: 202.0252 - val_mae: 9.8311\n",
      "Epoch 133/550\n",
      "20/20 [==============================] - 0s 4ms/step - loss: 152.1822 - mae: 5.8766 - val_loss: 80.9020 - val_mae: 3.8991\n",
      "Epoch 134/550\n",
      "20/20 [==============================] - 0s 4ms/step - loss: 134.9512 - mae: 4.8664 - val_loss: 83.8141 - val_mae: 3.9750\n",
      "Epoch 135/550\n",
      "20/20 [==============================] - 0s 4ms/step - loss: 139.7742 - mae: 4.9959 - val_loss: 85.3046 - val_mae: 4.3585\n",
      "Epoch 136/550\n",
      "20/20 [==============================] - 0s 4ms/step - loss: 135.0405 - mae: 4.8005 - val_loss: 113.5348 - val_mae: 4.8841\n",
      "Epoch 137/550\n",
      "20/20 [==============================] - 0s 5ms/step - loss: 141.4077 - mae: 5.5158 - val_loss: 78.7060 - val_mae: 4.4517\n",
      "Epoch 138/550\n",
      "20/20 [==============================] - 0s 3ms/step - loss: 132.3916 - mae: 4.8329 - val_loss: 90.8643 - val_mae: 5.5897\n",
      "Epoch 139/550\n",
      "20/20 [==============================] - 0s 4ms/step - loss: 137.4398 - mae: 4.7966 - val_loss: 127.5024 - val_mae: 5.4404\n",
      "Epoch 140/550\n",
      "20/20 [==============================] - 0s 4ms/step - loss: 141.2354 - mae: 5.6487 - val_loss: 110.0944 - val_mae: 6.8889\n",
      "Epoch 141/550\n",
      "20/20 [==============================] - 0s 5ms/step - loss: 140.4904 - mae: 5.3692 - val_loss: 129.2417 - val_mae: 6.0194\n",
      "Epoch 142/550\n",
      "20/20 [==============================] - 0s 5ms/step - loss: 138.0934 - mae: 5.4220 - val_loss: 83.6389 - val_mae: 4.0480\n",
      "Epoch 143/550\n",
      "20/20 [==============================] - 0s 4ms/step - loss: 152.7926 - mae: 5.1677 - val_loss: 79.9065 - val_mae: 4.4970\n",
      "Epoch 144/550\n",
      "20/20 [==============================] - 0s 4ms/step - loss: 136.3005 - mae: 5.2989 - val_loss: 82.9903 - val_mae: 4.4371\n",
      "Epoch 145/550\n",
      "20/20 [==============================] - 0s 4ms/step - loss: 140.2235 - mae: 5.3196 - val_loss: 77.7283 - val_mae: 4.1174\n",
      "Epoch 146/550\n",
      "20/20 [==============================] - 0s 4ms/step - loss: 123.9219 - mae: 4.6300 - val_loss: 127.1390 - val_mae: 5.2487\n",
      "Epoch 147/550\n",
      "20/20 [==============================] - 0s 4ms/step - loss: 127.0329 - mae: 5.0508 - val_loss: 87.1341 - val_mae: 4.1935\n",
      "Epoch 148/550\n",
      "20/20 [==============================] - 0s 5ms/step - loss: 127.2812 - mae: 4.7983 - val_loss: 140.8580 - val_mae: 8.7466\n",
      "Epoch 149/550\n",
      "20/20 [==============================] - 0s 4ms/step - loss: 135.8077 - mae: 5.2318 - val_loss: 97.7624 - val_mae: 6.2640\n",
      "Epoch 150/550\n",
      "20/20 [==============================] - 0s 5ms/step - loss: 132.6517 - mae: 5.5448 - val_loss: 82.6927 - val_mae: 5.9474\n",
      "Epoch 151/550\n",
      "20/20 [==============================] - 0s 4ms/step - loss: 133.8345 - mae: 5.0514 - val_loss: 67.8369 - val_mae: 3.6017\n",
      "Epoch 152/550\n",
      "20/20 [==============================] - 0s 4ms/step - loss: 124.2641 - mae: 4.8452 - val_loss: 547.3795 - val_mae: 14.8199\n",
      "Epoch 153/550\n",
      "20/20 [==============================] - 0s 4ms/step - loss: 153.9196 - mae: 5.8415 - val_loss: 113.3985 - val_mae: 5.6030\n",
      "Epoch 154/550\n",
      "20/20 [==============================] - 0s 5ms/step - loss: 140.7521 - mae: 5.6691 - val_loss: 97.4228 - val_mae: 5.2052\n",
      "Epoch 155/550\n",
      "20/20 [==============================] - 0s 4ms/step - loss: 124.5993 - mae: 4.7114 - val_loss: 183.9144 - val_mae: 7.4418\n",
      "Epoch 156/550\n",
      "20/20 [==============================] - 0s 4ms/step - loss: 120.5203 - mae: 4.9527 - val_loss: 91.0855 - val_mae: 3.9941\n",
      "Epoch 157/550\n",
      "20/20 [==============================] - 0s 5ms/step - loss: 132.0504 - mae: 5.0851 - val_loss: 1016.0729 - val_mae: 22.8191\n",
      "Epoch 158/550\n",
      "20/20 [==============================] - 0s 4ms/step - loss: 243.6261 - mae: 7.3846 - val_loss: 153.3620 - val_mae: 9.4459\n",
      "Epoch 159/550\n",
      "20/20 [==============================] - 0s 4ms/step - loss: 146.3118 - mae: 5.4821 - val_loss: 64.6666 - val_mae: 3.9350\n",
      "Epoch 160/550\n",
      "20/20 [==============================] - 0s 4ms/step - loss: 126.6328 - mae: 5.2377 - val_loss: 488.1561 - val_mae: 14.9249\n",
      "Epoch 161/550\n",
      "20/20 [==============================] - 0s 4ms/step - loss: 179.4769 - mae: 6.6033 - val_loss: 110.3355 - val_mae: 6.2112\n",
      "Epoch 162/550\n",
      "20/20 [==============================] - 0s 4ms/step - loss: 126.6826 - mae: 5.5026 - val_loss: 69.7070 - val_mae: 3.6885\n",
      "Epoch 163/550\n",
      "20/20 [==============================] - 0s 4ms/step - loss: 115.4361 - mae: 4.5843 - val_loss: 70.3392 - val_mae: 4.6476\n",
      "Epoch 164/550\n",
      "20/20 [==============================] - 0s 4ms/step - loss: 109.4624 - mae: 4.5832 - val_loss: 60.7547 - val_mae: 3.5097\n",
      "Epoch 165/550\n",
      "20/20 [==============================] - 0s 4ms/step - loss: 120.1532 - mae: 4.9708 - val_loss: 87.3073 - val_mae: 6.0595\n",
      "Epoch 166/550\n",
      "20/20 [==============================] - 0s 4ms/step - loss: 106.8474 - mae: 4.6998 - val_loss: 87.6853 - val_mae: 5.1523\n",
      "Epoch 167/550\n",
      "20/20 [==============================] - 0s 4ms/step - loss: 108.6327 - mae: 4.4012 - val_loss: 117.0362 - val_mae: 7.0108\n",
      "Epoch 168/550\n",
      "20/20 [==============================] - 0s 4ms/step - loss: 117.6597 - mae: 5.0018 - val_loss: 64.8799 - val_mae: 4.3685\n",
      "Epoch 169/550\n",
      "20/20 [==============================] - 0s 4ms/step - loss: 123.4119 - mae: 5.1489 - val_loss: 61.6209 - val_mae: 3.6203\n",
      "Epoch 170/550\n",
      "20/20 [==============================] - 0s 4ms/step - loss: 106.0156 - mae: 4.4611 - val_loss: 415.4164 - val_mae: 13.8570\n",
      "Epoch 171/550\n",
      "20/20 [==============================] - 0s 4ms/step - loss: 140.3794 - mae: 6.0209 - val_loss: 53.7407 - val_mae: 3.1732\n",
      "Epoch 172/550\n",
      "20/20 [==============================] - 0s 4ms/step - loss: 110.4091 - mae: 4.3893 - val_loss: 62.5898 - val_mae: 3.4676\n",
      "Epoch 173/550\n",
      "20/20 [==============================] - 0s 4ms/step - loss: 105.3738 - mae: 4.6345 - val_loss: 61.6093 - val_mae: 4.3045\n",
      "Epoch 174/550\n",
      "20/20 [==============================] - 0s 4ms/step - loss: 103.7760 - mae: 4.6111 - val_loss: 64.9878 - val_mae: 4.0416\n",
      "Epoch 175/550\n",
      "20/20 [==============================] - 0s 4ms/step - loss: 110.4077 - mae: 4.8360 - val_loss: 68.3955 - val_mae: 4.7593\n",
      "Epoch 176/550\n",
      "20/20 [==============================] - 0s 4ms/step - loss: 105.3907 - mae: 4.6120 - val_loss: 71.7287 - val_mae: 4.5070\n",
      "Epoch 177/550\n",
      "20/20 [==============================] - 0s 4ms/step - loss: 127.4046 - mae: 4.8184 - val_loss: 96.7903 - val_mae: 4.6566\n",
      "Epoch 178/550\n",
      "20/20 [==============================] - 0s 4ms/step - loss: 100.9081 - mae: 4.3755 - val_loss: 58.8238 - val_mae: 3.3848\n",
      "Epoch 179/550\n",
      "20/20 [==============================] - 0s 4ms/step - loss: 111.4477 - mae: 4.7257 - val_loss: 92.8010 - val_mae: 4.7130\n",
      "Epoch 180/550\n",
      "20/20 [==============================] - 0s 4ms/step - loss: 99.9147 - mae: 4.4945 - val_loss: 360.7156 - val_mae: 13.7663\n",
      "Epoch 181/550\n",
      "20/20 [==============================] - 0s 4ms/step - loss: 136.8686 - mae: 6.1825 - val_loss: 68.1808 - val_mae: 4.5414\n",
      "Epoch 182/550\n",
      "20/20 [==============================] - 0s 5ms/step - loss: 114.3463 - mae: 4.5882 - val_loss: 448.9821 - val_mae: 19.8187\n",
      "Epoch 183/550\n",
      "20/20 [==============================] - 0s 5ms/step - loss: 151.0297 - mae: 6.2070 - val_loss: 92.8170 - val_mae: 7.4379\n",
      "Epoch 184/550\n",
      "20/20 [==============================] - 0s 4ms/step - loss: 112.9512 - mae: 5.1704 - val_loss: 71.6944 - val_mae: 4.4109\n",
      "Epoch 185/550\n",
      "20/20 [==============================] - 0s 4ms/step - loss: 102.7367 - mae: 4.7058 - val_loss: 66.2174 - val_mae: 3.8245\n",
      "Epoch 186/550\n",
      "20/20 [==============================] - 0s 5ms/step - loss: 107.5374 - mae: 4.7294 - val_loss: 93.4003 - val_mae: 6.0898\n",
      "Epoch 187/550\n",
      "20/20 [==============================] - 0s 5ms/step - loss: 97.6520 - mae: 4.4455 - val_loss: 88.5112 - val_mae: 6.4733\n",
      "Epoch 188/550\n",
      "20/20 [==============================] - 0s 4ms/step - loss: 101.9892 - mae: 4.8377 - val_loss: 78.6535 - val_mae: 5.6964\n",
      "Epoch 189/550\n",
      "20/20 [==============================] - 0s 4ms/step - loss: 118.3852 - mae: 5.0216 - val_loss: 62.2971 - val_mae: 4.2671\n",
      "Epoch 190/550\n",
      "20/20 [==============================] - 0s 4ms/step - loss: 98.5944 - mae: 4.7374 - val_loss: 475.1974 - val_mae: 15.0912\n",
      "Epoch 191/550\n",
      "20/20 [==============================] - 0s 5ms/step - loss: 203.4104 - mae: 6.8585 - val_loss: 62.3137 - val_mae: 3.8796\n",
      "Epoch 192/550\n",
      "20/20 [==============================] - 0s 4ms/step - loss: 100.1486 - mae: 4.5407 - val_loss: 58.8496 - val_mae: 3.8570\n",
      "Epoch 193/550\n",
      "20/20 [==============================] - 0s 4ms/step - loss: 88.7286 - mae: 4.2002 - val_loss: 56.7139 - val_mae: 3.2875\n",
      "Epoch 194/550\n",
      "20/20 [==============================] - 0s 4ms/step - loss: 86.3876 - mae: 4.0165 - val_loss: 49.2325 - val_mae: 3.2801\n",
      "Epoch 195/550\n",
      "20/20 [==============================] - 0s 4ms/step - loss: 92.5347 - mae: 4.3061 - val_loss: 62.6856 - val_mae: 3.7497\n",
      "Epoch 196/550\n",
      "20/20 [==============================] - 0s 4ms/step - loss: 87.6704 - mae: 4.3670 - val_loss: 104.7442 - val_mae: 5.0813\n",
      "Epoch 197/550\n",
      "20/20 [==============================] - 0s 4ms/step - loss: 92.5001 - mae: 4.7127 - val_loss: 58.2592 - val_mae: 3.1906\n",
      "Epoch 198/550\n",
      "20/20 [==============================] - 0s 4ms/step - loss: 90.5140 - mae: 4.3162 - val_loss: 57.0287 - val_mae: 3.3864\n",
      "Epoch 199/550\n",
      "20/20 [==============================] - 0s 4ms/step - loss: 89.2311 - mae: 4.3353 - val_loss: 1671.2137 - val_mae: 37.8592\n",
      "Epoch 200/550\n",
      "20/20 [==============================] - 0s 4ms/step - loss: 222.6223 - mae: 8.8386 - val_loss: 63.3919 - val_mae: 4.3893\n",
      "Epoch 201/550\n",
      "20/20 [==============================] - 0s 4ms/step - loss: 91.2555 - mae: 4.8217 - val_loss: 62.5104 - val_mae: 4.3517\n",
      "Epoch 202/550\n",
      "20/20 [==============================] - 0s 4ms/step - loss: 92.6634 - mae: 4.6625 - val_loss: 40.6923 - val_mae: 3.0366\n",
      "Epoch 203/550\n",
      "20/20 [==============================] - 0s 4ms/step - loss: 91.7640 - mae: 4.2554 - val_loss: 388.6802 - val_mae: 14.1015\n",
      "Epoch 204/550\n",
      "20/20 [==============================] - 0s 4ms/step - loss: 129.9304 - mae: 5.8591 - val_loss: 63.7261 - val_mae: 5.2618\n",
      "Epoch 205/550\n",
      "20/20 [==============================] - 0s 4ms/step - loss: 73.9442 - mae: 3.8904 - val_loss: 772.4942 - val_mae: 16.8081\n",
      "Epoch 206/550\n",
      "20/20 [==============================] - 0s 4ms/step - loss: 143.0275 - mae: 6.8479 - val_loss: 58.8359 - val_mae: 3.9167\n",
      "Epoch 207/550\n",
      "20/20 [==============================] - 0s 5ms/step - loss: 87.4021 - mae: 4.3095 - val_loss: 41.5895 - val_mae: 3.2222\n",
      "Epoch 208/550\n",
      "20/20 [==============================] - 0s 4ms/step - loss: 95.1827 - mae: 4.5149 - val_loss: 54.4447 - val_mae: 3.7751\n",
      "Epoch 209/550\n",
      "20/20 [==============================] - 0s 4ms/step - loss: 87.3210 - mae: 4.3000 - val_loss: 55.6463 - val_mae: 3.8361\n",
      "Epoch 210/550\n",
      "20/20 [==============================] - 0s 4ms/step - loss: 81.9109 - mae: 3.8658 - val_loss: 116.9930 - val_mae: 6.8563\n",
      "Epoch 211/550\n",
      "20/20 [==============================] - 0s 4ms/step - loss: 95.2630 - mae: 4.5608 - val_loss: 47.9427 - val_mae: 3.9646\n",
      "Epoch 212/550\n",
      "20/20 [==============================] - 0s 4ms/step - loss: 77.5029 - mae: 3.7779 - val_loss: 134.5077 - val_mae: 9.9059\n",
      "Epoch 213/550\n",
      "20/20 [==============================] - 0s 4ms/step - loss: 87.3728 - mae: 4.4700 - val_loss: 109.4561 - val_mae: 6.1054\n",
      "Epoch 214/550\n",
      "20/20 [==============================] - 0s 4ms/step - loss: 87.6523 - mae: 4.6022 - val_loss: 51.5861 - val_mae: 3.0515\n",
      "Epoch 215/550\n",
      "20/20 [==============================] - 0s 4ms/step - loss: 75.9115 - mae: 3.9935 - val_loss: 46.2719 - val_mae: 3.1680\n",
      "Epoch 216/550\n",
      "20/20 [==============================] - 0s 4ms/step - loss: 70.8933 - mae: 3.6215 - val_loss: 52.3525 - val_mae: 3.9780\n",
      "Epoch 217/550\n",
      "20/20 [==============================] - 0s 4ms/step - loss: 69.8089 - mae: 3.5317 - val_loss: 444.5074 - val_mae: 14.2363\n",
      "Epoch 218/550\n",
      "20/20 [==============================] - 0s 5ms/step - loss: 125.6645 - mae: 5.8142 - val_loss: 41.1540 - val_mae: 3.5599\n",
      "Epoch 219/550\n",
      "20/20 [==============================] - 0s 4ms/step - loss: 76.8337 - mae: 4.0988 - val_loss: 52.3942 - val_mae: 3.2013\n",
      "Epoch 220/550\n",
      "20/20 [==============================] - 0s 4ms/step - loss: 72.1570 - mae: 3.8394 - val_loss: 49.0265 - val_mae: 4.1477\n",
      "Epoch 221/550\n",
      "20/20 [==============================] - 0s 4ms/step - loss: 71.0138 - mae: 3.9128 - val_loss: 81.4750 - val_mae: 4.2074\n",
      "Epoch 222/550\n",
      "20/20 [==============================] - 0s 5ms/step - loss: 68.1871 - mae: 3.7834 - val_loss: 986.6739 - val_mae: 23.7817\n",
      "Epoch 223/550\n",
      "20/20 [==============================] - 0s 4ms/step - loss: 206.9639 - mae: 8.4264 - val_loss: 85.0028 - val_mae: 7.0337\n",
      "Epoch 224/550\n",
      "20/20 [==============================] - 0s 4ms/step - loss: 74.0835 - mae: 4.3358 - val_loss: 73.7358 - val_mae: 5.6621\n",
      "Epoch 225/550\n",
      "20/20 [==============================] - 0s 4ms/step - loss: 74.7557 - mae: 3.9335 - val_loss: 34.0806 - val_mae: 2.7682\n",
      "Epoch 226/550\n",
      "20/20 [==============================] - 0s 4ms/step - loss: 68.9091 - mae: 3.6546 - val_loss: 217.5678 - val_mae: 10.6700\n",
      "Epoch 227/550\n",
      "20/20 [==============================] - 0s 4ms/step - loss: 68.1521 - mae: 4.2768 - val_loss: 37.7892 - val_mae: 3.0352\n",
      "Epoch 228/550\n",
      "20/20 [==============================] - 0s 4ms/step - loss: 64.9043 - mae: 3.6084 - val_loss: 73.0214 - val_mae: 4.3253\n",
      "Epoch 229/550\n",
      "20/20 [==============================] - 0s 4ms/step - loss: 65.1977 - mae: 3.8612 - val_loss: 34.5164 - val_mae: 3.0592\n",
      "Epoch 230/550\n",
      "20/20 [==============================] - 0s 4ms/step - loss: 63.3265 - mae: 3.4417 - val_loss: 46.9820 - val_mae: 3.5041\n",
      "Epoch 231/550\n",
      "20/20 [==============================] - 0s 4ms/step - loss: 69.3117 - mae: 4.1062 - val_loss: 50.5596 - val_mae: 3.7975\n",
      "Epoch 232/550\n",
      "20/20 [==============================] - 0s 4ms/step - loss: 67.2310 - mae: 3.8280 - val_loss: 39.8749 - val_mae: 2.6455\n",
      "Epoch 233/550\n",
      "20/20 [==============================] - 0s 4ms/step - loss: 60.4655 - mae: 3.4734 - val_loss: 36.7914 - val_mae: 3.1542\n",
      "Epoch 234/550\n",
      "20/20 [==============================] - 0s 4ms/step - loss: 61.2590 - mae: 3.2427 - val_loss: 77.1824 - val_mae: 5.0709\n",
      "Epoch 235/550\n",
      "20/20 [==============================] - 0s 4ms/step - loss: 64.6230 - mae: 3.4920 - val_loss: 61.5024 - val_mae: 5.0421\n",
      "Epoch 236/550\n",
      "20/20 [==============================] - 0s 4ms/step - loss: 59.1227 - mae: 3.6587 - val_loss: 388.8921 - val_mae: 13.9176\n",
      "Epoch 237/550\n",
      "20/20 [==============================] - 0s 4ms/step - loss: 94.8137 - mae: 5.1796 - val_loss: 33.0737 - val_mae: 3.0028\n",
      "Epoch 238/550\n",
      "20/20 [==============================] - 0s 4ms/step - loss: 60.0236 - mae: 3.6666 - val_loss: 32.0202 - val_mae: 3.5212\n",
      "Epoch 239/550\n",
      "20/20 [==============================] - 0s 4ms/step - loss: 64.4512 - mae: 3.7852 - val_loss: 36.4957 - val_mae: 2.8689\n",
      "Epoch 240/550\n",
      "20/20 [==============================] - 0s 4ms/step - loss: 54.8378 - mae: 3.2904 - val_loss: 34.0290 - val_mae: 2.8636\n",
      "Epoch 241/550\n",
      "20/20 [==============================] - 0s 4ms/step - loss: 59.6687 - mae: 3.5712 - val_loss: 34.3822 - val_mae: 2.9649\n",
      "Epoch 242/550\n",
      "20/20 [==============================] - 0s 4ms/step - loss: 56.2148 - mae: 3.5049 - val_loss: 42.5588 - val_mae: 4.6190\n",
      "Epoch 243/550\n",
      "20/20 [==============================] - 0s 4ms/step - loss: 56.0568 - mae: 3.5656 - val_loss: 58.4861 - val_mae: 5.7570\n",
      "Epoch 244/550\n",
      "20/20 [==============================] - 0s 4ms/step - loss: 59.1897 - mae: 3.3694 - val_loss: 36.3180 - val_mae: 3.9065\n",
      "Epoch 245/550\n",
      "20/20 [==============================] - 0s 4ms/step - loss: 55.3999 - mae: 3.5609 - val_loss: 34.8290 - val_mae: 3.4809\n",
      "Epoch 246/550\n",
      "20/20 [==============================] - 0s 4ms/step - loss: 47.7308 - mae: 2.9215 - val_loss: 45.9500 - val_mae: 3.9246\n",
      "Epoch 247/550\n",
      "20/20 [==============================] - 0s 4ms/step - loss: 52.0736 - mae: 3.4376 - val_loss: 105.6426 - val_mae: 7.8091\n",
      "Epoch 248/550\n",
      "20/20 [==============================] - 0s 4ms/step - loss: 60.6298 - mae: 3.9845 - val_loss: 42.8702 - val_mae: 3.6865\n",
      "Epoch 249/550\n",
      "20/20 [==============================] - 0s 4ms/step - loss: 54.8179 - mae: 3.7684 - val_loss: 85.7614 - val_mae: 7.4800\n",
      "Epoch 250/550\n",
      "20/20 [==============================] - 0s 4ms/step - loss: 53.6843 - mae: 3.8816 - val_loss: 40.5376 - val_mae: 4.1601\n",
      "Epoch 251/550\n",
      "20/20 [==============================] - 0s 3ms/step - loss: 64.9602 - mae: 3.9532 - val_loss: 30.2868 - val_mae: 3.0106\n",
      "Epoch 252/550\n",
      "20/20 [==============================] - 0s 6ms/step - loss: 61.7493 - mae: 3.7384 - val_loss: 36.0495 - val_mae: 3.3275\n",
      "Epoch 253/550\n",
      "20/20 [==============================] - 0s 4ms/step - loss: 52.7786 - mae: 3.4930 - val_loss: 410.6642 - val_mae: 13.8529\n",
      "Epoch 254/550\n",
      "20/20 [==============================] - 0s 4ms/step - loss: 77.2864 - mae: 4.3598 - val_loss: 70.6359 - val_mae: 4.1060\n",
      "Epoch 255/550\n",
      "20/20 [==============================] - 0s 4ms/step - loss: 48.1172 - mae: 3.2688 - val_loss: 47.3003 - val_mae: 4.9059\n",
      "Epoch 256/550\n",
      "20/20 [==============================] - 0s 5ms/step - loss: 50.3985 - mae: 3.2102 - val_loss: 20.0389 - val_mae: 2.2070\n",
      "Epoch 257/550\n",
      "20/20 [==============================] - 0s 4ms/step - loss: 54.5613 - mae: 3.3486 - val_loss: 88.9285 - val_mae: 7.2686\n",
      "Epoch 258/550\n",
      "20/20 [==============================] - 0s 3ms/step - loss: 51.8425 - mae: 3.4457 - val_loss: 27.0428 - val_mae: 2.8018\n",
      "Epoch 259/550\n",
      "20/20 [==============================] - 0s 4ms/step - loss: 60.8096 - mae: 3.8907 - val_loss: 22.5159 - val_mae: 2.3857\n",
      "Epoch 260/550\n",
      "20/20 [==============================] - 0s 4ms/step - loss: 47.7489 - mae: 3.0925 - val_loss: 26.0681 - val_mae: 2.9396\n",
      "Epoch 261/550\n",
      "20/20 [==============================] - 0s 3ms/step - loss: 46.2806 - mae: 3.1204 - val_loss: 62.1741 - val_mae: 6.1120\n",
      "Epoch 262/550\n",
      "20/20 [==============================] - 0s 4ms/step - loss: 47.7138 - mae: 3.0307 - val_loss: 43.7041 - val_mae: 3.5412\n",
      "Epoch 263/550\n",
      "20/20 [==============================] - 0s 4ms/step - loss: 48.9046 - mae: 3.2752 - val_loss: 26.4247 - val_mae: 2.9220\n",
      "Epoch 264/550\n",
      "20/20 [==============================] - 0s 4ms/step - loss: 42.2543 - mae: 3.0434 - val_loss: 53.8931 - val_mae: 3.9825\n",
      "Epoch 265/550\n",
      "20/20 [==============================] - 0s 4ms/step - loss: 42.7826 - mae: 3.1311 - val_loss: 103.1060 - val_mae: 7.5405\n",
      "Epoch 266/550\n",
      "20/20 [==============================] - 0s 4ms/step - loss: 59.9062 - mae: 3.6242 - val_loss: 32.1497 - val_mae: 3.1690\n",
      "Epoch 267/550\n",
      "20/20 [==============================] - 0s 4ms/step - loss: 42.9717 - mae: 3.0599 - val_loss: 62.6026 - val_mae: 6.5004\n",
      "Epoch 268/550\n",
      "20/20 [==============================] - 0s 4ms/step - loss: 46.4788 - mae: 3.1930 - val_loss: 31.1558 - val_mae: 3.3496\n",
      "Epoch 269/550\n",
      "20/20 [==============================] - 0s 4ms/step - loss: 46.1123 - mae: 3.2329 - val_loss: 29.0366 - val_mae: 3.4276\n",
      "Epoch 270/550\n",
      "20/20 [==============================] - 0s 4ms/step - loss: 47.5657 - mae: 3.2929 - val_loss: 41.3563 - val_mae: 4.0876\n",
      "Epoch 271/550\n",
      "20/20 [==============================] - 0s 4ms/step - loss: 43.6692 - mae: 3.1505 - val_loss: 26.2071 - val_mae: 2.7851\n",
      "Epoch 272/550\n",
      "20/20 [==============================] - 0s 4ms/step - loss: 42.8114 - mae: 3.0559 - val_loss: 42.5120 - val_mae: 4.0041\n",
      "Epoch 273/550\n",
      "20/20 [==============================] - 0s 4ms/step - loss: 59.3939 - mae: 3.7490 - val_loss: 33.1049 - val_mae: 4.1585\n",
      "Epoch 274/550\n",
      "20/20 [==============================] - 0s 4ms/step - loss: 45.9348 - mae: 3.4024 - val_loss: 31.3523 - val_mae: 3.1498\n",
      "Epoch 275/550\n",
      "20/20 [==============================] - 0s 4ms/step - loss: 37.2753 - mae: 2.7800 - val_loss: 19.3384 - val_mae: 2.5768\n",
      "Epoch 276/550\n",
      "20/20 [==============================] - 0s 4ms/step - loss: 49.3481 - mae: 3.2601 - val_loss: 23.8624 - val_mae: 2.8793\n",
      "Epoch 277/550\n",
      "20/20 [==============================] - 0s 4ms/step - loss: 37.0966 - mae: 2.6786 - val_loss: 43.9261 - val_mae: 5.2402\n",
      "Epoch 278/550\n",
      "20/20 [==============================] - 0s 4ms/step - loss: 45.3906 - mae: 3.1612 - val_loss: 18.0605 - val_mae: 2.3162\n",
      "Epoch 279/550\n",
      "20/20 [==============================] - 0s 4ms/step - loss: 34.9052 - mae: 2.5146 - val_loss: 278.5230 - val_mae: 11.8247\n",
      "Epoch 280/550\n",
      "20/20 [==============================] - 0s 4ms/step - loss: 64.3043 - mae: 4.1517 - val_loss: 22.2244 - val_mae: 2.6265\n",
      "Epoch 281/550\n",
      "20/20 [==============================] - 0s 4ms/step - loss: 36.3870 - mae: 2.7714 - val_loss: 45.7419 - val_mae: 5.1548\n",
      "Epoch 282/550\n",
      "20/20 [==============================] - 0s 4ms/step - loss: 42.5195 - mae: 3.1251 - val_loss: 27.2132 - val_mae: 2.7492\n",
      "Epoch 283/550\n",
      "20/20 [==============================] - 0s 4ms/step - loss: 40.8614 - mae: 2.9057 - val_loss: 21.4896 - val_mae: 2.5134\n",
      "Epoch 284/550\n",
      "20/20 [==============================] - 0s 4ms/step - loss: 41.6025 - mae: 2.9311 - val_loss: 24.9039 - val_mae: 2.7727\n",
      "Epoch 285/550\n",
      "20/20 [==============================] - 0s 6ms/step - loss: 41.3040 - mae: 3.0268 - val_loss: 32.3229 - val_mae: 3.2021\n",
      "Epoch 286/550\n",
      "20/20 [==============================] - 0s 4ms/step - loss: 37.3244 - mae: 2.7820 - val_loss: 20.2120 - val_mae: 2.5578\n",
      "Epoch 287/550\n",
      "20/20 [==============================] - 0s 4ms/step - loss: 35.6741 - mae: 2.5881 - val_loss: 25.8382 - val_mae: 3.0747\n",
      "Epoch 288/550\n",
      "20/20 [==============================] - 0s 4ms/step - loss: 39.9020 - mae: 2.8095 - val_loss: 26.8372 - val_mae: 2.6969\n",
      "Epoch 289/550\n",
      "20/20 [==============================] - 0s 5ms/step - loss: 37.4317 - mae: 2.7992 - val_loss: 21.2177 - val_mae: 2.4728\n",
      "Epoch 290/550\n",
      "20/20 [==============================] - 0s 3ms/step - loss: 39.6128 - mae: 2.8975 - val_loss: 22.0788 - val_mae: 2.6414\n",
      "Epoch 291/550\n",
      "20/20 [==============================] - 0s 4ms/step - loss: 39.4310 - mae: 2.8780 - val_loss: 24.2195 - val_mae: 2.9649\n",
      "Epoch 292/550\n",
      "20/20 [==============================] - 0s 4ms/step - loss: 33.7414 - mae: 2.4000 - val_loss: 47.0427 - val_mae: 4.5617\n",
      "Epoch 293/550\n",
      "20/20 [==============================] - 0s 4ms/step - loss: 36.0063 - mae: 2.8047 - val_loss: 36.8885 - val_mae: 3.5144\n",
      "Epoch 294/550\n",
      "20/20 [==============================] - 0s 4ms/step - loss: 41.1248 - mae: 2.9510 - val_loss: 21.4269 - val_mae: 2.6501\n",
      "Epoch 295/550\n",
      "20/20 [==============================] - 0s 4ms/step - loss: 39.2967 - mae: 2.8795 - val_loss: 44.1588 - val_mae: 4.7622\n",
      "Epoch 296/550\n",
      "20/20 [==============================] - 0s 3ms/step - loss: 40.9212 - mae: 3.0676 - val_loss: 27.9872 - val_mae: 3.2529\n",
      "Epoch 297/550\n",
      "20/20 [==============================] - 0s 5ms/step - loss: 40.8496 - mae: 3.1245 - val_loss: 54.0729 - val_mae: 6.0446\n",
      "Epoch 298/550\n",
      "20/20 [==============================] - 0s 4ms/step - loss: 43.9116 - mae: 3.1346 - val_loss: 26.9519 - val_mae: 2.9534\n",
      "Epoch 299/550\n",
      "20/20 [==============================] - 0s 4ms/step - loss: 37.6458 - mae: 3.0249 - val_loss: 36.8444 - val_mae: 4.7083\n",
      "Epoch 300/550\n",
      "20/20 [==============================] - 0s 4ms/step - loss: 34.8760 - mae: 2.6009 - val_loss: 23.8426 - val_mae: 2.8399\n",
      "Epoch 301/550\n",
      "20/20 [==============================] - 0s 4ms/step - loss: 34.6185 - mae: 2.5015 - val_loss: 16.6859 - val_mae: 2.1304\n",
      "Epoch 302/550\n",
      "20/20 [==============================] - 0s 3ms/step - loss: 33.2397 - mae: 2.4602 - val_loss: 17.1729 - val_mae: 2.1490\n",
      "Epoch 303/550\n",
      "20/20 [==============================] - 0s 3ms/step - loss: 35.7292 - mae: 2.5569 - val_loss: 24.4071 - val_mae: 3.0206\n",
      "Epoch 304/550\n",
      "20/20 [==============================] - 0s 4ms/step - loss: 35.6573 - mae: 2.6080 - val_loss: 20.8182 - val_mae: 2.3468\n",
      "Epoch 305/550\n",
      "20/20 [==============================] - 0s 4ms/step - loss: 38.0285 - mae: 2.6379 - val_loss: 54.1774 - val_mae: 4.2474\n",
      "Epoch 306/550\n",
      "20/20 [==============================] - 0s 4ms/step - loss: 39.8480 - mae: 3.0225 - val_loss: 24.4491 - val_mae: 3.0850\n",
      "Epoch 307/550\n",
      "20/20 [==============================] - 0s 4ms/step - loss: 34.8915 - mae: 2.6783 - val_loss: 22.7578 - val_mae: 2.5471\n",
      "Epoch 308/550\n",
      "20/20 [==============================] - 0s 4ms/step - loss: 37.2204 - mae: 2.7323 - val_loss: 20.7020 - val_mae: 2.8338\n",
      "Epoch 309/550\n",
      "20/20 [==============================] - 0s 4ms/step - loss: 36.1278 - mae: 2.7559 - val_loss: 20.7388 - val_mae: 2.4434\n",
      "Epoch 310/550\n",
      "20/20 [==============================] - 0s 4ms/step - loss: 33.0194 - mae: 2.4961 - val_loss: 29.3526 - val_mae: 3.2277\n",
      "Epoch 311/550\n",
      "20/20 [==============================] - 0s 4ms/step - loss: 45.0218 - mae: 3.3892 - val_loss: 20.1027 - val_mae: 2.7559\n",
      "Epoch 312/550\n",
      "20/20 [==============================] - 0s 4ms/step - loss: 40.2979 - mae: 2.9449 - val_loss: 19.3830 - val_mae: 2.4625\n",
      "Epoch 313/550\n",
      "20/20 [==============================] - 0s 4ms/step - loss: 32.0072 - mae: 2.2981 - val_loss: 17.8998 - val_mae: 2.4067\n",
      "Epoch 314/550\n",
      "20/20 [==============================] - 0s 3ms/step - loss: 34.3988 - mae: 2.4801 - val_loss: 19.8624 - val_mae: 2.4901\n",
      "Epoch 315/550\n",
      "20/20 [==============================] - 0s 3ms/step - loss: 35.8882 - mae: 2.6484 - val_loss: 38.3215 - val_mae: 3.8443\n",
      "Epoch 316/550\n",
      "20/20 [==============================] - 0s 3ms/step - loss: 44.7570 - mae: 3.5879 - val_loss: 16.4178 - val_mae: 2.0647\n",
      "Epoch 317/550\n",
      "20/20 [==============================] - 0s 4ms/step - loss: 33.4190 - mae: 2.4202 - val_loss: 28.7645 - val_mae: 3.9448\n",
      "Epoch 318/550\n",
      "20/20 [==============================] - 0s 4ms/step - loss: 40.9302 - mae: 3.0543 - val_loss: 24.9073 - val_mae: 2.7742\n",
      "Epoch 319/550\n",
      "20/20 [==============================] - 0s 3ms/step - loss: 35.8399 - mae: 2.7162 - val_loss: 17.4678 - val_mae: 2.1432\n",
      "Epoch 320/550\n",
      "20/20 [==============================] - 0s 3ms/step - loss: 30.4868 - mae: 2.0665 - val_loss: 44.0116 - val_mae: 3.9716\n",
      "Epoch 321/550\n",
      "20/20 [==============================] - 0s 3ms/step - loss: 31.1747 - mae: 2.4214 - val_loss: 26.4923 - val_mae: 3.1006\n",
      "Epoch 322/550\n",
      "20/20 [==============================] - 0s 3ms/step - loss: 41.3477 - mae: 3.1276 - val_loss: 19.1362 - val_mae: 2.5608\n",
      "Epoch 323/550\n",
      "20/20 [==============================] - 0s 4ms/step - loss: 38.3009 - mae: 2.9619 - val_loss: 30.5184 - val_mae: 4.1229\n",
      "Epoch 324/550\n",
      "20/20 [==============================] - 0s 3ms/step - loss: 41.0985 - mae: 2.8869 - val_loss: 63.0219 - val_mae: 5.8214\n",
      "Epoch 325/550\n",
      "20/20 [==============================] - 0s 4ms/step - loss: 40.9950 - mae: 3.0023 - val_loss: 16.2973 - val_mae: 2.1759\n",
      "Epoch 326/550\n",
      "20/20 [==============================] - 0s 3ms/step - loss: 35.0989 - mae: 2.6354 - val_loss: 16.3436 - val_mae: 2.1839\n",
      "Epoch 327/550\n",
      "20/20 [==============================] - 0s 4ms/step - loss: 38.8966 - mae: 2.9114 - val_loss: 21.8071 - val_mae: 2.8020\n",
      "Epoch 328/550\n",
      "20/20 [==============================] - 0s 3ms/step - loss: 36.6786 - mae: 2.7174 - val_loss: 47.2544 - val_mae: 5.7452\n",
      "Epoch 329/550\n",
      "20/20 [==============================] - 0s 3ms/step - loss: 33.6863 - mae: 2.6269 - val_loss: 16.6167 - val_mae: 2.2082\n",
      "Epoch 330/550\n",
      "20/20 [==============================] - 0s 4ms/step - loss: 39.7467 - mae: 2.7078 - val_loss: 18.8905 - val_mae: 2.2506\n",
      "Epoch 331/550\n",
      "20/20 [==============================] - 0s 4ms/step - loss: 33.1716 - mae: 2.4163 - val_loss: 18.3586 - val_mae: 2.3248\n",
      "Epoch 332/550\n",
      "20/20 [==============================] - 0s 6ms/step - loss: 34.7988 - mae: 2.6054 - val_loss: 44.2135 - val_mae: 4.7640\n",
      "Epoch 333/550\n",
      "20/20 [==============================] - 0s 4ms/step - loss: 32.1522 - mae: 2.4847 - val_loss: 21.0929 - val_mae: 2.3377\n",
      "Epoch 334/550\n",
      "20/20 [==============================] - 0s 4ms/step - loss: 37.3239 - mae: 2.8295 - val_loss: 20.6307 - val_mae: 2.4469\n",
      "Epoch 335/550\n",
      "20/20 [==============================] - 0s 5ms/step - loss: 36.5457 - mae: 2.6524 - val_loss: 18.7621 - val_mae: 2.4197\n",
      "Epoch 336/550\n",
      "20/20 [==============================] - 0s 4ms/step - loss: 37.7948 - mae: 2.7089 - val_loss: 37.0772 - val_mae: 3.6259\n",
      "Epoch 337/550\n",
      "20/20 [==============================] - 0s 4ms/step - loss: 35.7087 - mae: 2.8761 - val_loss: 21.6657 - val_mae: 2.7016\n",
      "Epoch 338/550\n",
      "20/20 [==============================] - 0s 4ms/step - loss: 34.2566 - mae: 2.5158 - val_loss: 2673.3975 - val_mae: 47.2161\n",
      "Epoch 339/550\n",
      "20/20 [==============================] - 0s 3ms/step - loss: 276.6425 - mae: 9.8752 - val_loss: 49.7184 - val_mae: 5.0960\n",
      "Epoch 340/550\n",
      "20/20 [==============================] - 0s 4ms/step - loss: 47.4893 - mae: 3.7807 - val_loss: 17.3275 - val_mae: 2.5603\n",
      "Epoch 341/550\n",
      "20/20 [==============================] - 0s 3ms/step - loss: 34.5374 - mae: 2.5786 - val_loss: 28.7959 - val_mae: 4.2830\n",
      "Epoch 342/550\n",
      "20/20 [==============================] - 0s 4ms/step - loss: 36.3945 - mae: 2.6850 - val_loss: 20.4894 - val_mae: 2.6353\n",
      "Epoch 343/550\n",
      "20/20 [==============================] - 0s 4ms/step - loss: 39.9492 - mae: 2.8446 - val_loss: 28.4721 - val_mae: 3.9773\n",
      "Epoch 344/550\n",
      "20/20 [==============================] - 0s 4ms/step - loss: 33.3466 - mae: 2.4801 - val_loss: 21.1039 - val_mae: 2.8127\n",
      "Epoch 345/550\n",
      "20/20 [==============================] - 0s 4ms/step - loss: 36.5150 - mae: 2.7051 - val_loss: 19.1601 - val_mae: 2.7183\n",
      "Epoch 346/550\n",
      "20/20 [==============================] - 0s 4ms/step - loss: 34.1329 - mae: 2.4605 - val_loss: 21.1742 - val_mae: 2.6636\n",
      "Epoch 347/550\n",
      "20/20 [==============================] - 0s 3ms/step - loss: 35.0971 - mae: 2.4558 - val_loss: 17.2213 - val_mae: 2.2954\n",
      "Epoch 348/550\n",
      "20/20 [==============================] - 0s 4ms/step - loss: 35.2532 - mae: 2.5465 - val_loss: 44.6406 - val_mae: 5.4220\n",
      "Epoch 349/550\n",
      "20/20 [==============================] - 0s 3ms/step - loss: 34.5582 - mae: 2.5095 - val_loss: 21.8617 - val_mae: 2.6042\n",
      "Epoch 350/550\n",
      "20/20 [==============================] - 0s 4ms/step - loss: 36.5532 - mae: 2.8232 - val_loss: 14.6270 - val_mae: 2.0123\n",
      "Epoch 351/550\n",
      "20/20 [==============================] - 0s 3ms/step - loss: 31.9245 - mae: 2.4295 - val_loss: 17.3718 - val_mae: 2.2321\n",
      "Epoch 352/550\n",
      "20/20 [==============================] - 0s 3ms/step - loss: 30.1293 - mae: 2.0225 - val_loss: 24.1964 - val_mae: 3.4999\n",
      "Epoch 353/550\n",
      "20/20 [==============================] - 0s 4ms/step - loss: 32.2800 - mae: 2.2749 - val_loss: 41.7962 - val_mae: 4.0753\n",
      "Epoch 354/550\n",
      "20/20 [==============================] - 0s 4ms/step - loss: 39.6442 - mae: 2.9037 - val_loss: 17.9243 - val_mae: 2.5955\n",
      "Epoch 355/550\n",
      "20/20 [==============================] - 0s 4ms/step - loss: 34.1628 - mae: 2.4041 - val_loss: 28.0827 - val_mae: 3.7254\n",
      "Epoch 356/550\n",
      "20/20 [==============================] - 0s 5ms/step - loss: 36.8262 - mae: 2.7583 - val_loss: 23.8244 - val_mae: 3.3356\n",
      "Epoch 357/550\n",
      "20/20 [==============================] - 0s 4ms/step - loss: 33.2319 - mae: 2.3769 - val_loss: 39.8613 - val_mae: 4.3598\n",
      "Epoch 358/550\n",
      "20/20 [==============================] - 0s 4ms/step - loss: 35.8482 - mae: 2.5528 - val_loss: 23.8396 - val_mae: 3.1306\n",
      "Epoch 359/550\n",
      "20/20 [==============================] - 0s 4ms/step - loss: 42.8256 - mae: 3.0980 - val_loss: 22.2106 - val_mae: 2.6832\n",
      "Epoch 360/550\n",
      "20/20 [==============================] - 0s 4ms/step - loss: 33.8975 - mae: 2.4409 - val_loss: 18.5666 - val_mae: 2.5279\n",
      "Epoch 361/550\n",
      "20/20 [==============================] - 0s 3ms/step - loss: 37.2707 - mae: 2.8355 - val_loss: 23.1193 - val_mae: 2.8568\n",
      "Epoch 362/550\n",
      "20/20 [==============================] - 0s 4ms/step - loss: 38.4229 - mae: 2.6490 - val_loss: 17.4294 - val_mae: 2.3292\n",
      "Epoch 363/550\n",
      "20/20 [==============================] - 0s 3ms/step - loss: 34.5229 - mae: 2.5184 - val_loss: 25.3671 - val_mae: 2.8139\n",
      "Epoch 364/550\n",
      "20/20 [==============================] - 0s 3ms/step - loss: 31.2644 - mae: 2.1154 - val_loss: 15.5467 - val_mae: 2.0303\n",
      "Epoch 365/550\n",
      "20/20 [==============================] - 0s 4ms/step - loss: 37.6616 - mae: 2.8388 - val_loss: 14.6841 - val_mae: 1.9588\n",
      "Epoch 366/550\n",
      "20/20 [==============================] - 0s 3ms/step - loss: 32.3584 - mae: 2.2642 - val_loss: 20.8002 - val_mae: 2.8104\n",
      "Epoch 367/550\n",
      "20/20 [==============================] - 0s 4ms/step - loss: 31.5140 - mae: 2.1127 - val_loss: 29.0984 - val_mae: 3.2093\n",
      "Epoch 368/550\n",
      "20/20 [==============================] - 0s 3ms/step - loss: 32.6028 - mae: 2.3209 - val_loss: 17.0188 - val_mae: 2.2691\n",
      "Epoch 369/550\n",
      "20/20 [==============================] - 0s 4ms/step - loss: 37.7013 - mae: 2.8183 - val_loss: 19.0696 - val_mae: 2.2994\n",
      "Epoch 370/550\n",
      "20/20 [==============================] - 0s 3ms/step - loss: 33.1953 - mae: 2.4318 - val_loss: 16.1348 - val_mae: 2.1069\n",
      "Epoch 371/550\n",
      "20/20 [==============================] - 0s 4ms/step - loss: 32.7058 - mae: 2.3553 - val_loss: 18.8665 - val_mae: 2.5345\n",
      "Epoch 372/550\n",
      "20/20 [==============================] - 0s 5ms/step - loss: 31.2776 - mae: 2.2782 - val_loss: 28.9559 - val_mae: 3.3066\n",
      "Epoch 373/550\n",
      "20/20 [==============================] - 0s 3ms/step - loss: 33.4206 - mae: 2.4659 - val_loss: 42.4111 - val_mae: 3.8264\n",
      "Epoch 374/550\n",
      "20/20 [==============================] - 0s 4ms/step - loss: 37.2461 - mae: 2.7005 - val_loss: 18.1951 - val_mae: 2.3941\n",
      "Epoch 375/550\n",
      "20/20 [==============================] - 0s 4ms/step - loss: 32.9112 - mae: 2.5037 - val_loss: 111.8791 - val_mae: 6.7507\n",
      "Epoch 376/550\n",
      "20/20 [==============================] - 0s 4ms/step - loss: 52.1247 - mae: 3.5860 - val_loss: 13.6645 - val_mae: 1.8915\n",
      "Epoch 377/550\n",
      "20/20 [==============================] - 0s 3ms/step - loss: 39.6615 - mae: 2.9568 - val_loss: 31.5713 - val_mae: 3.3841\n",
      "Epoch 378/550\n",
      "20/20 [==============================] - 0s 4ms/step - loss: 37.4793 - mae: 2.8145 - val_loss: 23.4984 - val_mae: 2.8654\n",
      "Epoch 379/550\n",
      "20/20 [==============================] - 0s 4ms/step - loss: 32.5694 - mae: 2.4154 - val_loss: 13.6526 - val_mae: 1.8783\n",
      "Epoch 380/550\n",
      "20/20 [==============================] - 0s 3ms/step - loss: 31.8078 - mae: 2.4111 - val_loss: 44.7044 - val_mae: 5.1689\n",
      "Epoch 381/550\n",
      "20/20 [==============================] - 0s 4ms/step - loss: 40.6519 - mae: 2.9953 - val_loss: 22.7381 - val_mae: 2.7420\n",
      "Epoch 382/550\n",
      "20/20 [==============================] - 0s 4ms/step - loss: 37.7493 - mae: 2.7897 - val_loss: 21.7888 - val_mae: 3.0543\n",
      "Epoch 383/550\n",
      "20/20 [==============================] - 0s 3ms/step - loss: 32.0709 - mae: 2.1489 - val_loss: 22.6339 - val_mae: 2.7330\n",
      "Epoch 384/550\n",
      "20/20 [==============================] - 0s 4ms/step - loss: 33.7680 - mae: 2.5461 - val_loss: 24.8273 - val_mae: 3.0325\n",
      "Epoch 385/550\n",
      "20/20 [==============================] - 0s 4ms/step - loss: 36.3005 - mae: 2.7322 - val_loss: 22.3074 - val_mae: 2.7278\n",
      "Epoch 386/550\n",
      "20/20 [==============================] - 0s 4ms/step - loss: 30.8630 - mae: 2.3887 - val_loss: 14.4212 - val_mae: 1.9277\n",
      "Epoch 387/550\n",
      "20/20 [==============================] - 0s 3ms/step - loss: 31.5873 - mae: 2.1122 - val_loss: 16.7748 - val_mae: 2.3626\n",
      "Epoch 388/550\n",
      "20/20 [==============================] - 0s 4ms/step - loss: 36.3148 - mae: 2.7136 - val_loss: 21.7794 - val_mae: 2.8338\n",
      "Epoch 389/550\n",
      "20/20 [==============================] - 0s 4ms/step - loss: 31.9501 - mae: 2.4428 - val_loss: 16.4491 - val_mae: 2.1025\n",
      "Epoch 390/550\n",
      "20/20 [==============================] - 0s 3ms/step - loss: 35.8775 - mae: 2.6876 - val_loss: 18.0260 - val_mae: 2.6080\n",
      "Epoch 391/550\n",
      "20/20 [==============================] - 0s 3ms/step - loss: 29.3536 - mae: 2.1367 - val_loss: 15.5449 - val_mae: 2.1741\n",
      "Epoch 392/550\n",
      "20/20 [==============================] - 0s 4ms/step - loss: 33.3552 - mae: 2.5156 - val_loss: 13.2250 - val_mae: 1.8411\n",
      "Epoch 393/550\n",
      "20/20 [==============================] - 0s 5ms/step - loss: 31.8886 - mae: 2.3299 - val_loss: 18.4169 - val_mae: 2.3622\n",
      "Epoch 394/550\n",
      "20/20 [==============================] - 0s 4ms/step - loss: 31.0138 - mae: 2.2530 - val_loss: 15.4721 - val_mae: 2.1645\n",
      "Epoch 395/550\n",
      "20/20 [==============================] - 0s 4ms/step - loss: 29.4553 - mae: 2.0870 - val_loss: 20.9292 - val_mae: 2.5662\n",
      "Epoch 396/550\n",
      "20/20 [==============================] - 0s 4ms/step - loss: 31.4013 - mae: 2.5582 - val_loss: 25.6591 - val_mae: 3.2486\n",
      "Epoch 397/550\n",
      "20/20 [==============================] - 0s 3ms/step - loss: 35.4031 - mae: 2.7108 - val_loss: 266.4851 - val_mae: 12.7559\n",
      "Epoch 398/550\n",
      "20/20 [==============================] - 0s 4ms/step - loss: 44.2881 - mae: 3.4953 - val_loss: 29.8757 - val_mae: 3.7796\n",
      "Epoch 399/550\n",
      "20/20 [==============================] - 0s 4ms/step - loss: 37.2527 - mae: 3.0159 - val_loss: 17.3427 - val_mae: 2.3494\n",
      "Epoch 400/550\n",
      "20/20 [==============================] - 0s 5ms/step - loss: 31.7528 - mae: 2.2956 - val_loss: 14.8717 - val_mae: 1.9859\n",
      "Epoch 401/550\n",
      "20/20 [==============================] - 0s 5ms/step - loss: 33.3280 - mae: 2.4089 - val_loss: 15.5431 - val_mae: 1.9886\n",
      "Epoch 402/550\n",
      "20/20 [==============================] - 0s 4ms/step - loss: 36.7517 - mae: 2.8476 - val_loss: 16.3785 - val_mae: 2.1963\n",
      "Epoch 403/550\n",
      "20/20 [==============================] - 0s 4ms/step - loss: 30.8635 - mae: 2.2286 - val_loss: 26.9517 - val_mae: 2.8280\n",
      "Epoch 404/550\n",
      "20/20 [==============================] - 0s 4ms/step - loss: 31.0052 - mae: 2.0826 - val_loss: 25.7838 - val_mae: 3.6177\n",
      "Epoch 405/550\n",
      "20/20 [==============================] - 0s 4ms/step - loss: 32.3441 - mae: 2.2980 - val_loss: 20.4885 - val_mae: 2.4438\n",
      "Epoch 406/550\n",
      "20/20 [==============================] - 0s 4ms/step - loss: 36.0142 - mae: 2.9290 - val_loss: 31.8665 - val_mae: 4.2014\n",
      "Epoch 407/550\n",
      "20/20 [==============================] - 0s 5ms/step - loss: 32.3752 - mae: 2.5181 - val_loss: 34.5695 - val_mae: 3.5706\n",
      "Epoch 408/550\n",
      "20/20 [==============================] - 0s 4ms/step - loss: 36.6801 - mae: 2.6871 - val_loss: 27.7094 - val_mae: 3.3345\n",
      "Epoch 409/550\n",
      "20/20 [==============================] - 0s 4ms/step - loss: 39.5018 - mae: 3.0698 - val_loss: 16.8092 - val_mae: 2.3248\n",
      "Epoch 410/550\n",
      "20/20 [==============================] - 0s 3ms/step - loss: 34.0570 - mae: 2.5656 - val_loss: 26.2212 - val_mae: 3.0185\n",
      "Epoch 411/550\n",
      "20/20 [==============================] - 0s 4ms/step - loss: 50.2513 - mae: 3.5306 - val_loss: 15.9409 - val_mae: 2.1254\n",
      "Epoch 412/550\n",
      "20/20 [==============================] - 0s 4ms/step - loss: 42.2270 - mae: 3.0658 - val_loss: 79.7070 - val_mae: 6.2708\n",
      "Epoch 413/550\n",
      "20/20 [==============================] - 0s 4ms/step - loss: 51.3271 - mae: 3.7342 - val_loss: 16.4331 - val_mae: 2.2193\n",
      "Epoch 414/550\n",
      "20/20 [==============================] - 0s 3ms/step - loss: 32.9296 - mae: 2.4734 - val_loss: 26.0669 - val_mae: 2.9485\n",
      "Epoch 415/550\n",
      "20/20 [==============================] - 0s 4ms/step - loss: 33.8275 - mae: 2.5779 - val_loss: 17.7122 - val_mae: 2.2893\n",
      "Epoch 416/550\n",
      "20/20 [==============================] - 0s 4ms/step - loss: 36.7597 - mae: 2.6217 - val_loss: 23.4829 - val_mae: 3.1794\n",
      "Epoch 417/550\n",
      "20/20 [==============================] - 0s 5ms/step - loss: 37.9710 - mae: 2.7456 - val_loss: 26.2364 - val_mae: 2.8785\n",
      "Epoch 418/550\n",
      "20/20 [==============================] - 0s 5ms/step - loss: 36.0368 - mae: 2.8638 - val_loss: 17.5682 - val_mae: 2.5478\n",
      "Epoch 419/550\n",
      "20/20 [==============================] - 0s 6ms/step - loss: 35.9698 - mae: 2.7434 - val_loss: 56.3698 - val_mae: 4.4580\n",
      "Epoch 420/550\n",
      "20/20 [==============================] - 0s 5ms/step - loss: 46.4990 - mae: 3.1183 - val_loss: 188.8446 - val_mae: 9.3902\n",
      "Epoch 421/550\n",
      "20/20 [==============================] - 0s 4ms/step - loss: 68.4808 - mae: 3.5602 - val_loss: 20.6055 - val_mae: 2.4975\n",
      "Epoch 422/550\n",
      "20/20 [==============================] - 0s 5ms/step - loss: 39.2912 - mae: 2.8772 - val_loss: 18.1393 - val_mae: 2.1863\n",
      "Epoch 423/550\n",
      "20/20 [==============================] - 0s 5ms/step - loss: 30.8267 - mae: 2.1559 - val_loss: 16.8058 - val_mae: 2.1513\n",
      "Epoch 424/550\n",
      "20/20 [==============================] - 0s 4ms/step - loss: 37.0823 - mae: 2.8993 - val_loss: 15.1738 - val_mae: 2.0471\n",
      "Epoch 425/550\n",
      "20/20 [==============================] - 0s 4ms/step - loss: 33.0827 - mae: 2.4441 - val_loss: 17.1156 - val_mae: 2.3037\n",
      "Epoch 426/550\n",
      "20/20 [==============================] - 0s 7ms/step - loss: 30.4759 - mae: 2.2870 - val_loss: 14.8538 - val_mae: 1.8945\n",
      "Epoch 427/550\n",
      "20/20 [==============================] - 0s 5ms/step - loss: 27.4236 - mae: 1.9076 - val_loss: 15.7741 - val_mae: 1.9700\n",
      "Epoch 428/550\n",
      "20/20 [==============================] - 0s 4ms/step - loss: 35.4781 - mae: 2.8037 - val_loss: 45.3864 - val_mae: 5.3745\n",
      "Epoch 429/550\n",
      "20/20 [==============================] - 0s 5ms/step - loss: 35.1249 - mae: 2.7393 - val_loss: 15.4349 - val_mae: 2.0071\n",
      "Epoch 430/550\n",
      "20/20 [==============================] - 0s 4ms/step - loss: 32.2271 - mae: 2.3045 - val_loss: 14.9053 - val_mae: 1.9099\n",
      "Epoch 431/550\n",
      "20/20 [==============================] - 0s 3ms/step - loss: 31.2628 - mae: 2.1790 - val_loss: 15.4780 - val_mae: 2.1345\n",
      "Epoch 432/550\n",
      "20/20 [==============================] - 0s 4ms/step - loss: 29.8786 - mae: 2.1665 - val_loss: 340.1320 - val_mae: 13.6476\n",
      "Epoch 433/550\n",
      "20/20 [==============================] - 0s 4ms/step - loss: 59.2186 - mae: 4.0204 - val_loss: 27.2168 - val_mae: 3.2856\n",
      "Epoch 434/550\n",
      "20/20 [==============================] - 0s 4ms/step - loss: 32.1968 - mae: 2.4039 - val_loss: 39.2308 - val_mae: 4.4038\n",
      "Epoch 435/550\n",
      "20/20 [==============================] - 0s 3ms/step - loss: 34.5128 - mae: 2.6605 - val_loss: 38.2921 - val_mae: 4.1789\n",
      "Epoch 436/550\n",
      "20/20 [==============================] - 0s 4ms/step - loss: 37.5577 - mae: 2.9682 - val_loss: 18.9970 - val_mae: 2.3686\n",
      "Epoch 437/550\n",
      "20/20 [==============================] - 0s 4ms/step - loss: 33.9570 - mae: 2.4951 - val_loss: 19.3810 - val_mae: 2.7344\n",
      "Epoch 438/550\n",
      "20/20 [==============================] - 0s 4ms/step - loss: 32.8378 - mae: 2.5201 - val_loss: 17.6024 - val_mae: 2.4901\n",
      "Epoch 439/550\n",
      "20/20 [==============================] - 0s 4ms/step - loss: 32.7551 - mae: 2.3912 - val_loss: 16.3934 - val_mae: 2.2651\n",
      "Epoch 440/550\n",
      "20/20 [==============================] - 0s 4ms/step - loss: 34.6654 - mae: 2.2567 - val_loss: 19.6686 - val_mae: 2.5281\n",
      "Epoch 441/550\n",
      "20/20 [==============================] - 0s 4ms/step - loss: 30.9320 - mae: 2.1936 - val_loss: 24.4618 - val_mae: 3.1254\n",
      "Epoch 442/550\n",
      "20/20 [==============================] - 0s 4ms/step - loss: 32.1099 - mae: 2.4193 - val_loss: 21.9829 - val_mae: 3.0911\n"
     ]
    }
   ],
   "source": [
    "history = ann.fit(X_train, y_train,\n",
    "                    validation_data = (X_val, y_val),\n",
    "                    callbacks=[es],\n",
    "                    epochs=550,\n",
    "                    batch_size=20,\n",
    "                    verbose=1)"
   ]
  },
  {
   "cell_type": "markdown",
   "metadata": {
    "colab_type": "text",
    "id": "0H0zKKNEBLD5"
   },
   "source": [
    "### Predicting the results of the Test set"
   ]
  },
  {
   "cell_type": "code",
   "execution_count": 22,
   "metadata": {},
   "outputs": [
    {
     "data": {
      "image/png": "[encoded data removed]",
      "text/plain": [
       "<Figure size 432x288 with 1 Axes>"
      ]
     },
     "metadata": {
      "needs_background": "light"
     },
     "output_type": "display_data"
    }
   ],
   "source": [
    "import matplotlib.pyplot as plt\n",
    "# let's see the training and validation accuracy by epoch\n",
    "history_dict = history.history\n",
    "loss_values = history_dict['loss'] # you can change this\n",
    "val_loss_values = history_dict['val_loss'] # you can also change this\n",
    "epochs = range(1, len(loss_values) + 1) # range of X (no. of epochs)\n",
    "plt.plot(epochs, loss_values, 'blue', label='Training loss')\n",
    "plt.plot(epochs, val_loss_values, 'orange', label='Testing loss')\n",
    "plt.title('Training and testing loss')\n",
    "plt.xlabel('Epochs')\n",
    "plt.ylabel('Loss (MSE)')\n",
    "plt.legend()\n",
    "plt.show()"
   ]
  },
  {
   "cell_type": "code",
   "execution_count": 23,
   "metadata": {},
   "outputs": [
    {
     "data": {
      "image/png": "[encoded data removed]",
      "text/plain": [
       "<Figure size 432x288 with 1 Axes>"
      ]
     },
     "metadata": {
      "needs_background": "light"
     },
     "output_type": "display_data"
    }
   ],
   "source": [
    "loss_values1 = history_dict['mae'] # you can change this\n",
    "val_loss_values1 = history_dict['val_mae'] # you can also change this\n",
    "epochs = range(1, len(loss_values1) + 1) # range of X (no. of epochs)\n",
    "plt.plot(epochs, loss_values1, 'blue', label='Training MAE')\n",
    "plt.plot(epochs, val_loss_values1, 'orange', label='Testing MAE')\n",
    "plt.title('Training and testing MAE')\n",
    "plt.xlabel('Epochs')\n",
    "plt.ylabel('MAE')\n",
    "plt.legend()\n",
    "plt.show()"
   ]
  },
  {
   "cell_type": "code",
   "execution_count": 24,
   "metadata": {},
   "outputs": [
    {
     "name": "stdout",
     "output_type": "stream",
     "text": [
      "range(1, 443)\n"
     ]
    }
   ],
   "source": [
    "print (epochs)"
   ]
  },
  {
   "cell_type": "code",
   "execution_count": 25,
   "metadata": {},
   "outputs": [
    {
     "name": "stdout",
     "output_type": "stream",
     "text": [
      "12/12 [==============================] - 0s 1ms/step\n",
      "3/3 [==============================] - 0s 2ms/step\n"
     ]
    },
    {
     "data": {
      "image/png": "[encoded data removed]",
      "text/plain": [
       "<Figure size 432x288 with 2 Axes>"
      ]
     },
     "metadata": {
      "needs_background": "light"
     },
     "output_type": "display_data"
    }
   ],
   "source": [
    "# scatterplot of actual vs. pred\n",
    "# specify the dimensions \n",
    "fig, axes = plt.subplots(1,2) # 1 row, 2 columns\n",
    "\n",
    "# this makes the individual subplots\n",
    "# Training Results\n",
    "axes[0].scatter(x=y_train, y=ann.predict(X_train)) #first row, first entry (left top)\n",
    "axes[0].set_xlabel(\"Actual\", fontsize=10)\n",
    "axes[0].set_ylabel(\"Predicted\",  fontsize=10)\n",
    "axes[0].set_title(\"Training\")\n",
    "# add 45 deg line\n",
    "x = np.linspace(*axes[0].get_xlim())\n",
    "axes[0].plot(x, x, color='red')\n",
    "# Validation Results\n",
    "axes[1].scatter(x=y_test, y=ann.predict(X_test)) # first row, second entry (right top)\n",
    "axes[1].set_xlabel(\"Actual\", fontsize=10)\n",
    "axes[1].set_ylabel(\"Predicted\",  fontsize=10)\n",
    "axes[1].set_title(\"Validation\")\n",
    "# add 45 deg line\n",
    "x = np.linspace(*axes[1].get_xlim())\n",
    "axes[1].plot(x, x, color='red')\n",
    "\n",
    "# tight layout\n",
    "fig.tight_layout()\n",
    "\n",
    "# show the plot\n",
    "plt.show()"
   ]
  },
  {
   "cell_type": "code",
   "execution_count": 26,
   "metadata": {
    "colab": {
     "base_uri": "https://localhost:8080/",
     "height": 134
    },
    "colab_type": "code",
    "id": "IA0yApEmBG1X",
    "outputId": "cb981e1f-9204-4a2a-fece-9d66a6919189"
   },
   "outputs": [
    {
     "name": "stdout",
     "output_type": "stream",
     "text": [
      "3/3 [==============================] - 0s 2ms/step\n",
      "[[ 46.02  46.16]\n",
      " [107.75 106.79]\n",
      " [ 66.5   70.49]\n",
      " [ 39.24  38.93]\n",
      " [171.77 169.54]\n",
      " [ 79.93  78.32]\n",
      " [239.52 246.71]\n",
      " [ 67.61  66.54]\n",
      " [173.45 175.25]\n",
      " [118.5  116.92]\n",
      " [184.29 186.47]\n",
      " [ 51.38  54.09]\n",
      " [217.15 216.82]\n",
      " [ 66.11  68.81]\n",
      " [143.72 143.07]\n",
      " [ 78.7   77.36]\n",
      " [ 75.17  78.77]\n",
      " [296.75 296.19]\n",
      " [ 42.21  41.52]\n",
      " [ 69.47  68.5 ]\n",
      " [137.14 136.91]\n",
      " [460.64 465.29]\n",
      " [ 63.54  60.09]\n",
      " [ 28.19   2.79]\n",
      " [ 20.07  20.56]\n",
      " [ 76.63  75.35]\n",
      " [106.5  105.94]\n",
      " [182.15 183.23]\n",
      " [170.38 170.01]\n",
      " [ 30.61  31.03]\n",
      " [ 69.52   7.42]\n",
      " [174.97 178.35]\n",
      " [ 63.74  62.9 ]\n",
      " [287.08 284.67]\n",
      " [181.19 179.97]\n",
      " [ 71.13  72.03]\n",
      " [ 19.43  20.64]\n",
      " [288.93 293.22]\n",
      " [195.7  197.24]\n",
      " [145.06 146.06]\n",
      " [ 48.55  48.96]\n",
      " [ 61.37  59.69]\n",
      " [ 51.5   52.22]\n",
      " [ 84.32  82.95]\n",
      " [ 70.98  71.26]\n",
      " [ 74.78  73.68]\n",
      " [ 25.71  25.25]\n",
      " [ 39.26  38.42]\n",
      " [ 56.19  55.88]\n",
      " [  9.2   10.11]\n",
      " [ 41.65  42.82]\n",
      " [ 38.2   38.8 ]\n",
      " [ 71.3   70.49]\n",
      " [ 35.61  35.03]\n",
      " [ 42.16  41.68]\n",
      " [398.33 392.18]\n",
      " [151.12 150.67]\n",
      " [ 59.31  59.12]\n",
      " [169.94 174.46]\n",
      " [ 81.34  79.63]\n",
      " [ 31.2   31.63]\n",
      " [ 79.25  79.86]\n",
      " [219.32 216.48]\n",
      " [ 95.14  95.29]\n",
      " [106.25 105.61]\n",
      " [ 29.04  29.16]\n",
      " [ 14.36  14.92]\n",
      " [102.46 103.92]\n",
      " [ 14.93  15.6 ]\n",
      " [103.44 103.39]\n",
      " [  6.89   6.9 ]\n",
      " [ 76.82  74.79]\n",
      " [380.96 377.38]\n",
      " [ 60.62  59.78]\n",
      " [ 71.03  71.84]\n",
      " [102.86 103.44]\n",
      " [125.77 124.46]\n",
      " [ 15.52  16.36]\n",
      " [ 54.35  55.19]\n",
      " [ 58.28  58.79]\n",
      " [ 80.5   84.79]\n",
      " [ 52.88  52.68]]\n"
     ]
    }
   ],
   "source": [
    "#X_test=np.asarray(X_test).astype(np.int)\n",
    "\n",
    "#y_test=np.asarray(y_test).astype(np.int)\n",
    "\n",
    "y_pred = ann.predict(X_test)\n",
    "np.set_printoptions(precision=2)\n",
    "print(np.concatenate((y_pred.reshape(len(y_pred),1), y_test.reshape(len(y_test),1)),1))"
   ]
  },
  {
   "cell_type": "code",
   "execution_count": 27,
   "metadata": {},
   "outputs": [
    {
     "data": {
      "text/plain": [
       "Text(0, 0.5, 'Predicted data')"
      ]
     },
     "execution_count": 27,
     "metadata": {},
     "output_type": "execute_result"
    },
    {
     "data": {
      "image/png": "[encoded data removed]",
      "text/plain": [
       "<Figure size 432x288 with 1 Axes>"
      ]
     },
     "metadata": {
      "needs_background": "light"
     },
     "output_type": "display_data"
    }
   ],
   "source": [
    "import matplotlib.pyplot as plt\n",
    "plt.scatter(y_test, y_pred, color=\"blue\")\n",
    "plt.plot ([0,400],[0,400], color = \"red\")\n",
    "plt.axis ([0,400,0,400])\n",
    "plt.xlabel ('Actual data')\n",
    "plt.ylabel ('Predicted data')"
   ]
  },
  {
   "cell_type": "code",
   "execution_count": 28,
   "metadata": {},
   "outputs": [
    {
     "data": {
      "image/png": "[encoded data removed]",
      "text/plain": [
       "<Figure size 648x648 with 1 Axes>"
      ]
     },
     "metadata": {
      "needs_background": "light"
     },
     "output_type": "display_data"
    }
   ],
   "source": [
    "from sklearn.metrics import r2_score\n",
    "# Initialize layout\n",
    "fig1, ax1 = plt.subplots(figsize = (9, 9))\n",
    "\n",
    "\n",
    "#y = y_pred         # Model on prvious line is called here\n",
    "#x = y_test\n",
    "\n",
    "\n",
    "\n",
    "# Add scatterplot\n",
    "ax1.scatter(y_test, y_pred, s=70, alpha=1, edgecolors=\"k\",c='mediumblue',zorder=5, label = 'Points')\n",
    "\n",
    "\n",
    "plt.ylabel('Predicted Peak Impulse (Pa.s)',fontsize = 25)\n",
    "plt.xlabel('Actual Peak Impulse (Pa.s)',fontsize = 25)\n",
    "plt.xticks(fontsize = 19)\n",
    "plt.yticks(fontsize = 19)\n",
    "\n",
    "\n",
    "x1 = np.linspace(0,4000)\n",
    "\n",
    "plt.plot(x1, x1, 'Red', label='45\\N{DEGREE SIGN} line',lw=2.5,alpha=1)\n",
    "plt.plot(x1, 1.1*x1, '--m', label='\\u00B110% Error',lw=2.5,alpha=0.7)\n",
    "plt.plot(x1, 0.9*x1,'m', linestyle='--',lw=2.5,alpha=0.7)\n",
    "plt.plot(x1, 1.2*x1, '-.g', label='\\u00B120% Error',lw=2.5,alpha=0.7)\n",
    "plt.plot(x1, 0.8*x1,'-.g',lw=2.5,alpha=0.7)\n",
    "\n",
    "plt.ylim(0, 400)\n",
    "plt.xlim(0, 400)\n",
    "plt.legend(loc='upper left',fontsize = 25)\n",
    "\n",
    "plt.grid()\n",
    "\n",
    "ax1.spines['left'].set_color('black')        # setting up Y-axis tick color to red\n",
    "ax1.spines['bottom'].set_color('black')         #setting up above X-axis tick color to red\n",
    "\n",
    "\n",
    "\n",
    "#ax1.annotate(\"$R^2$ = {:.3f}\".format(r2), (2500, 1000),fontsize = 25)  #Model is called here\n",
    "#ax1.annotate(\"Adj.$R^2$ = {:.3f}\".format(adj_r2), (2500, 750),fontsize = 25)\n",
    "\n",
    "#plt.savefig('plot1.png', dpi = 600, bbox_inches = 'tight')"
   ]
  },
  {
   "cell_type": "code",
   "execution_count": 29,
   "metadata": {},
   "outputs": [
    {
     "data": {
      "image/png": "[encoded data removed]",
      "text/plain": [
       "<Figure size 648x648 with 1 Axes>"
      ]
     },
     "metadata": {
      "needs_background": "light"
     },
     "output_type": "display_data"
    }
   ],
   "source": [
    "# Initialize layout\n",
    "fig2, bx = plt.subplots(figsize = (9, 9))\n",
    "\n",
    "\n",
    "\n",
    "# Add scatterplot\n",
    "bx.scatter(y_test, y_pred, s=70, alpha=1, edgecolors=\"k\",c='mediumblue',zorder=5, label = 'Points')\n",
    "\n",
    "\n",
    "\n",
    "\n",
    "plt.ylabel('Predicted Peak Impulse (Pa.s)',fontsize = 25)\n",
    "plt.xlabel('Actual Peak Impulse (Pa.s)',fontsize = 25)\n",
    "plt.xticks(fontsize = 19)\n",
    "plt.yticks(fontsize = 19)\n",
    "\n",
    "\n",
    "\n",
    "x1 = np.linspace(0,500)\n",
    "\n",
    "plt.plot(x1, x1, 'Red', label='45\\N{DEGREE SIGN} line',lw=2.5,alpha=1)\n",
    "plt.plot(x1, 1.1*x1, '--m', label='\\u00B110% Error',lw=2.5,alpha=0.7) #\\u00B1\n",
    "plt.plot(x1, 0.9*x1,'m', linestyle='--',lw=2.5,alpha=0.7)\n",
    "plt.plot(x1, 1.2*x1, '-.g', label='\\u00B120% Error',lw=2.5,alpha=0.7)\n",
    "plt.plot(x1, 0.8*x1,'-.g',lw=2.5,alpha=0.7)\n",
    "\n",
    "plt.ylim(0, 100)\n",
    "plt.xlim(0, 100)\n",
    "plt.legend(loc='upper left',fontsize = 25)\n",
    "\n",
    "plt.grid()\n",
    "\n",
    "bx.spines['left'].set_color('black')        # setting up Y-axis tick color to red\n",
    "bx.spines['bottom'].set_color('black')         #setting up above X-axis tick color to red\n",
    "\n",
    "\n",
    "#plt.savefig('plot1.png', dpi = 600, bbox_inches = 'tight')"
   ]
  },
  {
   "cell_type": "code",
   "execution_count": 30,
   "metadata": {},
   "outputs": [
    {
     "name": "stdout",
     "output_type": "stream",
     "text": [
      "12/12 [==============================] - 0s 2ms/step\n",
      "1.6679864224735403\n",
      "2.4574683843154332\n"
     ]
    }
   ],
   "source": [
    "# metrics\n",
    "\n",
    "\n",
    "trainpreds = ann.predict(X_train)\n",
    "\n",
    "from sklearn.metrics import mean_absolute_error\n",
    "print(mean_absolute_error(y_train, trainpreds)) # train\n",
    "print(mean_absolute_error(y_test, y_pred)) # test"
   ]
  },
  {
   "cell_type": "code",
   "execution_count": 31,
   "metadata": {},
   "outputs": [
    {
     "name": "stdout",
     "output_type": "stream",
     "text": [
      "0.9928105840467599\n"
     ]
    }
   ],
   "source": [
    "from sklearn.metrics import r2_score\n",
    "r2 = r2_score(y_test, y_pred)\n",
    "print (r2)"
   ]
  },
  {
   "cell_type": "code",
   "execution_count": 32,
   "metadata": {},
   "outputs": [
    {
     "name": "stdout",
     "output_type": "stream",
     "text": [
      "0.9968085631391639\n"
     ]
    }
   ],
   "source": [
    "r2_train = r2_score(y_train, trainpreds)\n",
    "print (r2_train)"
   ]
  },
  {
   "cell_type": "code",
   "execution_count": 33,
   "metadata": {},
   "outputs": [
    {
     "name": "stdout",
     "output_type": "stream",
     "text": [
      "Within 10% margin 97.56%\n",
      "Within 20% margin 97.56%\n",
      "Out of 20% margin 2.44%\n"
     ]
    }
   ],
   "source": [
    "count1 = 0\n",
    "for i in range(len(y_pred)):\n",
    "    line1 = y_pred[i] - 0.9*y_test[i]\n",
    "    line2 = y_pred[i] - 1.1*y_test[i]\n",
    "    #print ('line 1 ', line1)\n",
    "    #print ('line 2 ', line2)\n",
    "    mask1 = (line1 > 0) & (line2 < 0)\n",
    "    #print (mask)\n",
    "    count1 = np.sum(mask1+count1)\n",
    "    #print (count)\n",
    "\n",
    "count2 = 0\n",
    "for j in range(len(y_pred)):\n",
    "    line3 = y_pred[j] - 0.8*y_test[j]\n",
    "    line4 = y_pred[j] - 1.2*y_test[j]\n",
    "    mask2 = (line3 > 0) & (line4 < 0)\n",
    "    count2 = np.sum(mask2+count2)\n",
    "\n",
    "\n",
    "count3 = 0    \n",
    "for k in range(len(y_pred)):\n",
    "    line5 = y_pred[k] - 0.8*y_test[k]\n",
    "    line6 = y_pred[k] - 1.2*y_test[k]\n",
    "    mask3 = (line5 < 0) or (line6 > 0)\n",
    "    count3 = np.sum(mask3+count3)\n",
    "   \n",
    "\n",
    "print ('Within 10% margin', format((count1/len (y_pred)),'.2%'))\n",
    "print ('Within 20% margin', format((count2/len (y_pred)),'.2%'))\n",
    "print ('Out of 20% margin', format((count3/len (y_pred)),'.2%'))"
   ]
  },
  {
   "cell_type": "code",
   "execution_count": 34,
   "metadata": {},
   "outputs": [
    {
     "name": "stdout",
     "output_type": "stream",
     "text": [
      "0.9924371078933448\n"
     ]
    }
   ],
   "source": [
    "adj_r2 = 1 - ((1 - r2) * (len(X_test) - 1) / (len(X_test) - len (X_test[0]) - 1))\n",
    "print (adj_r2)"
   ]
  },
  {
   "cell_type": "code",
   "execution_count": 35,
   "metadata": {},
   "outputs": [
    {
     "data": {
      "text/plain": [
       "7.672240794172783"
      ]
     },
     "execution_count": 35,
     "metadata": {},
     "output_type": "execute_result"
    }
   ],
   "source": [
    "import math\n",
    "from sklearn.metrics import mean_squared_error\n",
    "\n",
    "math.sqrt(mean_squared_error(y_test, y_pred))"
   ]
  },
  {
   "cell_type": "code",
   "execution_count": 36,
   "metadata": {},
   "outputs": [
    {
     "data": {
      "text/plain": [
       "2.4574683843154332"
      ]
     },
     "execution_count": 36,
     "metadata": {},
     "output_type": "execute_result"
    }
   ],
   "source": [
    "from sklearn.metrics import mean_absolute_error\n",
    "\n",
    "mean_absolute_error(y_test, y_pred)"
   ]
  },
  {
   "cell_type": "code",
   "execution_count": 31,
   "metadata": {},
   "outputs": [
    {
     "ename": "ModuleNotFoundError",
     "evalue": "No module named 'ann_visualizer'",
     "output_type": "error",
     "traceback": [
      "\u001b[1;31m---------------------------------------------------------------------------\u001b[0m",
      "\u001b[1;31mModuleNotFoundError\u001b[0m                       Traceback (most recent call last)",
      "\u001b[1;32m~\\AppData\\Local\\Temp\\ipykernel_2412\\3367597011.py\u001b[0m in \u001b[0;36m<module>\u001b[1;34m\u001b[0m\n\u001b[1;32m----> 1\u001b[1;33m \u001b[1;32mfrom\u001b[0m \u001b[0mann_visualizer\u001b[0m\u001b[1;33m.\u001b[0m\u001b[0mvisualize\u001b[0m \u001b[1;32mimport\u001b[0m \u001b[0mann_viz\u001b[0m\u001b[1;33m;\u001b[0m\u001b[1;33m\u001b[0m\u001b[1;33m\u001b[0m\u001b[0m\n\u001b[0m\u001b[0;32m      2\u001b[0m \u001b[1;33m\u001b[0m\u001b[0m\n\u001b[0;32m      3\u001b[0m \u001b[0mann_viz\u001b[0m\u001b[1;33m(\u001b[0m\u001b[0mmodel\u001b[0m\u001b[1;33m,\u001b[0m \u001b[0mtitle\u001b[0m\u001b[1;33m=\u001b[0m\u001b[1;34m\"My first neural network\"\u001b[0m\u001b[1;33m)\u001b[0m\u001b[1;33m\u001b[0m\u001b[1;33m\u001b[0m\u001b[0m\n",
      "\u001b[1;31mModuleNotFoundError\u001b[0m: No module named 'ann_visualizer'"
     ]
    }
   ],
   "source": [
    "from ann_visualizer.visualize import ann_viz;\n",
    "\n",
    "ann_viz(model, title=\"My first neural network\")"
   ]
  }
 ],
 "metadata": {
  "colab": {
   "collapsed_sections": [],
   "name": "Artificial Neural Network",
   "provenance": [],
   "toc_visible": true
  },
  "kernelspec": {
   "display_name": "Python 3 (ipykernel)",
   "language": "python",
   "name": "python3"
  },
  "language_info": {
   "codemirror_mode": {
    "name": "ipython",
    "version": 3
   },
   "file_extension": ".py",
   "mimetype": "text/x-python",
   "name": "python",
   "nbconvert_exporter": "python",
   "pygments_lexer": "ipython3",
   "version": "3.9.7"
  }
 },
 "nbformat": 4,
 "nbformat_minor": 4
}
