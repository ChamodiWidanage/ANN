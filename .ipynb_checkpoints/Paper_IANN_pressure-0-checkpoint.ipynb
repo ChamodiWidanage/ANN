{
 "cells": [
  {
   "cell_type": "markdown",
   "metadata": {
    "colab_type": "text",
    "id": "3cbb7fRy-eyr"
   },
   "source": [
    "# Artificial Neural Network"
   ]
  },
  {
   "cell_type": "markdown",
   "metadata": {
    "colab_type": "text",
    "id": "8sNDnxE2-pwE"
   },
   "source": [
    "### Importing the libraries"
   ]
  },
  {
   "cell_type": "code",
   "execution_count": 1,
   "metadata": {
    "colab": {},
    "colab_type": "code",
    "id": "lxChR1Rk-umf"
   },
   "outputs": [],
   "source": [
    "import numpy as np\n",
    "import pandas as pd\n",
    "import tensorflow as tf"
   ]
  },
  {
   "cell_type": "markdown",
   "metadata": {
    "colab_type": "text",
    "id": "AG3FQEch-yuA"
   },
   "source": [
    "## Part 1 - Data Preprocessing"
   ]
  },
  {
   "cell_type": "markdown",
   "metadata": {
    "colab_type": "text",
    "id": "-4zq8Mza_D9O"
   },
   "source": [
    "### Importing the dataset"
   ]
  },
  {
   "cell_type": "code",
   "execution_count": 3,
   "metadata": {},
   "outputs": [
    {
     "name": "stdout",
     "output_type": "stream",
     "text": [
      "<class 'pandas.core.frame.DataFrame'>\n",
      "RangeIndex: 546 entries, 0 to 545\n",
      "Data columns (total 5 columns):\n",
      " #   Column             Non-Null Count  Dtype  \n",
      "---  ------             --------------  -----  \n",
      " 0   Charge_size        546 non-null    float64\n",
      " 1   Standoff_distance  546 non-null    float64\n",
      " 2   Impulse            546 non-null    float64\n",
      " 3   Charge_type_CompB  546 non-null    uint8  \n",
      " 4   Charge_type_TNT    546 non-null    uint8  \n",
      "dtypes: float64(3), uint8(2)\n",
      "memory usage: 14.0 KB\n"
     ]
    }
   ],
   "source": [
    "# convert categorical variable into dummy variables\n",
    "dataset = pd.get_dummies(dataset, columns=['Charge_type'])\n",
    "dataset.info()"
   ]
  },
  {
   "cell_type": "code",
   "execution_count": 4,
   "metadata": {},
   "outputs": [
    {
     "data": {
      "text/html": [
       "<div>\n",
       "<style scoped>\n",
       "    .dataframe tbody tr th:only-of-type {\n",
       "        vertical-align: middle;\n",
       "    }\n",
       "\n",
       "    .dataframe tbody tr th {\n",
       "        vertical-align: top;\n",
       "    }\n",
       "\n",
       "    .dataframe thead th {\n",
       "        text-align: right;\n",
       "    }\n",
       "</style>\n",
       "<table border=\"1\" class=\"dataframe\">\n",
       "  <thead>\n",
       "    <tr style=\"text-align: right;\">\n",
       "      <th></th>\n",
       "      <th>Charge_size</th>\n",
       "      <th>Standoff_distance</th>\n",
       "      <th>Impulse</th>\n",
       "      <th>Charge_type_CompB</th>\n",
       "      <th>Charge_type_TNT</th>\n",
       "    </tr>\n",
       "  </thead>\n",
       "  <tbody>\n",
       "    <tr>\n",
       "      <th>0</th>\n",
       "      <td>0.5</td>\n",
       "      <td>1.5</td>\n",
       "      <td>58.168617</td>\n",
       "      <td>0</td>\n",
       "      <td>1</td>\n",
       "    </tr>\n",
       "    <tr>\n",
       "      <th>1</th>\n",
       "      <td>0.5</td>\n",
       "      <td>2.5</td>\n",
       "      <td>38.798874</td>\n",
       "      <td>0</td>\n",
       "      <td>1</td>\n",
       "    </tr>\n",
       "    <tr>\n",
       "      <th>2</th>\n",
       "      <td>0.5</td>\n",
       "      <td>3.5</td>\n",
       "      <td>28.473915</td>\n",
       "      <td>0</td>\n",
       "      <td>1</td>\n",
       "    </tr>\n",
       "    <tr>\n",
       "      <th>3</th>\n",
       "      <td>0.5</td>\n",
       "      <td>4.5</td>\n",
       "      <td>22.343452</td>\n",
       "      <td>0</td>\n",
       "      <td>1</td>\n",
       "    </tr>\n",
       "    <tr>\n",
       "      <th>4</th>\n",
       "      <td>0.5</td>\n",
       "      <td>5.5</td>\n",
       "      <td>18.326342</td>\n",
       "      <td>0</td>\n",
       "      <td>1</td>\n",
       "    </tr>\n",
       "  </tbody>\n",
       "</table>\n",
       "</div>"
      ],
      "text/plain": [
       "   Charge_size  Standoff_distance    Impulse  Charge_type_CompB  \\\n",
       "0          0.5                1.5  58.168617                  0   \n",
       "1          0.5                2.5  38.798874                  0   \n",
       "2          0.5                3.5  28.473915                  0   \n",
       "3          0.5                4.5  22.343452                  0   \n",
       "4          0.5                5.5  18.326342                  0   \n",
       "\n",
       "   Charge_type_TNT  \n",
       "0                1  \n",
       "1                1  \n",
       "2                1  \n",
       "3                1  \n",
       "4                1  "
      ]
     },
     "execution_count": 4,
     "metadata": {},
     "output_type": "execute_result"
    }
   ],
   "source": [
    "dataset.head()"
   ]
  },
  {
   "cell_type": "code",
   "execution_count": 4,
   "metadata": {},
   "outputs": [
    {
     "name": "stdout",
     "output_type": "stream",
     "text": [
      "(546, 4) (546,)\n"
     ]
    }
   ],
   "source": [
    "y = dataset['Impulse']\n",
    "X = dataset.drop('Impulse', axis=1)\n",
    "print(X.shape, y.shape)"
   ]
  },
  {
   "cell_type": "code",
   "execution_count": 5,
   "metadata": {},
   "outputs": [],
   "source": [
    "# convert to numpy array\n",
    "X = np.array(X)\n",
    "y = np.array(y)"
   ]
  },
  {
   "cell_type": "markdown",
   "metadata": {
    "colab_type": "text",
    "id": "VC6omXel_Up0"
   },
   "source": [
    "### Splitting the dataset into the Training set and Test set"
   ]
  },
  {
   "cell_type": "code",
   "execution_count": 6,
   "metadata": {
    "colab": {},
    "colab_type": "code",
    "id": "L5edeb2r_agx"
   },
   "outputs": [],
   "source": [
    "from sklearn.model_selection import train_test_split\n",
    "X_train, X_test, y_train, y_test = train_test_split(X, y, test_size = 0.2, random_state = 0)"
   ]
  },
  {
   "cell_type": "markdown",
   "metadata": {
    "colab_type": "text",
    "id": "_mSLlAT9_eyI"
   },
   "source": [
    "## Part 2 - Building the ANN"
   ]
  },
  {
   "cell_type": "markdown",
   "metadata": {
    "colab_type": "text",
    "id": "CsBULd_f_wLY"
   },
   "source": [
    "### Initializing the ANN"
   ]
  },
  {
   "cell_type": "code",
   "execution_count": 7,
   "metadata": {
    "colab": {},
    "colab_type": "code",
    "id": "J6Hd97Ls__Nz"
   },
   "outputs": [],
   "source": [
    "ann = tf.keras.models.Sequential()"
   ]
  },
  {
   "cell_type": "markdown",
   "metadata": {
    "colab_type": "text",
    "id": "iitAFJS_ABUn"
   },
   "source": [
    "### Adding the input layer and the first hidden layer"
   ]
  },
  {
   "cell_type": "code",
   "execution_count": 8,
   "metadata": {
    "colab": {},
    "colab_type": "code",
    "id": "ksO_Vv40AHix"
   },
   "outputs": [],
   "source": [
    "ann.add(tf.keras.layers.Dense(units=300, input_shape=(X_train.shape[1],), activation='relu'))"
   ]
  },
  {
   "cell_type": "markdown",
   "metadata": {
    "colab_type": "text",
    "id": "-lb4kK_wAKbs"
   },
   "source": [
    "### Adding the second hidden layer"
   ]
  },
  {
   "cell_type": "code",
   "execution_count": 9,
   "metadata": {
    "colab": {},
    "colab_type": "code",
    "id": "c2357OqEAQOQ",
    "tags": []
   },
   "outputs": [],
   "source": [
    "ann.add(tf.keras.layers.Dense(units=175, activation='relu'))"
   ]
  },
  {
   "cell_type": "markdown",
   "metadata": {
    "colab_type": "text",
    "id": "-lb4kK_wAKbs",
    "tags": []
   },
   "source": [
    "### Adding the third hidden layer"
   ]
  },
  {
   "cell_type": "code",
   "execution_count": 10,
   "metadata": {
    "colab": {},
    "colab_type": "code",
    "id": "c2357OqEAQOQ",
    "tags": []
   },
   "outputs": [],
   "source": [
    "ann.add(tf.keras.layers.Dense(units=50, activation='relu'))"
   ]
  },
  {
   "cell_type": "markdown",
   "metadata": {
    "colab_type": "text",
    "id": "jwMOmKb3AdBY"
   },
   "source": [
    "### Adding the output layer"
   ]
  },
  {
   "cell_type": "code",
   "execution_count": 11,
   "metadata": {
    "colab": {},
    "colab_type": "code",
    "id": "YFATpzsUAkLL"
   },
   "outputs": [],
   "source": [
    "ann.add(tf.keras.layers.Dense(units=1, activation='linear'))"
   ]
  },
  {
   "cell_type": "markdown",
   "metadata": {},
   "source": [
    "### what model looks like"
   ]
  },
  {
   "cell_type": "code",
   "execution_count": 12,
   "metadata": {},
   "outputs": [
    {
     "name": "stdout",
     "output_type": "stream",
     "text": [
      "Model: \"sequential\"\n",
      "_________________________________________________________________\n",
      " Layer (type)                Output Shape              Param #   \n",
      "=================================================================\n",
      " dense (Dense)               (None, 300)               1500      \n",
      "                                                                 \n",
      " dense_1 (Dense)             (None, 175)               52675     \n",
      "                                                                 \n",
      " dense_2 (Dense)             (None, 50)                8800      \n",
      "                                                                 \n",
      " dense_3 (Dense)             (None, 1)                 51        \n",
      "                                                                 \n",
      "=================================================================\n",
      "Total params: 63,026\n",
      "Trainable params: 63,026\n",
      "Non-trainable params: 0\n",
      "_________________________________________________________________\n"
     ]
    }
   ],
   "source": [
    "ann.summary()"
   ]
  },
  {
   "cell_type": "markdown",
   "metadata": {
    "colab_type": "text",
    "id": "fq7e4fF6A1yy"
   },
   "source": [
    "## Part 3 - Training the ANN"
   ]
  },
  {
   "cell_type": "markdown",
   "metadata": {
    "colab_type": "text",
    "id": "qDeylAs2An25"
   },
   "source": [
    "### Compiling the ANN"
   ]
  },
  {
   "cell_type": "code",
   "execution_count": 13,
   "metadata": {
    "colab": {},
    "colab_type": "code",
    "id": "pesgbWlCAtB4"
   },
   "outputs": [],
   "source": [
    "from tensorflow.keras.optimizers import Nadam\n",
    "opt = Nadam(learning_rate=0.001)\n",
    "ann.compile(optimizer = opt, loss = 'mean_squared_error', metrics = ['mae'])"
   ]
  },
  {
   "cell_type": "markdown",
   "metadata": {},
   "source": [
    "### early stopping callback"
   ]
  },
  {
   "cell_type": "code",
   "execution_count": 14,
   "metadata": {},
   "outputs": [],
   "source": [
    "# protects from unnecessary further training of the model if a particular metric does not continue to improve over a number of n epochs. In such a case, the model training would be automatically aborted.\n",
    "from keras.callbacks import EarlyStopping\n",
    "es = EarlyStopping(monitor='val_loss',\n",
    "                   mode='min',\n",
    "                   patience=50,\n",
    "                   restore_best_weights = True)"
   ]
  },
  {
   "cell_type": "markdown",
   "metadata": {
    "colab_type": "text",
    "id": "YjVuiybYOo7r"
   },
   "source": [
    "### Training the ANN model on the Training set"
   ]
  },
  {
   "cell_type": "code",
   "execution_count": 15,
   "metadata": {
    "colab": {
     "base_uri": "https://localhost:8080/",
     "height": 1000
    },
    "colab_type": "code",
    "id": "c_vV-tiiA5zn",
    "outputId": "4a2b6ee6-ed75-4698-9069-b250e613803f"
   },
   "outputs": [
    {
     "name": "stdout",
     "output_type": "stream",
     "text": [
      "Epoch 1/550\n",
      "22/22 [==============================] - 1s 12ms/step - loss: 15990.5215 - mae: 87.9451 - val_loss: 8065.8022 - val_mae: 60.6534\n",
      "Epoch 2/550\n",
      "22/22 [==============================] - 0s 5ms/step - loss: 7176.3818 - mae: 57.8598 - val_loss: 4328.6528 - val_mae: 44.7907\n",
      "Epoch 3/550\n",
      "22/22 [==============================] - 0s 4ms/step - loss: 4241.0410 - mae: 46.3477 - val_loss: 2899.6370 - val_mae: 38.7543\n",
      "Epoch 4/550\n",
      "22/22 [==============================] - 0s 5ms/step - loss: 3025.9604 - mae: 39.5345 - val_loss: 2031.9048 - val_mae: 31.7207\n",
      "Epoch 5/550\n",
      "22/22 [==============================] - 0s 4ms/step - loss: 2332.0129 - mae: 32.9637 - val_loss: 1657.3795 - val_mae: 28.9113\n",
      "Epoch 6/550\n",
      "22/22 [==============================] - 0s 4ms/step - loss: 2003.3674 - mae: 30.6454 - val_loss: 1755.2810 - val_mae: 30.0131\n",
      "Epoch 7/550\n",
      "22/22 [==============================] - 0s 5ms/step - loss: 1626.0299 - mae: 26.7486 - val_loss: 1158.5240 - val_mae: 22.5108\n",
      "Epoch 8/550\n",
      "22/22 [==============================] - 0s 6ms/step - loss: 1322.3995 - mae: 23.9758 - val_loss: 876.5235 - val_mae: 18.7719\n",
      "Epoch 9/550\n",
      "22/22 [==============================] - 0s 4ms/step - loss: 1082.6315 - mae: 21.2545 - val_loss: 666.4126 - val_mae: 15.8348\n",
      "Epoch 10/550\n",
      "22/22 [==============================] - 0s 5ms/step - loss: 839.5193 - mae: 17.8732 - val_loss: 508.3952 - val_mae: 12.6978\n",
      "Epoch 11/550\n",
      "22/22 [==============================] - 0s 5ms/step - loss: 690.7475 - mae: 15.5528 - val_loss: 442.9232 - val_mae: 11.4062\n",
      "Epoch 12/550\n",
      "22/22 [==============================] - 0s 5ms/step - loss: 571.0435 - mae: 14.5023 - val_loss: 451.7192 - val_mae: 11.6566\n",
      "Epoch 13/550\n",
      "22/22 [==============================] - 0s 7ms/step - loss: 553.7261 - mae: 13.9365 - val_loss: 399.8331 - val_mae: 12.4094\n",
      "Epoch 14/550\n",
      "22/22 [==============================] - 0s 5ms/step - loss: 570.3175 - mae: 13.1143 - val_loss: 378.4887 - val_mae: 11.9297\n",
      "Epoch 15/550\n",
      "22/22 [==============================] - 0s 6ms/step - loss: 442.8453 - mae: 12.3871 - val_loss: 373.3638 - val_mae: 10.2477\n",
      "Epoch 16/550\n",
      "22/22 [==============================] - 0s 4ms/step - loss: 463.0121 - mae: 11.7074 - val_loss: 282.4598 - val_mae: 9.8763\n",
      "Epoch 17/550\n",
      "22/22 [==============================] - 0s 5ms/step - loss: 423.0876 - mae: 11.9128 - val_loss: 345.9327 - val_mae: 13.6397\n",
      "Epoch 18/550\n",
      "22/22 [==============================] - 0s 5ms/step - loss: 394.4240 - mae: 10.1141 - val_loss: 234.8832 - val_mae: 9.6579\n",
      "Epoch 19/550\n",
      "22/22 [==============================] - 0s 5ms/step - loss: 383.1011 - mae: 10.1660 - val_loss: 222.5123 - val_mae: 8.7681\n",
      "Epoch 20/550\n",
      "22/22 [==============================] - 0s 5ms/step - loss: 418.8232 - mae: 11.0574 - val_loss: 247.0272 - val_mae: 8.2622\n",
      "Epoch 21/550\n",
      "22/22 [==============================] - 0s 6ms/step - loss: 409.3338 - mae: 11.9483 - val_loss: 197.9163 - val_mae: 6.8892\n",
      "Epoch 22/550\n",
      "22/22 [==============================] - 0s 4ms/step - loss: 359.4189 - mae: 9.6604 - val_loss: 568.1369 - val_mae: 16.9960\n",
      "Epoch 23/550\n",
      "22/22 [==============================] - 0s 6ms/step - loss: 424.4795 - mae: 11.0178 - val_loss: 189.9258 - val_mae: 6.5473\n",
      "Epoch 24/550\n",
      "22/22 [==============================] - 0s 5ms/step - loss: 391.6306 - mae: 10.0005 - val_loss: 201.4929 - val_mae: 8.1095\n",
      "Epoch 25/550\n",
      "22/22 [==============================] - 0s 5ms/step - loss: 391.1687 - mae: 10.4806 - val_loss: 260.8401 - val_mae: 11.0386\n",
      "Epoch 26/550\n",
      "22/22 [==============================] - 0s 6ms/step - loss: 366.5510 - mae: 10.1030 - val_loss: 265.2823 - val_mae: 8.3121\n",
      "Epoch 27/550\n",
      "22/22 [==============================] - 0s 5ms/step - loss: 391.4363 - mae: 10.0492 - val_loss: 216.2399 - val_mae: 9.7443\n",
      "Epoch 28/550\n",
      "22/22 [==============================] - 0s 6ms/step - loss: 336.2797 - mae: 8.9226 - val_loss: 164.6931 - val_mae: 6.0827\n",
      "Epoch 29/550\n",
      "22/22 [==============================] - 0s 5ms/step - loss: 319.6425 - mae: 8.8073 - val_loss: 160.1406 - val_mae: 6.2549\n",
      "Epoch 30/550\n",
      "22/22 [==============================] - 0s 6ms/step - loss: 323.9420 - mae: 9.2262 - val_loss: 157.5610 - val_mae: 6.5855\n",
      "Epoch 31/550\n",
      "22/22 [==============================] - 0s 6ms/step - loss: 302.9975 - mae: 8.9106 - val_loss: 210.3452 - val_mae: 7.9187\n",
      "Epoch 32/550\n",
      "22/22 [==============================] - 0s 6ms/step - loss: 332.5380 - mae: 8.6450 - val_loss: 217.0178 - val_mae: 9.9726\n",
      "Epoch 33/550\n",
      "22/22 [==============================] - 0s 5ms/step - loss: 308.3263 - mae: 8.3423 - val_loss: 336.0898 - val_mae: 13.7453\n",
      "Epoch 34/550\n",
      "22/22 [==============================] - 0s 6ms/step - loss: 273.0161 - mae: 8.3755 - val_loss: 159.1482 - val_mae: 5.6614\n",
      "Epoch 35/550\n",
      "22/22 [==============================] - 0s 6ms/step - loss: 312.8641 - mae: 8.4262 - val_loss: 148.6019 - val_mae: 5.3172\n",
      "Epoch 36/550\n",
      "22/22 [==============================] - 0s 5ms/step - loss: 332.5978 - mae: 9.1327 - val_loss: 348.0078 - val_mae: 12.3936\n",
      "Epoch 37/550\n",
      "22/22 [==============================] - 0s 6ms/step - loss: 318.0208 - mae: 8.9696 - val_loss: 178.5641 - val_mae: 8.1203\n",
      "Epoch 38/550\n",
      "22/22 [==============================] - 0s 6ms/step - loss: 270.3882 - mae: 7.6334 - val_loss: 203.9704 - val_mae: 6.8211\n",
      "Epoch 39/550\n",
      "22/22 [==============================] - 0s 5ms/step - loss: 354.4407 - mae: 8.9447 - val_loss: 210.8593 - val_mae: 7.9289\n",
      "Epoch 40/550\n",
      "22/22 [==============================] - 0s 6ms/step - loss: 304.8614 - mae: 8.1731 - val_loss: 165.5390 - val_mae: 5.8968\n",
      "Epoch 41/550\n",
      "22/22 [==============================] - 0s 5ms/step - loss: 285.0911 - mae: 8.5336 - val_loss: 164.4026 - val_mae: 8.4269\n",
      "Epoch 42/550\n",
      "22/22 [==============================] - 0s 6ms/step - loss: 289.9586 - mae: 7.9127 - val_loss: 149.1523 - val_mae: 6.1032\n",
      "Epoch 43/550\n",
      "22/22 [==============================] - 0s 6ms/step - loss: 301.8488 - mae: 8.5006 - val_loss: 165.9515 - val_mae: 5.4652\n",
      "Epoch 44/550\n",
      "22/22 [==============================] - 0s 6ms/step - loss: 285.0947 - mae: 7.8053 - val_loss: 168.9536 - val_mae: 7.1643\n",
      "Epoch 45/550\n",
      "22/22 [==============================] - 0s 5ms/step - loss: 288.1352 - mae: 8.2368 - val_loss: 242.5459 - val_mae: 11.5023\n",
      "Epoch 46/550\n",
      "22/22 [==============================] - 0s 5ms/step - loss: 266.3254 - mae: 7.9531 - val_loss: 134.6744 - val_mae: 4.7664\n",
      "Epoch 47/550\n",
      "22/22 [==============================] - 0s 6ms/step - loss: 295.6473 - mae: 8.4232 - val_loss: 178.6300 - val_mae: 6.9030\n",
      "Epoch 48/550\n",
      "22/22 [==============================] - 0s 6ms/step - loss: 266.8550 - mae: 7.5280 - val_loss: 273.3394 - val_mae: 11.0032\n",
      "Epoch 49/550\n",
      "22/22 [==============================] - 0s 5ms/step - loss: 300.1210 - mae: 8.5138 - val_loss: 186.6436 - val_mae: 6.5932\n",
      "Epoch 50/550\n",
      "22/22 [==============================] - 0s 5ms/step - loss: 266.1012 - mae: 7.0083 - val_loss: 138.7129 - val_mae: 6.0318\n",
      "Epoch 51/550\n",
      "22/22 [==============================] - 0s 6ms/step - loss: 288.1384 - mae: 8.0317 - val_loss: 138.6483 - val_mae: 5.3444\n",
      "Epoch 52/550\n",
      "22/22 [==============================] - 0s 5ms/step - loss: 281.3514 - mae: 7.5598 - val_loss: 344.4992 - val_mae: 14.4376\n",
      "Epoch 53/550\n",
      "22/22 [==============================] - 0s 5ms/step - loss: 315.8925 - mae: 9.1525 - val_loss: 152.9403 - val_mae: 5.1535\n",
      "Epoch 54/550\n",
      "22/22 [==============================] - 0s 5ms/step - loss: 270.9158 - mae: 8.0093 - val_loss: 163.4268 - val_mae: 6.9489\n",
      "Epoch 55/550\n",
      "22/22 [==============================] - 0s 5ms/step - loss: 254.9305 - mae: 7.5228 - val_loss: 136.9665 - val_mae: 6.0201\n",
      "Epoch 56/550\n",
      "22/22 [==============================] - 0s 5ms/step - loss: 290.4184 - mae: 8.0564 - val_loss: 141.2742 - val_mae: 5.2655\n",
      "Epoch 57/550\n",
      "22/22 [==============================] - 0s 5ms/step - loss: 294.7039 - mae: 8.1333 - val_loss: 137.8788 - val_mae: 6.2078\n",
      "Epoch 58/550\n",
      "22/22 [==============================] - 0s 5ms/step - loss: 303.6684 - mae: 8.5227 - val_loss: 132.3085 - val_mae: 4.7533\n",
      "Epoch 59/550\n",
      "22/22 [==============================] - 0s 6ms/step - loss: 285.9805 - mae: 7.3537 - val_loss: 145.0114 - val_mae: 6.1521\n",
      "Epoch 60/550\n",
      "22/22 [==============================] - 0s 5ms/step - loss: 254.7969 - mae: 7.4592 - val_loss: 127.4729 - val_mae: 5.1686\n",
      "Epoch 61/550\n",
      "22/22 [==============================] - 0s 6ms/step - loss: 284.7993 - mae: 8.0996 - val_loss: 151.3760 - val_mae: 6.6002\n",
      "Epoch 62/550\n",
      "22/22 [==============================] - 0s 6ms/step - loss: 302.7030 - mae: 8.0217 - val_loss: 126.9730 - val_mae: 4.7232\n",
      "Epoch 63/550\n",
      "22/22 [==============================] - 0s 5ms/step - loss: 264.7097 - mae: 8.1640 - val_loss: 131.4540 - val_mae: 4.6927\n",
      "Epoch 64/550\n",
      "22/22 [==============================] - 0s 5ms/step - loss: 249.5347 - mae: 6.8996 - val_loss: 555.5177 - val_mae: 17.0328\n",
      "Epoch 65/550\n",
      "22/22 [==============================] - 0s 6ms/step - loss: 264.0820 - mae: 8.0978 - val_loss: 235.3455 - val_mae: 9.0403\n",
      "Epoch 66/550\n",
      "22/22 [==============================] - 0s 5ms/step - loss: 271.4833 - mae: 7.7759 - val_loss: 123.0884 - val_mae: 4.6254\n",
      "Epoch 67/550\n",
      "22/22 [==============================] - 0s 6ms/step - loss: 240.0007 - mae: 6.9952 - val_loss: 122.6248 - val_mae: 4.5032\n",
      "Epoch 68/550\n",
      "22/22 [==============================] - 0s 5ms/step - loss: 251.4542 - mae: 7.4554 - val_loss: 127.5769 - val_mae: 4.6192\n",
      "Epoch 69/550\n",
      "22/22 [==============================] - 0s 5ms/step - loss: 240.3059 - mae: 7.3667 - val_loss: 261.9271 - val_mae: 9.6437\n",
      "Epoch 70/550\n",
      "22/22 [==============================] - 0s 6ms/step - loss: 251.2580 - mae: 7.2849 - val_loss: 135.7888 - val_mae: 6.3772\n",
      "Epoch 71/550\n",
      "22/22 [==============================] - 0s 5ms/step - loss: 239.9665 - mae: 7.2258 - val_loss: 139.0251 - val_mae: 5.3874\n",
      "Epoch 72/550\n",
      "22/22 [==============================] - 0s 5ms/step - loss: 247.4570 - mae: 6.6012 - val_loss: 122.3516 - val_mae: 4.5072\n",
      "Epoch 73/550\n",
      "22/22 [==============================] - 0s 6ms/step - loss: 239.2292 - mae: 7.0707 - val_loss: 147.6234 - val_mae: 5.7218\n",
      "Epoch 74/550\n",
      "22/22 [==============================] - 0s 5ms/step - loss: 214.1760 - mae: 6.4558 - val_loss: 156.9761 - val_mae: 8.3083\n",
      "Epoch 75/550\n",
      "22/22 [==============================] - 0s 6ms/step - loss: 228.3721 - mae: 6.8221 - val_loss: 206.0627 - val_mae: 8.4496\n",
      "Epoch 76/550\n",
      "22/22 [==============================] - 0s 5ms/step - loss: 259.4827 - mae: 7.2431 - val_loss: 148.9363 - val_mae: 7.3623\n",
      "Epoch 77/550\n",
      "22/22 [==============================] - 0s 5ms/step - loss: 228.4446 - mae: 7.3014 - val_loss: 142.0417 - val_mae: 5.2864\n",
      "Epoch 78/550\n",
      "22/22 [==============================] - 0s 5ms/step - loss: 265.5396 - mae: 7.0317 - val_loss: 114.2100 - val_mae: 4.1939\n",
      "Epoch 79/550\n",
      "22/22 [==============================] - 0s 5ms/step - loss: 220.9455 - mae: 6.3269 - val_loss: 192.9148 - val_mae: 8.6364\n",
      "Epoch 80/550\n",
      "22/22 [==============================] - 0s 6ms/step - loss: 227.3814 - mae: 6.8129 - val_loss: 123.0371 - val_mae: 6.4930\n",
      "Epoch 81/550\n",
      "22/22 [==============================] - 0s 6ms/step - loss: 239.9625 - mae: 7.2175 - val_loss: 113.5659 - val_mae: 4.6002\n",
      "Epoch 82/550\n",
      "22/22 [==============================] - 0s 6ms/step - loss: 227.4393 - mae: 6.6427 - val_loss: 128.7462 - val_mae: 6.0780\n",
      "Epoch 83/550\n",
      "22/22 [==============================] - 0s 5ms/step - loss: 236.7831 - mae: 6.8366 - val_loss: 113.2871 - val_mae: 4.4262\n",
      "Epoch 84/550\n",
      "22/22 [==============================] - 0s 5ms/step - loss: 207.6143 - mae: 6.3854 - val_loss: 160.4418 - val_mae: 7.5593\n",
      "Epoch 85/550\n",
      "22/22 [==============================] - 0s 4ms/step - loss: 231.3004 - mae: 7.0898 - val_loss: 114.2204 - val_mae: 5.3301\n",
      "Epoch 86/550\n",
      "22/22 [==============================] - 0s 5ms/step - loss: 204.3794 - mae: 6.4510 - val_loss: 117.4250 - val_mae: 4.9957\n",
      "Epoch 87/550\n",
      "22/22 [==============================] - 0s 5ms/step - loss: 207.7753 - mae: 6.1964 - val_loss: 283.7901 - val_mae: 10.4185\n",
      "Epoch 88/550\n",
      "22/22 [==============================] - 0s 6ms/step - loss: 213.8707 - mae: 7.1006 - val_loss: 175.2801 - val_mae: 7.6260\n",
      "Epoch 89/550\n",
      "22/22 [==============================] - 0s 5ms/step - loss: 229.7858 - mae: 6.4772 - val_loss: 226.3130 - val_mae: 12.4644\n",
      "Epoch 90/550\n",
      "22/22 [==============================] - 0s 5ms/step - loss: 217.1147 - mae: 6.5274 - val_loss: 119.8681 - val_mae: 6.2881\n",
      "Epoch 91/550\n",
      "22/22 [==============================] - 0s 5ms/step - loss: 194.5291 - mae: 5.9646 - val_loss: 107.3858 - val_mae: 5.1467\n",
      "Epoch 92/550\n",
      "22/22 [==============================] - 0s 5ms/step - loss: 207.1230 - mae: 6.5210 - val_loss: 142.5656 - val_mae: 5.7143\n",
      "Epoch 93/550\n",
      "22/22 [==============================] - 0s 6ms/step - loss: 196.5724 - mae: 6.2873 - val_loss: 120.9651 - val_mae: 4.6946\n",
      "Epoch 94/550\n",
      "22/22 [==============================] - 0s 5ms/step - loss: 193.8655 - mae: 5.8857 - val_loss: 108.4453 - val_mae: 4.2653\n",
      "Epoch 95/550\n",
      "22/22 [==============================] - 0s 4ms/step - loss: 178.2403 - mae: 6.4052 - val_loss: 108.3979 - val_mae: 4.2498\n",
      "Epoch 96/550\n",
      "22/22 [==============================] - 0s 6ms/step - loss: 185.5335 - mae: 5.3259 - val_loss: 106.8566 - val_mae: 5.2680\n",
      "Epoch 97/550\n",
      "22/22 [==============================] - 0s 6ms/step - loss: 191.6012 - mae: 6.0583 - val_loss: 106.3539 - val_mae: 4.7199\n",
      "Epoch 98/550\n",
      "22/22 [==============================] - 0s 5ms/step - loss: 197.0033 - mae: 6.1652 - val_loss: 131.4213 - val_mae: 7.7063\n",
      "Epoch 99/550\n",
      "22/22 [==============================] - 0s 5ms/step - loss: 176.9715 - mae: 5.8774 - val_loss: 125.0090 - val_mae: 7.7182\n",
      "Epoch 100/550\n",
      "22/22 [==============================] - 0s 5ms/step - loss: 229.7621 - mae: 7.6929 - val_loss: 108.3479 - val_mae: 4.7627\n",
      "Epoch 101/550\n",
      "22/22 [==============================] - 0s 6ms/step - loss: 178.6987 - mae: 5.6813 - val_loss: 102.5037 - val_mae: 4.4713\n",
      "Epoch 102/550\n",
      "22/22 [==============================] - 0s 5ms/step - loss: 184.1815 - mae: 5.9649 - val_loss: 147.6885 - val_mae: 6.2259\n",
      "Epoch 103/550\n",
      "22/22 [==============================] - 0s 6ms/step - loss: 191.4935 - mae: 6.0559 - val_loss: 138.8176 - val_mae: 7.6000\n",
      "Epoch 104/550\n",
      "22/22 [==============================] - 0s 5ms/step - loss: 180.4756 - mae: 5.9408 - val_loss: 105.3996 - val_mae: 4.6911\n",
      "Epoch 105/550\n",
      "22/22 [==============================] - 0s 5ms/step - loss: 185.5992 - mae: 5.8892 - val_loss: 126.9135 - val_mae: 6.0474\n",
      "Epoch 106/550\n",
      "22/22 [==============================] - 0s 5ms/step - loss: 191.3514 - mae: 6.0709 - val_loss: 152.1032 - val_mae: 8.6095\n",
      "Epoch 107/550\n",
      "22/22 [==============================] - 0s 5ms/step - loss: 210.0370 - mae: 6.6775 - val_loss: 145.1496 - val_mae: 7.9852\n",
      "Epoch 108/550\n",
      "22/22 [==============================] - 0s 6ms/step - loss: 182.2887 - mae: 6.2224 - val_loss: 103.2975 - val_mae: 4.6055\n",
      "Epoch 109/550\n",
      "22/22 [==============================] - 0s 5ms/step - loss: 198.3203 - mae: 6.5940 - val_loss: 119.2102 - val_mae: 5.3382\n",
      "Epoch 110/550\n",
      "22/22 [==============================] - 0s 5ms/step - loss: 170.1691 - mae: 5.8434 - val_loss: 128.7998 - val_mae: 6.8286\n",
      "Epoch 111/550\n",
      "22/22 [==============================] - 0s 5ms/step - loss: 184.7071 - mae: 5.8479 - val_loss: 112.7051 - val_mae: 4.9456\n",
      "Epoch 112/550\n",
      "22/22 [==============================] - 0s 6ms/step - loss: 171.6176 - mae: 5.7522 - val_loss: 140.8808 - val_mae: 7.6262\n",
      "Epoch 113/550\n",
      "22/22 [==============================] - 0s 5ms/step - loss: 158.6152 - mae: 5.3709 - val_loss: 101.4406 - val_mae: 5.6192\n",
      "Epoch 114/550\n",
      "22/22 [==============================] - 0s 5ms/step - loss: 170.4440 - mae: 5.9431 - val_loss: 108.5946 - val_mae: 4.4499\n",
      "Epoch 115/550\n",
      "22/22 [==============================] - 0s 6ms/step - loss: 172.4738 - mae: 5.9656 - val_loss: 99.9023 - val_mae: 5.7907\n",
      "Epoch 116/550\n",
      "22/22 [==============================] - 0s 5ms/step - loss: 163.5206 - mae: 5.5141 - val_loss: 144.1764 - val_mae: 7.7185\n",
      "Epoch 117/550\n",
      "22/22 [==============================] - 0s 5ms/step - loss: 178.8317 - mae: 5.9873 - val_loss: 92.7884 - val_mae: 3.9290\n",
      "Epoch 118/550\n",
      "22/22 [==============================] - 0s 7ms/step - loss: 172.4261 - mae: 6.1576 - val_loss: 111.3766 - val_mae: 5.0847\n",
      "Epoch 119/550\n",
      "22/22 [==============================] - 0s 5ms/step - loss: 177.1907 - mae: 5.7060 - val_loss: 103.0610 - val_mae: 5.0911\n",
      "Epoch 120/550\n",
      "22/22 [==============================] - 0s 5ms/step - loss: 144.3967 - mae: 5.4117 - val_loss: 106.7217 - val_mae: 4.9239\n",
      "Epoch 121/550\n",
      "22/22 [==============================] - 0s 5ms/step - loss: 155.6712 - mae: 5.3917 - val_loss: 132.9424 - val_mae: 5.7522\n",
      "Epoch 122/550\n",
      "22/22 [==============================] - 0s 5ms/step - loss: 166.6459 - mae: 5.9333 - val_loss: 91.4406 - val_mae: 3.8870\n",
      "Epoch 123/550\n",
      "22/22 [==============================] - 0s 5ms/step - loss: 157.1767 - mae: 5.3029 - val_loss: 130.6826 - val_mae: 6.8983\n",
      "Epoch 124/550\n",
      "22/22 [==============================] - 0s 5ms/step - loss: 160.2008 - mae: 5.7301 - val_loss: 183.2692 - val_mae: 7.6640\n",
      "Epoch 125/550\n",
      "22/22 [==============================] - 0s 5ms/step - loss: 154.1759 - mae: 5.3370 - val_loss: 196.9330 - val_mae: 8.5879\n",
      "Epoch 126/550\n",
      "22/22 [==============================] - 0s 5ms/step - loss: 192.4282 - mae: 6.6652 - val_loss: 109.0597 - val_mae: 5.0544\n",
      "Epoch 127/550\n",
      "22/22 [==============================] - 0s 5ms/step - loss: 164.7098 - mae: 5.4443 - val_loss: 141.5487 - val_mae: 6.8935\n",
      "Epoch 128/550\n",
      "22/22 [==============================] - 0s 5ms/step - loss: 173.6203 - mae: 6.4027 - val_loss: 106.1612 - val_mae: 4.9178\n",
      "Epoch 129/550\n",
      "22/22 [==============================] - 0s 6ms/step - loss: 144.7439 - mae: 5.2870 - val_loss: 94.7430 - val_mae: 4.5371\n",
      "Epoch 130/550\n",
      "22/22 [==============================] - 0s 5ms/step - loss: 146.2325 - mae: 5.4103 - val_loss: 87.0049 - val_mae: 4.3471\n",
      "Epoch 131/550\n",
      "22/22 [==============================] - 0s 5ms/step - loss: 173.2758 - mae: 6.6290 - val_loss: 96.6948 - val_mae: 4.4168\n",
      "Epoch 132/550\n",
      "22/22 [==============================] - 0s 5ms/step - loss: 160.5376 - mae: 5.5152 - val_loss: 85.0576 - val_mae: 3.8252\n",
      "Epoch 133/550\n",
      "22/22 [==============================] - 0s 5ms/step - loss: 160.3239 - mae: 5.5135 - val_loss: 92.1660 - val_mae: 5.4816\n",
      "Epoch 134/550\n",
      "22/22 [==============================] - 0s 5ms/step - loss: 162.2763 - mae: 5.8255 - val_loss: 81.0672 - val_mae: 4.0965\n",
      "Epoch 135/550\n",
      "22/22 [==============================] - 0s 6ms/step - loss: 146.9464 - mae: 5.3567 - val_loss: 88.4944 - val_mae: 4.1751\n",
      "Epoch 136/550\n",
      "22/22 [==============================] - 0s 6ms/step - loss: 154.6870 - mae: 5.7027 - val_loss: 108.0594 - val_mae: 6.6957\n",
      "Epoch 137/550\n",
      "22/22 [==============================] - 0s 5ms/step - loss: 144.1006 - mae: 5.9569 - val_loss: 105.6259 - val_mae: 5.4074\n",
      "Epoch 138/550\n",
      "22/22 [==============================] - 0s 5ms/step - loss: 178.1237 - mae: 6.2859 - val_loss: 97.0549 - val_mae: 5.4024\n",
      "Epoch 139/550\n",
      "22/22 [==============================] - 0s 5ms/step - loss: 168.4737 - mae: 5.8525 - val_loss: 223.9062 - val_mae: 11.9386\n",
      "Epoch 140/550\n",
      "22/22 [==============================] - 0s 4ms/step - loss: 135.4642 - mae: 5.3359 - val_loss: 162.3137 - val_mae: 8.8916\n",
      "Epoch 141/550\n",
      "22/22 [==============================] - 0s 5ms/step - loss: 145.3372 - mae: 5.4250 - val_loss: 144.1853 - val_mae: 6.4368\n",
      "Epoch 142/550\n",
      "22/22 [==============================] - 0s 5ms/step - loss: 136.3328 - mae: 5.7776 - val_loss: 82.2457 - val_mae: 4.0957\n",
      "Epoch 143/550\n",
      "22/22 [==============================] - 0s 5ms/step - loss: 140.1683 - mae: 5.2986 - val_loss: 79.2913 - val_mae: 4.3128\n",
      "Epoch 144/550\n",
      "22/22 [==============================] - 0s 6ms/step - loss: 144.0814 - mae: 5.2383 - val_loss: 85.0221 - val_mae: 3.9929\n",
      "Epoch 145/550\n",
      "22/22 [==============================] - 0s 5ms/step - loss: 154.8905 - mae: 5.4550 - val_loss: 79.7013 - val_mae: 3.6794\n",
      "Epoch 146/550\n",
      "22/22 [==============================] - 0s 5ms/step - loss: 134.5214 - mae: 5.2321 - val_loss: 80.3297 - val_mae: 3.6772\n",
      "Epoch 147/550\n",
      "22/22 [==============================] - 0s 5ms/step - loss: 138.9870 - mae: 5.5434 - val_loss: 92.7315 - val_mae: 6.4844\n",
      "Epoch 148/550\n",
      "22/22 [==============================] - 0s 6ms/step - loss: 120.1078 - mae: 4.8335 - val_loss: 74.7486 - val_mae: 3.4221\n",
      "Epoch 149/550\n",
      "22/22 [==============================] - 0s 6ms/step - loss: 112.3529 - mae: 4.0771 - val_loss: 173.8568 - val_mae: 8.4555\n",
      "Epoch 150/550\n",
      "22/22 [==============================] - 0s 6ms/step - loss: 142.7341 - mae: 6.1276 - val_loss: 74.9645 - val_mae: 3.8310\n",
      "Epoch 151/550\n",
      "22/22 [==============================] - 0s 5ms/step - loss: 134.5795 - mae: 5.3708 - val_loss: 84.4387 - val_mae: 4.1272\n",
      "Epoch 152/550\n",
      "22/22 [==============================] - 0s 5ms/step - loss: 143.9807 - mae: 5.5806 - val_loss: 78.9771 - val_mae: 4.2692\n",
      "Epoch 153/550\n",
      "22/22 [==============================] - 0s 5ms/step - loss: 137.6595 - mae: 5.1866 - val_loss: 79.6971 - val_mae: 4.4102\n",
      "Epoch 154/550\n",
      "22/22 [==============================] - 0s 5ms/step - loss: 113.2080 - mae: 4.9015 - val_loss: 75.8180 - val_mae: 3.6203\n",
      "Epoch 155/550\n",
      "22/22 [==============================] - 0s 5ms/step - loss: 133.0075 - mae: 5.1081 - val_loss: 99.1119 - val_mae: 6.3737\n",
      "Epoch 156/550\n",
      "22/22 [==============================] - 0s 5ms/step - loss: 138.1426 - mae: 5.3766 - val_loss: 73.1702 - val_mae: 3.5741\n",
      "Epoch 157/550\n",
      "22/22 [==============================] - 0s 5ms/step - loss: 129.0088 - mae: 4.9902 - val_loss: 123.0805 - val_mae: 7.2611\n",
      "Epoch 158/550\n",
      "22/22 [==============================] - 0s 6ms/step - loss: 138.9843 - mae: 5.7018 - val_loss: 76.2045 - val_mae: 4.5668\n",
      "Epoch 159/550\n",
      "22/22 [==============================] - 0s 5ms/step - loss: 108.9615 - mae: 4.5249 - val_loss: 81.7971 - val_mae: 3.7089\n",
      "Epoch 160/550\n",
      "22/22 [==============================] - 0s 5ms/step - loss: 107.4495 - mae: 4.7795 - val_loss: 72.0897 - val_mae: 3.4711\n",
      "Epoch 161/550\n",
      "22/22 [==============================] - 0s 5ms/step - loss: 121.7530 - mae: 4.9578 - val_loss: 70.4932 - val_mae: 3.4654\n",
      "Epoch 162/550\n",
      "22/22 [==============================] - 0s 5ms/step - loss: 114.3622 - mae: 4.9538 - val_loss: 83.5703 - val_mae: 4.1510\n",
      "Epoch 163/550\n",
      "22/22 [==============================] - 0s 5ms/step - loss: 127.0065 - mae: 5.3673 - val_loss: 97.1382 - val_mae: 5.1361\n",
      "Epoch 164/550\n",
      "22/22 [==============================] - 0s 5ms/step - loss: 108.9011 - mae: 4.6254 - val_loss: 68.7859 - val_mae: 3.4802\n",
      "Epoch 165/550\n",
      "22/22 [==============================] - 0s 5ms/step - loss: 104.9430 - mae: 4.2908 - val_loss: 72.3996 - val_mae: 3.4194\n",
      "Epoch 166/550\n",
      "22/22 [==============================] - 0s 5ms/step - loss: 106.7502 - mae: 4.9352 - val_loss: 68.9799 - val_mae: 3.7676\n",
      "Epoch 167/550\n",
      "22/22 [==============================] - 0s 4ms/step - loss: 123.6205 - mae: 5.4421 - val_loss: 100.0647 - val_mae: 5.1400\n",
      "Epoch 168/550\n",
      "22/22 [==============================] - 0s 5ms/step - loss: 128.8244 - mae: 5.4088 - val_loss: 257.4732 - val_mae: 13.5664\n",
      "Epoch 169/550\n",
      "22/22 [==============================] - 0s 5ms/step - loss: 114.9900 - mae: 5.0671 - val_loss: 69.5275 - val_mae: 3.5425\n",
      "Epoch 170/550\n",
      "22/22 [==============================] - 0s 5ms/step - loss: 95.4010 - mae: 4.1273 - val_loss: 73.3994 - val_mae: 3.9796\n",
      "Epoch 171/550\n",
      "22/22 [==============================] - 0s 4ms/step - loss: 103.1536 - mae: 4.6985 - val_loss: 66.0210 - val_mae: 3.2625\n",
      "Epoch 172/550\n",
      "22/22 [==============================] - 0s 5ms/step - loss: 108.3063 - mae: 4.7604 - val_loss: 121.0143 - val_mae: 6.0495\n",
      "Epoch 173/550\n",
      "22/22 [==============================] - 0s 5ms/step - loss: 115.6859 - mae: 5.0163 - val_loss: 64.1998 - val_mae: 3.1640\n",
      "Epoch 174/550\n",
      "22/22 [==============================] - 0s 5ms/step - loss: 120.5739 - mae: 4.5675 - val_loss: 104.6970 - val_mae: 7.8707\n",
      "Epoch 175/550\n",
      "22/22 [==============================] - 0s 5ms/step - loss: 93.9302 - mae: 4.5629 - val_loss: 65.0628 - val_mae: 3.2926\n",
      "Epoch 176/550\n",
      "22/22 [==============================] - 0s 5ms/step - loss: 83.8344 - mae: 4.1490 - val_loss: 74.1588 - val_mae: 3.6495\n",
      "Epoch 177/550\n",
      "22/22 [==============================] - 0s 5ms/step - loss: 97.3094 - mae: 4.4981 - val_loss: 73.5695 - val_mae: 3.8384\n",
      "Epoch 178/550\n",
      "22/22 [==============================] - 0s 5ms/step - loss: 117.7168 - mae: 5.1188 - val_loss: 60.4874 - val_mae: 3.2381\n",
      "Epoch 179/550\n",
      "22/22 [==============================] - 0s 5ms/step - loss: 103.7581 - mae: 4.6927 - val_loss: 87.2886 - val_mae: 5.3999\n",
      "Epoch 180/550\n",
      "22/22 [==============================] - 0s 6ms/step - loss: 86.8882 - mae: 4.4808 - val_loss: 93.9531 - val_mae: 6.2391\n",
      "Epoch 181/550\n",
      "22/22 [==============================] - 0s 5ms/step - loss: 88.2332 - mae: 4.3611 - val_loss: 73.7442 - val_mae: 4.5877\n",
      "Epoch 182/550\n",
      "22/22 [==============================] - 0s 5ms/step - loss: 82.2141 - mae: 4.2003 - val_loss: 68.5162 - val_mae: 3.3159\n",
      "Epoch 183/550\n",
      "22/22 [==============================] - 0s 4ms/step - loss: 117.0638 - mae: 5.1089 - val_loss: 83.7874 - val_mae: 6.5936\n",
      "Epoch 184/550\n",
      "22/22 [==============================] - 0s 4ms/step - loss: 85.7545 - mae: 4.5069 - val_loss: 65.4359 - val_mae: 3.0131\n",
      "Epoch 185/550\n",
      "22/22 [==============================] - 0s 4ms/step - loss: 80.5458 - mae: 4.0847 - val_loss: 157.9525 - val_mae: 8.5118\n",
      "Epoch 186/550\n",
      "22/22 [==============================] - 0s 4ms/step - loss: 81.6004 - mae: 4.4790 - val_loss: 106.6272 - val_mae: 5.6416\n",
      "Epoch 187/550\n",
      "22/22 [==============================] - 0s 4ms/step - loss: 76.9858 - mae: 4.2859 - val_loss: 90.5234 - val_mae: 5.2220\n",
      "Epoch 188/550\n",
      "22/22 [==============================] - 0s 4ms/step - loss: 81.9047 - mae: 4.4294 - val_loss: 64.4830 - val_mae: 2.9118\n",
      "Epoch 189/550\n",
      "22/22 [==============================] - 0s 4ms/step - loss: 81.9061 - mae: 4.3844 - val_loss: 61.6749 - val_mae: 3.0226\n",
      "Epoch 190/550\n",
      "22/22 [==============================] - 0s 4ms/step - loss: 73.4516 - mae: 3.7766 - val_loss: 63.2041 - val_mae: 4.0622\n",
      "Epoch 191/550\n",
      "22/22 [==============================] - 0s 4ms/step - loss: 70.7583 - mae: 4.0331 - val_loss: 65.5923 - val_mae: 3.3134\n",
      "Epoch 192/550\n",
      "22/22 [==============================] - 0s 4ms/step - loss: 62.0276 - mae: 3.2814 - val_loss: 63.1202 - val_mae: 4.2225\n",
      "Epoch 193/550\n",
      "22/22 [==============================] - 0s 4ms/step - loss: 92.8785 - mae: 5.0650 - val_loss: 56.0929 - val_mae: 2.9927\n",
      "Epoch 194/550\n",
      "22/22 [==============================] - 0s 4ms/step - loss: 65.3493 - mae: 3.6170 - val_loss: 66.0451 - val_mae: 3.3891\n",
      "Epoch 195/550\n",
      "22/22 [==============================] - 0s 4ms/step - loss: 66.4007 - mae: 3.9475 - val_loss: 61.4932 - val_mae: 3.3856\n",
      "Epoch 196/550\n",
      "22/22 [==============================] - 0s 4ms/step - loss: 69.2080 - mae: 3.9174 - val_loss: 72.6974 - val_mae: 4.2380\n",
      "Epoch 197/550\n",
      "22/22 [==============================] - 0s 4ms/step - loss: 61.3403 - mae: 3.6574 - val_loss: 56.1886 - val_mae: 3.3977\n",
      "Epoch 198/550\n",
      "22/22 [==============================] - 0s 4ms/step - loss: 62.2464 - mae: 3.7099 - val_loss: 54.4415 - val_mae: 2.7467\n",
      "Epoch 199/550\n",
      "22/22 [==============================] - 0s 5ms/step - loss: 53.0613 - mae: 3.1757 - val_loss: 87.7857 - val_mae: 6.8608\n",
      "Epoch 200/550\n",
      "22/22 [==============================] - 0s 5ms/step - loss: 51.2875 - mae: 3.4195 - val_loss: 59.4129 - val_mae: 2.8844\n",
      "Epoch 201/550\n",
      "22/22 [==============================] - 0s 5ms/step - loss: 61.0308 - mae: 3.8570 - val_loss: 58.8117 - val_mae: 2.9223\n",
      "Epoch 202/550\n",
      "22/22 [==============================] - 0s 6ms/step - loss: 53.9960 - mae: 3.5309 - val_loss: 53.3552 - val_mae: 2.7812\n",
      "Epoch 203/550\n",
      "22/22 [==============================] - 0s 6ms/step - loss: 55.0199 - mae: 3.7233 - val_loss: 52.1056 - val_mae: 2.5959\n",
      "Epoch 204/550\n",
      "22/22 [==============================] - 0s 6ms/step - loss: 44.4474 - mae: 3.1960 - val_loss: 56.8660 - val_mae: 2.8819\n",
      "Epoch 205/550\n",
      "22/22 [==============================] - 0s 5ms/step - loss: 47.0144 - mae: 3.2878 - val_loss: 57.6877 - val_mae: 2.8837\n",
      "Epoch 206/550\n",
      "22/22 [==============================] - 0s 4ms/step - loss: 53.1402 - mae: 3.6118 - val_loss: 59.0746 - val_mae: 3.0036\n",
      "Epoch 207/550\n",
      "22/22 [==============================] - 0s 4ms/step - loss: 54.4191 - mae: 3.3802 - val_loss: 67.4452 - val_mae: 4.0326\n",
      "Epoch 208/550\n",
      "22/22 [==============================] - 0s 5ms/step - loss: 42.9230 - mae: 2.9233 - val_loss: 55.8191 - val_mae: 3.4734\n",
      "Epoch 209/550\n",
      "22/22 [==============================] - 0s 6ms/step - loss: 44.8959 - mae: 3.2965 - val_loss: 54.5983 - val_mae: 2.8145\n",
      "Epoch 210/550\n",
      "22/22 [==============================] - 0s 8ms/step - loss: 39.9729 - mae: 2.8391 - val_loss: 53.8927 - val_mae: 2.9374\n",
      "Epoch 211/550\n",
      "22/22 [==============================] - 0s 6ms/step - loss: 38.1604 - mae: 3.0866 - val_loss: 51.1973 - val_mae: 2.6065\n",
      "Epoch 212/550\n",
      "22/22 [==============================] - 0s 4ms/step - loss: 41.2161 - mae: 2.9988 - val_loss: 50.5230 - val_mae: 2.5185\n",
      "Epoch 213/550\n",
      "22/22 [==============================] - 0s 4ms/step - loss: 49.0448 - mae: 3.3407 - val_loss: 66.0147 - val_mae: 4.1844\n",
      "Epoch 214/550\n",
      "22/22 [==============================] - 0s 4ms/step - loss: 48.7586 - mae: 3.4228 - val_loss: 74.0931 - val_mae: 4.5193\n",
      "Epoch 215/550\n",
      "22/22 [==============================] - 0s 4ms/step - loss: 45.4511 - mae: 3.5738 - val_loss: 54.0236 - val_mae: 3.0323\n",
      "Epoch 216/550\n",
      "22/22 [==============================] - 0s 4ms/step - loss: 45.3347 - mae: 3.3180 - val_loss: 83.7651 - val_mae: 6.6729\n",
      "Epoch 217/550\n",
      "22/22 [==============================] - 0s 4ms/step - loss: 43.6352 - mae: 3.3465 - val_loss: 67.4421 - val_mae: 4.5176\n",
      "Epoch 218/550\n",
      "22/22 [==============================] - 0s 4ms/step - loss: 35.8390 - mae: 2.6778 - val_loss: 53.5041 - val_mae: 3.1417\n",
      "Epoch 219/550\n",
      "22/22 [==============================] - 0s 4ms/step - loss: 39.7651 - mae: 3.0108 - val_loss: 63.3849 - val_mae: 4.1171\n",
      "Epoch 220/550\n",
      "22/22 [==============================] - 0s 4ms/step - loss: 35.6472 - mae: 2.8877 - val_loss: 54.4344 - val_mae: 3.2611\n",
      "Epoch 221/550\n",
      "22/22 [==============================] - 0s 6ms/step - loss: 36.3013 - mae: 2.7052 - val_loss: 94.5698 - val_mae: 7.5619\n",
      "Epoch 222/550\n",
      "22/22 [==============================] - 0s 5ms/step - loss: 37.3572 - mae: 2.9925 - val_loss: 55.7976 - val_mae: 3.3446\n",
      "Epoch 223/550\n",
      "22/22 [==============================] - 0s 4ms/step - loss: 36.6161 - mae: 2.8635 - val_loss: 101.0027 - val_mae: 6.3872\n",
      "Epoch 224/550\n",
      "22/22 [==============================] - 0s 4ms/step - loss: 35.7790 - mae: 2.8144 - val_loss: 50.6696 - val_mae: 2.9672\n",
      "Epoch 225/550\n",
      "22/22 [==============================] - 0s 4ms/step - loss: 32.6393 - mae: 2.5844 - val_loss: 59.9986 - val_mae: 3.9888\n",
      "Epoch 226/550\n",
      "22/22 [==============================] - 0s 5ms/step - loss: 38.5624 - mae: 3.0218 - val_loss: 48.9166 - val_mae: 2.6468\n",
      "Epoch 227/550\n",
      "22/22 [==============================] - 0s 4ms/step - loss: 35.8833 - mae: 2.8193 - val_loss: 60.0859 - val_mae: 3.9281\n",
      "Epoch 228/550\n",
      "22/22 [==============================] - 0s 4ms/step - loss: 35.3607 - mae: 2.7890 - val_loss: 53.4866 - val_mae: 3.0722\n",
      "Epoch 229/550\n",
      "22/22 [==============================] - 0s 5ms/step - loss: 33.3538 - mae: 2.5188 - val_loss: 84.1231 - val_mae: 6.8623\n",
      "Epoch 230/550\n",
      "22/22 [==============================] - 0s 4ms/step - loss: 42.9586 - mae: 3.4301 - val_loss: 48.5088 - val_mae: 2.7226\n",
      "Epoch 231/550\n",
      "22/22 [==============================] - 0s 4ms/step - loss: 35.9499 - mae: 2.7459 - val_loss: 48.7081 - val_mae: 2.7301\n",
      "Epoch 232/550\n",
      "22/22 [==============================] - 0s 4ms/step - loss: 32.2309 - mae: 2.4545 - val_loss: 50.1405 - val_mae: 2.9972\n",
      "Epoch 233/550\n",
      "22/22 [==============================] - 0s 4ms/step - loss: 31.7481 - mae: 2.4689 - val_loss: 48.7329 - val_mae: 2.6158\n",
      "Epoch 234/550\n",
      "22/22 [==============================] - 0s 4ms/step - loss: 31.3133 - mae: 2.4063 - val_loss: 48.8718 - val_mae: 2.6094\n",
      "Epoch 235/550\n",
      "22/22 [==============================] - 0s 4ms/step - loss: 33.1775 - mae: 2.4123 - val_loss: 95.0580 - val_mae: 7.6893\n",
      "Epoch 236/550\n",
      "22/22 [==============================] - 0s 5ms/step - loss: 36.4410 - mae: 2.9143 - val_loss: 51.3518 - val_mae: 2.9490\n",
      "Epoch 237/550\n",
      "22/22 [==============================] - 0s 5ms/step - loss: 32.1889 - mae: 2.8034 - val_loss: 50.5011 - val_mae: 2.8408\n",
      "Epoch 238/550\n",
      "22/22 [==============================] - 0s 4ms/step - loss: 32.4919 - mae: 2.5573 - val_loss: 52.6348 - val_mae: 3.3098\n",
      "Epoch 239/550\n",
      "22/22 [==============================] - 0s 4ms/step - loss: 33.0199 - mae: 2.6053 - val_loss: 50.0922 - val_mae: 2.6472\n",
      "Epoch 240/550\n",
      "22/22 [==============================] - 0s 4ms/step - loss: 30.9112 - mae: 2.3790 - val_loss: 81.5350 - val_mae: 6.7981\n",
      "Epoch 241/550\n",
      "22/22 [==============================] - 0s 4ms/step - loss: 46.6277 - mae: 3.7562 - val_loss: 50.8758 - val_mae: 2.7418\n",
      "Epoch 242/550\n",
      "22/22 [==============================] - 0s 4ms/step - loss: 36.8812 - mae: 3.0472 - val_loss: 58.5980 - val_mae: 3.1791\n",
      "Epoch 243/550\n",
      "22/22 [==============================] - 0s 4ms/step - loss: 32.2807 - mae: 2.4262 - val_loss: 137.5189 - val_mae: 9.7892\n",
      "Epoch 244/550\n",
      "22/22 [==============================] - 0s 5ms/step - loss: 38.1560 - mae: 2.9258 - val_loss: 51.1844 - val_mae: 3.2293\n",
      "Epoch 245/550\n",
      "22/22 [==============================] - 0s 5ms/step - loss: 33.1338 - mae: 2.8169 - val_loss: 52.9779 - val_mae: 3.1489\n",
      "Epoch 246/550\n",
      "22/22 [==============================] - 0s 5ms/step - loss: 31.6527 - mae: 2.4148 - val_loss: 75.7724 - val_mae: 6.4042\n",
      "Epoch 247/550\n",
      "22/22 [==============================] - 0s 5ms/step - loss: 35.5724 - mae: 2.8212 - val_loss: 55.3853 - val_mae: 3.5636\n",
      "Epoch 248/550\n",
      "22/22 [==============================] - 0s 5ms/step - loss: 34.2660 - mae: 2.5533 - val_loss: 47.9440 - val_mae: 2.6473\n",
      "Epoch 249/550\n",
      "22/22 [==============================] - 0s 7ms/step - loss: 34.6361 - mae: 2.6781 - val_loss: 50.3032 - val_mae: 3.0933\n",
      "Epoch 250/550\n",
      "22/22 [==============================] - 0s 5ms/step - loss: 30.9415 - mae: 2.3467 - val_loss: 49.9647 - val_mae: 3.0026\n",
      "Epoch 251/550\n",
      "22/22 [==============================] - 0s 7ms/step - loss: 27.7625 - mae: 2.2623 - val_loss: 55.4678 - val_mae: 3.5030\n",
      "Epoch 252/550\n",
      "22/22 [==============================] - 0s 4ms/step - loss: 32.5751 - mae: 2.5268 - val_loss: 45.8411 - val_mae: 2.5706\n",
      "Epoch 253/550\n",
      "22/22 [==============================] - 0s 5ms/step - loss: 33.9425 - mae: 2.5692 - val_loss: 47.5920 - val_mae: 2.4211\n",
      "Epoch 254/550\n",
      "22/22 [==============================] - 0s 5ms/step - loss: 37.9793 - mae: 2.8279 - val_loss: 46.1656 - val_mae: 2.7176\n",
      "Epoch 255/550\n",
      "22/22 [==============================] - 0s 13ms/step - loss: 32.3516 - mae: 2.5020 - val_loss: 93.7797 - val_mae: 5.5231\n",
      "Epoch 256/550\n",
      "22/22 [==============================] - 0s 6ms/step - loss: 38.4065 - mae: 3.0342 - val_loss: 47.2761 - val_mae: 2.8605\n",
      "Epoch 257/550\n",
      "22/22 [==============================] - 0s 4ms/step - loss: 29.2449 - mae: 2.1308 - val_loss: 57.3358 - val_mae: 4.8984\n",
      "Epoch 258/550\n",
      "22/22 [==============================] - 0s 4ms/step - loss: 35.1171 - mae: 2.8028 - val_loss: 47.0781 - val_mae: 2.8525\n",
      "Epoch 259/550\n",
      "22/22 [==============================] - 0s 4ms/step - loss: 36.7277 - mae: 2.8223 - val_loss: 94.3711 - val_mae: 5.4675\n",
      "Epoch 260/550\n",
      "22/22 [==============================] - 0s 6ms/step - loss: 42.5472 - mae: 3.4238 - val_loss: 60.5339 - val_mae: 3.7312\n",
      "Epoch 261/550\n",
      "22/22 [==============================] - 0s 5ms/step - loss: 36.9843 - mae: 2.9356 - val_loss: 52.0230 - val_mae: 3.0729\n",
      "Epoch 262/550\n",
      "22/22 [==============================] - 0s 5ms/step - loss: 31.9116 - mae: 2.6509 - val_loss: 58.5084 - val_mae: 3.8584\n",
      "Epoch 263/550\n",
      "22/22 [==============================] - 0s 5ms/step - loss: 31.3479 - mae: 2.4215 - val_loss: 49.5598 - val_mae: 2.8543\n",
      "Epoch 264/550\n",
      "22/22 [==============================] - 0s 4ms/step - loss: 33.2709 - mae: 2.5945 - val_loss: 52.5613 - val_mae: 3.3173\n",
      "Epoch 265/550\n",
      "22/22 [==============================] - 0s 4ms/step - loss: 33.4565 - mae: 2.6712 - val_loss: 47.2890 - val_mae: 2.7025\n",
      "Epoch 266/550\n",
      "22/22 [==============================] - 0s 4ms/step - loss: 33.5916 - mae: 2.6443 - val_loss: 95.4808 - val_mae: 6.4080\n",
      "Epoch 267/550\n",
      "22/22 [==============================] - 0s 4ms/step - loss: 36.4791 - mae: 2.9498 - val_loss: 52.2460 - val_mae: 2.9395\n",
      "Epoch 268/550\n",
      "22/22 [==============================] - 0s 4ms/step - loss: 32.4823 - mae: 2.6827 - val_loss: 46.6425 - val_mae: 2.8430\n",
      "Epoch 269/550\n",
      "22/22 [==============================] - 0s 4ms/step - loss: 31.8487 - mae: 2.3991 - val_loss: 50.9156 - val_mae: 3.0487\n",
      "Epoch 270/550\n",
      "22/22 [==============================] - 0s 4ms/step - loss: 28.5164 - mae: 2.1528 - val_loss: 74.2762 - val_mae: 6.2151\n",
      "Epoch 271/550\n",
      "22/22 [==============================] - 0s 4ms/step - loss: 37.1853 - mae: 2.8764 - val_loss: 49.2627 - val_mae: 2.8915\n",
      "Epoch 272/550\n",
      "22/22 [==============================] - 0s 4ms/step - loss: 36.7863 - mae: 2.7917 - val_loss: 48.8264 - val_mae: 2.5813\n",
      "Epoch 273/550\n",
      "22/22 [==============================] - 0s 4ms/step - loss: 40.3423 - mae: 2.9211 - val_loss: 70.5146 - val_mae: 4.8514\n",
      "Epoch 274/550\n",
      "22/22 [==============================] - 0s 4ms/step - loss: 38.9880 - mae: 2.7245 - val_loss: 104.2737 - val_mae: 5.4957\n",
      "Epoch 275/550\n",
      "22/22 [==============================] - 0s 4ms/step - loss: 50.5597 - mae: 3.6650 - val_loss: 50.5605 - val_mae: 2.9569\n",
      "Epoch 276/550\n",
      "22/22 [==============================] - 0s 4ms/step - loss: 38.3002 - mae: 3.0524 - val_loss: 46.7648 - val_mae: 2.7739\n",
      "Epoch 277/550\n",
      "22/22 [==============================] - 0s 4ms/step - loss: 29.7143 - mae: 2.2150 - val_loss: 86.8901 - val_mae: 7.0819\n",
      "Epoch 278/550\n",
      "22/22 [==============================] - 0s 4ms/step - loss: 35.5653 - mae: 2.9668 - val_loss: 48.2537 - val_mae: 2.7668\n",
      "Epoch 279/550\n",
      "22/22 [==============================] - 0s 5ms/step - loss: 30.5479 - mae: 2.3133 - val_loss: 48.2844 - val_mae: 2.6743\n",
      "Epoch 280/550\n",
      "22/22 [==============================] - 0s 5ms/step - loss: 37.1872 - mae: 2.6226 - val_loss: 55.3109 - val_mae: 3.5577\n",
      "Epoch 281/550\n",
      "22/22 [==============================] - 0s 7ms/step - loss: 34.1848 - mae: 2.6264 - val_loss: 49.8765 - val_mae: 2.9280\n",
      "Epoch 282/550\n",
      "22/22 [==============================] - 0s 6ms/step - loss: 30.7518 - mae: 2.4526 - val_loss: 48.8216 - val_mae: 2.7696\n",
      "Epoch 283/550\n",
      "22/22 [==============================] - 0s 7ms/step - loss: 32.2832 - mae: 2.6642 - val_loss: 53.1327 - val_mae: 3.2908\n",
      "Epoch 284/550\n",
      "22/22 [==============================] - 0s 4ms/step - loss: 33.1562 - mae: 2.6804 - val_loss: 49.3030 - val_mae: 2.9016\n",
      "Epoch 285/550\n",
      "22/22 [==============================] - 0s 5ms/step - loss: 28.9466 - mae: 2.2193 - val_loss: 45.8338 - val_mae: 2.5687\n",
      "Epoch 286/550\n",
      "22/22 [==============================] - 0s 4ms/step - loss: 28.7665 - mae: 2.2760 - val_loss: 46.8714 - val_mae: 2.5342\n",
      "Epoch 287/550\n",
      "22/22 [==============================] - 0s 6ms/step - loss: 30.4035 - mae: 2.2086 - val_loss: 44.9512 - val_mae: 2.6232\n",
      "Epoch 288/550\n",
      "22/22 [==============================] - 0s 5ms/step - loss: 39.9399 - mae: 3.0382 - val_loss: 55.2627 - val_mae: 3.4126\n",
      "Epoch 289/550\n",
      "22/22 [==============================] - 0s 5ms/step - loss: 30.5939 - mae: 2.5740 - val_loss: 46.4994 - val_mae: 2.5166\n",
      "Epoch 290/550\n",
      "22/22 [==============================] - 0s 4ms/step - loss: 33.6101 - mae: 2.6874 - val_loss: 47.8165 - val_mae: 2.8264\n",
      "Epoch 291/550\n",
      "22/22 [==============================] - 0s 5ms/step - loss: 33.8750 - mae: 2.7665 - val_loss: 47.5945 - val_mae: 2.7458\n",
      "Epoch 292/550\n",
      "22/22 [==============================] - 0s 4ms/step - loss: 30.0562 - mae: 2.3339 - val_loss: 50.3520 - val_mae: 3.1070\n",
      "Epoch 293/550\n",
      "22/22 [==============================] - 0s 5ms/step - loss: 42.7726 - mae: 3.3850 - val_loss: 50.1586 - val_mae: 3.2699\n",
      "Epoch 294/550\n",
      "22/22 [==============================] - 0s 4ms/step - loss: 31.9460 - mae: 2.4104 - val_loss: 47.5541 - val_mae: 2.7008\n",
      "Epoch 295/550\n",
      "22/22 [==============================] - 0s 4ms/step - loss: 30.4970 - mae: 2.3921 - val_loss: 50.9496 - val_mae: 3.1275\n",
      "Epoch 296/550\n",
      "22/22 [==============================] - 0s 4ms/step - loss: 33.6107 - mae: 2.7154 - val_loss: 51.6978 - val_mae: 3.2020\n",
      "Epoch 297/550\n",
      "22/22 [==============================] - 0s 6ms/step - loss: 34.3814 - mae: 2.7615 - val_loss: 47.3519 - val_mae: 2.8039\n",
      "Epoch 298/550\n",
      "22/22 [==============================] - 0s 4ms/step - loss: 35.0333 - mae: 2.8037 - val_loss: 49.8104 - val_mae: 3.1397\n",
      "Epoch 299/550\n",
      "22/22 [==============================] - 0s 4ms/step - loss: 28.9280 - mae: 2.2835 - val_loss: 48.8458 - val_mae: 2.6824\n",
      "Epoch 300/550\n",
      "22/22 [==============================] - 0s 5ms/step - loss: 66.5718 - mae: 4.5258 - val_loss: 57.1881 - val_mae: 3.2047\n",
      "Epoch 301/550\n",
      "22/22 [==============================] - 0s 4ms/step - loss: 35.5205 - mae: 2.7648 - val_loss: 48.3715 - val_mae: 2.7860\n",
      "Epoch 302/550\n",
      "22/22 [==============================] - 0s 4ms/step - loss: 29.2962 - mae: 2.4369 - val_loss: 46.6310 - val_mae: 2.6065\n",
      "Epoch 303/550\n",
      "22/22 [==============================] - 0s 4ms/step - loss: 28.6789 - mae: 2.3454 - val_loss: 49.1923 - val_mae: 2.6598\n",
      "Epoch 304/550\n",
      "22/22 [==============================] - 0s 5ms/step - loss: 32.6295 - mae: 2.4895 - val_loss: 61.8910 - val_mae: 4.4554\n",
      "Epoch 305/550\n",
      "22/22 [==============================] - 0s 4ms/step - loss: 32.8192 - mae: 2.5493 - val_loss: 48.4318 - val_mae: 2.8394\n",
      "Epoch 306/550\n",
      "22/22 [==============================] - 0s 4ms/step - loss: 36.9996 - mae: 2.8676 - val_loss: 50.4942 - val_mae: 2.9191\n",
      "Epoch 307/550\n",
      "22/22 [==============================] - 0s 5ms/step - loss: 40.3614 - mae: 3.0336 - val_loss: 49.6081 - val_mae: 3.2372\n",
      "Epoch 308/550\n",
      "22/22 [==============================] - 0s 4ms/step - loss: 30.4581 - mae: 2.5235 - val_loss: 46.8712 - val_mae: 2.8226\n",
      "Epoch 309/550\n",
      "22/22 [==============================] - 0s 4ms/step - loss: 39.4039 - mae: 2.9694 - val_loss: 47.0297 - val_mae: 2.5748\n",
      "Epoch 310/550\n",
      "22/22 [==============================] - 0s 5ms/step - loss: 29.7319 - mae: 2.2100 - val_loss: 48.8661 - val_mae: 2.6712\n",
      "Epoch 311/550\n",
      "22/22 [==============================] - 0s 5ms/step - loss: 32.2258 - mae: 2.4452 - val_loss: 47.4284 - val_mae: 2.5410\n",
      "Epoch 312/550\n",
      "22/22 [==============================] - 0s 5ms/step - loss: 29.1296 - mae: 2.4372 - val_loss: 48.3025 - val_mae: 2.5367\n",
      "Epoch 313/550\n",
      "22/22 [==============================] - 0s 5ms/step - loss: 32.5916 - mae: 2.5691 - val_loss: 49.2422 - val_mae: 2.7743\n",
      "Epoch 314/550\n",
      "22/22 [==============================] - 0s 4ms/step - loss: 45.2000 - mae: 3.0747 - val_loss: 56.7300 - val_mae: 3.5742\n",
      "Epoch 315/550\n",
      "22/22 [==============================] - 0s 5ms/step - loss: 33.9137 - mae: 2.7636 - val_loss: 53.3599 - val_mae: 2.9695\n",
      "Epoch 316/550\n",
      "22/22 [==============================] - 0s 4ms/step - loss: 30.4276 - mae: 2.2713 - val_loss: 46.2080 - val_mae: 2.6189\n",
      "Epoch 317/550\n",
      "22/22 [==============================] - 0s 4ms/step - loss: 32.8615 - mae: 2.6587 - val_loss: 50.2103 - val_mae: 3.1325\n",
      "Epoch 318/550\n",
      "22/22 [==============================] - 0s 5ms/step - loss: 33.8292 - mae: 2.8315 - val_loss: 46.8969 - val_mae: 2.6569\n",
      "Epoch 319/550\n",
      "22/22 [==============================] - 0s 5ms/step - loss: 44.1209 - mae: 2.9941 - val_loss: 52.1090 - val_mae: 3.0985\n",
      "Epoch 320/550\n",
      "22/22 [==============================] - 0s 4ms/step - loss: 34.4642 - mae: 2.7366 - val_loss: 46.9007 - val_mae: 2.5626\n",
      "Epoch 321/550\n",
      "22/22 [==============================] - 0s 6ms/step - loss: 32.7535 - mae: 2.4694 - val_loss: 48.8323 - val_mae: 2.6788\n",
      "Epoch 322/550\n",
      "22/22 [==============================] - 0s 5ms/step - loss: 33.6885 - mae: 2.5623 - val_loss: 54.5203 - val_mae: 3.0295\n",
      "Epoch 323/550\n",
      "22/22 [==============================] - 0s 5ms/step - loss: 34.2161 - mae: 2.6680 - val_loss: 56.0063 - val_mae: 3.7621\n",
      "Epoch 324/550\n",
      "22/22 [==============================] - 0s 4ms/step - loss: 35.8488 - mae: 2.8825 - val_loss: 46.3577 - val_mae: 2.6306\n",
      "Epoch 325/550\n",
      "22/22 [==============================] - 0s 4ms/step - loss: 27.2286 - mae: 2.1935 - val_loss: 46.6817 - val_mae: 2.5285\n",
      "Epoch 326/550\n",
      "22/22 [==============================] - 0s 4ms/step - loss: 31.7746 - mae: 2.3721 - val_loss: 47.6275 - val_mae: 2.7726\n",
      "Epoch 327/550\n",
      "22/22 [==============================] - 0s 4ms/step - loss: 32.8658 - mae: 2.5945 - val_loss: 55.1109 - val_mae: 3.5319\n",
      "Epoch 328/550\n",
      "22/22 [==============================] - 0s 5ms/step - loss: 33.0087 - mae: 2.5340 - val_loss: 47.8165 - val_mae: 2.6724\n",
      "Epoch 329/550\n",
      "22/22 [==============================] - 0s 4ms/step - loss: 32.1881 - mae: 2.4774 - val_loss: 48.1329 - val_mae: 2.6310\n",
      "Epoch 330/550\n",
      "22/22 [==============================] - 0s 4ms/step - loss: 31.2463 - mae: 2.4874 - val_loss: 51.7748 - val_mae: 3.2402\n",
      "Epoch 331/550\n",
      "22/22 [==============================] - 0s 5ms/step - loss: 32.9818 - mae: 2.5613 - val_loss: 53.7729 - val_mae: 3.3544\n",
      "Epoch 332/550\n",
      "22/22 [==============================] - 0s 5ms/step - loss: 32.1228 - mae: 2.5284 - val_loss: 48.0608 - val_mae: 2.7497\n",
      "Epoch 333/550\n",
      "22/22 [==============================] - 0s 4ms/step - loss: 33.7619 - mae: 2.4678 - val_loss: 47.7516 - val_mae: 2.8490\n",
      "Epoch 334/550\n",
      "22/22 [==============================] - 0s 4ms/step - loss: 32.6578 - mae: 2.5873 - val_loss: 56.0284 - val_mae: 3.5239\n",
      "Epoch 335/550\n",
      "22/22 [==============================] - 0s 4ms/step - loss: 29.4367 - mae: 2.1852 - val_loss: 60.4053 - val_mae: 4.1207\n",
      "Epoch 336/550\n",
      "22/22 [==============================] - 0s 5ms/step - loss: 30.6438 - mae: 2.4155 - val_loss: 44.5467 - val_mae: 2.6639\n",
      "Epoch 337/550\n",
      "22/22 [==============================] - 0s 5ms/step - loss: 36.6642 - mae: 2.6177 - val_loss: 151.7729 - val_mae: 9.2413\n",
      "Epoch 338/550\n",
      "22/22 [==============================] - 0s 5ms/step - loss: 63.3817 - mae: 4.0701 - val_loss: 49.5336 - val_mae: 2.8956\n",
      "Epoch 339/550\n",
      "22/22 [==============================] - 0s 4ms/step - loss: 30.5965 - mae: 2.5016 - val_loss: 49.4630 - val_mae: 2.8097\n",
      "Epoch 340/550\n",
      "22/22 [==============================] - 0s 4ms/step - loss: 28.8557 - mae: 2.0902 - val_loss: 55.3580 - val_mae: 3.9847\n",
      "Epoch 341/550\n",
      "22/22 [==============================] - 0s 5ms/step - loss: 32.1905 - mae: 2.5864 - val_loss: 48.1759 - val_mae: 2.8312\n",
      "Epoch 342/550\n",
      "22/22 [==============================] - 0s 4ms/step - loss: 32.3937 - mae: 2.5097 - val_loss: 97.8987 - val_mae: 6.2830\n",
      "Epoch 343/550\n",
      "22/22 [==============================] - 0s 4ms/step - loss: 34.1741 - mae: 2.8450 - val_loss: 47.7090 - val_mae: 2.6302\n",
      "Epoch 344/550\n",
      "22/22 [==============================] - 0s 4ms/step - loss: 28.8672 - mae: 2.1642 - val_loss: 45.6276 - val_mae: 2.5626\n",
      "Epoch 345/550\n",
      "22/22 [==============================] - 0s 4ms/step - loss: 31.5209 - mae: 2.4653 - val_loss: 52.3457 - val_mae: 3.1204\n",
      "Epoch 346/550\n",
      "22/22 [==============================] - 0s 4ms/step - loss: 36.6489 - mae: 2.9421 - val_loss: 71.8927 - val_mae: 4.8270\n",
      "Epoch 347/550\n",
      "22/22 [==============================] - 0s 4ms/step - loss: 32.1648 - mae: 2.5115 - val_loss: 44.4209 - val_mae: 2.5253\n",
      "Epoch 348/550\n",
      "22/22 [==============================] - 0s 4ms/step - loss: 37.5758 - mae: 2.8337 - val_loss: 51.5636 - val_mae: 2.9067\n",
      "Epoch 349/550\n",
      "22/22 [==============================] - 0s 4ms/step - loss: 36.7607 - mae: 2.8657 - val_loss: 57.9090 - val_mae: 3.3694\n",
      "Epoch 350/550\n",
      "22/22 [==============================] - 0s 4ms/step - loss: 34.8946 - mae: 2.6415 - val_loss: 53.0098 - val_mae: 3.0592\n",
      "Epoch 351/550\n",
      "22/22 [==============================] - 0s 4ms/step - loss: 31.8406 - mae: 2.4199 - val_loss: 48.2489 - val_mae: 2.7848\n",
      "Epoch 352/550\n",
      "22/22 [==============================] - 0s 5ms/step - loss: 38.5916 - mae: 3.0805 - val_loss: 47.3229 - val_mae: 2.6138\n",
      "Epoch 353/550\n",
      "22/22 [==============================] - 0s 4ms/step - loss: 32.4857 - mae: 2.4844 - val_loss: 49.9605 - val_mae: 2.8803\n",
      "Epoch 354/550\n",
      "22/22 [==============================] - 0s 5ms/step - loss: 30.6412 - mae: 2.2738 - val_loss: 45.1404 - val_mae: 2.5978\n",
      "Epoch 355/550\n",
      "22/22 [==============================] - 0s 5ms/step - loss: 29.3427 - mae: 2.1390 - val_loss: 59.6039 - val_mae: 4.8385\n",
      "Epoch 356/550\n",
      "22/22 [==============================] - 0s 4ms/step - loss: 30.4552 - mae: 2.4715 - val_loss: 44.7974 - val_mae: 2.5571\n",
      "Epoch 357/550\n",
      "22/22 [==============================] - 0s 4ms/step - loss: 41.9687 - mae: 3.0393 - val_loss: 52.0324 - val_mae: 3.2742\n",
      "Epoch 358/550\n",
      "22/22 [==============================] - 0s 4ms/step - loss: 36.1341 - mae: 2.7918 - val_loss: 63.6009 - val_mae: 4.0636\n",
      "Epoch 359/550\n",
      "22/22 [==============================] - 0s 4ms/step - loss: 36.0030 - mae: 2.7374 - val_loss: 47.0994 - val_mae: 2.5494\n",
      "Epoch 360/550\n",
      "22/22 [==============================] - 0s 4ms/step - loss: 29.0481 - mae: 2.4788 - val_loss: 51.9888 - val_mae: 3.2422\n",
      "Epoch 361/550\n",
      "22/22 [==============================] - 0s 4ms/step - loss: 28.5900 - mae: 2.1461 - val_loss: 46.4892 - val_mae: 2.6213\n",
      "Epoch 362/550\n",
      "22/22 [==============================] - 0s 4ms/step - loss: 33.4407 - mae: 2.6172 - val_loss: 48.4537 - val_mae: 2.7864\n",
      "Epoch 363/550\n",
      "22/22 [==============================] - 0s 4ms/step - loss: 29.8636 - mae: 2.3445 - val_loss: 48.9774 - val_mae: 3.1168\n",
      "Epoch 364/550\n",
      "22/22 [==============================] - 0s 4ms/step - loss: 30.5298 - mae: 2.4869 - val_loss: 48.6967 - val_mae: 2.9244\n",
      "Epoch 365/550\n",
      "22/22 [==============================] - 0s 4ms/step - loss: 30.8921 - mae: 2.3294 - val_loss: 47.9399 - val_mae: 2.8202\n",
      "Epoch 366/550\n",
      "22/22 [==============================] - 0s 4ms/step - loss: 37.0949 - mae: 2.8891 - val_loss: 47.5328 - val_mae: 2.6680\n",
      "Epoch 367/550\n",
      "22/22 [==============================] - 0s 4ms/step - loss: 27.7066 - mae: 2.2358 - val_loss: 47.0215 - val_mae: 2.6197\n",
      "Epoch 368/550\n",
      "22/22 [==============================] - 0s 5ms/step - loss: 28.0866 - mae: 2.2563 - val_loss: 47.9927 - val_mae: 2.6972\n",
      "Epoch 369/550\n",
      "22/22 [==============================] - 0s 5ms/step - loss: 29.3775 - mae: 2.2479 - val_loss: 48.3419 - val_mae: 2.6385\n",
      "Epoch 370/550\n",
      "22/22 [==============================] - 0s 5ms/step - loss: 36.4311 - mae: 2.7349 - val_loss: 149.7347 - val_mae: 9.1699\n",
      "Epoch 371/550\n",
      "22/22 [==============================] - 0s 5ms/step - loss: 35.4192 - mae: 2.7631 - val_loss: 47.7791 - val_mae: 2.7646\n",
      "Epoch 372/550\n",
      "22/22 [==============================] - 0s 4ms/step - loss: 34.0694 - mae: 2.8070 - val_loss: 53.9801 - val_mae: 3.1788\n",
      "Epoch 373/550\n",
      "22/22 [==============================] - 0s 4ms/step - loss: 36.8417 - mae: 2.9351 - val_loss: 50.0670 - val_mae: 3.4467\n",
      "Epoch 374/550\n",
      "22/22 [==============================] - 0s 4ms/step - loss: 32.1539 - mae: 2.6517 - val_loss: 54.0995 - val_mae: 3.0959\n",
      "Epoch 375/550\n",
      "22/22 [==============================] - 0s 4ms/step - loss: 34.4290 - mae: 2.6401 - val_loss: 46.2162 - val_mae: 2.6179\n",
      "Epoch 376/550\n",
      "22/22 [==============================] - 0s 4ms/step - loss: 32.1481 - mae: 2.5147 - val_loss: 49.1153 - val_mae: 2.8316\n",
      "Epoch 377/550\n",
      "22/22 [==============================] - 0s 4ms/step - loss: 34.9183 - mae: 2.6234 - val_loss: 48.4148 - val_mae: 3.1167\n",
      "Epoch 378/550\n",
      "22/22 [==============================] - 0s 4ms/step - loss: 31.6328 - mae: 2.5664 - val_loss: 47.8596 - val_mae: 2.8367\n",
      "Epoch 379/550\n",
      "22/22 [==============================] - 0s 4ms/step - loss: 37.4046 - mae: 3.0944 - val_loss: 48.2580 - val_mae: 2.9169\n",
      "Epoch 380/550\n",
      "22/22 [==============================] - 0s 5ms/step - loss: 30.4449 - mae: 2.3134 - val_loss: 102.8238 - val_mae: 7.9807\n",
      "Epoch 381/550\n",
      "22/22 [==============================] - 0s 4ms/step - loss: 34.3739 - mae: 2.7728 - val_loss: 46.4430 - val_mae: 2.6599\n",
      "Epoch 382/550\n",
      "22/22 [==============================] - 0s 4ms/step - loss: 45.3342 - mae: 3.3273 - val_loss: 52.8722 - val_mae: 2.9683\n",
      "Epoch 383/550\n",
      "22/22 [==============================] - 0s 4ms/step - loss: 29.6208 - mae: 2.2850 - val_loss: 80.4380 - val_mae: 6.6806\n",
      "Epoch 384/550\n",
      "22/22 [==============================] - 0s 5ms/step - loss: 33.9412 - mae: 2.8420 - val_loss: 46.8084 - val_mae: 2.9336\n",
      "Epoch 385/550\n",
      "22/22 [==============================] - 0s 5ms/step - loss: 27.1580 - mae: 2.2933 - val_loss: 46.7030 - val_mae: 2.5445\n",
      "Epoch 386/550\n",
      "22/22 [==============================] - 0s 4ms/step - loss: 30.0942 - mae: 2.2481 - val_loss: 46.4152 - val_mae: 2.6410\n",
      "Epoch 387/550\n",
      "22/22 [==============================] - 0s 5ms/step - loss: 30.5634 - mae: 2.3571 - val_loss: 48.3111 - val_mae: 2.8257\n",
      "Epoch 388/550\n",
      "22/22 [==============================] - 0s 4ms/step - loss: 30.8100 - mae: 2.3992 - val_loss: 47.7646 - val_mae: 2.8819\n",
      "Epoch 389/550\n",
      "22/22 [==============================] - 0s 4ms/step - loss: 32.5448 - mae: 2.5478 - val_loss: 47.0110 - val_mae: 2.7842\n",
      "Epoch 390/550\n",
      "22/22 [==============================] - 0s 5ms/step - loss: 29.3138 - mae: 2.2520 - val_loss: 45.4331 - val_mae: 2.7766\n",
      "Epoch 391/550\n",
      "22/22 [==============================] - 0s 4ms/step - loss: 29.3002 - mae: 2.3364 - val_loss: 51.8059 - val_mae: 3.2120\n",
      "Epoch 392/550\n",
      "22/22 [==============================] - 0s 4ms/step - loss: 31.4396 - mae: 2.2475 - val_loss: 46.1878 - val_mae: 2.6274\n",
      "Epoch 393/550\n",
      "22/22 [==============================] - 0s 4ms/step - loss: 25.8057 - mae: 1.9027 - val_loss: 47.5140 - val_mae: 3.6542\n",
      "Epoch 394/550\n",
      "22/22 [==============================] - 0s 4ms/step - loss: 31.3902 - mae: 2.6015 - val_loss: 51.0104 - val_mae: 3.2105\n",
      "Epoch 395/550\n",
      "22/22 [==============================] - 0s 4ms/step - loss: 28.4421 - mae: 2.0728 - val_loss: 105.1319 - val_mae: 8.1516\n",
      "Epoch 396/550\n",
      "22/22 [==============================] - 0s 4ms/step - loss: 38.8890 - mae: 3.0636 - val_loss: 124.2100 - val_mae: 8.2455\n",
      "Epoch 397/550\n",
      "22/22 [==============================] - 0s 5ms/step - loss: 66.1288 - mae: 4.2627 - val_loss: 48.6896 - val_mae: 2.9481\n"
     ]
    }
   ],
   "source": [
    "history = ann.fit(X_train, y_train,\n",
    "                    validation_data = (X_test, y_test),\n",
    "                    callbacks=[es],\n",
    "                    epochs=550,\n",
    "                    batch_size=20,\n",
    "                    verbose=1)"
   ]
  },
  {
   "cell_type": "markdown",
   "metadata": {
    "colab_type": "text",
    "id": "0H0zKKNEBLD5"
   },
   "source": [
    "### Predicting the results of the Test set"
   ]
  },
  {
   "cell_type": "code",
   "execution_count": 16,
   "metadata": {},
   "outputs": [
    {
     "data": {
      "image/png": "[encoded data removed]",
      "text/plain": [
       "<Figure size 432x288 with 1 Axes>"
      ]
     },
     "metadata": {
      "needs_background": "light"
     },
     "output_type": "display_data"
    }
   ],
   "source": [
    "import matplotlib.pyplot as plt\n",
    "# let's see the training and validation accuracy by epoch\n",
    "history_dict = history.history\n",
    "loss_values = history_dict['loss'] # you can change this\n",
    "val_loss_values = history_dict['val_loss'] # you can also change this\n",
    "epochs = range(1, len(loss_values) + 1) # range of X (no. of epochs)\n",
    "plt.plot(epochs, loss_values, 'blue', label='Training loss')\n",
    "plt.plot(epochs, val_loss_values, 'orange', label='Testing loss')\n",
    "plt.title('Training and testing loss')\n",
    "plt.xlabel('Epochs')\n",
    "plt.ylabel('Loss (MSE)')\n",
    "plt.legend()\n",
    "plt.show()"
   ]
  },
  {
   "cell_type": "code",
   "execution_count": 17,
   "metadata": {},
   "outputs": [
    {
     "data": {
      "image/png": "[encoded data removed]",
      "text/plain": [
       "<Figure size 432x288 with 1 Axes>"
      ]
     },
     "metadata": {
      "needs_background": "light"
     },
     "output_type": "display_data"
    }
   ],
   "source": [
    "loss_values1 = history_dict['mae'] # you can change this\n",
    "val_loss_values1 = history_dict['val_mae'] # you can also change this\n",
    "epochs = range(1, len(loss_values1) + 1) # range of X (no. of epochs)\n",
    "plt.plot(epochs, loss_values1, 'blue', label='Training MAE')\n",
    "plt.plot(epochs, val_loss_values1, 'orange', label='Testing MAE')\n",
    "plt.title('Training and testing MAE')\n",
    "plt.xlabel('Epochs')\n",
    "plt.ylabel('MAE')\n",
    "plt.legend()\n",
    "plt.show()"
   ]
  },
  {
   "cell_type": "code",
   "execution_count": 18,
   "metadata": {},
   "outputs": [
    {
     "name": "stdout",
     "output_type": "stream",
     "text": [
      "range(1, 398)\n"
     ]
    }
   ],
   "source": [
    "print (epochs)"
   ]
  },
  {
   "cell_type": "code",
   "execution_count": 19,
   "metadata": {},
   "outputs": [
    {
     "name": "stdout",
     "output_type": "stream",
     "text": [
      "14/14 [==============================] - 0s 1ms/step\n",
      "4/4 [==============================] - 0s 2ms/step\n"
     ]
    },
    {
     "data": {
      "image/png": "[encoded data removed]",
      "text/plain": [
       "<Figure size 432x288 with 2 Axes>"
      ]
     },
     "metadata": {
      "needs_background": "light"
     },
     "output_type": "display_data"
    }
   ],
   "source": [
    "# scatterplot of actual vs. pred\n",
    "# specify the dimensions \n",
    "fig, axes = plt.subplots(1,2) # 1 row, 2 columns\n",
    "\n",
    "# this makes the individual subplots\n",
    "# Training Results\n",
    "axes[0].scatter(x=y_train, y=ann.predict(X_train)) #first row, first entry (left top)\n",
    "axes[0].set_xlabel(\"Actual\", fontsize=10)\n",
    "axes[0].set_ylabel(\"Predicted\",  fontsize=10)\n",
    "axes[0].set_title(\"Training\")\n",
    "# add 45 deg line\n",
    "x = np.linspace(*axes[0].get_xlim())\n",
    "axes[0].plot(x, x, color='red')\n",
    "# Validation Results\n",
    "axes[1].scatter(x=y_test, y=ann.predict(X_test)) # first row, second entry (right top)\n",
    "axes[1].set_xlabel(\"Actual\", fontsize=10)\n",
    "axes[1].set_ylabel(\"Predicted\",  fontsize=10)\n",
    "axes[1].set_title(\"Validation\")\n",
    "# add 45 deg line\n",
    "x = np.linspace(*axes[1].get_xlim())\n",
    "axes[1].plot(x, x, color='red')\n",
    "\n",
    "# tight layout\n",
    "fig.tight_layout()\n",
    "\n",
    "# show the plot\n",
    "plt.show()"
   ]
  },
  {
   "cell_type": "code",
   "execution_count": 20,
   "metadata": {
    "colab": {
     "base_uri": "https://localhost:8080/",
     "height": 134
    },
    "colab_type": "code",
    "id": "IA0yApEmBG1X",
    "outputId": "cb981e1f-9204-4a2a-fece-9d66a6919189"
   },
   "outputs": [
    {
     "name": "stdout",
     "output_type": "stream",
     "text": [
      "4/4 [==============================] - 0s 5ms/step\n",
      "[[ 57.78  57.82]\n",
      " [ 93.82  91.87]\n",
      " [218.39 216.48]\n",
      " [ 62.26  64.68]\n",
      " [266.58 268.65]\n",
      " [  9.5   10.35]\n",
      " [193.81 198.92]\n",
      " [ 38.16  38.93]\n",
      " [ 75.57  75.35]\n",
      " [109.29 110.62]\n",
      " [103.05 103.92]\n",
      " [210.34 208.56]\n",
      " [ 47.18  47.22]\n",
      " [ 21.44  21.31]\n",
      " [  8.51   8.59]\n",
      " [107.65 104.4 ]\n",
      " [143.84 146.06]\n",
      " [106.14 106.81]\n",
      " [151.25 150.67]\n",
      " [ 19.31  20.64]\n",
      " [360.93 371.22]\n",
      " [ 45.82  46.33]\n",
      " [ 71.41  71.26]\n",
      " [ 13.39  13.21]\n",
      " [285.66 284.67]\n",
      " [ 24.9   28.38]\n",
      " [173.26 175.25]\n",
      " [ 41.85  42.82]\n",
      " [ 79.9   85.3 ]\n",
      " [ 81.98  85.17]\n",
      " [168.57 174.46]\n",
      " [ 71.81  68.91]\n",
      " [ 79.8   86.09]\n",
      " [ 63.51  60.09]\n",
      " [ 37.01  36.52]\n",
      " [ 64.42  70.05]\n",
      " [ 76.59  83.75]\n",
      " [ 71.24  78.77]\n",
      " [  6.05   5.49]\n",
      " [187.74 188.4 ]\n",
      " [ 50.88  52.22]\n",
      " [  9.41   9.55]\n",
      " [  5.29   4.95]\n",
      " [ 15.11  14.92]\n",
      " [118.09 116.92]\n",
      " [ 67.41  66.54]\n",
      " [ 82.82  82.37]\n",
      " [ 44.77  43.22]\n",
      " [188.   187.94]\n",
      " [ 33.95  33.37]\n",
      " [102.1  103.44]\n",
      " [ 64.61  68.81]\n",
      " [298.42 298.6 ]\n",
      " [ 69.34  67.58]\n",
      " [182.67 183.23]\n",
      " [ 28.48   2.79]\n",
      " [ 79.57  78.32]\n",
      " [294.4  291.83]\n",
      " [124.66 123.06]\n",
      " [ 94.18  95.29]\n",
      " [ 66.8    7.42]\n",
      " [177.16 178.35]\n",
      " [ 48.46  48.96]\n",
      " [ 41.16  41.68]\n",
      " [ 53.81  55.19]\n",
      " [ 39.7   38.67]\n",
      " [ 82.02  82.95]\n",
      " [102.83 103.36]\n",
      " [ 56.78  57.54]\n",
      " [ 52.21  52.68]\n",
      " [ 43.28  42.34]\n",
      " [ 59.64  59.12]\n",
      " [ 73.71  74.6 ]\n",
      " [ 30.41  31.63]\n",
      " [ 26.13  25.25]\n",
      " [ 55.48  52.56]\n",
      " [149.73 148.77]\n",
      " [ 59.67  60.07]\n",
      " [ 56.3   55.56]\n",
      " [ 65.26  64.  ]\n",
      " [ 55.    55.88]\n",
      " [ 23.47  25.06]\n",
      " [ 84.07  81.17]\n",
      " [372.76 377.38]\n",
      " [132.76 133.53]\n",
      " [ 80.28  79.63]\n",
      " [104.78 105.61]\n",
      " [ 29.82  32.71]\n",
      " [ 47.94  49.01]\n",
      " [109.77 106.79]\n",
      " [142.76 143.07]\n",
      " [112.13 113.35]\n",
      " [ 15.88  15.6 ]\n",
      " [ 75.25  74.79]\n",
      " [170.99 169.54]\n",
      " [291.35 293.22]\n",
      " [ 57.22  54.09]\n",
      " [128.46 124.25]\n",
      " [ 40.76  38.8 ]\n",
      " [316.64 317.8 ]\n",
      " [  7.16   6.9 ]\n",
      " [ 42.58  41.52]\n",
      " [154.98 157.67]\n",
      " [133.83 138.  ]\n",
      " [112.62 110.71]\n",
      " [ 67.88  66.65]\n",
      " [ 65.55  70.49]\n",
      " [296.86 296.19]\n",
      " [394.51 392.18]\n",
      " [ 63.36  59.69]]\n"
     ]
    }
   ],
   "source": [
    "#X_test=np.asarray(X_test).astype(np.int)\n",
    "\n",
    "#y_test=np.asarray(y_test).astype(np.int)\n",
    "\n",
    "y_pred = ann.predict(X_test)\n",
    "np.set_printoptions(precision=2)\n",
    "print(np.concatenate((y_pred.reshape(len(y_pred),1), y_test.reshape(len(y_test),1)),1))"
   ]
  },
  {
   "cell_type": "code",
   "execution_count": 21,
   "metadata": {},
   "outputs": [
    {
     "data": {
      "text/plain": [
       "Text(0, 0.5, 'Predicted data')"
      ]
     },
     "execution_count": 21,
     "metadata": {},
     "output_type": "execute_result"
    },
    {
     "data": {
      "image/png": "[encoded data removed]",
      "text/plain": [
       "<Figure size 432x288 with 1 Axes>"
      ]
     },
     "metadata": {
      "needs_background": "light"
     },
     "output_type": "display_data"
    }
   ],
   "source": [
    "import matplotlib.pyplot as plt\n",
    "plt.scatter(y_test, y_pred, color=\"blue\")\n",
    "plt.plot ([0,400],[0,400], color = \"red\")\n",
    "plt.axis ([0,400,0,400])\n",
    "plt.xlabel ('Actual data')\n",
    "plt.ylabel ('Predicted data')"
   ]
  },
  {
   "cell_type": "code",
   "execution_count": 23,
   "metadata": {},
   "outputs": [
    {
     "data": {
      "image/png": "[encoded data removed]",
      "text/plain": [
       "<Figure size 648x648 with 1 Axes>"
      ]
     },
     "metadata": {
      "needs_background": "light"
     },
     "output_type": "display_data"
    }
   ],
   "source": [
    "from sklearn.metrics import r2_score\n",
    "# Initialize layout\n",
    "fig1, ax1 = plt.subplots(figsize = (9, 9))\n",
    "\n",
    "\n",
    "#y = y_pred         # Model on prvious line is called here\n",
    "#x = y_test\n",
    "\n",
    "\n",
    "\n",
    "# Add scatterplot\n",
    "ax1.scatter(y_test, y_pred, s=70, alpha=1, edgecolors=\"k\",c='mediumblue',zorder=5, label = 'Points')\n",
    "\n",
    "\n",
    "plt.ylabel('Predicted Peak Impulse (Pa.s)',fontsize = 25)\n",
    "plt.xlabel('Actual Peak Impulse (Pa.s)',fontsize = 25)\n",
    "plt.xticks(fontsize = 19)\n",
    "plt.yticks(fontsize = 19)\n",
    "\n",
    "\n",
    "x1 = np.linspace(0,4000)\n",
    "\n",
    "plt.plot(x1, x1, 'Red', label='45\\N{DEGREE SIGN} line',lw=2.5,alpha=1)\n",
    "plt.plot(x1, 1.1*x1, '--m', label='\\u00B110% Error',lw=2.5,alpha=0.7)\n",
    "plt.plot(x1, 0.9*x1,'m', linestyle='--',lw=2.5,alpha=0.7)\n",
    "plt.plot(x1, 1.2*x1, '-.g', label='\\u00B120% Error',lw=2.5,alpha=0.7)\n",
    "plt.plot(x1, 0.8*x1,'-.g',lw=2.5,alpha=0.7)\n",
    "\n",
    "plt.ylim(0, 400)\n",
    "plt.xlim(0, 400)\n",
    "plt.legend(loc='upper left',fontsize = 25)\n",
    "\n",
    "plt.grid()\n",
    "\n",
    "ax1.spines['left'].set_color('black')        # setting up Y-axis tick color to red\n",
    "ax1.spines['bottom'].set_color('black')         #setting up above X-axis tick color to red\n",
    "\n",
    "\n",
    "\n",
    "#ax1.annotate(\"$R^2$ = {:.3f}\".format(r2), (2500, 1000),fontsize = 25)  #Model is called here\n",
    "#ax1.annotate(\"Adj.$R^2$ = {:.3f}\".format(adj_r2), (2500, 750),fontsize = 25)\n",
    "\n",
    "#plt.savefig('plot1.png', dpi = 600, bbox_inches = 'tight')"
   ]
  },
  {
   "cell_type": "code",
   "execution_count": 25,
   "metadata": {},
   "outputs": [
    {
     "data": {
      "image/png": "[encoded data removed]",
      "text/plain": [
       "<Figure size 648x648 with 1 Axes>"
      ]
     },
     "metadata": {
      "needs_background": "light"
     },
     "output_type": "display_data"
    }
   ],
   "source": [
    "# Initialize layout\n",
    "fig2, bx = plt.subplots(figsize = (9, 9))\n",
    "\n",
    "\n",
    "\n",
    "# Add scatterplot\n",
    "bx.scatter(y_test, y_pred, s=70, alpha=1, edgecolors=\"k\",c='mediumblue',zorder=5, label = 'Points')\n",
    "\n",
    "\n",
    "\n",
    "\n",
    "plt.ylabel('Predicted Peak Impulse (Pa.s)',fontsize = 25)\n",
    "plt.xlabel('Actual Peak Impulse (Pa.s)',fontsize = 25)\n",
    "plt.xticks(fontsize = 19)\n",
    "plt.yticks(fontsize = 19)\n",
    "\n",
    "\n",
    "\n",
    "x1 = np.linspace(0,500)\n",
    "\n",
    "plt.plot(x1, x1, 'Red', label='45\\N{DEGREE SIGN} line',lw=2.5,alpha=1)\n",
    "plt.plot(x1, 1.1*x1, '--m', label='\\u00B110% Error',lw=2.5,alpha=0.7) #\\u00B1\n",
    "plt.plot(x1, 0.9*x1,'m', linestyle='--',lw=2.5,alpha=0.7)\n",
    "plt.plot(x1, 1.2*x1, '-.g', label='\\u00B120% Error',lw=2.5,alpha=0.7)\n",
    "plt.plot(x1, 0.8*x1,'-.g',lw=2.5,alpha=0.7)\n",
    "\n",
    "plt.ylim(0, 100)\n",
    "plt.xlim(0, 100)\n",
    "plt.legend(loc='upper left',fontsize = 25)\n",
    "\n",
    "plt.grid()\n",
    "\n",
    "bx.spines['left'].set_color('black')        # setting up Y-axis tick color to red\n",
    "bx.spines['bottom'].set_color('black')         #setting up above X-axis tick color to red\n",
    "\n",
    "\n",
    "#plt.savefig('plot1.png', dpi = 600, bbox_inches = 'tight')"
   ]
  },
  {
   "cell_type": "code",
   "execution_count": 24,
   "metadata": {},
   "outputs": [
    {
     "name": "stdout",
     "output_type": "stream",
     "text": [
      "14/14 [==============================] - 0s 2ms/step\n",
      "1.7282431423153364\n",
      "2.5252766188976277\n"
     ]
    }
   ],
   "source": [
    "# metrics\n",
    "\n",
    "\n",
    "trainpreds = ann.predict(X_train)\n",
    "\n",
    "from sklearn.metrics import mean_absolute_error\n",
    "print(mean_absolute_error(y_train, trainpreds)) # train\n",
    "print(mean_absolute_error(y_test, y_pred)) # test"
   ]
  },
  {
   "cell_type": "code",
   "execution_count": 26,
   "metadata": {},
   "outputs": [
    {
     "name": "stdout",
     "output_type": "stream",
     "text": [
      "0.9939769846770764\n"
     ]
    }
   ],
   "source": [
    "from sklearn.metrics import r2_score\n",
    "r2 = r2_score(y_test, y_pred)\n",
    "print (r2)"
   ]
  },
  {
   "cell_type": "code",
   "execution_count": 27,
   "metadata": {},
   "outputs": [
    {
     "name": "stdout",
     "output_type": "stream",
     "text": [
      "0.9970567476356769\n"
     ]
    }
   ],
   "source": [
    "r2_train = r2_score(y_train, trainpreds)\n",
    "print (r2_train)"
   ]
  },
  {
   "cell_type": "code",
   "execution_count": 28,
   "metadata": {},
   "outputs": [
    {
     "name": "stdout",
     "output_type": "stream",
     "text": [
      "Within 10% margin 96.36%\n",
      "Within 20% margin 98.18%\n",
      "Out of 20% margin 1.82%\n"
     ]
    }
   ],
   "source": [
    "count1 = 0\n",
    "for i in range(len(y_pred)):\n",
    "    line1 = y_pred[i] - 0.9*y_test[i]\n",
    "    line2 = y_pred[i] - 1.1*y_test[i]\n",
    "    #print ('line 1 ', line1)\n",
    "    #print ('line 2 ', line2)\n",
    "    mask1 = (line1 > 0) & (line2 < 0)\n",
    "    #print (mask)\n",
    "    count1 = np.sum(mask1+count1)\n",
    "    #print (count)\n",
    "\n",
    "count2 = 0\n",
    "for j in range(len(y_pred)):\n",
    "    line3 = y_pred[j] - 0.8*y_test[j]\n",
    "    line4 = y_pred[j] - 1.2*y_test[j]\n",
    "    mask2 = (line3 > 0) & (line4 < 0)\n",
    "    count2 = np.sum(mask2+count2)\n",
    "\n",
    "\n",
    "count3 = 0    \n",
    "for k in range(len(y_pred)):\n",
    "    line5 = y_pred[k] - 0.8*y_test[k]\n",
    "    line6 = y_pred[k] - 1.2*y_test[k]\n",
    "    mask3 = (line5 < 0) or (line6 > 0)\n",
    "    count3 = np.sum(mask3+count3)\n",
    "   \n",
    "\n",
    "print ('Within 10% margin', format((count1/len (y_pred)),'.2%'))\n",
    "print ('Within 20% margin', format((count2/len (y_pred)),'.2%'))\n",
    "print ('Out of 20% margin', format((count3/len (y_pred)),'.2%'))"
   ]
  },
  {
   "cell_type": "code",
   "execution_count": 29,
   "metadata": {},
   "outputs": [
    {
     "name": "stdout",
     "output_type": "stream",
     "text": [
      "0.9937475364742984\n"
     ]
    }
   ],
   "source": [
    "adj_r2 = 1 - ((1 - r2) * (len(X_test) - 1) / (len(X_test) - len (X_test[0]) - 1))\n",
    "print (adj_r2)"
   ]
  },
  {
   "cell_type": "code",
   "execution_count": 30,
   "metadata": {},
   "outputs": [
    {
     "data": {
      "text/plain": [
       "6.66490030745247"
      ]
     },
     "execution_count": 30,
     "metadata": {},
     "output_type": "execute_result"
    }
   ],
   "source": [
    "import math\n",
    "from sklearn.metrics import mean_squared_error\n",
    "\n",
    "math.sqrt(mean_squared_error(y_test, y_pred))"
   ]
  },
  {
   "cell_type": "code",
   "execution_count": 31,
   "metadata": {},
   "outputs": [
    {
     "data": {
      "text/plain": [
       "2.5252766188976277"
      ]
     },
     "execution_count": 31,
     "metadata": {},
     "output_type": "execute_result"
    }
   ],
   "source": [
    "from sklearn.metrics import mean_absolute_error\n",
    "\n",
    "mean_absolute_error(y_test, y_pred)"
   ]
  },
  {
   "cell_type": "code",
   "execution_count": 31,
   "metadata": {},
   "outputs": [
    {
     "ename": "ModuleNotFoundError",
     "evalue": "No module named 'ann_visualizer'",
     "output_type": "error",
     "traceback": [
      "\u001b[1;31m---------------------------------------------------------------------------\u001b[0m",
      "\u001b[1;31mModuleNotFoundError\u001b[0m                       Traceback (most recent call last)",
      "\u001b[1;32m~\\AppData\\Local\\Temp\\ipykernel_2412\\3367597011.py\u001b[0m in \u001b[0;36m<module>\u001b[1;34m\u001b[0m\n\u001b[1;32m----> 1\u001b[1;33m \u001b[1;32mfrom\u001b[0m \u001b[0mann_visualizer\u001b[0m\u001b[1;33m.\u001b[0m\u001b[0mvisualize\u001b[0m \u001b[1;32mimport\u001b[0m \u001b[0mann_viz\u001b[0m\u001b[1;33m;\u001b[0m\u001b[1;33m\u001b[0m\u001b[1;33m\u001b[0m\u001b[0m\n\u001b[0m\u001b[0;32m      2\u001b[0m \u001b[1;33m\u001b[0m\u001b[0m\n\u001b[0;32m      3\u001b[0m \u001b[0mann_viz\u001b[0m\u001b[1;33m(\u001b[0m\u001b[0mmodel\u001b[0m\u001b[1;33m,\u001b[0m \u001b[0mtitle\u001b[0m\u001b[1;33m=\u001b[0m\u001b[1;34m\"My first neural network\"\u001b[0m\u001b[1;33m)\u001b[0m\u001b[1;33m\u001b[0m\u001b[1;33m\u001b[0m\u001b[0m\n",
      "\u001b[1;31mModuleNotFoundError\u001b[0m: No module named 'ann_visualizer'"
     ]
    }
   ],
   "source": [
    "from ann_visualizer.visualize import ann_viz;\n",
    "\n",
    "ann_viz(model, title=\"My first neural network\")"
   ]
  }
 ],
 "metadata": {
  "colab": {
   "collapsed_sections": [],
   "name": "Artificial Neural Network",
   "provenance": [],
   "toc_visible": true
  },
  "kernelspec": {
   "display_name": "Python 3 (ipykernel)",
   "language": "python",
   "name": "python3"
  },
  "language_info": {
   "codemirror_mode": {
    "name": "ipython",
    "version": 3
   },
   "file_extension": ".py",
   "mimetype": "text/x-python",
   "name": "python",
   "nbconvert_exporter": "python",
   "pygments_lexer": "ipython3",
   "version": "3.9.7"
  }
 },
 "nbformat": 4,
 "nbformat_minor": 4
}
