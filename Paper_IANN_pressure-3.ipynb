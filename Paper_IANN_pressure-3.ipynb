{
 "cells": [
  {
   "cell_type": "markdown",
   "metadata": {
    "colab_type": "text",
    "id": "3cbb7fRy-eyr"
   },
   "source": [
    "# Artificial Neural Network"
   ]
  },
  {
   "cell_type": "markdown",
   "metadata": {
    "colab_type": "text",
    "id": "8sNDnxE2-pwE"
   },
   "source": [
    "### Importing the libraries"
   ]
  },
  {
   "cell_type": "code",
   "execution_count": 1,
   "metadata": {
    "colab": {},
    "colab_type": "code",
    "id": "lxChR1Rk-umf"
   },
   "outputs": [],
   "source": [
    "import numpy as np\n",
    "import pandas as pd\n",
    "import tensorflow as tf"
   ]
  },
  {
   "cell_type": "markdown",
   "metadata": {
    "colab_type": "text",
    "id": "AG3FQEch-yuA"
   },
   "source": [
    "## Part 1 - Data Preprocessing"
   ]
  },
  {
   "cell_type": "markdown",
   "metadata": {
    "colab_type": "text",
    "id": "-4zq8Mza_D9O",
    "tags": []
   },
   "source": [
    "### Importing the dataset"
   ]
  },
  {
   "cell_type": "code",
   "execution_count": 2,
   "metadata": {
    "colab": {},
    "colab_type": "code",
    "id": "B9CV13Co_HHM"
   },
   "outputs": [
    {
     "name": "stdout",
     "output_type": "stream",
     "text": [
      "<class 'pandas.core.frame.DataFrame'>\n",
      "RangeIndex: 546 entries, 0 to 545\n",
      "Data columns (total 4 columns):\n",
      " #   Column             Non-Null Count  Dtype  \n",
      "---  ------             --------------  -----  \n",
      " 0   Charge_type        546 non-null    object \n",
      " 1   Charge_size        546 non-null    float64\n",
      " 2   Standoff_distance  546 non-null    float64\n",
      " 3   Impulse            546 non-null    float64\n",
      "dtypes: float64(3), object(1)\n",
      "memory usage: 17.2+ KB\n"
     ]
    }
   ],
   "source": [
    "dataset = pd.read_excel('IDataset1.xlsx')\n",
    "dataset.info()"
   ]
  },
  {
   "cell_type": "code",
   "execution_count": 3,
   "metadata": {},
   "outputs": [
    {
     "name": "stdout",
     "output_type": "stream",
     "text": [
      "<class 'pandas.core.frame.DataFrame'>\n",
      "RangeIndex: 546 entries, 0 to 545\n",
      "Data columns (total 5 columns):\n",
      " #   Column             Non-Null Count  Dtype  \n",
      "---  ------             --------------  -----  \n",
      " 0   Charge_size        546 non-null    float64\n",
      " 1   Standoff_distance  546 non-null    float64\n",
      " 2   Impulse            546 non-null    float64\n",
      " 3   Charge_type_CompB  546 non-null    uint8  \n",
      " 4   Charge_type_TNT    546 non-null    uint8  \n",
      "dtypes: float64(3), uint8(2)\n",
      "memory usage: 14.0 KB\n"
     ]
    }
   ],
   "source": [
    "# convert categorical variable into dummy variables\n",
    "dataset = pd.get_dummies(dataset, columns=['Charge_type'])\n",
    "dataset.info()"
   ]
  },
  {
   "cell_type": "code",
   "execution_count": 4,
   "metadata": {},
   "outputs": [
    {
     "data": {
      "text/html": [
       "<div>\n",
       "<style scoped>\n",
       "    .dataframe tbody tr th:only-of-type {\n",
       "        vertical-align: middle;\n",
       "    }\n",
       "\n",
       "    .dataframe tbody tr th {\n",
       "        vertical-align: top;\n",
       "    }\n",
       "\n",
       "    .dataframe thead th {\n",
       "        text-align: right;\n",
       "    }\n",
       "</style>\n",
       "<table border=\"1\" class=\"dataframe\">\n",
       "  <thead>\n",
       "    <tr style=\"text-align: right;\">\n",
       "      <th></th>\n",
       "      <th>Charge_size</th>\n",
       "      <th>Standoff_distance</th>\n",
       "      <th>Impulse</th>\n",
       "      <th>Charge_type_CompB</th>\n",
       "      <th>Charge_type_TNT</th>\n",
       "    </tr>\n",
       "  </thead>\n",
       "  <tbody>\n",
       "    <tr>\n",
       "      <th>0</th>\n",
       "      <td>0.5</td>\n",
       "      <td>1.5</td>\n",
       "      <td>58.168617</td>\n",
       "      <td>0</td>\n",
       "      <td>1</td>\n",
       "    </tr>\n",
       "    <tr>\n",
       "      <th>1</th>\n",
       "      <td>0.5</td>\n",
       "      <td>2.5</td>\n",
       "      <td>38.798874</td>\n",
       "      <td>0</td>\n",
       "      <td>1</td>\n",
       "    </tr>\n",
       "    <tr>\n",
       "      <th>2</th>\n",
       "      <td>0.5</td>\n",
       "      <td>3.5</td>\n",
       "      <td>28.473915</td>\n",
       "      <td>0</td>\n",
       "      <td>1</td>\n",
       "    </tr>\n",
       "    <tr>\n",
       "      <th>3</th>\n",
       "      <td>0.5</td>\n",
       "      <td>4.5</td>\n",
       "      <td>22.343452</td>\n",
       "      <td>0</td>\n",
       "      <td>1</td>\n",
       "    </tr>\n",
       "    <tr>\n",
       "      <th>4</th>\n",
       "      <td>0.5</td>\n",
       "      <td>5.5</td>\n",
       "      <td>18.326342</td>\n",
       "      <td>0</td>\n",
       "      <td>1</td>\n",
       "    </tr>\n",
       "  </tbody>\n",
       "</table>\n",
       "</div>"
      ],
      "text/plain": [
       "   Charge_size  Standoff_distance    Impulse  Charge_type_CompB  \\\n",
       "0          0.5                1.5  58.168617                  0   \n",
       "1          0.5                2.5  38.798874                  0   \n",
       "2          0.5                3.5  28.473915                  0   \n",
       "3          0.5                4.5  22.343452                  0   \n",
       "4          0.5                5.5  18.326342                  0   \n",
       "\n",
       "   Charge_type_TNT  \n",
       "0                1  \n",
       "1                1  \n",
       "2                1  \n",
       "3                1  \n",
       "4                1  "
      ]
     },
     "execution_count": 4,
     "metadata": {},
     "output_type": "execute_result"
    }
   ],
   "source": [
    "dataset.head()"
   ]
  },
  {
   "cell_type": "code",
   "execution_count": 5,
   "metadata": {},
   "outputs": [
    {
     "name": "stdout",
     "output_type": "stream",
     "text": [
      "(546, 4) (546,)\n"
     ]
    }
   ],
   "source": [
    "y = dataset['Impulse']\n",
    "X = dataset.drop('Impulse', axis=1)\n",
    "print(X.shape, y.shape)"
   ]
  },
  {
   "cell_type": "code",
   "execution_count": 6,
   "metadata": {},
   "outputs": [],
   "source": [
    "# convert to numpy array\n",
    "X = np.array(X)\n",
    "y = np.array(y)"
   ]
  },
  {
   "cell_type": "markdown",
   "metadata": {
    "colab_type": "text",
    "id": "VC6omXel_Up0"
   },
   "source": [
    "### Splitting the dataset into the Training set and Test set"
   ]
  },
  {
   "cell_type": "code",
   "execution_count": 7,
   "metadata": {
    "colab": {},
    "colab_type": "code",
    "id": "L5edeb2r_agx"
   },
   "outputs": [],
   "source": [
    "from sklearn.model_selection import train_test_split\n",
    "X_train, X_test, y_train, y_test = train_test_split(X, y, test_size = 0.3, random_state = 0)\n",
    "X_val, X_test, y_val, y_test = train_test_split(X_test, y_test, test_size = 0.5, random_state = 0)"
   ]
  },
  {
   "cell_type": "code",
   "execution_count": 8,
   "metadata": {},
   "outputs": [
    {
     "name": "stdout",
     "output_type": "stream",
     "text": [
      "Train 382 382\n",
      "Test 82 82\n",
      "Val 82 82\n"
     ]
    }
   ],
   "source": [
    "print (\"Train\",len(X_train), len(y_train))\n",
    "print (\"Test\",len(X_test), len(y_test))\n",
    "print (\"Val\",len(X_val), len(y_val))"
   ]
  },
  {
   "cell_type": "markdown",
   "metadata": {
    "colab_type": "text",
    "id": "_mSLlAT9_eyI"
   },
   "source": [
    "## Part 2 - Building the ANN"
   ]
  },
  {
   "cell_type": "markdown",
   "metadata": {
    "colab_type": "text",
    "id": "CsBULd_f_wLY"
   },
   "source": [
    "### Initializing the ANN"
   ]
  },
  {
   "cell_type": "code",
   "execution_count": 14,
   "metadata": {
    "colab": {},
    "colab_type": "code",
    "id": "J6Hd97Ls__Nz"
   },
   "outputs": [],
   "source": [
    "ann = tf.keras.models.Sequential()"
   ]
  },
  {
   "cell_type": "markdown",
   "metadata": {
    "colab_type": "text",
    "id": "iitAFJS_ABUn"
   },
   "source": [
    "### Adding the input layer and the first hidden layer"
   ]
  },
  {
   "cell_type": "code",
   "execution_count": 15,
   "metadata": {
    "colab": {},
    "colab_type": "code",
    "id": "ksO_Vv40AHix",
    "tags": []
   },
   "outputs": [],
   "source": [
    "ann.add(tf.keras.layers.Dense(units=200, input_shape=(X_train.shape[1],), activation='relu'))"
   ]
  },
  {
   "cell_type": "markdown",
   "metadata": {
    "colab_type": "text",
    "id": "-lb4kK_wAKbs"
   },
   "source": [
    "### Adding the second hidden layer"
   ]
  },
  {
   "cell_type": "code",
   "execution_count": 16,
   "metadata": {
    "colab": {},
    "colab_type": "code",
    "id": "c2357OqEAQOQ",
    "tags": []
   },
   "outputs": [],
   "source": [
    "ann.add(tf.keras.layers.Dense(units=125, activation='relu'))"
   ]
  },
  {
   "cell_type": "markdown",
   "metadata": {
    "colab_type": "text",
    "id": "-lb4kK_wAKbs",
    "tags": []
   },
   "source": [
    "### Adding the third hidden layer"
   ]
  },
  {
   "cell_type": "code",
   "execution_count": 17,
   "metadata": {
    "colab": {},
    "colab_type": "code",
    "id": "c2357OqEAQOQ",
    "tags": []
   },
   "outputs": [],
   "source": [
    "ann.add(tf.keras.layers.Dense(units=50, activation='relu'))"
   ]
  },
  {
   "cell_type": "markdown",
   "metadata": {
    "colab_type": "text",
    "id": "jwMOmKb3AdBY"
   },
   "source": [
    "### Adding the output layer"
   ]
  },
  {
   "cell_type": "code",
   "execution_count": 18,
   "metadata": {
    "colab": {},
    "colab_type": "code",
    "id": "YFATpzsUAkLL"
   },
   "outputs": [],
   "source": [
    "ann.add(tf.keras.layers.Dense(units=1, activation='linear'))"
   ]
  },
  {
   "cell_type": "markdown",
   "metadata": {},
   "source": [
    "### what model looks like"
   ]
  },
  {
   "cell_type": "code",
   "execution_count": 19,
   "metadata": {},
   "outputs": [
    {
     "name": "stdout",
     "output_type": "stream",
     "text": [
      "Model: \"sequential_1\"\n",
      "_________________________________________________________________\n",
      " Layer (type)                Output Shape              Param #   \n",
      "=================================================================\n",
      " dense_4 (Dense)             (None, 200)               1000      \n",
      "                                                                 \n",
      " dense_5 (Dense)             (None, 125)               25125     \n",
      "                                                                 \n",
      " dense_6 (Dense)             (None, 50)                6300      \n",
      "                                                                 \n",
      " dense_7 (Dense)             (None, 1)                 51        \n",
      "                                                                 \n",
      "=================================================================\n",
      "Total params: 32,476\n",
      "Trainable params: 32,476\n",
      "Non-trainable params: 0\n",
      "_________________________________________________________________\n"
     ]
    }
   ],
   "source": [
    "ann.summary()"
   ]
  },
  {
   "cell_type": "markdown",
   "metadata": {
    "colab_type": "text",
    "id": "fq7e4fF6A1yy"
   },
   "source": [
    "## Part 3 - Training the ANN"
   ]
  },
  {
   "cell_type": "markdown",
   "metadata": {
    "colab_type": "text",
    "id": "qDeylAs2An25"
   },
   "source": [
    "### Compiling the ANN"
   ]
  },
  {
   "cell_type": "code",
   "execution_count": 20,
   "metadata": {
    "colab": {},
    "colab_type": "code",
    "id": "pesgbWlCAtB4"
   },
   "outputs": [],
   "source": [
    "from tensorflow.keras.optimizers import Nadam\n",
    "opt = Nadam(learning_rate=0.001)\n",
    "ann.compile(optimizer = opt, loss = 'mean_squared_error', metrics = ['mae'])"
   ]
  },
  {
   "cell_type": "markdown",
   "metadata": {},
   "source": [
    "### early stopping callback"
   ]
  },
  {
   "cell_type": "code",
   "execution_count": 21,
   "metadata": {},
   "outputs": [],
   "source": [
    "# protects from unnecessary further training of the model if a particular metric does not continue to improve over a number of n epochs. In such a case, the model training would be automatically aborted.\n",
    "from keras.callbacks import EarlyStopping\n",
    "es = EarlyStopping(monitor='val_loss',\n",
    "                   mode='min',\n",
    "                   patience=50,\n",
    "                   restore_best_weights = True)"
   ]
  },
  {
   "cell_type": "markdown",
   "metadata": {
    "colab_type": "text",
    "id": "YjVuiybYOo7r"
   },
   "source": [
    "### Training the ANN model on the Training set"
   ]
  },
  {
   "cell_type": "code",
   "execution_count": 22,
   "metadata": {
    "colab": {
     "base_uri": "https://localhost:8080/",
     "height": 1000
    },
    "colab_type": "code",
    "id": "c_vV-tiiA5zn",
    "outputId": "4a2b6ee6-ed75-4698-9069-b250e613803f"
   },
   "outputs": [
    {
     "name": "stdout",
     "output_type": "stream",
     "text": [
      "Epoch 1/500\n",
      "20/20 [==============================] - 1s 12ms/step - loss: 18654.3594 - mae: 99.8560 - val_loss: 11803.6494 - val_mae: 71.9117\n",
      "Epoch 2/500\n",
      "20/20 [==============================] - 0s 4ms/step - loss: 11025.4004 - mae: 70.7291 - val_loss: 6212.7920 - val_mae: 51.9454\n",
      "Epoch 3/500\n",
      "20/20 [==============================] - 0s 5ms/step - loss: 6816.2441 - mae: 56.3077 - val_loss: 3951.4089 - val_mae: 42.0971\n",
      "Epoch 4/500\n",
      "20/20 [==============================] - 0s 5ms/step - loss: 4638.1792 - mae: 47.7708 - val_loss: 2740.5322 - val_mae: 38.0392\n",
      "Epoch 5/500\n",
      "20/20 [==============================] - 0s 4ms/step - loss: 3453.0215 - mae: 41.8445 - val_loss: 2839.8218 - val_mae: 37.9169\n",
      "Epoch 6/500\n",
      "20/20 [==============================] - 0s 5ms/step - loss: 2883.1538 - mae: 36.1547 - val_loss: 1610.8362 - val_mae: 27.5373\n",
      "Epoch 7/500\n",
      "20/20 [==============================] - 0s 5ms/step - loss: 2290.1912 - mae: 32.1258 - val_loss: 1436.6285 - val_mae: 27.5791\n",
      "Epoch 8/500\n",
      "20/20 [==============================] - 0s 5ms/step - loss: 2003.4602 - mae: 30.1820 - val_loss: 1164.1855 - val_mae: 24.2126\n",
      "Epoch 9/500\n",
      "20/20 [==============================] - 0s 5ms/step - loss: 1752.4443 - mae: 27.6374 - val_loss: 988.6459 - val_mae: 22.2200\n",
      "Epoch 10/500\n",
      "20/20 [==============================] - 0s 4ms/step - loss: 1484.5131 - mae: 25.4795 - val_loss: 873.5444 - val_mae: 21.2654\n",
      "Epoch 11/500\n",
      "20/20 [==============================] - 0s 5ms/step - loss: 1264.1953 - mae: 23.3069 - val_loss: 703.9089 - val_mae: 18.4108\n",
      "Epoch 12/500\n",
      "20/20 [==============================] - 0s 5ms/step - loss: 1093.9949 - mae: 21.0332 - val_loss: 1343.7430 - val_mae: 28.7446\n",
      "Epoch 13/500\n",
      "20/20 [==============================] - 0s 4ms/step - loss: 973.4377 - mae: 19.3397 - val_loss: 1456.6798 - val_mae: 30.4088\n",
      "Epoch 14/500\n",
      "20/20 [==============================] - 0s 5ms/step - loss: 895.2240 - mae: 18.6106 - val_loss: 409.9147 - val_mae: 13.1702\n",
      "Epoch 15/500\n",
      "20/20 [==============================] - 0s 4ms/step - loss: 696.5258 - mae: 15.5495 - val_loss: 470.1341 - val_mae: 13.3798\n",
      "Epoch 16/500\n",
      "20/20 [==============================] - 0s 4ms/step - loss: 677.9019 - mae: 15.8201 - val_loss: 406.9879 - val_mae: 14.0496\n",
      "Epoch 17/500\n",
      "20/20 [==============================] - 0s 5ms/step - loss: 583.0717 - mae: 14.0979 - val_loss: 321.2929 - val_mae: 10.2968\n",
      "Epoch 18/500\n",
      "20/20 [==============================] - 0s 4ms/step - loss: 542.5862 - mae: 13.0433 - val_loss: 249.4450 - val_mae: 9.2110\n",
      "Epoch 19/500\n",
      "20/20 [==============================] - 0s 4ms/step - loss: 512.4639 - mae: 12.4734 - val_loss: 225.9545 - val_mae: 9.1268\n",
      "Epoch 20/500\n",
      "20/20 [==============================] - 0s 5ms/step - loss: 478.4838 - mae: 11.9054 - val_loss: 207.4911 - val_mae: 8.1130\n",
      "Epoch 21/500\n",
      "20/20 [==============================] - 0s 4ms/step - loss: 431.6667 - mae: 11.4796 - val_loss: 343.4597 - val_mae: 13.3104\n",
      "Epoch 22/500\n",
      "20/20 [==============================] - 0s 4ms/step - loss: 461.8512 - mae: 11.7288 - val_loss: 217.7965 - val_mae: 8.7287\n",
      "Epoch 23/500\n",
      "20/20 [==============================] - 0s 4ms/step - loss: 425.3080 - mae: 11.2736 - val_loss: 188.1318 - val_mae: 7.7901\n",
      "Epoch 24/500\n",
      "20/20 [==============================] - 0s 4ms/step - loss: 424.2232 - mae: 11.1308 - val_loss: 2533.7188 - val_mae: 41.2774\n",
      "Epoch 25/500\n",
      "20/20 [==============================] - 0s 4ms/step - loss: 644.9206 - mae: 13.5632 - val_loss: 237.4108 - val_mae: 10.7501\n",
      "Epoch 26/500\n",
      "20/20 [==============================] - 0s 5ms/step - loss: 360.9275 - mae: 10.3094 - val_loss: 182.4548 - val_mae: 7.7217\n",
      "Epoch 27/500\n",
      "20/20 [==============================] - 0s 5ms/step - loss: 369.0904 - mae: 10.3218 - val_loss: 150.1109 - val_mae: 6.5880\n",
      "Epoch 28/500\n",
      "20/20 [==============================] - 0s 4ms/step - loss: 356.4911 - mae: 9.5485 - val_loss: 220.2025 - val_mae: 9.9456\n",
      "Epoch 29/500\n",
      "20/20 [==============================] - 0s 4ms/step - loss: 329.9889 - mae: 9.2635 - val_loss: 141.1125 - val_mae: 5.9214\n",
      "Epoch 30/500\n",
      "20/20 [==============================] - 0s 4ms/step - loss: 359.0149 - mae: 9.8932 - val_loss: 132.8321 - val_mae: 5.7301\n",
      "Epoch 31/500\n",
      "20/20 [==============================] - 0s 4ms/step - loss: 339.8920 - mae: 9.1769 - val_loss: 1854.5913 - val_mae: 32.4218\n",
      "Epoch 32/500\n",
      "20/20 [==============================] - 0s 4ms/step - loss: 451.1572 - mae: 11.7434 - val_loss: 180.3333 - val_mae: 8.1346\n",
      "Epoch 33/500\n",
      "20/20 [==============================] - 0s 5ms/step - loss: 317.6215 - mae: 8.8898 - val_loss: 123.6102 - val_mae: 5.5025\n",
      "Epoch 34/500\n",
      "20/20 [==============================] - 0s 5ms/step - loss: 293.8779 - mae: 8.3436 - val_loss: 3184.9077 - val_mae: 44.9266\n",
      "Epoch 35/500\n",
      "20/20 [==============================] - 0s 4ms/step - loss: 499.7457 - mae: 11.6390 - val_loss: 142.8631 - val_mae: 7.5640\n",
      "Epoch 36/500\n",
      "20/20 [==============================] - 0s 4ms/step - loss: 313.7320 - mae: 8.7797 - val_loss: 182.3166 - val_mae: 7.5988\n",
      "Epoch 37/500\n",
      "20/20 [==============================] - 0s 5ms/step - loss: 307.9796 - mae: 9.2719 - val_loss: 185.2568 - val_mae: 7.9538\n",
      "Epoch 38/500\n",
      "20/20 [==============================] - 0s 4ms/step - loss: 276.4115 - mae: 7.8534 - val_loss: 140.7836 - val_mae: 7.5500\n",
      "Epoch 39/500\n",
      "20/20 [==============================] - 0s 4ms/step - loss: 287.9635 - mae: 7.9402 - val_loss: 364.9129 - val_mae: 12.7255\n",
      "Epoch 40/500\n",
      "20/20 [==============================] - 0s 4ms/step - loss: 305.3510 - mae: 8.9079 - val_loss: 143.0263 - val_mae: 7.7415\n",
      "Epoch 41/500\n",
      "20/20 [==============================] - 0s 4ms/step - loss: 276.9557 - mae: 7.8672 - val_loss: 143.3535 - val_mae: 8.0424\n",
      "Epoch 42/500\n",
      "20/20 [==============================] - 0s 4ms/step - loss: 263.1556 - mae: 7.6362 - val_loss: 117.4351 - val_mae: 5.0995\n",
      "Epoch 43/500\n",
      "20/20 [==============================] - 0s 4ms/step - loss: 284.2540 - mae: 7.8316 - val_loss: 107.5170 - val_mae: 4.7354\n",
      "Epoch 44/500\n",
      "20/20 [==============================] - 0s 4ms/step - loss: 256.0155 - mae: 6.9527 - val_loss: 106.7710 - val_mae: 4.6836\n",
      "Epoch 45/500\n",
      "20/20 [==============================] - 0s 4ms/step - loss: 247.5421 - mae: 7.0832 - val_loss: 495.6594 - val_mae: 17.6236\n",
      "Epoch 46/500\n",
      "20/20 [==============================] - 0s 5ms/step - loss: 281.8182 - mae: 8.3763 - val_loss: 325.8588 - val_mae: 12.1784\n",
      "Epoch 47/500\n",
      "20/20 [==============================] - 0s 4ms/step - loss: 249.2130 - mae: 7.6579 - val_loss: 111.9881 - val_mae: 5.2760\n",
      "Epoch 48/500\n",
      "20/20 [==============================] - 0s 4ms/step - loss: 258.7394 - mae: 7.8898 - val_loss: 137.3325 - val_mae: 5.7534\n",
      "Epoch 49/500\n",
      "20/20 [==============================] - 0s 4ms/step - loss: 256.5208 - mae: 7.1768 - val_loss: 104.0780 - val_mae: 5.0358\n",
      "Epoch 50/500\n",
      "20/20 [==============================] - 0s 4ms/step - loss: 252.5730 - mae: 7.5679 - val_loss: 107.6586 - val_mae: 4.5586\n",
      "Epoch 51/500\n",
      "20/20 [==============================] - 0s 4ms/step - loss: 247.1169 - mae: 7.1029 - val_loss: 224.5449 - val_mae: 11.5673\n",
      "Epoch 52/500\n",
      "20/20 [==============================] - 0s 4ms/step - loss: 256.5580 - mae: 7.8389 - val_loss: 101.9665 - val_mae: 4.6180\n",
      "Epoch 53/500\n",
      "20/20 [==============================] - 0s 4ms/step - loss: 247.6361 - mae: 7.0932 - val_loss: 110.2648 - val_mae: 5.0307\n",
      "Epoch 54/500\n",
      "20/20 [==============================] - 0s 5ms/step - loss: 223.4551 - mae: 6.6419 - val_loss: 219.6050 - val_mae: 10.6957\n",
      "Epoch 55/500\n",
      "20/20 [==============================] - 0s 4ms/step - loss: 254.1287 - mae: 7.3616 - val_loss: 118.6515 - val_mae: 5.9804\n",
      "Epoch 56/500\n",
      "20/20 [==============================] - 0s 4ms/step - loss: 240.1886 - mae: 7.4693 - val_loss: 134.6612 - val_mae: 6.8231\n",
      "Epoch 57/500\n",
      "20/20 [==============================] - 0s 4ms/step - loss: 261.8943 - mae: 7.5512 - val_loss: 100.7196 - val_mae: 5.0824\n",
      "Epoch 58/500\n",
      "20/20 [==============================] - 0s 4ms/step - loss: 229.5462 - mae: 6.2926 - val_loss: 98.1316 - val_mae: 4.3970\n",
      "Epoch 59/500\n",
      "20/20 [==============================] - 0s 4ms/step - loss: 232.1805 - mae: 7.1979 - val_loss: 108.8751 - val_mae: 4.3754\n",
      "Epoch 60/500\n",
      "20/20 [==============================] - 0s 5ms/step - loss: 258.4502 - mae: 7.7032 - val_loss: 115.9295 - val_mae: 6.8869\n",
      "Epoch 61/500\n",
      "20/20 [==============================] - 0s 4ms/step - loss: 218.9383 - mae: 7.0732 - val_loss: 104.0883 - val_mae: 5.2035\n",
      "Epoch 62/500\n",
      "20/20 [==============================] - 0s 5ms/step - loss: 236.3922 - mae: 6.7876 - val_loss: 94.5617 - val_mae: 4.4087\n",
      "Epoch 63/500\n",
      "20/20 [==============================] - 0s 4ms/step - loss: 213.4976 - mae: 6.3687 - val_loss: 94.7206 - val_mae: 4.0349\n",
      "Epoch 64/500\n",
      "20/20 [==============================] - 0s 4ms/step - loss: 235.8063 - mae: 6.5397 - val_loss: 3217.3179 - val_mae: 45.2825\n",
      "Epoch 65/500\n",
      "20/20 [==============================] - 0s 4ms/step - loss: 477.4856 - mae: 11.0610 - val_loss: 224.3498 - val_mae: 11.6458\n",
      "Epoch 66/500\n",
      "20/20 [==============================] - 0s 4ms/step - loss: 228.6206 - mae: 7.1126 - val_loss: 87.7887 - val_mae: 4.0510\n",
      "Epoch 67/500\n",
      "20/20 [==============================] - 0s 4ms/step - loss: 205.5920 - mae: 5.9748 - val_loss: 117.2089 - val_mae: 4.8340\n",
      "Epoch 68/500\n",
      "20/20 [==============================] - 0s 5ms/step - loss: 216.3869 - mae: 6.5760 - val_loss: 93.2903 - val_mae: 3.9541\n",
      "Epoch 69/500\n",
      "20/20 [==============================] - 0s 5ms/step - loss: 229.2662 - mae: 6.9555 - val_loss: 125.2957 - val_mae: 7.0085\n",
      "Epoch 70/500\n",
      "20/20 [==============================] - 0s 5ms/step - loss: 233.8323 - mae: 7.1236 - val_loss: 205.4542 - val_mae: 9.5685\n",
      "Epoch 71/500\n",
      "20/20 [==============================] - 0s 5ms/step - loss: 274.4651 - mae: 8.1358 - val_loss: 87.8430 - val_mae: 3.9531\n",
      "Epoch 72/500\n",
      "20/20 [==============================] - 0s 5ms/step - loss: 219.9926 - mae: 6.3600 - val_loss: 266.3895 - val_mae: 10.0532\n",
      "Epoch 73/500\n",
      "20/20 [==============================] - 0s 4ms/step - loss: 212.0287 - mae: 6.5572 - val_loss: 89.7121 - val_mae: 4.2075\n",
      "Epoch 74/500\n",
      "20/20 [==============================] - 0s 5ms/step - loss: 225.7231 - mae: 6.8786 - val_loss: 86.8591 - val_mae: 4.0892\n",
      "Epoch 75/500\n",
      "20/20 [==============================] - 0s 5ms/step - loss: 228.4265 - mae: 6.7786 - val_loss: 84.5940 - val_mae: 3.8967\n",
      "Epoch 76/500\n",
      "20/20 [==============================] - 0s 4ms/step - loss: 194.5319 - mae: 5.7974 - val_loss: 89.0478 - val_mae: 3.9312\n",
      "Epoch 77/500\n",
      "20/20 [==============================] - 0s 4ms/step - loss: 190.4481 - mae: 5.9213 - val_loss: 88.2517 - val_mae: 4.1187\n",
      "Epoch 78/500\n",
      "20/20 [==============================] - 0s 4ms/step - loss: 183.4832 - mae: 5.6173 - val_loss: 93.0120 - val_mae: 4.0612\n",
      "Epoch 79/500\n",
      "20/20 [==============================] - 0s 4ms/step - loss: 188.5763 - mae: 5.8798 - val_loss: 812.9474 - val_mae: 20.1654\n",
      "Epoch 80/500\n",
      "20/20 [==============================] - 0s 4ms/step - loss: 246.8593 - mae: 7.4892 - val_loss: 91.9371 - val_mae: 4.1942\n",
      "Epoch 81/500\n",
      "20/20 [==============================] - 0s 4ms/step - loss: 197.8158 - mae: 5.8648 - val_loss: 81.6710 - val_mae: 3.8148\n",
      "Epoch 82/500\n",
      "20/20 [==============================] - 0s 4ms/step - loss: 200.2275 - mae: 6.1874 - val_loss: 101.4502 - val_mae: 5.5873\n",
      "Epoch 83/500\n",
      "20/20 [==============================] - 0s 4ms/step - loss: 174.6527 - mae: 5.4972 - val_loss: 87.9253 - val_mae: 4.3363\n",
      "Epoch 84/500\n",
      "20/20 [==============================] - 0s 4ms/step - loss: 190.8626 - mae: 6.0790 - val_loss: 91.8153 - val_mae: 4.6856\n",
      "Epoch 85/500\n",
      "20/20 [==============================] - 0s 4ms/step - loss: 202.6875 - mae: 6.4751 - val_loss: 84.6438 - val_mae: 3.6695\n",
      "Epoch 86/500\n",
      "20/20 [==============================] - 0s 4ms/step - loss: 190.6524 - mae: 5.9029 - val_loss: 129.8867 - val_mae: 7.2760\n",
      "Epoch 87/500\n",
      "20/20 [==============================] - 0s 4ms/step - loss: 209.9654 - mae: 6.6981 - val_loss: 120.5010 - val_mae: 5.6649\n",
      "Epoch 88/500\n",
      "20/20 [==============================] - 0s 4ms/step - loss: 211.4950 - mae: 7.1994 - val_loss: 81.0219 - val_mae: 3.7718\n",
      "Epoch 89/500\n",
      "20/20 [==============================] - 0s 4ms/step - loss: 194.9487 - mae: 6.4594 - val_loss: 124.5928 - val_mae: 7.4444\n",
      "Epoch 90/500\n",
      "20/20 [==============================] - 0s 4ms/step - loss: 178.0821 - mae: 6.1791 - val_loss: 74.2766 - val_mae: 3.6748\n",
      "Epoch 91/500\n",
      "20/20 [==============================] - 0s 4ms/step - loss: 166.7017 - mae: 4.9729 - val_loss: 86.0459 - val_mae: 4.1866\n",
      "Epoch 92/500\n",
      "20/20 [==============================] - 0s 4ms/step - loss: 181.3244 - mae: 5.5211 - val_loss: 76.5321 - val_mae: 4.1698\n",
      "Epoch 93/500\n",
      "20/20 [==============================] - 0s 4ms/step - loss: 173.3950 - mae: 5.3319 - val_loss: 73.6568 - val_mae: 3.5348\n",
      "Epoch 94/500\n",
      "20/20 [==============================] - 0s 4ms/step - loss: 177.2608 - mae: 5.9531 - val_loss: 81.2629 - val_mae: 3.5832\n",
      "Epoch 95/500\n",
      "20/20 [==============================] - 0s 4ms/step - loss: 189.8312 - mae: 6.2394 - val_loss: 76.1264 - val_mae: 3.9416\n",
      "Epoch 96/500\n",
      "20/20 [==============================] - 0s 4ms/step - loss: 178.4892 - mae: 5.8503 - val_loss: 79.7162 - val_mae: 4.1048\n",
      "Epoch 97/500\n",
      "20/20 [==============================] - 0s 4ms/step - loss: 173.8327 - mae: 5.6888 - val_loss: 74.7798 - val_mae: 3.6862\n",
      "Epoch 98/500\n",
      "20/20 [==============================] - 0s 4ms/step - loss: 191.0716 - mae: 6.2954 - val_loss: 77.9893 - val_mae: 3.3645\n",
      "Epoch 99/500\n",
      "20/20 [==============================] - 0s 4ms/step - loss: 189.1585 - mae: 5.7528 - val_loss: 79.0843 - val_mae: 3.3944\n",
      "Epoch 100/500\n",
      "20/20 [==============================] - 0s 4ms/step - loss: 165.7322 - mae: 5.4985 - val_loss: 78.9279 - val_mae: 3.8897\n",
      "Epoch 101/500\n",
      "20/20 [==============================] - 0s 4ms/step - loss: 173.3120 - mae: 5.9720 - val_loss: 74.9844 - val_mae: 3.6172\n",
      "Epoch 102/500\n",
      "20/20 [==============================] - 0s 3ms/step - loss: 162.2638 - mae: 5.3439 - val_loss: 80.8073 - val_mae: 3.7138\n",
      "Epoch 103/500\n",
      "20/20 [==============================] - 0s 3ms/step - loss: 175.3308 - mae: 5.7790 - val_loss: 79.8161 - val_mae: 3.5326\n",
      "Epoch 104/500\n",
      "20/20 [==============================] - 0s 4ms/step - loss: 155.9830 - mae: 5.0245 - val_loss: 114.8492 - val_mae: 6.4635\n",
      "Epoch 105/500\n",
      "20/20 [==============================] - 0s 4ms/step - loss: 167.1412 - mae: 5.7186 - val_loss: 80.0145 - val_mae: 3.9668\n",
      "Epoch 106/500\n",
      "20/20 [==============================] - 0s 4ms/step - loss: 163.4041 - mae: 5.5481 - val_loss: 75.8689 - val_mae: 3.8180\n",
      "Epoch 107/500\n",
      "20/20 [==============================] - 0s 5ms/step - loss: 164.2286 - mae: 5.5907 - val_loss: 69.9310 - val_mae: 3.2557\n",
      "Epoch 108/500\n",
      "20/20 [==============================] - 0s 5ms/step - loss: 148.0509 - mae: 4.9714 - val_loss: 71.6961 - val_mae: 3.6203\n",
      "Epoch 109/500\n",
      "20/20 [==============================] - 0s 5ms/step - loss: 158.1709 - mae: 5.3503 - val_loss: 80.2265 - val_mae: 4.2028\n",
      "Epoch 110/500\n",
      "20/20 [==============================] - 0s 4ms/step - loss: 168.3744 - mae: 5.5717 - val_loss: 92.3181 - val_mae: 4.7636\n",
      "Epoch 111/500\n",
      "20/20 [==============================] - 0s 4ms/step - loss: 159.3018 - mae: 5.7575 - val_loss: 86.1333 - val_mae: 4.1300\n",
      "Epoch 112/500\n",
      "20/20 [==============================] - 0s 4ms/step - loss: 143.0699 - mae: 4.8941 - val_loss: 122.5057 - val_mae: 5.9792\n",
      "Epoch 113/500\n",
      "20/20 [==============================] - 0s 4ms/step - loss: 140.0256 - mae: 5.0776 - val_loss: 104.6452 - val_mae: 5.6386\n",
      "Epoch 114/500\n",
      "20/20 [==============================] - 0s 4ms/step - loss: 144.3932 - mae: 4.9620 - val_loss: 169.0608 - val_mae: 10.1698\n",
      "Epoch 115/500\n",
      "20/20 [==============================] - 0s 4ms/step - loss: 180.6837 - mae: 6.7295 - val_loss: 64.4682 - val_mae: 3.2895\n",
      "Epoch 116/500\n",
      "20/20 [==============================] - 0s 4ms/step - loss: 150.7204 - mae: 5.1743 - val_loss: 68.9154 - val_mae: 4.0731\n",
      "Epoch 117/500\n",
      "20/20 [==============================] - 0s 5ms/step - loss: 141.4583 - mae: 5.2201 - val_loss: 767.4673 - val_mae: 20.4248\n",
      "Epoch 118/500\n",
      "20/20 [==============================] - 0s 4ms/step - loss: 198.5319 - mae: 7.3143 - val_loss: 96.6535 - val_mae: 4.8254\n",
      "Epoch 119/500\n",
      "20/20 [==============================] - 0s 4ms/step - loss: 179.8000 - mae: 6.1422 - val_loss: 201.9232 - val_mae: 10.2242\n",
      "Epoch 120/500\n",
      "20/20 [==============================] - 0s 4ms/step - loss: 155.2589 - mae: 5.3667 - val_loss: 89.0765 - val_mae: 3.9963\n",
      "Epoch 121/500\n",
      "20/20 [==============================] - 0s 4ms/step - loss: 153.5517 - mae: 5.4565 - val_loss: 157.5008 - val_mae: 8.8059\n",
      "Epoch 122/500\n",
      "20/20 [==============================] - 0s 4ms/step - loss: 145.5621 - mae: 5.7970 - val_loss: 67.0401 - val_mae: 4.3352\n",
      "Epoch 123/500\n",
      "20/20 [==============================] - 0s 5ms/step - loss: 138.7137 - mae: 5.0412 - val_loss: 67.9024 - val_mae: 3.3734\n",
      "Epoch 124/500\n",
      "20/20 [==============================] - 0s 4ms/step - loss: 173.7274 - mae: 5.5321 - val_loss: 108.7940 - val_mae: 5.0385\n",
      "Epoch 125/500\n",
      "20/20 [==============================] - 0s 5ms/step - loss: 140.6496 - mae: 5.0309 - val_loss: 75.1672 - val_mae: 3.6428\n",
      "Epoch 126/500\n",
      "20/20 [==============================] - 0s 4ms/step - loss: 132.5514 - mae: 4.9928 - val_loss: 96.6100 - val_mae: 4.3782\n",
      "Epoch 127/500\n",
      "20/20 [==============================] - 0s 4ms/step - loss: 143.2558 - mae: 5.2061 - val_loss: 79.4048 - val_mae: 3.8857\n",
      "Epoch 128/500\n",
      "20/20 [==============================] - 0s 4ms/step - loss: 138.4772 - mae: 4.9177 - val_loss: 79.5489 - val_mae: 3.9722\n",
      "Epoch 129/500\n",
      "20/20 [==============================] - 0s 4ms/step - loss: 126.4530 - mae: 4.8141 - val_loss: 74.9422 - val_mae: 4.6767\n",
      "Epoch 130/500\n",
      "20/20 [==============================] - 0s 4ms/step - loss: 135.8196 - mae: 5.1485 - val_loss: 61.9192 - val_mae: 3.7808\n",
      "Epoch 131/500\n",
      "20/20 [==============================] - 0s 4ms/step - loss: 137.8656 - mae: 5.1728 - val_loss: 95.8186 - val_mae: 7.1349\n",
      "Epoch 132/500\n",
      "20/20 [==============================] - 0s 4ms/step - loss: 156.9048 - mae: 6.1241 - val_loss: 90.8383 - val_mae: 5.4756\n",
      "Epoch 133/500\n",
      "20/20 [==============================] - 0s 4ms/step - loss: 134.7814 - mae: 5.1841 - val_loss: 74.4586 - val_mae: 3.9662\n",
      "Epoch 134/500\n",
      "20/20 [==============================] - 0s 4ms/step - loss: 142.2214 - mae: 5.0386 - val_loss: 84.7892 - val_mae: 4.7147\n",
      "Epoch 135/500\n",
      "20/20 [==============================] - 0s 4ms/step - loss: 125.6067 - mae: 4.8592 - val_loss: 71.9634 - val_mae: 3.6761\n",
      "Epoch 136/500\n",
      "20/20 [==============================] - 0s 4ms/step - loss: 120.8807 - mae: 4.7142 - val_loss: 64.2872 - val_mae: 3.2210\n",
      "Epoch 137/500\n",
      "20/20 [==============================] - 0s 4ms/step - loss: 114.6376 - mae: 4.3871 - val_loss: 68.4578 - val_mae: 3.4691\n",
      "Epoch 138/500\n",
      "20/20 [==============================] - 0s 4ms/step - loss: 120.1407 - mae: 4.7274 - val_loss: 71.3411 - val_mae: 4.2947\n",
      "Epoch 139/500\n",
      "20/20 [==============================] - 0s 6ms/step - loss: 133.5563 - mae: 4.9705 - val_loss: 59.0623 - val_mae: 3.2861\n",
      "Epoch 140/500\n",
      "20/20 [==============================] - 0s 4ms/step - loss: 129.2859 - mae: 4.6568 - val_loss: 79.1740 - val_mae: 5.2820\n",
      "Epoch 141/500\n",
      "20/20 [==============================] - 0s 4ms/step - loss: 121.5658 - mae: 4.6401 - val_loss: 80.0830 - val_mae: 3.6929\n",
      "Epoch 142/500\n",
      "20/20 [==============================] - 0s 4ms/step - loss: 115.2126 - mae: 4.5312 - val_loss: 53.7955 - val_mae: 3.1560\n",
      "Epoch 143/500\n",
      "20/20 [==============================] - 0s 5ms/step - loss: 130.7983 - mae: 5.1033 - val_loss: 100.6616 - val_mae: 6.6180\n",
      "Epoch 144/500\n",
      "20/20 [==============================] - 0s 4ms/step - loss: 129.9635 - mae: 5.4022 - val_loss: 115.1820 - val_mae: 7.5726\n",
      "Epoch 145/500\n",
      "20/20 [==============================] - 0s 4ms/step - loss: 110.5382 - mae: 4.2093 - val_loss: 915.1746 - val_mae: 23.3794\n",
      "Epoch 146/500\n",
      "20/20 [==============================] - 0s 4ms/step - loss: 214.9057 - mae: 6.2643 - val_loss: 56.1573 - val_mae: 3.3870\n",
      "Epoch 147/500\n",
      "20/20 [==============================] - 0s 4ms/step - loss: 124.3673 - mae: 4.7949 - val_loss: 63.1070 - val_mae: 3.4677\n",
      "Epoch 148/500\n",
      "20/20 [==============================] - 0s 4ms/step - loss: 126.5158 - mae: 5.2417 - val_loss: 59.4542 - val_mae: 4.0321\n",
      "Epoch 149/500\n",
      "20/20 [==============================] - 0s 8ms/step - loss: 116.1182 - mae: 4.5925 - val_loss: 62.1928 - val_mae: 4.0762\n",
      "Epoch 150/500\n",
      "20/20 [==============================] - 0s 4ms/step - loss: 106.4880 - mae: 4.2609 - val_loss: 88.6636 - val_mae: 5.0333\n",
      "Epoch 151/500\n",
      "20/20 [==============================] - 0s 5ms/step - loss: 124.1426 - mae: 4.8567 - val_loss: 66.7593 - val_mae: 3.9090\n",
      "Epoch 152/500\n",
      "20/20 [==============================] - 0s 5ms/step - loss: 112.8282 - mae: 4.8568 - val_loss: 81.0180 - val_mae: 5.6929\n",
      "Epoch 153/500\n",
      "20/20 [==============================] - 0s 5ms/step - loss: 112.1958 - mae: 4.6490 - val_loss: 642.4637 - val_mae: 19.6258\n",
      "Epoch 154/500\n",
      "20/20 [==============================] - 0s 4ms/step - loss: 186.8502 - mae: 7.1552 - val_loss: 76.9007 - val_mae: 4.1800\n",
      "Epoch 155/500\n",
      "20/20 [==============================] - 0s 4ms/step - loss: 129.6027 - mae: 5.6040 - val_loss: 56.2558 - val_mae: 3.0429\n",
      "Epoch 156/500\n",
      "20/20 [==============================] - 0s 4ms/step - loss: 103.0286 - mae: 4.1312 - val_loss: 54.6128 - val_mae: 3.5125\n",
      "Epoch 157/500\n",
      "20/20 [==============================] - 0s 4ms/step - loss: 118.6780 - mae: 5.1152 - val_loss: 57.9500 - val_mae: 3.2376\n",
      "Epoch 158/500\n",
      "20/20 [==============================] - 0s 4ms/step - loss: 108.5776 - mae: 4.6707 - val_loss: 83.2495 - val_mae: 6.3666\n",
      "Epoch 159/500\n",
      "20/20 [==============================] - 0s 4ms/step - loss: 102.2378 - mae: 4.3138 - val_loss: 84.0718 - val_mae: 4.8662\n",
      "Epoch 160/500\n",
      "20/20 [==============================] - 0s 4ms/step - loss: 107.7066 - mae: 4.6820 - val_loss: 69.7352 - val_mae: 4.3560\n",
      "Epoch 161/500\n",
      "20/20 [==============================] - 0s 4ms/step - loss: 96.4025 - mae: 4.0869 - val_loss: 54.2407 - val_mae: 3.2272\n",
      "Epoch 162/500\n",
      "20/20 [==============================] - 0s 4ms/step - loss: 107.2296 - mae: 4.5722 - val_loss: 99.1807 - val_mae: 4.6040\n",
      "Epoch 163/500\n",
      "20/20 [==============================] - 0s 4ms/step - loss: 97.3421 - mae: 3.9307 - val_loss: 110.2224 - val_mae: 5.4736\n",
      "Epoch 164/500\n",
      "20/20 [==============================] - 0s 4ms/step - loss: 99.7365 - mae: 4.4556 - val_loss: 88.1404 - val_mae: 5.5437\n",
      "Epoch 165/500\n",
      "20/20 [==============================] - 0s 4ms/step - loss: 112.6204 - mae: 5.1306 - val_loss: 792.7095 - val_mae: 20.9469\n",
      "Epoch 166/500\n",
      "20/20 [==============================] - 0s 4ms/step - loss: 205.5955 - mae: 7.1710 - val_loss: 51.2442 - val_mae: 3.1556\n",
      "Epoch 167/500\n",
      "20/20 [==============================] - 0s 4ms/step - loss: 108.5162 - mae: 4.6831 - val_loss: 652.1661 - val_mae: 17.6436\n",
      "Epoch 168/500\n",
      "20/20 [==============================] - 0s 4ms/step - loss: 194.5184 - mae: 6.5360 - val_loss: 45.2562 - val_mae: 3.1039\n",
      "Epoch 169/500\n",
      "20/20 [==============================] - 0s 4ms/step - loss: 87.9810 - mae: 3.9750 - val_loss: 114.6427 - val_mae: 5.7896\n",
      "Epoch 170/500\n",
      "20/20 [==============================] - 0s 4ms/step - loss: 92.8448 - mae: 4.0716 - val_loss: 58.7022 - val_mae: 4.2620\n",
      "Epoch 171/500\n",
      "20/20 [==============================] - 0s 4ms/step - loss: 101.8617 - mae: 4.3788 - val_loss: 48.0096 - val_mae: 3.0448\n",
      "Epoch 172/500\n",
      "20/20 [==============================] - 0s 4ms/step - loss: 102.4266 - mae: 4.0451 - val_loss: 1605.3287 - val_mae: 30.9740\n",
      "Epoch 173/500\n",
      "20/20 [==============================] - 0s 4ms/step - loss: 245.2783 - mae: 7.0656 - val_loss: 78.2269 - val_mae: 4.5505\n",
      "Epoch 174/500\n",
      "20/20 [==============================] - 0s 4ms/step - loss: 86.6076 - mae: 4.4617 - val_loss: 51.2118 - val_mae: 3.5528\n",
      "Epoch 175/500\n",
      "20/20 [==============================] - 0s 4ms/step - loss: 91.6875 - mae: 4.0533 - val_loss: 59.7235 - val_mae: 3.6632\n",
      "Epoch 176/500\n",
      "20/20 [==============================] - 0s 4ms/step - loss: 93.9402 - mae: 4.1819 - val_loss: 52.0261 - val_mae: 3.8663\n",
      "Epoch 177/500\n",
      "20/20 [==============================] - 0s 4ms/step - loss: 84.7605 - mae: 3.7401 - val_loss: 77.8352 - val_mae: 4.4787\n",
      "Epoch 178/500\n",
      "20/20 [==============================] - 0s 4ms/step - loss: 82.1145 - mae: 3.7131 - val_loss: 1067.4133 - val_mae: 25.4131\n",
      "Epoch 179/500\n",
      "20/20 [==============================] - 0s 4ms/step - loss: 247.5580 - mae: 7.8167 - val_loss: 953.0650 - val_mae: 24.1450\n",
      "Epoch 180/500\n",
      "20/20 [==============================] - 0s 4ms/step - loss: 187.1107 - mae: 7.3009 - val_loss: 64.6678 - val_mae: 3.6813\n",
      "Epoch 181/500\n",
      "20/20 [==============================] - 0s 4ms/step - loss: 87.9044 - mae: 4.1115 - val_loss: 43.3451 - val_mae: 3.1715\n",
      "Epoch 182/500\n",
      "20/20 [==============================] - 0s 4ms/step - loss: 92.8278 - mae: 4.2004 - val_loss: 50.2112 - val_mae: 3.3535\n",
      "Epoch 183/500\n",
      "20/20 [==============================] - 0s 4ms/step - loss: 90.0026 - mae: 4.3920 - val_loss: 51.2680 - val_mae: 3.3855\n",
      "Epoch 184/500\n",
      "20/20 [==============================] - 0s 4ms/step - loss: 86.2948 - mae: 3.6368 - val_loss: 69.2735 - val_mae: 5.7241\n",
      "Epoch 185/500\n",
      "20/20 [==============================] - 0s 4ms/step - loss: 87.8666 - mae: 4.2378 - val_loss: 50.7155 - val_mae: 3.4677\n",
      "Epoch 186/500\n",
      "20/20 [==============================] - 0s 4ms/step - loss: 83.5546 - mae: 3.9392 - val_loss: 53.6472 - val_mae: 3.9213\n",
      "Epoch 187/500\n",
      "20/20 [==============================] - 0s 4ms/step - loss: 83.0857 - mae: 3.9651 - val_loss: 48.6868 - val_mae: 3.0822\n",
      "Epoch 188/500\n",
      "20/20 [==============================] - 0s 4ms/step - loss: 80.7062 - mae: 3.9310 - val_loss: 46.6291 - val_mae: 2.9681\n",
      "Epoch 189/500\n",
      "20/20 [==============================] - 0s 4ms/step - loss: 78.9297 - mae: 3.9369 - val_loss: 65.7443 - val_mae: 4.3366\n",
      "Epoch 190/500\n",
      "20/20 [==============================] - 0s 4ms/step - loss: 77.2509 - mae: 3.7884 - val_loss: 77.2118 - val_mae: 5.0424\n",
      "Epoch 191/500\n",
      "20/20 [==============================] - 0s 4ms/step - loss: 79.5484 - mae: 4.1367 - val_loss: 48.0981 - val_mae: 2.9475\n",
      "Epoch 192/500\n",
      "20/20 [==============================] - 0s 4ms/step - loss: 71.0900 - mae: 3.3837 - val_loss: 59.1711 - val_mae: 4.2777\n",
      "Epoch 193/500\n",
      "20/20 [==============================] - 0s 4ms/step - loss: 73.5306 - mae: 3.4173 - val_loss: 844.4810 - val_mae: 22.7073\n",
      "Epoch 194/500\n",
      "20/20 [==============================] - 0s 4ms/step - loss: 151.3566 - mae: 6.3569 - val_loss: 49.9979 - val_mae: 2.9763\n",
      "Epoch 195/500\n",
      "20/20 [==============================] - 0s 4ms/step - loss: 67.2611 - mae: 3.3419 - val_loss: 248.5435 - val_mae: 9.6440\n",
      "Epoch 196/500\n",
      "20/20 [==============================] - 0s 5ms/step - loss: 91.1077 - mae: 4.8978 - val_loss: 69.0831 - val_mae: 4.1398\n",
      "Epoch 197/500\n",
      "20/20 [==============================] - 0s 4ms/step - loss: 79.1985 - mae: 4.0077 - val_loss: 48.7782 - val_mae: 3.5816\n",
      "Epoch 198/500\n",
      "20/20 [==============================] - 0s 4ms/step - loss: 85.3133 - mae: 3.8259 - val_loss: 47.1582 - val_mae: 3.0054\n",
      "Epoch 199/500\n",
      "20/20 [==============================] - 0s 4ms/step - loss: 68.8704 - mae: 3.3367 - val_loss: 46.4041 - val_mae: 3.0631\n",
      "Epoch 200/500\n",
      "20/20 [==============================] - 0s 4ms/step - loss: 80.4340 - mae: 3.9288 - val_loss: 53.4975 - val_mae: 4.2685\n",
      "Epoch 201/500\n",
      "20/20 [==============================] - 0s 4ms/step - loss: 73.1371 - mae: 3.8275 - val_loss: 53.9439 - val_mae: 3.2156\n",
      "Epoch 202/500\n",
      "20/20 [==============================] - 0s 4ms/step - loss: 68.4773 - mae: 3.4194 - val_loss: 46.5265 - val_mae: 3.0339\n",
      "Epoch 203/500\n",
      "20/20 [==============================] - 0s 4ms/step - loss: 66.5661 - mae: 3.1428 - val_loss: 84.8097 - val_mae: 5.3440\n",
      "Epoch 204/500\n",
      "20/20 [==============================] - 0s 4ms/step - loss: 81.5790 - mae: 3.9915 - val_loss: 61.5576 - val_mae: 3.4694\n",
      "Epoch 205/500\n",
      "20/20 [==============================] - 0s 5ms/step - loss: 77.0796 - mae: 3.7958 - val_loss: 313.1185 - val_mae: 13.3906\n",
      "Epoch 206/500\n",
      "20/20 [==============================] - 0s 4ms/step - loss: 106.6523 - mae: 5.4796 - val_loss: 76.7695 - val_mae: 6.2676\n",
      "Epoch 207/500\n",
      "20/20 [==============================] - 0s 4ms/step - loss: 75.0473 - mae: 4.1406 - val_loss: 62.8487 - val_mae: 4.4594\n",
      "Epoch 208/500\n",
      "20/20 [==============================] - 0s 4ms/step - loss: 72.8649 - mae: 3.6225 - val_loss: 46.0702 - val_mae: 3.0512\n",
      "Epoch 209/500\n",
      "20/20 [==============================] - 0s 4ms/step - loss: 65.6267 - mae: 3.5255 - val_loss: 39.4705 - val_mae: 2.9508\n",
      "Epoch 210/500\n",
      "20/20 [==============================] - 0s 4ms/step - loss: 70.3086 - mae: 3.5861 - val_loss: 65.8900 - val_mae: 5.0279\n",
      "Epoch 211/500\n",
      "20/20 [==============================] - 0s 4ms/step - loss: 68.3401 - mae: 3.5956 - val_loss: 53.4786 - val_mae: 3.5773\n",
      "Epoch 212/500\n",
      "20/20 [==============================] - 0s 4ms/step - loss: 71.2029 - mae: 3.9001 - val_loss: 39.9049 - val_mae: 2.8127\n",
      "Epoch 213/500\n",
      "20/20 [==============================] - 0s 4ms/step - loss: 62.9739 - mae: 3.3408 - val_loss: 40.3826 - val_mae: 2.7237\n",
      "Epoch 214/500\n",
      "20/20 [==============================] - 0s 4ms/step - loss: 63.9687 - mae: 3.4269 - val_loss: 45.0121 - val_mae: 2.8548\n",
      "Epoch 215/500\n",
      "20/20 [==============================] - 0s 4ms/step - loss: 57.5544 - mae: 2.9901 - val_loss: 39.9368 - val_mae: 2.8343\n",
      "Epoch 216/500\n",
      "20/20 [==============================] - 0s 4ms/step - loss: 61.0031 - mae: 3.3613 - val_loss: 47.1347 - val_mae: 2.8860\n",
      "Epoch 217/500\n",
      "20/20 [==============================] - 0s 4ms/step - loss: 64.5752 - mae: 3.7192 - val_loss: 42.8455 - val_mae: 3.3942\n",
      "Epoch 218/500\n",
      "20/20 [==============================] - 0s 4ms/step - loss: 57.9627 - mae: 3.2743 - val_loss: 43.5965 - val_mae: 3.7278\n",
      "Epoch 219/500\n",
      "20/20 [==============================] - 0s 4ms/step - loss: 55.2185 - mae: 3.5202 - val_loss: 37.3950 - val_mae: 3.7603\n",
      "Epoch 220/500\n",
      "20/20 [==============================] - 0s 4ms/step - loss: 62.8063 - mae: 3.6259 - val_loss: 93.4225 - val_mae: 7.0503\n",
      "Epoch 221/500\n",
      "20/20 [==============================] - 0s 4ms/step - loss: 58.0277 - mae: 3.5210 - val_loss: 37.8102 - val_mae: 3.0180\n",
      "Epoch 222/500\n",
      "20/20 [==============================] - 0s 4ms/step - loss: 66.4177 - mae: 3.9078 - val_loss: 44.3343 - val_mae: 3.8036\n",
      "Epoch 223/500\n",
      "20/20 [==============================] - 0s 4ms/step - loss: 58.6156 - mae: 3.3321 - val_loss: 54.2520 - val_mae: 3.5424\n",
      "Epoch 224/500\n",
      "20/20 [==============================] - 0s 4ms/step - loss: 61.0315 - mae: 3.7673 - val_loss: 33.3546 - val_mae: 2.4466\n",
      "Epoch 225/500\n",
      "20/20 [==============================] - 0s 4ms/step - loss: 61.9488 - mae: 3.4057 - val_loss: 230.2494 - val_mae: 11.5092\n",
      "Epoch 226/500\n",
      "20/20 [==============================] - 0s 4ms/step - loss: 97.6946 - mae: 4.8297 - val_loss: 38.8870 - val_mae: 3.2901\n",
      "Epoch 227/500\n",
      "20/20 [==============================] - 0s 4ms/step - loss: 59.6920 - mae: 3.4976 - val_loss: 36.3154 - val_mae: 2.7184\n",
      "Epoch 228/500\n",
      "20/20 [==============================] - 0s 4ms/step - loss: 62.9883 - mae: 3.8966 - val_loss: 33.5907 - val_mae: 2.6563\n",
      "Epoch 229/500\n",
      "20/20 [==============================] - 0s 4ms/step - loss: 65.1878 - mae: 3.5034 - val_loss: 69.1667 - val_mae: 6.1870\n",
      "Epoch 230/500\n",
      "20/20 [==============================] - 0s 4ms/step - loss: 48.4262 - mae: 3.1475 - val_loss: 115.0514 - val_mae: 6.2760\n",
      "Epoch 231/500\n",
      "20/20 [==============================] - 0s 4ms/step - loss: 75.3843 - mae: 4.5016 - val_loss: 40.3720 - val_mae: 3.6828\n",
      "Epoch 232/500\n",
      "20/20 [==============================] - 0s 4ms/step - loss: 53.9130 - mae: 3.5909 - val_loss: 43.3210 - val_mae: 4.3978\n",
      "Epoch 233/500\n",
      "20/20 [==============================] - 0s 4ms/step - loss: 49.5600 - mae: 3.0680 - val_loss: 75.0790 - val_mae: 6.6013\n",
      "Epoch 234/500\n",
      "20/20 [==============================] - 0s 4ms/step - loss: 57.9585 - mae: 4.0127 - val_loss: 34.1032 - val_mae: 2.3865\n",
      "Epoch 235/500\n",
      "20/20 [==============================] - 0s 4ms/step - loss: 53.7271 - mae: 3.2285 - val_loss: 32.9893 - val_mae: 2.9391\n",
      "Epoch 236/500\n",
      "20/20 [==============================] - 0s 4ms/step - loss: 43.2720 - mae: 2.8637 - val_loss: 53.8581 - val_mae: 4.0204\n",
      "Epoch 237/500\n",
      "20/20 [==============================] - 0s 4ms/step - loss: 48.7454 - mae: 3.1807 - val_loss: 54.8113 - val_mae: 4.7502\n",
      "Epoch 238/500\n",
      "20/20 [==============================] - 0s 4ms/step - loss: 53.7780 - mae: 3.4061 - val_loss: 31.2683 - val_mae: 2.4332\n",
      "Epoch 239/500\n",
      "20/20 [==============================] - 0s 4ms/step - loss: 48.8646 - mae: 3.3734 - val_loss: 32.9032 - val_mae: 2.9973\n",
      "Epoch 240/500\n",
      "20/20 [==============================] - 0s 4ms/step - loss: 55.1648 - mae: 3.3697 - val_loss: 45.7076 - val_mae: 3.8861\n",
      "Epoch 241/500\n",
      "20/20 [==============================] - 0s 4ms/step - loss: 49.1361 - mae: 3.3371 - val_loss: 37.8039 - val_mae: 2.8498\n",
      "Epoch 242/500\n",
      "20/20 [==============================] - 0s 4ms/step - loss: 46.9898 - mae: 3.1241 - val_loss: 58.4533 - val_mae: 3.9956\n",
      "Epoch 243/500\n",
      "20/20 [==============================] - 0s 4ms/step - loss: 55.7852 - mae: 3.8976 - val_loss: 53.1446 - val_mae: 5.3214\n",
      "Epoch 244/500\n",
      "20/20 [==============================] - 0s 4ms/step - loss: 51.5805 - mae: 3.2968 - val_loss: 36.9738 - val_mae: 3.1291\n",
      "Epoch 245/500\n",
      "20/20 [==============================] - 0s 4ms/step - loss: 46.5248 - mae: 3.1054 - val_loss: 3909.6882 - val_mae: 49.3356\n",
      "Epoch 246/500\n",
      "20/20 [==============================] - 0s 4ms/step - loss: 447.9920 - mae: 10.8409 - val_loss: 1145.9932 - val_mae: 24.5983\n",
      "Epoch 247/500\n",
      "20/20 [==============================] - 0s 4ms/step - loss: 224.5393 - mae: 8.7603 - val_loss: 51.0470 - val_mae: 4.6064\n",
      "Epoch 248/500\n",
      "20/20 [==============================] - 0s 4ms/step - loss: 54.1875 - mae: 3.6464 - val_loss: 50.8525 - val_mae: 4.9018\n",
      "Epoch 249/500\n",
      "20/20 [==============================] - 0s 7ms/step - loss: 48.5881 - mae: 3.4131 - val_loss: 44.4948 - val_mae: 4.6197\n",
      "Epoch 250/500\n",
      "20/20 [==============================] - 0s 4ms/step - loss: 51.0826 - mae: 3.4980 - val_loss: 31.3152 - val_mae: 2.5109\n",
      "Epoch 251/500\n",
      "20/20 [==============================] - 0s 4ms/step - loss: 44.5960 - mae: 2.8028 - val_loss: 42.5289 - val_mae: 3.4344\n",
      "Epoch 252/500\n",
      "20/20 [==============================] - 0s 5ms/step - loss: 48.7399 - mae: 3.2340 - val_loss: 34.8702 - val_mae: 3.3116\n",
      "Epoch 253/500\n",
      "20/20 [==============================] - 0s 4ms/step - loss: 46.8817 - mae: 3.2987 - val_loss: 33.5587 - val_mae: 3.4562\n",
      "Epoch 254/500\n",
      "20/20 [==============================] - 0s 4ms/step - loss: 46.1575 - mae: 2.9672 - val_loss: 31.4990 - val_mae: 2.7922\n",
      "Epoch 255/500\n",
      "20/20 [==============================] - 0s 4ms/step - loss: 43.7575 - mae: 2.6579 - val_loss: 39.9940 - val_mae: 3.3903\n",
      "Epoch 256/500\n",
      "20/20 [==============================] - 0s 3ms/step - loss: 46.5549 - mae: 3.1378 - val_loss: 36.1227 - val_mae: 2.8816\n",
      "Epoch 257/500\n",
      "20/20 [==============================] - 0s 4ms/step - loss: 42.3963 - mae: 2.8468 - val_loss: 27.8721 - val_mae: 2.4000\n",
      "Epoch 258/500\n",
      "20/20 [==============================] - 0s 4ms/step - loss: 36.7829 - mae: 2.5873 - val_loss: 26.7862 - val_mae: 2.3955\n",
      "Epoch 259/500\n",
      "20/20 [==============================] - 0s 4ms/step - loss: 36.9896 - mae: 2.6324 - val_loss: 31.4012 - val_mae: 2.5835\n",
      "Epoch 260/500\n",
      "20/20 [==============================] - 0s 4ms/step - loss: 39.2136 - mae: 2.7187 - val_loss: 29.8338 - val_mae: 2.5088\n",
      "Epoch 261/500\n",
      "20/20 [==============================] - 0s 4ms/step - loss: 42.4495 - mae: 2.9095 - val_loss: 31.3583 - val_mae: 2.7868\n",
      "Epoch 262/500\n",
      "20/20 [==============================] - 0s 4ms/step - loss: 36.6507 - mae: 2.7782 - val_loss: 37.0890 - val_mae: 2.9800\n",
      "Epoch 263/500\n",
      "20/20 [==============================] - 0s 3ms/step - loss: 45.2608 - mae: 2.9463 - val_loss: 276.8310 - val_mae: 12.6642\n",
      "Epoch 264/500\n",
      "20/20 [==============================] - 0s 4ms/step - loss: 61.2793 - mae: 3.7845 - val_loss: 28.0199 - val_mae: 2.4977\n",
      "Epoch 265/500\n",
      "20/20 [==============================] - 0s 4ms/step - loss: 33.0583 - mae: 2.6546 - val_loss: 24.7022 - val_mae: 2.2579\n",
      "Epoch 266/500\n",
      "20/20 [==============================] - 0s 3ms/step - loss: 37.2182 - mae: 2.8966 - val_loss: 26.7391 - val_mae: 2.5648\n",
      "Epoch 267/500\n",
      "20/20 [==============================] - 0s 4ms/step - loss: 33.1189 - mae: 2.4674 - val_loss: 29.7309 - val_mae: 2.5734\n",
      "Epoch 268/500\n",
      "20/20 [==============================] - 0s 3ms/step - loss: 36.5503 - mae: 2.8409 - val_loss: 28.5204 - val_mae: 2.8206\n",
      "Epoch 269/500\n",
      "20/20 [==============================] - 0s 4ms/step - loss: 40.3065 - mae: 2.8664 - val_loss: 30.5682 - val_mae: 3.0842\n",
      "Epoch 270/500\n",
      "20/20 [==============================] - 0s 3ms/step - loss: 32.3714 - mae: 2.6857 - val_loss: 138.5773 - val_mae: 7.8512\n",
      "Epoch 271/500\n",
      "20/20 [==============================] - 0s 4ms/step - loss: 37.9525 - mae: 3.0706 - val_loss: 90.1113 - val_mae: 7.7322\n",
      "Epoch 272/500\n",
      "20/20 [==============================] - 0s 4ms/step - loss: 36.9893 - mae: 2.9678 - val_loss: 28.1267 - val_mae: 2.8383\n",
      "Epoch 273/500\n",
      "20/20 [==============================] - 0s 4ms/step - loss: 35.8631 - mae: 3.0685 - val_loss: 33.8747 - val_mae: 2.8811\n",
      "Epoch 274/500\n",
      "20/20 [==============================] - 0s 4ms/step - loss: 33.8737 - mae: 2.8335 - val_loss: 27.3898 - val_mae: 2.4558\n",
      "Epoch 275/500\n",
      "20/20 [==============================] - 0s 4ms/step - loss: 31.6926 - mae: 2.6058 - val_loss: 29.9418 - val_mae: 2.7654\n",
      "Epoch 276/500\n",
      "20/20 [==============================] - 0s 4ms/step - loss: 33.4259 - mae: 2.8381 - val_loss: 26.3056 - val_mae: 2.5203\n",
      "Epoch 277/500\n",
      "20/20 [==============================] - 0s 3ms/step - loss: 30.8476 - mae: 2.5926 - val_loss: 25.6294 - val_mae: 2.8069\n",
      "Epoch 278/500\n",
      "20/20 [==============================] - 0s 3ms/step - loss: 37.2238 - mae: 2.8956 - val_loss: 64.2524 - val_mae: 5.7980\n",
      "Epoch 279/500\n",
      "20/20 [==============================] - 0s 4ms/step - loss: 36.1652 - mae: 3.1993 - val_loss: 38.4078 - val_mae: 3.7940\n",
      "Epoch 280/500\n",
      "20/20 [==============================] - 0s 4ms/step - loss: 27.5955 - mae: 2.6305 - val_loss: 24.5055 - val_mae: 2.4310\n",
      "Epoch 281/500\n",
      "20/20 [==============================] - 0s 4ms/step - loss: 29.3986 - mae: 2.5088 - val_loss: 22.4407 - val_mae: 2.3269\n",
      "Epoch 282/500\n",
      "20/20 [==============================] - 0s 4ms/step - loss: 26.8899 - mae: 2.4497 - val_loss: 36.0137 - val_mae: 3.6183\n",
      "Epoch 283/500\n",
      "20/20 [==============================] - 0s 4ms/step - loss: 26.5450 - mae: 2.4533 - val_loss: 25.9624 - val_mae: 3.1031\n",
      "Epoch 284/500\n",
      "20/20 [==============================] - 0s 3ms/step - loss: 25.8948 - mae: 2.4328 - val_loss: 24.4711 - val_mae: 2.3221\n",
      "Epoch 285/500\n",
      "20/20 [==============================] - 0s 4ms/step - loss: 28.1122 - mae: 2.4149 - val_loss: 32.9006 - val_mae: 3.8556\n",
      "Epoch 286/500\n",
      "20/20 [==============================] - 0s 4ms/step - loss: 24.6032 - mae: 2.2130 - val_loss: 36.9107 - val_mae: 3.0947\n",
      "Epoch 287/500\n",
      "20/20 [==============================] - 0s 4ms/step - loss: 25.4491 - mae: 2.4669 - val_loss: 29.2438 - val_mae: 2.5865\n",
      "Epoch 288/500\n",
      "20/20 [==============================] - 0s 4ms/step - loss: 28.2580 - mae: 2.5893 - val_loss: 27.7421 - val_mae: 2.3855\n",
      "Epoch 289/500\n",
      "20/20 [==============================] - 0s 4ms/step - loss: 30.2015 - mae: 2.8517 - val_loss: 21.8518 - val_mae: 2.2711\n",
      "Epoch 290/500\n",
      "20/20 [==============================] - 0s 3ms/step - loss: 24.2260 - mae: 2.3852 - val_loss: 23.8475 - val_mae: 2.3749\n",
      "Epoch 291/500\n",
      "20/20 [==============================] - 0s 4ms/step - loss: 26.0343 - mae: 2.5581 - val_loss: 21.9310 - val_mae: 2.9608\n",
      "Epoch 292/500\n",
      "20/20 [==============================] - 0s 3ms/step - loss: 22.1658 - mae: 2.1451 - val_loss: 29.7809 - val_mae: 3.2659\n",
      "Epoch 293/500\n",
      "20/20 [==============================] - 0s 4ms/step - loss: 25.6228 - mae: 2.6463 - val_loss: 23.8359 - val_mae: 2.2733\n",
      "Epoch 294/500\n",
      "20/20 [==============================] - 0s 3ms/step - loss: 23.6828 - mae: 2.4950 - val_loss: 16.1286 - val_mae: 2.2263\n",
      "Epoch 295/500\n",
      "20/20 [==============================] - 0s 3ms/step - loss: 23.0731 - mae: 2.2882 - val_loss: 22.3877 - val_mae: 2.7232\n",
      "Epoch 296/500\n",
      "20/20 [==============================] - 0s 4ms/step - loss: 23.9151 - mae: 2.4122 - val_loss: 22.5792 - val_mae: 2.4144\n",
      "Epoch 297/500\n",
      "20/20 [==============================] - 0s 4ms/step - loss: 23.2055 - mae: 2.5011 - val_loss: 20.5961 - val_mae: 2.9701\n",
      "Epoch 298/500\n",
      "20/20 [==============================] - 0s 3ms/step - loss: 26.2924 - mae: 2.7144 - val_loss: 22.3014 - val_mae: 2.3247\n",
      "Epoch 299/500\n",
      "20/20 [==============================] - 0s 4ms/step - loss: 24.7813 - mae: 2.5564 - val_loss: 51.0553 - val_mae: 5.7231\n",
      "Epoch 300/500\n",
      "20/20 [==============================] - 0s 4ms/step - loss: 26.4756 - mae: 2.6313 - val_loss: 24.2339 - val_mae: 2.6653\n",
      "Epoch 301/500\n",
      "20/20 [==============================] - 0s 3ms/step - loss: 21.0680 - mae: 2.2785 - val_loss: 23.5224 - val_mae: 2.6038\n",
      "Epoch 302/500\n",
      "20/20 [==============================] - 0s 4ms/step - loss: 19.4243 - mae: 2.3145 - val_loss: 17.1896 - val_mae: 2.1172\n",
      "Epoch 303/500\n",
      "20/20 [==============================] - 0s 4ms/step - loss: 20.9078 - mae: 2.2797 - val_loss: 17.7559 - val_mae: 2.6577\n",
      "Epoch 304/500\n",
      "20/20 [==============================] - 0s 4ms/step - loss: 18.9846 - mae: 2.0858 - val_loss: 20.9144 - val_mae: 2.3172\n",
      "Epoch 305/500\n",
      "20/20 [==============================] - 0s 4ms/step - loss: 21.4723 - mae: 2.4094 - val_loss: 17.0296 - val_mae: 2.0194\n",
      "Epoch 306/500\n",
      "20/20 [==============================] - 0s 4ms/step - loss: 21.5717 - mae: 2.3976 - val_loss: 23.9240 - val_mae: 3.1091\n",
      "Epoch 307/500\n",
      "20/20 [==============================] - 0s 4ms/step - loss: 21.7533 - mae: 2.4477 - val_loss: 32.2690 - val_mae: 4.2189\n",
      "Epoch 308/500\n",
      "20/20 [==============================] - 0s 4ms/step - loss: 19.7133 - mae: 2.2486 - val_loss: 34.4650 - val_mae: 3.8144\n",
      "Epoch 309/500\n",
      "20/20 [==============================] - 0s 4ms/step - loss: 19.8522 - mae: 2.3509 - val_loss: 25.3135 - val_mae: 3.3613\n",
      "Epoch 310/500\n",
      "20/20 [==============================] - 0s 4ms/step - loss: 22.3391 - mae: 2.5551 - val_loss: 30.5062 - val_mae: 4.3476\n",
      "Epoch 311/500\n",
      "20/20 [==============================] - 0s 4ms/step - loss: 18.9013 - mae: 2.2162 - val_loss: 21.7281 - val_mae: 2.5193\n",
      "Epoch 312/500\n",
      "20/20 [==============================] - 0s 4ms/step - loss: 18.9225 - mae: 2.4000 - val_loss: 16.9024 - val_mae: 2.0381\n",
      "Epoch 313/500\n",
      "20/20 [==============================] - 0s 4ms/step - loss: 17.3927 - mae: 2.3034 - val_loss: 13.5271 - val_mae: 1.9189\n",
      "Epoch 314/500\n",
      "20/20 [==============================] - 0s 4ms/step - loss: 22.8316 - mae: 2.3852 - val_loss: 28.8575 - val_mae: 3.9302\n",
      "Epoch 315/500\n",
      "20/20 [==============================] - 0s 4ms/step - loss: 15.4921 - mae: 1.9772 - val_loss: 22.6254 - val_mae: 2.6067\n",
      "Epoch 316/500\n",
      "20/20 [==============================] - 0s 4ms/step - loss: 16.2237 - mae: 1.9520 - val_loss: 28.2932 - val_mae: 3.8965\n",
      "Epoch 317/500\n",
      "20/20 [==============================] - 0s 4ms/step - loss: 24.1076 - mae: 2.6756 - val_loss: 27.0455 - val_mae: 3.6261\n",
      "Epoch 318/500\n",
      "20/20 [==============================] - 0s 4ms/step - loss: 15.2723 - mae: 2.1129 - val_loss: 74.2362 - val_mae: 5.9390\n",
      "Epoch 319/500\n",
      "20/20 [==============================] - 0s 4ms/step - loss: 28.2453 - mae: 3.1178 - val_loss: 54.0245 - val_mae: 4.2387\n",
      "Epoch 320/500\n",
      "20/20 [==============================] - 0s 4ms/step - loss: 20.9972 - mae: 2.4998 - val_loss: 2495.1279 - val_mae: 38.9399\n",
      "Epoch 321/500\n",
      "20/20 [==============================] - 0s 4ms/step - loss: 322.9462 - mae: 9.4884 - val_loss: 56.1312 - val_mae: 5.1064\n",
      "Epoch 322/500\n",
      "20/20 [==============================] - 0s 3ms/step - loss: 29.1738 - mae: 3.0216 - val_loss: 19.3585 - val_mae: 2.3302\n",
      "Epoch 323/500\n",
      "20/20 [==============================] - 0s 4ms/step - loss: 22.9570 - mae: 2.3802 - val_loss: 20.4798 - val_mae: 2.2692\n",
      "Epoch 324/500\n",
      "20/20 [==============================] - 0s 3ms/step - loss: 20.1535 - mae: 2.3253 - val_loss: 25.2695 - val_mae: 2.8968\n",
      "Epoch 325/500\n",
      "20/20 [==============================] - 0s 5ms/step - loss: 20.1126 - mae: 2.4409 - val_loss: 18.5976 - val_mae: 2.3948\n",
      "Epoch 326/500\n",
      "20/20 [==============================] - 0s 4ms/step - loss: 19.8328 - mae: 2.3354 - val_loss: 28.5397 - val_mae: 3.8178\n",
      "Epoch 327/500\n",
      "20/20 [==============================] - 0s 4ms/step - loss: 17.8307 - mae: 2.1568 - val_loss: 34.2813 - val_mae: 4.3134\n",
      "Epoch 328/500\n",
      "20/20 [==============================] - 0s 5ms/step - loss: 28.6603 - mae: 3.2288 - val_loss: 25.4590 - val_mae: 3.1883\n",
      "Epoch 329/500\n",
      "20/20 [==============================] - 0s 3ms/step - loss: 19.1072 - mae: 2.2597 - val_loss: 19.6531 - val_mae: 2.2785\n",
      "Epoch 330/500\n",
      "20/20 [==============================] - 0s 4ms/step - loss: 17.3129 - mae: 2.1183 - val_loss: 18.9710 - val_mae: 2.6057\n",
      "Epoch 331/500\n",
      "20/20 [==============================] - 0s 3ms/step - loss: 15.3676 - mae: 2.0091 - val_loss: 17.1952 - val_mae: 2.2094\n",
      "Epoch 332/500\n",
      "20/20 [==============================] - 0s 4ms/step - loss: 15.5529 - mae: 2.0844 - val_loss: 16.1222 - val_mae: 1.9676\n",
      "Epoch 333/500\n",
      "20/20 [==============================] - 0s 3ms/step - loss: 14.6501 - mae: 1.9011 - val_loss: 13.7976 - val_mae: 1.9459\n",
      "Epoch 334/500\n",
      "20/20 [==============================] - 0s 3ms/step - loss: 15.2384 - mae: 2.0906 - val_loss: 12.0104 - val_mae: 1.9227\n",
      "Epoch 335/500\n",
      "20/20 [==============================] - 0s 3ms/step - loss: 16.0572 - mae: 2.0411 - val_loss: 14.2163 - val_mae: 2.3266\n",
      "Epoch 336/500\n",
      "20/20 [==============================] - 0s 4ms/step - loss: 15.8456 - mae: 2.1191 - val_loss: 12.6047 - val_mae: 2.1839\n",
      "Epoch 337/500\n",
      "20/20 [==============================] - 0s 3ms/step - loss: 14.2035 - mae: 2.0244 - val_loss: 15.5372 - val_mae: 2.4287\n",
      "Epoch 338/500\n",
      "20/20 [==============================] - 0s 4ms/step - loss: 13.7293 - mae: 1.9420 - val_loss: 13.6658 - val_mae: 2.6256\n",
      "Epoch 339/500\n",
      "20/20 [==============================] - 0s 3ms/step - loss: 16.7110 - mae: 2.0111 - val_loss: 17.9463 - val_mae: 2.6768\n",
      "Epoch 340/500\n",
      "20/20 [==============================] - 0s 4ms/step - loss: 12.8942 - mae: 1.7908 - val_loss: 76.7818 - val_mae: 7.6220\n",
      "Epoch 341/500\n",
      "20/20 [==============================] - 0s 3ms/step - loss: 17.3229 - mae: 2.3549 - val_loss: 11.3070 - val_mae: 1.8455\n",
      "Epoch 342/500\n",
      "20/20 [==============================] - 0s 4ms/step - loss: 12.2382 - mae: 1.8298 - val_loss: 18.1732 - val_mae: 2.6362\n",
      "Epoch 343/500\n",
      "20/20 [==============================] - 0s 4ms/step - loss: 13.4455 - mae: 2.1075 - val_loss: 11.2434 - val_mae: 1.9314\n",
      "Epoch 344/500\n",
      "20/20 [==============================] - 0s 4ms/step - loss: 11.2341 - mae: 1.8971 - val_loss: 74.5945 - val_mae: 7.2812\n",
      "Epoch 345/500\n",
      "20/20 [==============================] - 0s 4ms/step - loss: 18.2072 - mae: 2.4501 - val_loss: 14.0128 - val_mae: 2.2270\n",
      "Epoch 346/500\n",
      "20/20 [==============================] - 0s 4ms/step - loss: 9.8913 - mae: 1.7309 - val_loss: 13.3846 - val_mae: 2.3959\n",
      "Epoch 347/500\n",
      "20/20 [==============================] - 0s 3ms/step - loss: 11.9360 - mae: 1.9368 - val_loss: 137.2600 - val_mae: 10.1627\n",
      "Epoch 348/500\n",
      "20/20 [==============================] - 0s 3ms/step - loss: 18.5705 - mae: 2.5413 - val_loss: 12.2758 - val_mae: 2.0248\n",
      "Epoch 349/500\n",
      "20/20 [==============================] - 0s 5ms/step - loss: 11.8854 - mae: 1.9918 - val_loss: 15.5351 - val_mae: 2.4465\n",
      "Epoch 350/500\n",
      "20/20 [==============================] - 0s 4ms/step - loss: 9.9496 - mae: 1.7763 - val_loss: 12.9319 - val_mae: 2.0156\n",
      "Epoch 351/500\n",
      "20/20 [==============================] - 0s 3ms/step - loss: 8.5033 - mae: 1.5304 - val_loss: 12.1414 - val_mae: 2.2567\n",
      "Epoch 352/500\n",
      "20/20 [==============================] - 0s 4ms/step - loss: 10.9658 - mae: 1.7613 - val_loss: 15.6124 - val_mae: 1.9850\n",
      "Epoch 353/500\n",
      "20/20 [==============================] - 0s 3ms/step - loss: 10.3508 - mae: 1.7657 - val_loss: 11.9102 - val_mae: 1.9239\n",
      "Epoch 354/500\n",
      "20/20 [==============================] - 0s 4ms/step - loss: 9.3410 - mae: 1.7009 - val_loss: 10.3752 - val_mae: 1.8866\n",
      "Epoch 355/500\n",
      "20/20 [==============================] - 0s 3ms/step - loss: 9.3047 - mae: 1.7856 - val_loss: 17.4439 - val_mae: 2.1229\n",
      "Epoch 356/500\n",
      "20/20 [==============================] - 0s 4ms/step - loss: 10.9739 - mae: 1.9351 - val_loss: 14.6820 - val_mae: 2.4159\n",
      "Epoch 357/500\n",
      "20/20 [==============================] - 0s 4ms/step - loss: 7.9010 - mae: 1.6482 - val_loss: 16.5671 - val_mae: 2.8189\n",
      "Epoch 358/500\n",
      "20/20 [==============================] - 0s 4ms/step - loss: 13.9188 - mae: 2.2587 - val_loss: 9.9254 - val_mae: 1.9536\n",
      "Epoch 359/500\n",
      "20/20 [==============================] - 0s 3ms/step - loss: 8.0803 - mae: 1.6062 - val_loss: 15.3950 - val_mae: 2.1385\n",
      "Epoch 360/500\n",
      "20/20 [==============================] - 0s 4ms/step - loss: 9.9558 - mae: 1.8395 - val_loss: 9.4554 - val_mae: 1.8384\n",
      "Epoch 361/500\n",
      "20/20 [==============================] - 0s 3ms/step - loss: 10.3997 - mae: 1.8317 - val_loss: 10.9731 - val_mae: 1.8241\n",
      "Epoch 362/500\n",
      "20/20 [==============================] - 0s 4ms/step - loss: 7.4607 - mae: 1.4176 - val_loss: 11.5017 - val_mae: 1.8997\n",
      "Epoch 363/500\n",
      "20/20 [==============================] - 0s 3ms/step - loss: 7.4637 - mae: 1.5041 - val_loss: 11.6339 - val_mae: 1.9372\n",
      "Epoch 364/500\n",
      "20/20 [==============================] - 0s 4ms/step - loss: 10.0995 - mae: 1.8760 - val_loss: 12.1934 - val_mae: 1.8807\n",
      "Epoch 365/500\n",
      "20/20 [==============================] - 0s 4ms/step - loss: 10.1815 - mae: 1.9267 - val_loss: 10.2575 - val_mae: 1.6987\n",
      "Epoch 366/500\n",
      "20/20 [==============================] - 0s 4ms/step - loss: 7.7775 - mae: 1.6470 - val_loss: 139.3875 - val_mae: 8.6658\n",
      "Epoch 367/500\n",
      "20/20 [==============================] - 0s 3ms/step - loss: 15.1991 - mae: 2.2391 - val_loss: 14.7398 - val_mae: 2.2050\n",
      "Epoch 368/500\n",
      "20/20 [==============================] - 0s 4ms/step - loss: 7.8684 - mae: 1.6476 - val_loss: 13.9921 - val_mae: 2.2479\n",
      "Epoch 369/500\n",
      "20/20 [==============================] - 0s 3ms/step - loss: 8.1908 - mae: 1.7716 - val_loss: 14.1343 - val_mae: 2.8217\n",
      "Epoch 370/500\n",
      "20/20 [==============================] - 0s 4ms/step - loss: 9.6787 - mae: 1.8817 - val_loss: 12.2898 - val_mae: 1.9929\n",
      "Epoch 371/500\n",
      "20/20 [==============================] - 0s 3ms/step - loss: 7.8648 - mae: 1.7882 - val_loss: 48.1442 - val_mae: 5.6459\n",
      "Epoch 372/500\n",
      "20/20 [==============================] - 0s 4ms/step - loss: 16.2403 - mae: 2.6412 - val_loss: 12.5897 - val_mae: 2.5627\n",
      "Epoch 373/500\n",
      "20/20 [==============================] - 0s 3ms/step - loss: 9.5702 - mae: 1.8044 - val_loss: 20.2730 - val_mae: 3.4944\n",
      "Epoch 374/500\n",
      "20/20 [==============================] - 0s 4ms/step - loss: 10.7175 - mae: 2.0683 - val_loss: 9.6615 - val_mae: 1.9433\n",
      "Epoch 375/500\n",
      "20/20 [==============================] - 0s 3ms/step - loss: 8.0769 - mae: 1.7340 - val_loss: 10.7497 - val_mae: 1.8825\n",
      "Epoch 376/500\n",
      "20/20 [==============================] - 0s 4ms/step - loss: 8.4031 - mae: 1.8506 - val_loss: 5.4024 - val_mae: 1.5194\n",
      "Epoch 377/500\n",
      "20/20 [==============================] - 0s 4ms/step - loss: 9.0461 - mae: 1.7427 - val_loss: 14.6706 - val_mae: 2.5237\n",
      "Epoch 378/500\n",
      "20/20 [==============================] - 0s 4ms/step - loss: 10.9751 - mae: 2.2289 - val_loss: 12.1256 - val_mae: 2.1739\n",
      "Epoch 379/500\n",
      "20/20 [==============================] - 0s 3ms/step - loss: 8.1964 - mae: 1.7664 - val_loss: 8.3363 - val_mae: 1.7764\n",
      "Epoch 380/500\n",
      "20/20 [==============================] - 0s 4ms/step - loss: 10.3394 - mae: 2.2380 - val_loss: 131.0166 - val_mae: 8.3986\n",
      "Epoch 381/500\n",
      "20/20 [==============================] - 0s 4ms/step - loss: 28.1333 - mae: 3.1793 - val_loss: 7.5244 - val_mae: 1.7389\n",
      "Epoch 382/500\n",
      "20/20 [==============================] - 0s 4ms/step - loss: 7.6087 - mae: 1.6333 - val_loss: 11.3256 - val_mae: 2.4101\n",
      "Epoch 383/500\n",
      "20/20 [==============================] - 0s 4ms/step - loss: 6.9814 - mae: 1.7142 - val_loss: 18.0490 - val_mae: 2.5820\n",
      "Epoch 384/500\n",
      "20/20 [==============================] - 0s 4ms/step - loss: 7.2236 - mae: 1.6164 - val_loss: 8.1399 - val_mae: 1.9085\n",
      "Epoch 385/500\n",
      "20/20 [==============================] - 0s 4ms/step - loss: 8.5944 - mae: 1.9383 - val_loss: 18.8112 - val_mae: 2.7300\n",
      "Epoch 386/500\n",
      "20/20 [==============================] - 0s 4ms/step - loss: 6.9651 - mae: 1.7072 - val_loss: 17.0355 - val_mae: 2.7286\n",
      "Epoch 387/500\n",
      "20/20 [==============================] - 0s 5ms/step - loss: 7.5690 - mae: 1.8326 - val_loss: 11.3220 - val_mae: 2.2076\n",
      "Epoch 388/500\n",
      "20/20 [==============================] - 0s 5ms/step - loss: 6.9871 - mae: 1.6724 - val_loss: 8.6087 - val_mae: 1.7790\n",
      "Epoch 389/500\n",
      "20/20 [==============================] - 0s 4ms/step - loss: 5.8865 - mae: 1.4270 - val_loss: 10.8729 - val_mae: 2.4091\n",
      "Epoch 390/500\n",
      "20/20 [==============================] - 0s 5ms/step - loss: 4.7585 - mae: 1.3555 - val_loss: 7.2005 - val_mae: 1.7206\n",
      "Epoch 391/500\n",
      "20/20 [==============================] - 0s 4ms/step - loss: 5.6577 - mae: 1.4161 - val_loss: 9.9315 - val_mae: 1.8034\n",
      "Epoch 392/500\n",
      "20/20 [==============================] - 0s 4ms/step - loss: 5.2399 - mae: 1.3446 - val_loss: 20.2641 - val_mae: 3.7984\n",
      "Epoch 393/500\n",
      "20/20 [==============================] - 0s 4ms/step - loss: 6.4537 - mae: 1.6858 - val_loss: 14.6584 - val_mae: 2.9232\n",
      "Epoch 394/500\n",
      "20/20 [==============================] - 0s 5ms/step - loss: 6.6035 - mae: 1.6112 - val_loss: 11.3017 - val_mae: 2.5532\n",
      "Epoch 395/500\n",
      "20/20 [==============================] - 0s 4ms/step - loss: 5.6527 - mae: 1.4923 - val_loss: 12.3308 - val_mae: 2.5030\n",
      "Epoch 396/500\n",
      "20/20 [==============================] - 0s 4ms/step - loss: 8.7954 - mae: 2.0285 - val_loss: 11.4009 - val_mae: 2.4526\n",
      "Epoch 397/500\n",
      "20/20 [==============================] - 0s 4ms/step - loss: 7.3168 - mae: 1.7562 - val_loss: 31.1954 - val_mae: 4.9834\n",
      "Epoch 398/500\n",
      "20/20 [==============================] - 0s 5ms/step - loss: 15.8047 - mae: 2.5296 - val_loss: 50.8402 - val_mae: 5.4616\n",
      "Epoch 399/500\n",
      "20/20 [==============================] - 0s 4ms/step - loss: 7.4184 - mae: 1.7412 - val_loss: 9.9422 - val_mae: 2.0111\n",
      "Epoch 400/500\n",
      "20/20 [==============================] - 0s 4ms/step - loss: 5.0924 - mae: 1.4807 - val_loss: 10.3129 - val_mae: 1.9273\n",
      "Epoch 401/500\n",
      "20/20 [==============================] - 0s 5ms/step - loss: 5.9542 - mae: 1.6633 - val_loss: 6.8752 - val_mae: 1.5846\n",
      "Epoch 402/500\n",
      "20/20 [==============================] - 0s 4ms/step - loss: 5.2992 - mae: 1.4818 - val_loss: 14.3332 - val_mae: 2.2358\n",
      "Epoch 403/500\n",
      "20/20 [==============================] - 0s 4ms/step - loss: 11.7069 - mae: 2.2534 - val_loss: 270.6421 - val_mae: 13.6973\n",
      "Epoch 404/500\n",
      "20/20 [==============================] - 0s 4ms/step - loss: 22.2412 - mae: 2.9758 - val_loss: 25.2644 - val_mae: 3.8144\n",
      "Epoch 405/500\n",
      "20/20 [==============================] - 0s 4ms/step - loss: 6.6352 - mae: 1.6433 - val_loss: 19.9493 - val_mae: 3.0681\n",
      "Epoch 406/500\n",
      "20/20 [==============================] - 0s 4ms/step - loss: 5.6901 - mae: 1.5106 - val_loss: 8.6525 - val_mae: 1.8359\n",
      "Epoch 407/500\n",
      "20/20 [==============================] - 0s 4ms/step - loss: 4.5255 - mae: 1.3547 - val_loss: 9.9182 - val_mae: 2.0059\n",
      "Epoch 408/500\n",
      "20/20 [==============================] - 0s 4ms/step - loss: 8.7831 - mae: 2.0009 - val_loss: 21.2423 - val_mae: 3.9395\n",
      "Epoch 409/500\n",
      "20/20 [==============================] - 0s 4ms/step - loss: 8.4757 - mae: 2.0521 - val_loss: 19.7902 - val_mae: 3.1780\n",
      "Epoch 410/500\n",
      "20/20 [==============================] - 0s 4ms/step - loss: 9.4234 - mae: 2.1715 - val_loss: 16.4463 - val_mae: 3.1191\n",
      "Epoch 411/500\n",
      "20/20 [==============================] - 0s 4ms/step - loss: 9.7853 - mae: 2.3362 - val_loss: 6.9448 - val_mae: 1.6782\n",
      "Epoch 412/500\n",
      "20/20 [==============================] - 0s 4ms/step - loss: 7.1657 - mae: 1.8220 - val_loss: 6.3164 - val_mae: 1.6478\n",
      "Epoch 413/500\n",
      "20/20 [==============================] - 0s 4ms/step - loss: 4.5078 - mae: 1.2798 - val_loss: 19.3521 - val_mae: 3.3528\n",
      "Epoch 414/500\n",
      "20/20 [==============================] - 0s 4ms/step - loss: 5.9343 - mae: 1.6893 - val_loss: 8.4374 - val_mae: 1.8043\n",
      "Epoch 415/500\n",
      "20/20 [==============================] - 0s 4ms/step - loss: 4.6011 - mae: 1.4387 - val_loss: 6.5307 - val_mae: 1.7583\n",
      "Epoch 416/500\n",
      "20/20 [==============================] - 0s 4ms/step - loss: 8.2520 - mae: 1.8673 - val_loss: 79.6865 - val_mae: 7.1793\n",
      "Epoch 417/500\n",
      "20/20 [==============================] - 0s 4ms/step - loss: 16.7389 - mae: 2.7694 - val_loss: 7.8371 - val_mae: 1.6543\n",
      "Epoch 418/500\n",
      "20/20 [==============================] - 0s 4ms/step - loss: 5.2789 - mae: 1.6419 - val_loss: 8.9169 - val_mae: 1.8961\n",
      "Epoch 419/500\n",
      "20/20 [==============================] - 0s 4ms/step - loss: 3.7863 - mae: 1.2884 - val_loss: 18.1531 - val_mae: 3.3642\n",
      "Epoch 420/500\n",
      "20/20 [==============================] - 0s 4ms/step - loss: 12.4842 - mae: 2.4272 - val_loss: 71.6910 - val_mae: 6.0971\n",
      "Epoch 421/500\n",
      "20/20 [==============================] - 0s 4ms/step - loss: 29.5232 - mae: 3.6871 - val_loss: 10.8281 - val_mae: 2.0086\n",
      "Epoch 422/500\n",
      "20/20 [==============================] - 0s 4ms/step - loss: 5.8710 - mae: 1.7141 - val_loss: 5.7212 - val_mae: 1.4320\n",
      "Epoch 423/500\n",
      "20/20 [==============================] - 0s 4ms/step - loss: 4.4684 - mae: 1.4286 - val_loss: 74.9342 - val_mae: 5.9738\n",
      "Epoch 424/500\n",
      "20/20 [==============================] - 0s 4ms/step - loss: 17.6749 - mae: 2.6313 - val_loss: 8.4260 - val_mae: 1.9410\n",
      "Epoch 425/500\n",
      "20/20 [==============================] - 0s 4ms/step - loss: 6.3643 - mae: 1.6883 - val_loss: 20.2921 - val_mae: 3.5549\n",
      "Epoch 426/500\n",
      "20/20 [==============================] - 0s 4ms/step - loss: 9.8958 - mae: 2.1381 - val_loss: 8.2777 - val_mae: 1.7054\n"
     ]
    }
   ],
   "source": [
    "history = ann.fit(X_train, y_train,\n",
    "                    validation_data = (X_val, y_val),\n",
    "                    callbacks=[es],\n",
    "                    epochs=500,\n",
    "                    batch_size=20,\n",
    "                    verbose=1)"
   ]
  },
  {
   "cell_type": "markdown",
   "metadata": {
    "colab_type": "text",
    "id": "0H0zKKNEBLD5"
   },
   "source": [
    "### Predicting the results of the Test set"
   ]
  },
  {
   "cell_type": "code",
   "execution_count": 23,
   "metadata": {},
   "outputs": [
    {
     "data": {
      "image/png": "[encoded data removed]",
      "text/plain": [
       "<Figure size 432x288 with 1 Axes>"
      ]
     },
     "metadata": {
      "needs_background": "light"
     },
     "output_type": "display_data"
    }
   ],
   "source": [
    "import matplotlib.pyplot as plt\n",
    "# let's see the training and validation accuracy by epoch\n",
    "history_dict = history.history\n",
    "loss_values = history_dict['loss'] # you can change this\n",
    "val_loss_values = history_dict['val_loss'] # you can also change this\n",
    "epochs = range(1, len(loss_values) + 1) # range of X (no. of epochs)\n",
    "plt.plot(epochs, loss_values, 'blue', label='Train set loss')\n",
    "plt.plot(epochs, val_loss_values, 'orange', label='Validation set loss')\n",
    "plt.title('Training and testing loss')\n",
    "plt.xlabel('Epochs')\n",
    "plt.ylabel('Loss (MSE)')\n",
    "plt.legend()\n",
    "plt.show()"
   ]
  },
  {
   "cell_type": "code",
   "execution_count": 24,
   "metadata": {},
   "outputs": [
    {
     "data": {
      "image/png": "[encoded data removed]",
      "text/plain": [
       "<Figure size 432x288 with 1 Axes>"
      ]
     },
     "metadata": {
      "needs_background": "light"
     },
     "output_type": "display_data"
    }
   ],
   "source": [
    "loss_values1 = history_dict['mae'] # you can change this\n",
    "val_loss_values1 = history_dict['val_mae'] # you can also change this\n",
    "epochs = range(1, len(loss_values1) + 1) # range of X (no. of epochs)\n",
    "plt.plot(epochs, loss_values1, 'blue', label='Training MAE')\n",
    "plt.plot(epochs, val_loss_values1, 'orange', label='Testing MAE')\n",
    "plt.title('Training and testing MAE')\n",
    "plt.xlabel('Epochs')\n",
    "plt.ylabel('MAE')\n",
    "plt.legend()\n",
    "plt.show()"
   ]
  },
  {
   "cell_type": "code",
   "execution_count": 25,
   "metadata": {},
   "outputs": [
    {
     "name": "stdout",
     "output_type": "stream",
     "text": [
      "range(1, 427)\n"
     ]
    }
   ],
   "source": [
    "print (epochs)"
   ]
  },
  {
   "cell_type": "code",
   "execution_count": 26,
   "metadata": {},
   "outputs": [
    {
     "name": "stdout",
     "output_type": "stream",
     "text": [
      "12/12 [==============================] - 0s 2ms/step\n",
      "3/3 [==============================] - 0s 1ms/step\n"
     ]
    },
    {
     "data": {
      "image/png": "[encoded data removed]",
      "text/plain": [
       "<Figure size 432x288 with 2 Axes>"
      ]
     },
     "metadata": {
      "needs_background": "light"
     },
     "output_type": "display_data"
    }
   ],
   "source": [
    "# scatterplot of actual vs. pred\n",
    "# specify the dimensions \n",
    "fig, axes = plt.subplots(1,2) # 1 row, 2 columns\n",
    "\n",
    "# this makes the individual subplots\n",
    "# Training Results\n",
    "axes[0].scatter(x=y_train, y=ann.predict(X_train)) #first row, first entry (left top)\n",
    "axes[0].set_xlabel(\"Actual\", fontsize=10)\n",
    "axes[0].set_ylabel(\"Predicted\",  fontsize=10)\n",
    "axes[0].set_title(\"Training\")\n",
    "# add 45 deg line\n",
    "x = np.linspace(*axes[0].get_xlim())\n",
    "axes[0].plot(x, x, color='red')\n",
    "# Validation Results\n",
    "axes[1].scatter(x=y_test, y=ann.predict(X_test)) # first row, second entry (right top)\n",
    "axes[1].set_xlabel(\"Actual\", fontsize=10)\n",
    "axes[1].set_ylabel(\"Predicted\",  fontsize=10)\n",
    "axes[1].set_title(\"Validation\")\n",
    "# add 45 deg line\n",
    "x = np.linspace(*axes[1].get_xlim())\n",
    "axes[1].plot(x, x, color='red')\n",
    "\n",
    "# tight layout\n",
    "fig.tight_layout()\n",
    "\n",
    "# show the plot\n",
    "plt.show()"
   ]
  },
  {
   "cell_type": "code",
   "execution_count": 27,
   "metadata": {
    "colab": {
     "base_uri": "https://localhost:8080/",
     "height": 134
    },
    "colab_type": "code",
    "id": "IA0yApEmBG1X",
    "outputId": "cb981e1f-9204-4a2a-fece-9d66a6919189"
   },
   "outputs": [
    {
     "name": "stdout",
     "output_type": "stream",
     "text": [
      "3/3 [==============================] - 0s 2ms/step\n",
      "[[ 43.95  46.16]\n",
      " [108.88 106.79]\n",
      " [ 70.12  70.49]\n",
      " [ 38.29  38.93]\n",
      " [170.74 169.54]\n",
      " [ 79.24  78.32]\n",
      " [242.83 246.71]\n",
      " [ 65.99  66.54]\n",
      " [172.05 175.25]\n",
      " [117.49 116.92]\n",
      " [183.2  186.47]\n",
      " [ 49.24  54.09]\n",
      " [219.53 216.82]\n",
      " [ 68.14  68.81]\n",
      " [143.22 143.07]\n",
      " [ 77.1   77.36]\n",
      " [ 78.14  78.77]\n",
      " [294.01 296.19]\n",
      " [ 39.91  41.52]\n",
      " [ 69.37  68.5 ]\n",
      " [136.85 136.91]\n",
      " [435.56 465.29]\n",
      " [ 60.3   60.09]\n",
      " [ 26.28  27.95]\n",
      " [ 19.41  20.56]\n",
      " [ 75.58  75.35]\n",
      " [106.31 105.94]\n",
      " [181.91 183.23]\n",
      " [171.93 170.01]\n",
      " [ 29.78  31.03]\n",
      " [ 73.42  74.2 ]\n",
      " [175.8  178.35]\n",
      " [ 61.43  62.9 ]\n",
      " [283.51 284.67]\n",
      " [179.68 179.97]\n",
      " [ 70.73  72.03]\n",
      " [ 19.63  20.64]\n",
      " [293.55 293.22]\n",
      " [195.88 197.24]\n",
      " [145.18 146.06]\n",
      " [ 46.57  48.96]\n",
      " [ 61.23  59.69]\n",
      " [ 49.46  52.22]\n",
      " [ 82.94  82.95]\n",
      " [ 71.62  71.26]\n",
      " [ 73.23  73.68]\n",
      " [ 23.23  25.25]\n",
      " [ 36.94  38.42]\n",
      " [ 53.3   55.88]\n",
      " [  8.68  10.11]\n",
      " [ 42.58  42.82]\n",
      " [ 38.68  38.8 ]\n",
      " [ 70.86  70.49]\n",
      " [ 35.42  35.03]\n",
      " [ 40.79  41.68]\n",
      " [395.43 392.18]\n",
      " [150.92 150.67]\n",
      " [ 58.41  59.12]\n",
      " [168.21 174.46]\n",
      " [ 79.56  79.63]\n",
      " [ 30.43  31.63]\n",
      " [ 78.46  79.86]\n",
      " [216.29 216.48]\n",
      " [ 94.03  95.29]\n",
      " [105.3  105.61]\n",
      " [ 28.56  29.16]\n",
      " [ 13.99  14.92]\n",
      " [102.21 103.92]\n",
      " [ 14.43  15.6 ]\n",
      " [101.55 103.39]\n",
      " [  6.94   6.9 ]\n",
      " [ 74.95  74.79]\n",
      " [367.02 377.38]\n",
      " [ 58.12  59.78]\n",
      " [ 71.25  71.84]\n",
      " [100.34 103.44]\n",
      " [126.5  124.46]\n",
      " [ 15.4   16.36]\n",
      " [ 52.6   55.19]\n",
      " [ 56.37  58.79]\n",
      " [ 83.01  84.79]\n",
      " [ 50.24  52.68]]\n"
     ]
    }
   ],
   "source": [
    "#X_test=np.asarray(X_test).astype(np.int)\n",
    "\n",
    "#y_test=np.asarray(y_test).astype(np.int)\n",
    "\n",
    "y_pred = ann.predict(X_test)\n",
    "np.set_printoptions(precision=2)\n",
    "print(np.concatenate((y_pred.reshape(len(y_pred),1), y_test.reshape(len(y_test),1)),1))"
   ]
  },
  {
   "cell_type": "code",
   "execution_count": 28,
   "metadata": {},
   "outputs": [
    {
     "data": {
      "text/plain": [
       "Text(0, 0.5, 'Predicted data')"
      ]
     },
     "execution_count": 28,
     "metadata": {},
     "output_type": "execute_result"
    },
    {
     "data": {
      "image/png": "[encoded data removed]",
      "text/plain": [
       "<Figure size 432x288 with 1 Axes>"
      ]
     },
     "metadata": {
      "needs_background": "light"
     },
     "output_type": "display_data"
    }
   ],
   "source": [
    "import matplotlib.pyplot as plt\n",
    "plt.scatter(y_test, y_pred, color=\"blue\")\n",
    "plt.plot ([0,400],[0,400], color = \"red\")\n",
    "plt.axis ([0,400,0,400])\n",
    "plt.xlabel ('Actual data')\n",
    "plt.ylabel ('Predicted data')"
   ]
  },
  {
   "cell_type": "code",
   "execution_count": 29,
   "metadata": {},
   "outputs": [
    {
     "data": {
      "image/png": "[encoded data removed]",
      "text/plain": [
       "<Figure size 648x648 with 1 Axes>"
      ]
     },
     "metadata": {
      "needs_background": "light"
     },
     "output_type": "display_data"
    }
   ],
   "source": [
    "from sklearn.metrics import r2_score\n",
    "# Initialize layout\n",
    "fig1, ax1 = plt.subplots(figsize = (9, 9))\n",
    "\n",
    "\n",
    "#y = y_pred         # Model on prvious line is called here\n",
    "#x = y_test\n",
    "\n",
    "\n",
    "\n",
    "# Add scatterplot\n",
    "ax1.scatter(y_test, y_pred, s=70, alpha=1, edgecolors=\"k\",c='mediumblue',zorder=5, label = 'Points')\n",
    "\n",
    "\n",
    "plt.ylabel('Predicted Peak Impulse (Pa.s)',fontsize = 25, fontname='Times New Roman')\n",
    "plt.xlabel('Actual Peak Impulse (Pa.s)',fontsize = 25, fontname='Times New Roman')\n",
    "plt.xticks(fontsize = 20, fontname='Times New Roman')\n",
    "plt.yticks(fontsize = 20, fontname='Times New Roman')\n",
    "\n",
    "\n",
    "x1 = np.linspace(0,4000)\n",
    "\n",
    "plt.plot(x1, x1, 'Red', label='45\\N{DEGREE SIGN} line',lw=2.5,alpha=1)\n",
    "plt.plot(x1, 1.1*x1, '--m', label='\\u00B110% Error',lw=2.5,alpha=0.7)\n",
    "plt.plot(x1, 0.9*x1,'m', linestyle='--',lw=2.5,alpha=0.7)\n",
    "#plt.plot(x1, 1.2*x1, '-.g', label='\\u00B120% Error',lw=2.5,alpha=0.7)\n",
    "#plt.plot(x1, 0.8*x1,'-.g',lw=2.5,alpha=0.7)\n",
    "\n",
    "plt.ylim(0, 400)\n",
    "plt.xlim(0, 400)\n",
    "plt.legend(loc='upper left',prop = {'family' : 'Times New Roman', 'size': 20}, fancybox = False, edgecolor = 'white')\n",
    "\n",
    "plt.grid()\n",
    "\n",
    "ax1.spines['left'].set_color('black')        # setting up Y-axis tick color to red\n",
    "ax1.spines['bottom'].set_color('black')         #setting up above X-axis tick color to red\n",
    "\n",
    "\n",
    "\n",
    "#ax1.annotate(\"$R^2$ = {:.3f}\".format(r2), (2500, 1000),fontsize = 25)  #Model is called here\n",
    "#ax1.annotate(\"Adj.$R^2$ = {:.3f}\".format(adj_r2), (2500, 750),fontsize = 25)\n",
    "\n",
    "#plt.savefig('plot1.png', dpi = 600, bbox_inches = 'tight')"
   ]
  },
  {
   "cell_type": "code",
   "execution_count": 30,
   "metadata": {},
   "outputs": [
    {
     "data": {
      "image/png": "[encoded data removed]",
      "text/plain": [
       "<Figure size 648x648 with 1 Axes>"
      ]
     },
     "metadata": {
      "needs_background": "light"
     },
     "output_type": "display_data"
    }
   ],
   "source": [
    "# Initialize layout\n",
    "fig2, bx = plt.subplots(figsize = (9, 9))\n",
    "\n",
    "\n",
    "\n",
    "# Add scatterplot\n",
    "bx.scatter(y_test, y_pred, s=70, alpha=1, edgecolors=\"k\",c='mediumblue',zorder=5, label = 'Points')\n",
    "\n",
    "\n",
    "\n",
    "\n",
    "plt.ylabel('Predicted Peak Impulse (Pa.s)',fontsize = 25, fontname='Times New Roman')\n",
    "plt.xlabel('Actual Peak Impulse (Pa.s)',fontsize = 25, fontname='Times New Roman')\n",
    "plt.xticks(fontsize = 20, fontname='Times New Roman')\n",
    "plt.yticks(fontsize = 20, fontname='Times New Roman')\n",
    "\n",
    "\n",
    "\n",
    "x1 = np.linspace(0,500)\n",
    "\n",
    "plt.plot(x1, x1, 'Red', label='45\\N{DEGREE SIGN} line',lw=2.5,alpha=1)\n",
    "plt.plot(x1, 1.1*x1, '--m', label='\\u00B110% Error',lw=2.5,alpha=0.7) #\\u00B1\n",
    "plt.plot(x1, 0.9*x1,'m', linestyle='--',lw=2.5,alpha=0.7)\n",
    "#plt.plot(x1, 1.2*x1, '-.g', label='\\u00B120% Error',lw=2.5,alpha=0.7)\n",
    "#plt.plot(x1, 0.8*x1,'-.g',lw=2.5,alpha=0.7)\n",
    "\n",
    "plt.ylim(0, 100)\n",
    "plt.xlim(0, 100)\n",
    "plt.legend(loc='upper left',prop = {'family' : 'Times New Roman', 'size': 20}, fancybox = False, edgecolor = 'white')\n",
    "\n",
    "plt.grid()\n",
    "\n",
    "bx.spines['left'].set_color('black')        # setting up Y-axis tick color to red\n",
    "bx.spines['bottom'].set_color('black')         #setting up above X-axis tick color to red\n",
    "\n",
    "\n",
    "#plt.savefig('plot1.png', dpi = 600, bbox_inches = 'tight')"
   ]
  },
  {
   "cell_type": "code",
   "execution_count": 31,
   "metadata": {},
   "outputs": [
    {
     "name": "stdout",
     "output_type": "stream",
     "text": [
      "12/12 [==============================] - 0s 2ms/step\n",
      "1.6531694228348845\n",
      "1.807067696624216\n"
     ]
    }
   ],
   "source": [
    "# metrics\n",
    "\n",
    "\n",
    "trainpreds = ann.predict(X_train)\n",
    "\n",
    "from sklearn.metrics import mean_absolute_error\n",
    "print(mean_absolute_error(y_train, trainpreds)) # train\n",
    "print(mean_absolute_error(y_test, y_pred)) # test"
   ]
  },
  {
   "cell_type": "code",
   "execution_count": 32,
   "metadata": {},
   "outputs": [
    {
     "name": "stdout",
     "output_type": "stream",
     "text": [
      "0.9981119466748006\n"
     ]
    }
   ],
   "source": [
    "from sklearn.metrics import r2_score\n",
    "r2 = r2_score(y_test, y_pred)\n",
    "print (r2)"
   ]
  },
  {
   "cell_type": "code",
   "execution_count": 33,
   "metadata": {},
   "outputs": [
    {
     "name": "stdout",
     "output_type": "stream",
     "text": [
      "0.9988014784264201\n"
     ]
    }
   ],
   "source": [
    "r2_train = r2_score(y_train, trainpreds)\n",
    "print (r2_train)"
   ]
  },
  {
   "cell_type": "code",
   "execution_count": 34,
   "metadata": {},
   "outputs": [
    {
     "name": "stdout",
     "output_type": "stream",
     "text": [
      "Within 10% margin 98.78%\n",
      "Within 20% margin 100.00%\n",
      "Out of 20% margin 0.00%\n"
     ]
    }
   ],
   "source": [
    "count1 = 0\n",
    "for i in range(len(y_pred)):\n",
    "    line1 = y_pred[i] - 0.9*y_test[i]\n",
    "    line2 = y_pred[i] - 1.1*y_test[i]\n",
    "    #print ('line 1 ', line1)\n",
    "    #print ('line 2 ', line2)\n",
    "    mask1 = (line1 > 0) & (line2 < 0)\n",
    "    #print (mask)\n",
    "    count1 = np.sum(mask1+count1)\n",
    "    #print (count)\n",
    "\n",
    "count2 = 0\n",
    "for j in range(len(y_pred)):\n",
    "    line3 = y_pred[j] - 0.8*y_test[j]\n",
    "    line4 = y_pred[j] - 1.2*y_test[j]\n",
    "    mask2 = (line3 > 0) & (line4 < 0)\n",
    "    count2 = np.sum(mask2+count2)\n",
    "\n",
    "\n",
    "count3 = 0    \n",
    "for k in range(len(y_pred)):\n",
    "    line5 = y_pred[k] - 0.8*y_test[k]\n",
    "    line6 = y_pred[k] - 1.2*y_test[k]\n",
    "    mask3 = (line5 < 0) or (line6 > 0)\n",
    "    count3 = np.sum(mask3+count3)\n",
    "   \n",
    "\n",
    "print ('Within 10% margin', format((count1/len (y_pred)),'.2%'))\n",
    "print ('Within 20% margin', format((count2/len (y_pred)),'.2%'))\n",
    "print ('Out of 20% margin', format((count3/len (y_pred)),'.2%'))"
   ]
  },
  {
   "cell_type": "code",
   "execution_count": 31,
   "metadata": {},
   "outputs": [
    {
     "name": "stdout",
     "output_type": "stream",
     "text": [
      "0.9996113207915419\n"
     ]
    }
   ],
   "source": [
    "adj_r2 = 1 - ((1 - r2) * (len(X_test) - 1) / (len(X_test) - len (X_test[0]) - 1))\n",
    "print (adj_r2)"
   ]
  },
  {
   "cell_type": "code",
   "execution_count": 32,
   "metadata": {},
   "outputs": [
    {
     "data": {
      "text/plain": [
       "1.7223792700934857"
      ]
     },
     "execution_count": 32,
     "metadata": {},
     "output_type": "execute_result"
    }
   ],
   "source": [
    "import math\n",
    "from sklearn.metrics import mean_squared_error\n",
    "\n",
    "math.sqrt(mean_squared_error(y_test, y_pred))"
   ]
  },
  {
   "cell_type": "code",
   "execution_count": 33,
   "metadata": {},
   "outputs": [
    {
     "data": {
      "text/plain": [
       "1.2256071393760386"
      ]
     },
     "execution_count": 33,
     "metadata": {},
     "output_type": "execute_result"
    }
   ],
   "source": [
    "from sklearn.metrics import mean_absolute_error\n",
    "\n",
    "mean_absolute_error(y_test, y_pred)"
   ]
  }
 ],
 "metadata": {
  "colab": {
   "collapsed_sections": [],
   "name": "Artificial Neural Network",
   "provenance": [],
   "toc_visible": true
  },
  "kernelspec": {
   "display_name": "Python 3 (ipykernel)",
   "language": "python",
   "name": "python3"
  },
  "language_info": {
   "codemirror_mode": {
    "name": "ipython",
    "version": 3
   },
   "file_extension": ".py",
   "mimetype": "text/x-python",
   "name": "python",
   "nbconvert_exporter": "python",
   "pygments_lexer": "ipython3",
   "version": "3.9.7"
  }
 },
 "nbformat": 4,
 "nbformat_minor": 4
}
