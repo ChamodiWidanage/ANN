{
 "cells": [
  {
   "cell_type": "code",
   "execution_count": 1,
   "id": "1044692a-3d25-4cde-ba21-f286c7baa38d",
   "metadata": {},
   "outputs": [
    {
     "data": {
      "text/plain": [
       "count    546.000000\n",
       "mean     107.961216\n",
       "std       91.547156\n",
       "min        2.794652\n",
       "25%       46.389818\n",
       "50%       78.837284\n",
       "75%      138.075962\n",
       "max      472.406097\n",
       "Name: Impulse, dtype: float64"
      ]
     },
     "execution_count": 1,
     "metadata": {},
     "output_type": "execute_result"
    }
   ],
   "source": [
    "import pandas as pd\n",
    "dataset = pd.read_excel('IDataset1.xlsx')\n",
    "dataset[\"Impulse\"].describe()"
   ]
  },
  {
   "cell_type": "code",
   "execution_count": null,
   "id": "d2c07817-ceba-4ebd-86a7-86c87c9cc9d1",
   "metadata": {},
   "outputs": [],
   "source": []
  }
 ],
 "metadata": {
  "kernelspec": {
   "display_name": "Python 3 (ipykernel)",
   "language": "python",
   "name": "python3"
  },
  "language_info": {
   "codemirror_mode": {
    "name": "ipython",
    "version": 3
   },
   "file_extension": ".py",
   "mimetype": "text/x-python",
   "name": "python",
   "nbconvert_exporter": "python",
   "pygments_lexer": "ipython3",
   "version": "3.9.7"
  }
 },
 "nbformat": 4,
 "nbformat_minor": 5
}
