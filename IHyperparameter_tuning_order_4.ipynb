{
 "cells": [
  {
   "cell_type": "markdown",
   "metadata": {
    "colab_type": "text",
    "id": "3cbb7fRy-eyr"
   },
   "source": [
    "# Artificial Neural Network"
   ]
  },
  {
   "cell_type": "markdown",
   "metadata": {
    "colab_type": "text",
    "id": "8sNDnxE2-pwE"
   },
   "source": [
    "### Importing the libraries"
   ]
  },
  {
   "cell_type": "code",
   "execution_count": 1,
   "metadata": {
    "colab": {},
    "colab_type": "code",
    "id": "lxChR1Rk-umf"
   },
   "outputs": [],
   "source": [
    "import numpy as np\n",
    "import pandas as pd\n",
    "import tensorflow as tf\n",
    "from sklearn.model_selection import GridSearchCV\n",
    "from tensorflow.keras.models import Sequential\n",
    "from tensorflow.keras.layers import Dense\n",
    "from scikeras.wrappers import KerasRegressor"
   ]
  },
  {
   "cell_type": "markdown",
   "metadata": {
    "colab_type": "text",
    "id": "AG3FQEch-yuA"
   },
   "source": [
    "## Part 1 - Data Preprocessing"
   ]
  },
  {
   "cell_type": "markdown",
   "metadata": {
    "colab_type": "text",
    "id": "-4zq8Mza_D9O"
   },
   "source": [
    "### Importing the dataset"
   ]
  },
  {
   "cell_type": "code",
   "execution_count": 2,
   "metadata": {
    "colab": {},
    "colab_type": "code",
    "id": "B9CV13Co_HHM"
   },
   "outputs": [
    {
     "name": "stdout",
     "output_type": "stream",
     "text": [
      "<class 'pandas.core.frame.DataFrame'>\n",
      "RangeIndex: 546 entries, 0 to 545\n",
      "Data columns (total 4 columns):\n",
      " #   Column             Non-Null Count  Dtype  \n",
      "---  ------             --------------  -----  \n",
      " 0   Charge_type        546 non-null    object \n",
      " 1   Charge_size        546 non-null    float64\n",
      " 2   Standoff_distance  546 non-null    float64\n",
      " 3   Impulse            546 non-null    float64\n",
      "dtypes: float64(3), object(1)\n",
      "memory usage: 17.2+ KB\n"
     ]
    }
   ],
   "source": [
    "dataset = pd.read_excel('IDataset1.xlsx')\n",
    "dataset.info()"
   ]
  },
  {
   "cell_type": "code",
   "execution_count": 3,
   "metadata": {},
   "outputs": [
    {
     "name": "stdout",
     "output_type": "stream",
     "text": [
      "<class 'pandas.core.frame.DataFrame'>\n",
      "RangeIndex: 546 entries, 0 to 545\n",
      "Data columns (total 5 columns):\n",
      " #   Column             Non-Null Count  Dtype  \n",
      "---  ------             --------------  -----  \n",
      " 0   Charge_size        546 non-null    float64\n",
      " 1   Standoff_distance  546 non-null    float64\n",
      " 2   Impulse            546 non-null    float64\n",
      " 3   Charge_type_CompB  546 non-null    uint8  \n",
      " 4   Charge_type_TNT    546 non-null    uint8  \n",
      "dtypes: float64(3), uint8(2)\n",
      "memory usage: 14.0 KB\n"
     ]
    }
   ],
   "source": [
    "# convert categorical variable into dummy variables\n",
    "dataset = pd.get_dummies(dataset, columns=['Charge_type'])\n",
    "dataset.info()"
   ]
  },
  {
   "cell_type": "code",
   "execution_count": 4,
   "metadata": {},
   "outputs": [
    {
     "data": {
      "text/html": [
       "<div>\n",
       "<style scoped>\n",
       "    .dataframe tbody tr th:only-of-type {\n",
       "        vertical-align: middle;\n",
       "    }\n",
       "\n",
       "    .dataframe tbody tr th {\n",
       "        vertical-align: top;\n",
       "    }\n",
       "\n",
       "    .dataframe thead th {\n",
       "        text-align: right;\n",
       "    }\n",
       "</style>\n",
       "<table border=\"1\" class=\"dataframe\">\n",
       "  <thead>\n",
       "    <tr style=\"text-align: right;\">\n",
       "      <th></th>\n",
       "      <th>Charge_size</th>\n",
       "      <th>Standoff_distance</th>\n",
       "      <th>Impulse</th>\n",
       "      <th>Charge_type_CompB</th>\n",
       "      <th>Charge_type_TNT</th>\n",
       "    </tr>\n",
       "  </thead>\n",
       "  <tbody>\n",
       "    <tr>\n",
       "      <th>0</th>\n",
       "      <td>0.5</td>\n",
       "      <td>1.5</td>\n",
       "      <td>58.168617</td>\n",
       "      <td>0</td>\n",
       "      <td>1</td>\n",
       "    </tr>\n",
       "    <tr>\n",
       "      <th>1</th>\n",
       "      <td>0.5</td>\n",
       "      <td>2.5</td>\n",
       "      <td>38.798874</td>\n",
       "      <td>0</td>\n",
       "      <td>1</td>\n",
       "    </tr>\n",
       "    <tr>\n",
       "      <th>2</th>\n",
       "      <td>0.5</td>\n",
       "      <td>3.5</td>\n",
       "      <td>28.473915</td>\n",
       "      <td>0</td>\n",
       "      <td>1</td>\n",
       "    </tr>\n",
       "    <tr>\n",
       "      <th>3</th>\n",
       "      <td>0.5</td>\n",
       "      <td>4.5</td>\n",
       "      <td>22.343452</td>\n",
       "      <td>0</td>\n",
       "      <td>1</td>\n",
       "    </tr>\n",
       "    <tr>\n",
       "      <th>4</th>\n",
       "      <td>0.5</td>\n",
       "      <td>5.5</td>\n",
       "      <td>18.326342</td>\n",
       "      <td>0</td>\n",
       "      <td>1</td>\n",
       "    </tr>\n",
       "  </tbody>\n",
       "</table>\n",
       "</div>"
      ],
      "text/plain": [
       "   Charge_size  Standoff_distance    Impulse  Charge_type_CompB  \\\n",
       "0          0.5                1.5  58.168617                  0   \n",
       "1          0.5                2.5  38.798874                  0   \n",
       "2          0.5                3.5  28.473915                  0   \n",
       "3          0.5                4.5  22.343452                  0   \n",
       "4          0.5                5.5  18.326342                  0   \n",
       "\n",
       "   Charge_type_TNT  \n",
       "0                1  \n",
       "1                1  \n",
       "2                1  \n",
       "3                1  \n",
       "4                1  "
      ]
     },
     "execution_count": 4,
     "metadata": {},
     "output_type": "execute_result"
    }
   ],
   "source": [
    "dataset.head()"
   ]
  },
  {
   "cell_type": "code",
   "execution_count": 5,
   "metadata": {},
   "outputs": [
    {
     "name": "stdout",
     "output_type": "stream",
     "text": [
      "(546, 4) (546,)\n"
     ]
    }
   ],
   "source": [
    "y = dataset['Impulse']\n",
    "X = dataset.drop('Impulse', axis=1)\n",
    "print(X.shape, y.shape)"
   ]
  },
  {
   "cell_type": "code",
   "execution_count": 6,
   "metadata": {},
   "outputs": [],
   "source": [
    "# convert to numpy array\n",
    "X = np.array(X)\n",
    "y = np.array(y)"
   ]
  },
  {
   "cell_type": "markdown",
   "metadata": {
    "colab_type": "text",
    "id": "VC6omXel_Up0"
   },
   "source": [
    "### Splitting the dataset into the Training set and Test set"
   ]
  },
  {
   "cell_type": "code",
   "execution_count": 7,
   "metadata": {
    "colab": {},
    "colab_type": "code",
    "id": "L5edeb2r_agx"
   },
   "outputs": [],
   "source": [
    "from sklearn.model_selection import train_test_split\n",
    "X_train, X_test, y_train, y_test = train_test_split(X, y, test_size = 0.2, random_state = 0)"
   ]
  },
  {
   "cell_type": "markdown",
   "metadata": {
    "tags": []
   },
   "source": [
    "### Hyperparameter tuning - batch size, epoch, optimizer, learning rate"
   ]
  },
  {
   "cell_type": "code",
   "execution_count": 8,
   "metadata": {},
   "outputs": [],
   "source": [
    "# Function to create model, required for KerasClassifier\n",
    "def create_model(optimizer):\n",
    " # create model\n",
    " model = Sequential()\n",
    " model.add(Dense(units=200, input_shape=(X_train.shape[1],), activation='relu'))\n",
    " model.add(Dense(units=100, activation='relu'))\n",
    " model.add(Dense(units=50, activation='relu'))\n",
    " model.add(Dense(units=1, activation='linear'))\n",
    " # Compile model\n",
    " model.compile(optimizer = optimizer, loss = 'mean_squared_error', metrics = ['mae'])\n",
    " return model"
   ]
  },
  {
   "cell_type": "code",
   "execution_count": 9,
   "metadata": {},
   "outputs": [
    {
     "name": "stderr",
     "output_type": "stream",
     "text": [
      "C:\\Users\\Chathura Gamage\\anaconda3\\lib\\site-packages\\joblib\\externals\\loky\\process_executor.py:702: UserWarning: A worker stopped while some jobs were given to the executor. This can be caused by a too short worker timeout or by a memory leak.\n",
      "  warnings.warn(\n"
     ]
    },
    {
     "name": "stdout",
     "output_type": "stream",
     "text": [
      "Best: 0.994806 using {'batch_size': 20, 'epochs': 550, 'model__optimizer': 'Nadam', 'optimizer__learning_rate': 0.001}\n",
      "0.989479 (0.005767) with: {'batch_size': 20, 'epochs': 550, 'model__optimizer': 'RMSprop', 'optimizer__learning_rate': 0.001}\n",
      "0.984972 (0.014239) with: {'batch_size': 20, 'epochs': 550, 'model__optimizer': 'RMSprop', 'optimizer__learning_rate': 0.1}\n",
      "0.990292 (0.005016) with: {'batch_size': 20, 'epochs': 550, 'model__optimizer': 'RMSprop', 'optimizer__learning_rate': 0.5}\n",
      "0.816726 (0.048005) with: {'batch_size': 20, 'epochs': 550, 'model__optimizer': 'Adagrad', 'optimizer__learning_rate': 0.001}\n",
      "0.827960 (0.022069) with: {'batch_size': 20, 'epochs': 550, 'model__optimizer': 'Adagrad', 'optimizer__learning_rate': 0.1}\n",
      "0.814112 (0.055656) with: {'batch_size': 20, 'epochs': 550, 'model__optimizer': 'Adagrad', 'optimizer__learning_rate': 0.5}\n",
      "0.992667 (0.003504) with: {'batch_size': 20, 'epochs': 550, 'model__optimizer': 'Adam', 'optimizer__learning_rate': 0.001}\n",
      "0.993461 (0.003572) with: {'batch_size': 20, 'epochs': 550, 'model__optimizer': 'Adam', 'optimizer__learning_rate': 0.1}\n",
      "0.993343 (0.004592) with: {'batch_size': 20, 'epochs': 550, 'model__optimizer': 'Adam', 'optimizer__learning_rate': 0.5}\n",
      "0.978271 (0.006648) with: {'batch_size': 20, 'epochs': 550, 'model__optimizer': 'Adamax', 'optimizer__learning_rate': 0.001}\n",
      "0.975886 (0.006107) with: {'batch_size': 20, 'epochs': 550, 'model__optimizer': 'Adamax', 'optimizer__learning_rate': 0.1}\n",
      "0.973069 (0.008044) with: {'batch_size': 20, 'epochs': 550, 'model__optimizer': 'Adamax', 'optimizer__learning_rate': 0.5}\n",
      "0.994806 (0.004407) with: {'batch_size': 20, 'epochs': 550, 'model__optimizer': 'Nadam', 'optimizer__learning_rate': 0.001}\n",
      "0.992177 (0.006039) with: {'batch_size': 20, 'epochs': 550, 'model__optimizer': 'Nadam', 'optimizer__learning_rate': 0.1}\n",
      "0.991907 (0.002832) with: {'batch_size': 20, 'epochs': 550, 'model__optimizer': 'Nadam', 'optimizer__learning_rate': 0.5}\n",
      "0.989576 (0.004811) with: {'batch_size': 20, 'epochs': 600, 'model__optimizer': 'RMSprop', 'optimizer__learning_rate': 0.001}\n",
      "0.991918 (0.004264) with: {'batch_size': 20, 'epochs': 600, 'model__optimizer': 'RMSprop', 'optimizer__learning_rate': 0.1}\n",
      "0.993592 (0.004937) with: {'batch_size': 20, 'epochs': 600, 'model__optimizer': 'RMSprop', 'optimizer__learning_rate': 0.5}\n",
      "0.834938 (0.056497) with: {'batch_size': 20, 'epochs': 600, 'model__optimizer': 'Adagrad', 'optimizer__learning_rate': 0.001}\n",
      "0.823380 (0.039688) with: {'batch_size': 20, 'epochs': 600, 'model__optimizer': 'Adagrad', 'optimizer__learning_rate': 0.1}\n",
      "0.840867 (0.029875) with: {'batch_size': 20, 'epochs': 600, 'model__optimizer': 'Adagrad', 'optimizer__learning_rate': 0.5}\n",
      "0.993719 (0.004329) with: {'batch_size': 20, 'epochs': 600, 'model__optimizer': 'Adam', 'optimizer__learning_rate': 0.001}\n",
      "0.994123 (0.004296) with: {'batch_size': 20, 'epochs': 600, 'model__optimizer': 'Adam', 'optimizer__learning_rate': 0.1}\n",
      "0.993720 (0.004064) with: {'batch_size': 20, 'epochs': 600, 'model__optimizer': 'Adam', 'optimizer__learning_rate': 0.5}\n",
      "0.978781 (0.002036) with: {'batch_size': 20, 'epochs': 600, 'model__optimizer': 'Adamax', 'optimizer__learning_rate': 0.001}\n",
      "0.980150 (0.006044) with: {'batch_size': 20, 'epochs': 600, 'model__optimizer': 'Adamax', 'optimizer__learning_rate': 0.1}\n",
      "0.978790 (0.003335) with: {'batch_size': 20, 'epochs': 600, 'model__optimizer': 'Adamax', 'optimizer__learning_rate': 0.5}\n",
      "0.994212 (0.004607) with: {'batch_size': 20, 'epochs': 600, 'model__optimizer': 'Nadam', 'optimizer__learning_rate': 0.001}\n",
      "0.993729 (0.004577) with: {'batch_size': 20, 'epochs': 600, 'model__optimizer': 'Nadam', 'optimizer__learning_rate': 0.1}\n",
      "0.993729 (0.005625) with: {'batch_size': 20, 'epochs': 600, 'model__optimizer': 'Nadam', 'optimizer__learning_rate': 0.5}\n",
      "0.989111 (0.003805) with: {'batch_size': 20, 'epochs': 650, 'model__optimizer': 'RMSprop', 'optimizer__learning_rate': 0.001}\n",
      "0.989923 (0.004446) with: {'batch_size': 20, 'epochs': 650, 'model__optimizer': 'RMSprop', 'optimizer__learning_rate': 0.1}\n",
      "0.992982 (0.004121) with: {'batch_size': 20, 'epochs': 650, 'model__optimizer': 'RMSprop', 'optimizer__learning_rate': 0.5}\n",
      "0.843797 (0.030123) with: {'batch_size': 20, 'epochs': 650, 'model__optimizer': 'Adagrad', 'optimizer__learning_rate': 0.001}\n",
      "0.856878 (0.037882) with: {'batch_size': 20, 'epochs': 650, 'model__optimizer': 'Adagrad', 'optimizer__learning_rate': 0.1}\n",
      "0.843920 (0.032017) with: {'batch_size': 20, 'epochs': 650, 'model__optimizer': 'Adagrad', 'optimizer__learning_rate': 0.5}\n",
      "0.994249 (0.004264) with: {'batch_size': 20, 'epochs': 650, 'model__optimizer': 'Adam', 'optimizer__learning_rate': 0.001}\n",
      "0.994295 (0.004133) with: {'batch_size': 20, 'epochs': 650, 'model__optimizer': 'Adam', 'optimizer__learning_rate': 0.1}\n",
      "0.994485 (0.004309) with: {'batch_size': 20, 'epochs': 650, 'model__optimizer': 'Adam', 'optimizer__learning_rate': 0.5}\n",
      "0.980300 (0.002674) with: {'batch_size': 20, 'epochs': 650, 'model__optimizer': 'Adamax', 'optimizer__learning_rate': 0.001}\n",
      "0.980259 (0.003662) with: {'batch_size': 20, 'epochs': 650, 'model__optimizer': 'Adamax', 'optimizer__learning_rate': 0.1}\n",
      "0.982586 (0.002285) with: {'batch_size': 20, 'epochs': 650, 'model__optimizer': 'Adamax', 'optimizer__learning_rate': 0.5}\n",
      "0.993797 (0.005452) with: {'batch_size': 20, 'epochs': 650, 'model__optimizer': 'Nadam', 'optimizer__learning_rate': 0.001}\n",
      "0.991598 (0.003992) with: {'batch_size': 20, 'epochs': 650, 'model__optimizer': 'Nadam', 'optimizer__learning_rate': 0.1}\n",
      "0.994209 (0.004354) with: {'batch_size': 20, 'epochs': 650, 'model__optimizer': 'Nadam', 'optimizer__learning_rate': 0.5}\n",
      "0.993518 (0.005252) with: {'batch_size': 20, 'epochs': 700, 'model__optimizer': 'RMSprop', 'optimizer__learning_rate': 0.001}\n",
      "0.987468 (0.012394) with: {'batch_size': 20, 'epochs': 700, 'model__optimizer': 'RMSprop', 'optimizer__learning_rate': 0.1}\n",
      "0.990958 (0.004824) with: {'batch_size': 20, 'epochs': 700, 'model__optimizer': 'RMSprop', 'optimizer__learning_rate': 0.5}\n",
      "0.851821 (0.023491) with: {'batch_size': 20, 'epochs': 700, 'model__optimizer': 'Adagrad', 'optimizer__learning_rate': 0.001}\n",
      "0.835239 (0.049749) with: {'batch_size': 20, 'epochs': 700, 'model__optimizer': 'Adagrad', 'optimizer__learning_rate': 0.1}\n",
      "0.852912 (0.019107) with: {'batch_size': 20, 'epochs': 700, 'model__optimizer': 'Adagrad', 'optimizer__learning_rate': 0.5}\n",
      "0.993475 (0.003851) with: {'batch_size': 20, 'epochs': 700, 'model__optimizer': 'Adam', 'optimizer__learning_rate': 0.001}\n",
      "0.993510 (0.004503) with: {'batch_size': 20, 'epochs': 700, 'model__optimizer': 'Adam', 'optimizer__learning_rate': 0.1}\n",
      "0.994443 (0.004496) with: {'batch_size': 20, 'epochs': 700, 'model__optimizer': 'Adam', 'optimizer__learning_rate': 0.5}\n",
      "0.981342 (0.004829) with: {'batch_size': 20, 'epochs': 700, 'model__optimizer': 'Adamax', 'optimizer__learning_rate': 0.001}\n",
      "0.983277 (0.002636) with: {'batch_size': 20, 'epochs': 700, 'model__optimizer': 'Adamax', 'optimizer__learning_rate': 0.1}\n",
      "0.981430 (0.004493) with: {'batch_size': 20, 'epochs': 700, 'model__optimizer': 'Adamax', 'optimizer__learning_rate': 0.5}\n",
      "0.993878 (0.005220) with: {'batch_size': 20, 'epochs': 700, 'model__optimizer': 'Nadam', 'optimizer__learning_rate': 0.001}\n",
      "0.994241 (0.004471) with: {'batch_size': 20, 'epochs': 700, 'model__optimizer': 'Nadam', 'optimizer__learning_rate': 0.1}\n",
      "0.994131 (0.005175) with: {'batch_size': 20, 'epochs': 700, 'model__optimizer': 'Nadam', 'optimizer__learning_rate': 0.5}\n",
      "0.982597 (0.011933) with: {'batch_size': 25, 'epochs': 550, 'model__optimizer': 'RMSprop', 'optimizer__learning_rate': 0.001}\n",
      "0.992678 (0.005471) with: {'batch_size': 25, 'epochs': 550, 'model__optimizer': 'RMSprop', 'optimizer__learning_rate': 0.1}\n",
      "0.992457 (0.003902) with: {'batch_size': 25, 'epochs': 550, 'model__optimizer': 'RMSprop', 'optimizer__learning_rate': 0.5}\n",
      "0.812157 (0.038350) with: {'batch_size': 25, 'epochs': 550, 'model__optimizer': 'Adagrad', 'optimizer__learning_rate': 0.001}\n",
      "0.815015 (0.047987) with: {'batch_size': 25, 'epochs': 550, 'model__optimizer': 'Adagrad', 'optimizer__learning_rate': 0.1}\n",
      "0.814812 (0.026944) with: {'batch_size': 25, 'epochs': 550, 'model__optimizer': 'Adagrad', 'optimizer__learning_rate': 0.5}\n",
      "0.992547 (0.002922) with: {'batch_size': 25, 'epochs': 550, 'model__optimizer': 'Adam', 'optimizer__learning_rate': 0.001}\n",
      "0.991083 (0.008437) with: {'batch_size': 25, 'epochs': 550, 'model__optimizer': 'Adam', 'optimizer__learning_rate': 0.1}\n",
      "0.988224 (0.002763) with: {'batch_size': 25, 'epochs': 550, 'model__optimizer': 'Adam', 'optimizer__learning_rate': 0.5}\n",
      "0.973787 (0.007060) with: {'batch_size': 25, 'epochs': 550, 'model__optimizer': 'Adamax', 'optimizer__learning_rate': 0.001}\n",
      "0.975259 (0.004148) with: {'batch_size': 25, 'epochs': 550, 'model__optimizer': 'Adamax', 'optimizer__learning_rate': 0.1}\n",
      "0.974662 (0.003051) with: {'batch_size': 25, 'epochs': 550, 'model__optimizer': 'Adamax', 'optimizer__learning_rate': 0.5}\n",
      "0.993110 (0.004869) with: {'batch_size': 25, 'epochs': 550, 'model__optimizer': 'Nadam', 'optimizer__learning_rate': 0.001}\n",
      "0.993210 (0.004033) with: {'batch_size': 25, 'epochs': 550, 'model__optimizer': 'Nadam', 'optimizer__learning_rate': 0.1}\n",
      "0.994284 (0.004910) with: {'batch_size': 25, 'epochs': 550, 'model__optimizer': 'Nadam', 'optimizer__learning_rate': 0.5}\n",
      "0.991395 (0.004653) with: {'batch_size': 25, 'epochs': 600, 'model__optimizer': 'RMSprop', 'optimizer__learning_rate': 0.001}\n",
      "0.992497 (0.004188) with: {'batch_size': 25, 'epochs': 600, 'model__optimizer': 'RMSprop', 'optimizer__learning_rate': 0.1}\n",
      "0.974924 (0.015825) with: {'batch_size': 25, 'epochs': 600, 'model__optimizer': 'RMSprop', 'optimizer__learning_rate': 0.5}\n",
      "0.833892 (0.035304) with: {'batch_size': 25, 'epochs': 600, 'model__optimizer': 'Adagrad', 'optimizer__learning_rate': 0.001}\n",
      "0.843388 (0.027702) with: {'batch_size': 25, 'epochs': 600, 'model__optimizer': 'Adagrad', 'optimizer__learning_rate': 0.1}\n",
      "0.823387 (0.047924) with: {'batch_size': 25, 'epochs': 600, 'model__optimizer': 'Adagrad', 'optimizer__learning_rate': 0.5}\n",
      "0.990223 (0.005636) with: {'batch_size': 25, 'epochs': 600, 'model__optimizer': 'Adam', 'optimizer__learning_rate': 0.001}\n",
      "0.991323 (0.004318) with: {'batch_size': 25, 'epochs': 600, 'model__optimizer': 'Adam', 'optimizer__learning_rate': 0.1}\n",
      "0.993602 (0.004257) with: {'batch_size': 25, 'epochs': 600, 'model__optimizer': 'Adam', 'optimizer__learning_rate': 0.5}\n",
      "0.976272 (0.003529) with: {'batch_size': 25, 'epochs': 600, 'model__optimizer': 'Adamax', 'optimizer__learning_rate': 0.001}\n",
      "0.978777 (0.003150) with: {'batch_size': 25, 'epochs': 600, 'model__optimizer': 'Adamax', 'optimizer__learning_rate': 0.1}\n",
      "0.977453 (0.005906) with: {'batch_size': 25, 'epochs': 600, 'model__optimizer': 'Adamax', 'optimizer__learning_rate': 0.5}\n",
      "0.994406 (0.004501) with: {'batch_size': 25, 'epochs': 600, 'model__optimizer': 'Nadam', 'optimizer__learning_rate': 0.001}\n",
      "0.994659 (0.004753) with: {'batch_size': 25, 'epochs': 600, 'model__optimizer': 'Nadam', 'optimizer__learning_rate': 0.1}\n",
      "0.991823 (0.005823) with: {'batch_size': 25, 'epochs': 600, 'model__optimizer': 'Nadam', 'optimizer__learning_rate': 0.5}\n",
      "0.992215 (0.006748) with: {'batch_size': 25, 'epochs': 650, 'model__optimizer': 'RMSprop', 'optimizer__learning_rate': 0.001}\n",
      "0.986497 (0.006509) with: {'batch_size': 25, 'epochs': 650, 'model__optimizer': 'RMSprop', 'optimizer__learning_rate': 0.1}\n",
      "0.990772 (0.003432) with: {'batch_size': 25, 'epochs': 650, 'model__optimizer': 'RMSprop', 'optimizer__learning_rate': 0.5}\n",
      "0.848794 (0.015311) with: {'batch_size': 25, 'epochs': 650, 'model__optimizer': 'Adagrad', 'optimizer__learning_rate': 0.001}\n",
      "0.850527 (0.027012) with: {'batch_size': 25, 'epochs': 650, 'model__optimizer': 'Adagrad', 'optimizer__learning_rate': 0.1}\n",
      "0.850984 (0.018970) with: {'batch_size': 25, 'epochs': 650, 'model__optimizer': 'Adagrad', 'optimizer__learning_rate': 0.5}\n",
      "0.992116 (0.004114) with: {'batch_size': 25, 'epochs': 650, 'model__optimizer': 'Adam', 'optimizer__learning_rate': 0.001}\n",
      "0.990355 (0.005105) with: {'batch_size': 25, 'epochs': 650, 'model__optimizer': 'Adam', 'optimizer__learning_rate': 0.1}\n",
      "0.993978 (0.003954) with: {'batch_size': 25, 'epochs': 650, 'model__optimizer': 'Adam', 'optimizer__learning_rate': 0.5}\n",
      "0.976447 (0.005390) with: {'batch_size': 25, 'epochs': 650, 'model__optimizer': 'Adamax', 'optimizer__learning_rate': 0.001}\n",
      "0.979717 (0.004891) with: {'batch_size': 25, 'epochs': 650, 'model__optimizer': 'Adamax', 'optimizer__learning_rate': 0.1}\n",
      "0.978761 (0.002043) with: {'batch_size': 25, 'epochs': 650, 'model__optimizer': 'Adamax', 'optimizer__learning_rate': 0.5}\n",
      "0.992719 (0.004089) with: {'batch_size': 25, 'epochs': 650, 'model__optimizer': 'Nadam', 'optimizer__learning_rate': 0.001}\n",
      "0.994164 (0.004665) with: {'batch_size': 25, 'epochs': 650, 'model__optimizer': 'Nadam', 'optimizer__learning_rate': 0.1}\n",
      "0.994171 (0.005035) with: {'batch_size': 25, 'epochs': 650, 'model__optimizer': 'Nadam', 'optimizer__learning_rate': 0.5}\n",
      "0.987731 (0.006512) with: {'batch_size': 25, 'epochs': 700, 'model__optimizer': 'RMSprop', 'optimizer__learning_rate': 0.001}\n",
      "0.994315 (0.004824) with: {'batch_size': 25, 'epochs': 700, 'model__optimizer': 'RMSprop', 'optimizer__learning_rate': 0.1}\n",
      "0.991998 (0.007141) with: {'batch_size': 25, 'epochs': 700, 'model__optimizer': 'RMSprop', 'optimizer__learning_rate': 0.5}\n",
      "0.838980 (0.025252) with: {'batch_size': 25, 'epochs': 700, 'model__optimizer': 'Adagrad', 'optimizer__learning_rate': 0.001}\n",
      "0.835815 (0.038962) with: {'batch_size': 25, 'epochs': 700, 'model__optimizer': 'Adagrad', 'optimizer__learning_rate': 0.1}\n",
      "0.826683 (0.059241) with: {'batch_size': 25, 'epochs': 700, 'model__optimizer': 'Adagrad', 'optimizer__learning_rate': 0.5}\n",
      "0.994340 (0.003776) with: {'batch_size': 25, 'epochs': 700, 'model__optimizer': 'Adam', 'optimizer__learning_rate': 0.001}\n",
      "0.993705 (0.004089) with: {'batch_size': 25, 'epochs': 700, 'model__optimizer': 'Adam', 'optimizer__learning_rate': 0.1}\n",
      "0.992560 (0.003306) with: {'batch_size': 25, 'epochs': 700, 'model__optimizer': 'Adam', 'optimizer__learning_rate': 0.5}\n",
      "0.980517 (0.005905) with: {'batch_size': 25, 'epochs': 700, 'model__optimizer': 'Adamax', 'optimizer__learning_rate': 0.001}\n",
      "0.977263 (0.004444) with: {'batch_size': 25, 'epochs': 700, 'model__optimizer': 'Adamax', 'optimizer__learning_rate': 0.1}\n",
      "0.978790 (0.002599) with: {'batch_size': 25, 'epochs': 700, 'model__optimizer': 'Adamax', 'optimizer__learning_rate': 0.5}\n",
      "0.994262 (0.004898) with: {'batch_size': 25, 'epochs': 700, 'model__optimizer': 'Nadam', 'optimizer__learning_rate': 0.001}\n",
      "0.994195 (0.004501) with: {'batch_size': 25, 'epochs': 700, 'model__optimizer': 'Nadam', 'optimizer__learning_rate': 0.1}\n",
      "0.994057 (0.004617) with: {'batch_size': 25, 'epochs': 700, 'model__optimizer': 'Nadam', 'optimizer__learning_rate': 0.5}\n",
      "0.985656 (0.008878) with: {'batch_size': 30, 'epochs': 550, 'model__optimizer': 'RMSprop', 'optimizer__learning_rate': 0.001}\n",
      "0.990367 (0.006986) with: {'batch_size': 30, 'epochs': 550, 'model__optimizer': 'RMSprop', 'optimizer__learning_rate': 0.1}\n",
      "0.988098 (0.003494) with: {'batch_size': 30, 'epochs': 550, 'model__optimizer': 'RMSprop', 'optimizer__learning_rate': 0.5}\n",
      "0.812026 (0.050900) with: {'batch_size': 30, 'epochs': 550, 'model__optimizer': 'Adagrad', 'optimizer__learning_rate': 0.001}\n",
      "0.811003 (0.032299) with: {'batch_size': 30, 'epochs': 550, 'model__optimizer': 'Adagrad', 'optimizer__learning_rate': 0.1}\n",
      "0.813043 (0.019008) with: {'batch_size': 30, 'epochs': 550, 'model__optimizer': 'Adagrad', 'optimizer__learning_rate': 0.5}\n",
      "0.986197 (0.002315) with: {'batch_size': 30, 'epochs': 550, 'model__optimizer': 'Adam', 'optimizer__learning_rate': 0.001}\n",
      "0.984077 (0.000639) with: {'batch_size': 30, 'epochs': 550, 'model__optimizer': 'Adam', 'optimizer__learning_rate': 0.1}\n",
      "0.986248 (0.003106) with: {'batch_size': 30, 'epochs': 550, 'model__optimizer': 'Adam', 'optimizer__learning_rate': 0.5}\n",
      "0.975033 (0.003232) with: {'batch_size': 30, 'epochs': 550, 'model__optimizer': 'Adamax', 'optimizer__learning_rate': 0.001}\n",
      "0.975501 (0.002293) with: {'batch_size': 30, 'epochs': 550, 'model__optimizer': 'Adamax', 'optimizer__learning_rate': 0.1}\n",
      "0.968566 (0.009413) with: {'batch_size': 30, 'epochs': 550, 'model__optimizer': 'Adamax', 'optimizer__learning_rate': 0.5}\n",
      "0.990158 (0.003096) with: {'batch_size': 30, 'epochs': 550, 'model__optimizer': 'Nadam', 'optimizer__learning_rate': 0.001}\n",
      "0.991151 (0.004106) with: {'batch_size': 30, 'epochs': 550, 'model__optimizer': 'Nadam', 'optimizer__learning_rate': 0.1}\n",
      "0.990254 (0.002961) with: {'batch_size': 30, 'epochs': 550, 'model__optimizer': 'Nadam', 'optimizer__learning_rate': 0.5}\n",
      "0.981038 (0.011334) with: {'batch_size': 30, 'epochs': 600, 'model__optimizer': 'RMSprop', 'optimizer__learning_rate': 0.001}\n",
      "0.984970 (0.007772) with: {'batch_size': 30, 'epochs': 600, 'model__optimizer': 'RMSprop', 'optimizer__learning_rate': 0.1}\n",
      "0.991543 (0.005962) with: {'batch_size': 30, 'epochs': 600, 'model__optimizer': 'RMSprop', 'optimizer__learning_rate': 0.5}\n",
      "0.833807 (0.041858) with: {'batch_size': 30, 'epochs': 600, 'model__optimizer': 'Adagrad', 'optimizer__learning_rate': 0.001}\n",
      "0.811244 (0.031333) with: {'batch_size': 30, 'epochs': 600, 'model__optimizer': 'Adagrad', 'optimizer__learning_rate': 0.1}\n",
      "0.797836 (0.046249) with: {'batch_size': 30, 'epochs': 600, 'model__optimizer': 'Adagrad', 'optimizer__learning_rate': 0.5}\n",
      "0.991805 (0.003453) with: {'batch_size': 30, 'epochs': 600, 'model__optimizer': 'Adam', 'optimizer__learning_rate': 0.001}\n",
      "0.988232 (0.007158) with: {'batch_size': 30, 'epochs': 600, 'model__optimizer': 'Adam', 'optimizer__learning_rate': 0.1}\n",
      "0.986123 (0.009572) with: {'batch_size': 30, 'epochs': 600, 'model__optimizer': 'Adam', 'optimizer__learning_rate': 0.5}\n",
      "0.973109 (0.002284) with: {'batch_size': 30, 'epochs': 600, 'model__optimizer': 'Adamax', 'optimizer__learning_rate': 0.001}\n",
      "0.974800 (0.005289) with: {'batch_size': 30, 'epochs': 600, 'model__optimizer': 'Adamax', 'optimizer__learning_rate': 0.1}\n",
      "0.973883 (0.004617) with: {'batch_size': 30, 'epochs': 600, 'model__optimizer': 'Adamax', 'optimizer__learning_rate': 0.5}\n",
      "0.990216 (0.003240) with: {'batch_size': 30, 'epochs': 600, 'model__optimizer': 'Nadam', 'optimizer__learning_rate': 0.001}\n",
      "0.988082 (0.001410) with: {'batch_size': 30, 'epochs': 600, 'model__optimizer': 'Nadam', 'optimizer__learning_rate': 0.1}\n",
      "0.990790 (0.003586) with: {'batch_size': 30, 'epochs': 600, 'model__optimizer': 'Nadam', 'optimizer__learning_rate': 0.5}\n",
      "0.993563 (0.004170) with: {'batch_size': 30, 'epochs': 650, 'model__optimizer': 'RMSprop', 'optimizer__learning_rate': 0.001}\n",
      "0.990568 (0.005021) with: {'batch_size': 30, 'epochs': 650, 'model__optimizer': 'RMSprop', 'optimizer__learning_rate': 0.1}\n",
      "0.989463 (0.010406) with: {'batch_size': 30, 'epochs': 650, 'model__optimizer': 'RMSprop', 'optimizer__learning_rate': 0.5}\n",
      "0.820349 (0.062421) with: {'batch_size': 30, 'epochs': 650, 'model__optimizer': 'Adagrad', 'optimizer__learning_rate': 0.001}\n",
      "0.819998 (0.026087) with: {'batch_size': 30, 'epochs': 650, 'model__optimizer': 'Adagrad', 'optimizer__learning_rate': 0.1}\n",
      "0.801214 (0.051990) with: {'batch_size': 30, 'epochs': 650, 'model__optimizer': 'Adagrad', 'optimizer__learning_rate': 0.5}\n",
      "0.986849 (0.009361) with: {'batch_size': 30, 'epochs': 650, 'model__optimizer': 'Adam', 'optimizer__learning_rate': 0.001}\n",
      "0.991562 (0.002911) with: {'batch_size': 30, 'epochs': 650, 'model__optimizer': 'Adam', 'optimizer__learning_rate': 0.1}\n",
      "0.988630 (0.004177) with: {'batch_size': 30, 'epochs': 650, 'model__optimizer': 'Adam', 'optimizer__learning_rate': 0.5}\n",
      "0.976578 (0.005309) with: {'batch_size': 30, 'epochs': 650, 'model__optimizer': 'Adamax', 'optimizer__learning_rate': 0.001}\n",
      "0.972676 (0.008436) with: {'batch_size': 30, 'epochs': 650, 'model__optimizer': 'Adamax', 'optimizer__learning_rate': 0.1}\n",
      "0.974075 (0.004966) with: {'batch_size': 30, 'epochs': 650, 'model__optimizer': 'Adamax', 'optimizer__learning_rate': 0.5}\n",
      "0.992660 (0.004237) with: {'batch_size': 30, 'epochs': 650, 'model__optimizer': 'Nadam', 'optimizer__learning_rate': 0.001}\n",
      "0.994327 (0.004213) with: {'batch_size': 30, 'epochs': 650, 'model__optimizer': 'Nadam', 'optimizer__learning_rate': 0.1}\n",
      "0.993088 (0.003839) with: {'batch_size': 30, 'epochs': 650, 'model__optimizer': 'Nadam', 'optimizer__learning_rate': 0.5}\n",
      "0.988281 (0.008216) with: {'batch_size': 30, 'epochs': 700, 'model__optimizer': 'RMSprop', 'optimizer__learning_rate': 0.001}\n",
      "0.983765 (0.014550) with: {'batch_size': 30, 'epochs': 700, 'model__optimizer': 'RMSprop', 'optimizer__learning_rate': 0.1}\n",
      "0.990355 (0.004489) with: {'batch_size': 30, 'epochs': 700, 'model__optimizer': 'RMSprop', 'optimizer__learning_rate': 0.5}\n",
      "0.824547 (0.031776) with: {'batch_size': 30, 'epochs': 700, 'model__optimizer': 'Adagrad', 'optimizer__learning_rate': 0.001}\n",
      "0.820844 (0.031878) with: {'batch_size': 30, 'epochs': 700, 'model__optimizer': 'Adagrad', 'optimizer__learning_rate': 0.1}\n",
      "0.823472 (0.035264) with: {'batch_size': 30, 'epochs': 700, 'model__optimizer': 'Adagrad', 'optimizer__learning_rate': 0.5}\n",
      "0.993954 (0.004321) with: {'batch_size': 30, 'epochs': 700, 'model__optimizer': 'Adam', 'optimizer__learning_rate': 0.001}\n",
      "0.988376 (0.001584) with: {'batch_size': 30, 'epochs': 700, 'model__optimizer': 'Adam', 'optimizer__learning_rate': 0.1}\n",
      "0.993540 (0.004150) with: {'batch_size': 30, 'epochs': 700, 'model__optimizer': 'Adam', 'optimizer__learning_rate': 0.5}\n",
      "0.976788 (0.004000) with: {'batch_size': 30, 'epochs': 700, 'model__optimizer': 'Adamax', 'optimizer__learning_rate': 0.001}\n",
      "0.978004 (0.005859) with: {'batch_size': 30, 'epochs': 700, 'model__optimizer': 'Adamax', 'optimizer__learning_rate': 0.1}\n",
      "0.977521 (0.003179) with: {'batch_size': 30, 'epochs': 700, 'model__optimizer': 'Adamax', 'optimizer__learning_rate': 0.5}\n",
      "0.994550 (0.004446) with: {'batch_size': 30, 'epochs': 700, 'model__optimizer': 'Nadam', 'optimizer__learning_rate': 0.001}\n",
      "0.994357 (0.004145) with: {'batch_size': 30, 'epochs': 700, 'model__optimizer': 'Nadam', 'optimizer__learning_rate': 0.1}\n",
      "0.993041 (0.004654) with: {'batch_size': 30, 'epochs': 700, 'model__optimizer': 'Nadam', 'optimizer__learning_rate': 0.5}\n",
      "0.990565 (0.007396) with: {'batch_size': 35, 'epochs': 550, 'model__optimizer': 'RMSprop', 'optimizer__learning_rate': 0.001}\n",
      "0.985114 (0.008704) with: {'batch_size': 35, 'epochs': 550, 'model__optimizer': 'RMSprop', 'optimizer__learning_rate': 0.1}\n",
      "0.959847 (0.019137) with: {'batch_size': 35, 'epochs': 550, 'model__optimizer': 'RMSprop', 'optimizer__learning_rate': 0.5}\n",
      "0.779359 (0.029574) with: {'batch_size': 35, 'epochs': 550, 'model__optimizer': 'Adagrad', 'optimizer__learning_rate': 0.001}\n",
      "0.784203 (0.035920) with: {'batch_size': 35, 'epochs': 550, 'model__optimizer': 'Adagrad', 'optimizer__learning_rate': 0.1}\n",
      "0.779761 (0.044132) with: {'batch_size': 35, 'epochs': 550, 'model__optimizer': 'Adagrad', 'optimizer__learning_rate': 0.5}\n",
      "0.988263 (0.007004) with: {'batch_size': 35, 'epochs': 550, 'model__optimizer': 'Adam', 'optimizer__learning_rate': 0.001}\n",
      "0.982598 (0.011675) with: {'batch_size': 35, 'epochs': 550, 'model__optimizer': 'Adam', 'optimizer__learning_rate': 0.1}\n",
      "0.984170 (0.006077) with: {'batch_size': 35, 'epochs': 550, 'model__optimizer': 'Adam', 'optimizer__learning_rate': 0.5}\n",
      "0.969887 (0.005771) with: {'batch_size': 35, 'epochs': 550, 'model__optimizer': 'Adamax', 'optimizer__learning_rate': 0.001}\n",
      "0.969151 (0.004809) with: {'batch_size': 35, 'epochs': 550, 'model__optimizer': 'Adamax', 'optimizer__learning_rate': 0.1}\n",
      "0.972638 (0.004579) with: {'batch_size': 35, 'epochs': 550, 'model__optimizer': 'Adamax', 'optimizer__learning_rate': 0.5}\n",
      "0.988436 (0.001610) with: {'batch_size': 35, 'epochs': 550, 'model__optimizer': 'Nadam', 'optimizer__learning_rate': 0.001}\n",
      "0.985419 (0.001007) with: {'batch_size': 35, 'epochs': 550, 'model__optimizer': 'Nadam', 'optimizer__learning_rate': 0.1}\n",
      "0.989334 (0.004040) with: {'batch_size': 35, 'epochs': 550, 'model__optimizer': 'Nadam', 'optimizer__learning_rate': 0.5}\n",
      "0.990560 (0.004546) with: {'batch_size': 35, 'epochs': 600, 'model__optimizer': 'RMSprop', 'optimizer__learning_rate': 0.001}\n",
      "0.985959 (0.005712) with: {'batch_size': 35, 'epochs': 600, 'model__optimizer': 'RMSprop', 'optimizer__learning_rate': 0.1}\n",
      "0.985914 (0.012952) with: {'batch_size': 35, 'epochs': 600, 'model__optimizer': 'RMSprop', 'optimizer__learning_rate': 0.5}\n",
      "0.813481 (0.035024) with: {'batch_size': 35, 'epochs': 600, 'model__optimizer': 'Adagrad', 'optimizer__learning_rate': 0.001}\n",
      "0.802780 (0.023774) with: {'batch_size': 35, 'epochs': 600, 'model__optimizer': 'Adagrad', 'optimizer__learning_rate': 0.1}\n",
      "0.807166 (0.033520) with: {'batch_size': 35, 'epochs': 600, 'model__optimizer': 'Adagrad', 'optimizer__learning_rate': 0.5}\n",
      "0.986605 (0.002953) with: {'batch_size': 35, 'epochs': 600, 'model__optimizer': 'Adam', 'optimizer__learning_rate': 0.001}\n",
      "0.986592 (0.007526) with: {'batch_size': 35, 'epochs': 600, 'model__optimizer': 'Adam', 'optimizer__learning_rate': 0.1}\n",
      "0.989402 (0.004998) with: {'batch_size': 35, 'epochs': 600, 'model__optimizer': 'Adam', 'optimizer__learning_rate': 0.5}\n",
      "0.972384 (0.005721) with: {'batch_size': 35, 'epochs': 600, 'model__optimizer': 'Adamax', 'optimizer__learning_rate': 0.001}\n",
      "0.972194 (0.002184) with: {'batch_size': 35, 'epochs': 600, 'model__optimizer': 'Adamax', 'optimizer__learning_rate': 0.1}\n",
      "0.972839 (0.003357) with: {'batch_size': 35, 'epochs': 600, 'model__optimizer': 'Adamax', 'optimizer__learning_rate': 0.5}\n",
      "0.989131 (0.005342) with: {'batch_size': 35, 'epochs': 600, 'model__optimizer': 'Nadam', 'optimizer__learning_rate': 0.001}\n",
      "0.991594 (0.004222) with: {'batch_size': 35, 'epochs': 600, 'model__optimizer': 'Nadam', 'optimizer__learning_rate': 0.1}\n",
      "0.987458 (0.002592) with: {'batch_size': 35, 'epochs': 600, 'model__optimizer': 'Nadam', 'optimizer__learning_rate': 0.5}\n",
      "0.978115 (0.009747) with: {'batch_size': 35, 'epochs': 650, 'model__optimizer': 'RMSprop', 'optimizer__learning_rate': 0.001}\n",
      "0.985237 (0.009811) with: {'batch_size': 35, 'epochs': 650, 'model__optimizer': 'RMSprop', 'optimizer__learning_rate': 0.1}\n",
      "0.983926 (0.015820) with: {'batch_size': 35, 'epochs': 650, 'model__optimizer': 'RMSprop', 'optimizer__learning_rate': 0.5}\n",
      "0.825988 (0.047381) with: {'batch_size': 35, 'epochs': 650, 'model__optimizer': 'Adagrad', 'optimizer__learning_rate': 0.001}\n",
      "0.795864 (0.042388) with: {'batch_size': 35, 'epochs': 650, 'model__optimizer': 'Adagrad', 'optimizer__learning_rate': 0.1}\n",
      "0.819770 (0.023676) with: {'batch_size': 35, 'epochs': 650, 'model__optimizer': 'Adagrad', 'optimizer__learning_rate': 0.5}\n",
      "0.988283 (0.003741) with: {'batch_size': 35, 'epochs': 650, 'model__optimizer': 'Adam', 'optimizer__learning_rate': 0.001}\n",
      "0.985466 (0.001286) with: {'batch_size': 35, 'epochs': 650, 'model__optimizer': 'Adam', 'optimizer__learning_rate': 0.1}\n",
      "0.992222 (0.004167) with: {'batch_size': 35, 'epochs': 650, 'model__optimizer': 'Adam', 'optimizer__learning_rate': 0.5}\n",
      "0.973442 (0.003323) with: {'batch_size': 35, 'epochs': 650, 'model__optimizer': 'Adamax', 'optimizer__learning_rate': 0.001}\n",
      "0.973792 (0.000927) with: {'batch_size': 35, 'epochs': 650, 'model__optimizer': 'Adamax', 'optimizer__learning_rate': 0.1}\n",
      "0.972809 (0.005091) with: {'batch_size': 35, 'epochs': 650, 'model__optimizer': 'Adamax', 'optimizer__learning_rate': 0.5}\n",
      "0.987830 (0.003833) with: {'batch_size': 35, 'epochs': 650, 'model__optimizer': 'Nadam', 'optimizer__learning_rate': 0.001}\n",
      "0.991572 (0.002573) with: {'batch_size': 35, 'epochs': 650, 'model__optimizer': 'Nadam', 'optimizer__learning_rate': 0.1}\n",
      "0.988118 (0.001394) with: {'batch_size': 35, 'epochs': 650, 'model__optimizer': 'Nadam', 'optimizer__learning_rate': 0.5}\n",
      "0.992829 (0.005587) with: {'batch_size': 35, 'epochs': 700, 'model__optimizer': 'RMSprop', 'optimizer__learning_rate': 0.001}\n",
      "0.988610 (0.004342) with: {'batch_size': 35, 'epochs': 700, 'model__optimizer': 'RMSprop', 'optimizer__learning_rate': 0.1}\n",
      "0.991152 (0.007470) with: {'batch_size': 35, 'epochs': 700, 'model__optimizer': 'RMSprop', 'optimizer__learning_rate': 0.5}\n",
      "0.801572 (0.027015) with: {'batch_size': 35, 'epochs': 700, 'model__optimizer': 'Adagrad', 'optimizer__learning_rate': 0.001}\n",
      "0.824482 (0.026599) with: {'batch_size': 35, 'epochs': 700, 'model__optimizer': 'Adagrad', 'optimizer__learning_rate': 0.1}\n",
      "0.817660 (0.038034) with: {'batch_size': 35, 'epochs': 700, 'model__optimizer': 'Adagrad', 'optimizer__learning_rate': 0.5}\n",
      "0.989097 (0.006821) with: {'batch_size': 35, 'epochs': 700, 'model__optimizer': 'Adam', 'optimizer__learning_rate': 0.001}\n",
      "0.994769 (0.004530) with: {'batch_size': 35, 'epochs': 700, 'model__optimizer': 'Adam', 'optimizer__learning_rate': 0.1}\n",
      "0.990341 (0.005099) with: {'batch_size': 35, 'epochs': 700, 'model__optimizer': 'Adam', 'optimizer__learning_rate': 0.5}\n",
      "0.975221 (0.002637) with: {'batch_size': 35, 'epochs': 700, 'model__optimizer': 'Adamax', 'optimizer__learning_rate': 0.001}\n",
      "0.974122 (0.003768) with: {'batch_size': 35, 'epochs': 700, 'model__optimizer': 'Adamax', 'optimizer__learning_rate': 0.1}\n",
      "0.976028 (0.003690) with: {'batch_size': 35, 'epochs': 700, 'model__optimizer': 'Adamax', 'optimizer__learning_rate': 0.5}\n",
      "0.992938 (0.004193) with: {'batch_size': 35, 'epochs': 700, 'model__optimizer': 'Nadam', 'optimizer__learning_rate': 0.001}\n",
      "0.993082 (0.003502) with: {'batch_size': 35, 'epochs': 700, 'model__optimizer': 'Nadam', 'optimizer__learning_rate': 0.1}\n",
      "0.993415 (0.004812) with: {'batch_size': 35, 'epochs': 700, 'model__optimizer': 'Nadam', 'optimizer__learning_rate': 0.5}\n",
      "0.964928 (0.032296) with: {'batch_size': 40, 'epochs': 550, 'model__optimizer': 'RMSprop', 'optimizer__learning_rate': 0.001}\n",
      "0.968646 (0.005969) with: {'batch_size': 40, 'epochs': 550, 'model__optimizer': 'RMSprop', 'optimizer__learning_rate': 0.1}\n",
      "0.978259 (0.001213) with: {'batch_size': 40, 'epochs': 550, 'model__optimizer': 'RMSprop', 'optimizer__learning_rate': 0.5}\n",
      "0.766646 (0.052769) with: {'batch_size': 40, 'epochs': 550, 'model__optimizer': 'Adagrad', 'optimizer__learning_rate': 0.001}\n",
      "0.771404 (0.047631) with: {'batch_size': 40, 'epochs': 550, 'model__optimizer': 'Adagrad', 'optimizer__learning_rate': 0.1}\n",
      "0.773615 (0.034315) with: {'batch_size': 40, 'epochs': 550, 'model__optimizer': 'Adagrad', 'optimizer__learning_rate': 0.5}\n",
      "0.976638 (0.001589) with: {'batch_size': 40, 'epochs': 550, 'model__optimizer': 'Adam', 'optimizer__learning_rate': 0.001}\n",
      "0.978364 (0.006615) with: {'batch_size': 40, 'epochs': 550, 'model__optimizer': 'Adam', 'optimizer__learning_rate': 0.1}\n",
      "0.985431 (0.010972) with: {'batch_size': 40, 'epochs': 550, 'model__optimizer': 'Adam', 'optimizer__learning_rate': 0.5}\n",
      "0.965902 (0.006657) with: {'batch_size': 40, 'epochs': 550, 'model__optimizer': 'Adamax', 'optimizer__learning_rate': 0.001}\n",
      "0.966603 (0.005821) with: {'batch_size': 40, 'epochs': 550, 'model__optimizer': 'Adamax', 'optimizer__learning_rate': 0.1}\n",
      "0.967998 (0.006042) with: {'batch_size': 40, 'epochs': 550, 'model__optimizer': 'Adamax', 'optimizer__learning_rate': 0.5}\n",
      "0.991641 (0.003890) with: {'batch_size': 40, 'epochs': 550, 'model__optimizer': 'Nadam', 'optimizer__learning_rate': 0.001}\n",
      "0.986599 (0.001977) with: {'batch_size': 40, 'epochs': 550, 'model__optimizer': 'Nadam', 'optimizer__learning_rate': 0.1}\n",
      "0.984532 (0.003040) with: {'batch_size': 40, 'epochs': 550, 'model__optimizer': 'Nadam', 'optimizer__learning_rate': 0.5}\n",
      "0.992678 (0.003747) with: {'batch_size': 40, 'epochs': 600, 'model__optimizer': 'RMSprop', 'optimizer__learning_rate': 0.001}\n",
      "0.983270 (0.005560) with: {'batch_size': 40, 'epochs': 600, 'model__optimizer': 'RMSprop', 'optimizer__learning_rate': 0.1}\n",
      "0.988250 (0.003945) with: {'batch_size': 40, 'epochs': 600, 'model__optimizer': 'RMSprop', 'optimizer__learning_rate': 0.5}\n",
      "0.765832 (0.058648) with: {'batch_size': 40, 'epochs': 600, 'model__optimizer': 'Adagrad', 'optimizer__learning_rate': 0.001}\n",
      "0.793301 (0.049334) with: {'batch_size': 40, 'epochs': 600, 'model__optimizer': 'Adagrad', 'optimizer__learning_rate': 0.1}\n",
      "0.783699 (0.053575) with: {'batch_size': 40, 'epochs': 600, 'model__optimizer': 'Adagrad', 'optimizer__learning_rate': 0.5}\n",
      "0.983485 (0.004688) with: {'batch_size': 40, 'epochs': 600, 'model__optimizer': 'Adam', 'optimizer__learning_rate': 0.001}\n",
      "0.983199 (0.004121) with: {'batch_size': 40, 'epochs': 600, 'model__optimizer': 'Adam', 'optimizer__learning_rate': 0.1}\n",
      "0.981219 (0.006395) with: {'batch_size': 40, 'epochs': 600, 'model__optimizer': 'Adam', 'optimizer__learning_rate': 0.5}\n",
      "0.968643 (0.006974) with: {'batch_size': 40, 'epochs': 600, 'model__optimizer': 'Adamax', 'optimizer__learning_rate': 0.001}\n",
      "0.971334 (0.001505) with: {'batch_size': 40, 'epochs': 600, 'model__optimizer': 'Adamax', 'optimizer__learning_rate': 0.1}\n",
      "0.972302 (0.004628) with: {'batch_size': 40, 'epochs': 600, 'model__optimizer': 'Adamax', 'optimizer__learning_rate': 0.5}\n",
      "0.985769 (0.004900) with: {'batch_size': 40, 'epochs': 600, 'model__optimizer': 'Nadam', 'optimizer__learning_rate': 0.001}\n",
      "0.985500 (0.003323) with: {'batch_size': 40, 'epochs': 600, 'model__optimizer': 'Nadam', 'optimizer__learning_rate': 0.1}\n",
      "0.986686 (0.002551) with: {'batch_size': 40, 'epochs': 600, 'model__optimizer': 'Nadam', 'optimizer__learning_rate': 0.5}\n",
      "0.983693 (0.003510) with: {'batch_size': 40, 'epochs': 650, 'model__optimizer': 'RMSprop', 'optimizer__learning_rate': 0.001}\n",
      "0.990218 (0.003437) with: {'batch_size': 40, 'epochs': 650, 'model__optimizer': 'RMSprop', 'optimizer__learning_rate': 0.1}\n",
      "0.989588 (0.007972) with: {'batch_size': 40, 'epochs': 650, 'model__optimizer': 'RMSprop', 'optimizer__learning_rate': 0.5}\n",
      "0.791267 (0.051501) with: {'batch_size': 40, 'epochs': 650, 'model__optimizer': 'Adagrad', 'optimizer__learning_rate': 0.001}\n",
      "0.795665 (0.038131) with: {'batch_size': 40, 'epochs': 650, 'model__optimizer': 'Adagrad', 'optimizer__learning_rate': 0.1}\n",
      "0.787865 (0.060050) with: {'batch_size': 40, 'epochs': 650, 'model__optimizer': 'Adagrad', 'optimizer__learning_rate': 0.5}\n",
      "0.982062 (0.004934) with: {'batch_size': 40, 'epochs': 650, 'model__optimizer': 'Adam', 'optimizer__learning_rate': 0.001}\n",
      "0.987621 (0.000876) with: {'batch_size': 40, 'epochs': 650, 'model__optimizer': 'Adam', 'optimizer__learning_rate': 0.1}\n",
      "0.981824 (0.006644) with: {'batch_size': 40, 'epochs': 650, 'model__optimizer': 'Adam', 'optimizer__learning_rate': 0.5}\n",
      "0.970457 (0.005901) with: {'batch_size': 40, 'epochs': 650, 'model__optimizer': 'Adamax', 'optimizer__learning_rate': 0.001}\n",
      "0.973686 (0.002671) with: {'batch_size': 40, 'epochs': 650, 'model__optimizer': 'Adamax', 'optimizer__learning_rate': 0.1}\n",
      "0.969998 (0.003475) with: {'batch_size': 40, 'epochs': 650, 'model__optimizer': 'Adamax', 'optimizer__learning_rate': 0.5}\n",
      "0.990218 (0.004720) with: {'batch_size': 40, 'epochs': 650, 'model__optimizer': 'Nadam', 'optimizer__learning_rate': 0.001}\n",
      "0.988248 (0.002670) with: {'batch_size': 40, 'epochs': 650, 'model__optimizer': 'Nadam', 'optimizer__learning_rate': 0.1}\n",
      "0.986993 (0.008013) with: {'batch_size': 40, 'epochs': 650, 'model__optimizer': 'Nadam', 'optimizer__learning_rate': 0.5}\n",
      "0.988256 (0.006790) with: {'batch_size': 40, 'epochs': 700, 'model__optimizer': 'RMSprop', 'optimizer__learning_rate': 0.001}\n",
      "0.989653 (0.002625) with: {'batch_size': 40, 'epochs': 700, 'model__optimizer': 'RMSprop', 'optimizer__learning_rate': 0.1}\n",
      "0.990471 (0.007287) with: {'batch_size': 40, 'epochs': 700, 'model__optimizer': 'RMSprop', 'optimizer__learning_rate': 0.5}\n",
      "0.817098 (0.028997) with: {'batch_size': 40, 'epochs': 700, 'model__optimizer': 'Adagrad', 'optimizer__learning_rate': 0.001}\n",
      "0.816776 (0.025856) with: {'batch_size': 40, 'epochs': 700, 'model__optimizer': 'Adagrad', 'optimizer__learning_rate': 0.1}\n",
      "0.806434 (0.045204) with: {'batch_size': 40, 'epochs': 700, 'model__optimizer': 'Adagrad', 'optimizer__learning_rate': 0.5}\n",
      "0.987312 (0.007893) with: {'batch_size': 40, 'epochs': 700, 'model__optimizer': 'Adam', 'optimizer__learning_rate': 0.001}\n",
      "0.989837 (0.002884) with: {'batch_size': 40, 'epochs': 700, 'model__optimizer': 'Adam', 'optimizer__learning_rate': 0.1}\n",
      "0.981322 (0.004617) with: {'batch_size': 40, 'epochs': 700, 'model__optimizer': 'Adam', 'optimizer__learning_rate': 0.5}\n",
      "0.972594 (0.004396) with: {'batch_size': 40, 'epochs': 700, 'model__optimizer': 'Adamax', 'optimizer__learning_rate': 0.001}\n",
      "0.970592 (0.006105) with: {'batch_size': 40, 'epochs': 700, 'model__optimizer': 'Adamax', 'optimizer__learning_rate': 0.1}\n",
      "0.970967 (0.005079) with: {'batch_size': 40, 'epochs': 700, 'model__optimizer': 'Adamax', 'optimizer__learning_rate': 0.5}\n",
      "0.991517 (0.003865) with: {'batch_size': 40, 'epochs': 700, 'model__optimizer': 'Nadam', 'optimizer__learning_rate': 0.001}\n",
      "0.989417 (0.001983) with: {'batch_size': 40, 'epochs': 700, 'model__optimizer': 'Nadam', 'optimizer__learning_rate': 0.1}\n",
      "0.989919 (0.004631) with: {'batch_size': 40, 'epochs': 700, 'model__optimizer': 'Nadam', 'optimizer__learning_rate': 0.5}\n"
     ]
    }
   ],
   "source": [
    "# create model\n",
    "model = KerasRegressor(model=create_model, verbose=0)\n",
    "\n",
    "# define the grid search parameters\n",
    "batch_size = [20, 25, 30, 35, 40]\n",
    "epochs = [ 550, 600, 650, 700]\n",
    "optimizer = ['RMSprop', 'Adagrad', 'Adam', 'Adamax', 'Nadam']\n",
    "learn_rate = [ 0.001, 0.1, 0.5]\n",
    "\n",
    "# gridsearch\n",
    "param_grid = dict(batch_size=batch_size, epochs=epochs, model__optimizer=optimizer, optimizer__learning_rate=learn_rate)\n",
    "grid = GridSearchCV(estimator=model, param_grid=param_grid,  n_jobs=-1, cv=3, scoring = 'r2')\n",
    "grid_result = grid.fit(X_train, y_train)\n",
    "\n",
    "# summarize results\n",
    "print(\"Best: %f using %s\" % (grid_result.best_score_, grid_result.best_params_))\n",
    "means = grid_result.cv_results_['mean_test_score']\n",
    "stds = grid_result.cv_results_['std_test_score']\n",
    "params = grid_result.cv_results_['params']\n",
    "for mean, stdev, param in zip(means, stds, params):\n",
    "    print(\"%f (%f) with: %r\" % (mean, stdev, param))"
   ]
  },
  {
   "cell_type": "markdown",
   "metadata": {
    "jp-MarkdownHeadingCollapsed": true,
    "tags": []
   },
   "source": [
    "### Hyperparameter tuning - batch size, epoch, learning rate"
   ]
  },
  {
   "cell_type": "code",
   "execution_count": 10,
   "metadata": {},
   "outputs": [],
   "source": [
    "# Function to create model, required for KerasClassifier\n",
    "def create_model():\n",
    " # create model\n",
    " model = Sequential()\n",
    " model.add(Dense(units=200, input_shape=(X_train.shape[1],), activation='relu'))\n",
    " model.add(Dense(units=100, activation='relu'))\n",
    " model.add(Dense(units=50, activation='relu'))\n",
    " model.add(Dense(units=1, activation='linear'))\n",
    " return model"
   ]
  },
  {
   "cell_type": "code",
   "execution_count": null,
   "metadata": {},
   "outputs": [
    {
     "name": "stdout",
     "output_type": "stream",
     "text": [
      "Best: 0.997277 using {'batch_size': 60, 'epochs': 100, 'optimizer__learning_rate': 0.01}\n",
      "0.976974 (0.017614) with: {'batch_size': 50, 'epochs': 50, 'optimizer__learning_rate': 0.01}\n",
      "0.934511 (0.048929) with: {'batch_size': 50, 'epochs': 50, 'optimizer__learning_rate': 0.1}\n",
      "0.289896 (0.414893) with: {'batch_size': 50, 'epochs': 50, 'optimizer__learning_rate': 0.2}\n",
      "0.996621 (0.002431) with: {'batch_size': 50, 'epochs': 100, 'optimizer__learning_rate': 0.01}\n",
      "0.880614 (0.097619) with: {'batch_size': 50, 'epochs': 100, 'optimizer__learning_rate': 0.1}\n",
      "0.299880 (0.426459) with: {'batch_size': 50, 'epochs': 100, 'optimizer__learning_rate': 0.2}\n",
      "0.992978 (0.004278) with: {'batch_size': 60, 'epochs': 50, 'optimizer__learning_rate': 0.01}\n",
      "0.970004 (0.009733) with: {'batch_size': 60, 'epochs': 50, 'optimizer__learning_rate': 0.1}\n",
      "0.298315 (0.438947) with: {'batch_size': 60, 'epochs': 50, 'optimizer__learning_rate': 0.2}\n",
      "0.997277 (0.001802) with: {'batch_size': 60, 'epochs': 100, 'optimizer__learning_rate': 0.01}\n",
      "0.936912 (0.033862) with: {'batch_size': 60, 'epochs': 100, 'optimizer__learning_rate': 0.1}\n",
      "0.303367 (0.446741) with: {'batch_size': 60, 'epochs': 100, 'optimizer__learning_rate': 0.2}\n",
      "0.972010 (0.019859) with: {'batch_size': 80, 'epochs': 50, 'optimizer__learning_rate': 0.01}\n",
      "0.882566 (0.084669) with: {'batch_size': 80, 'epochs': 50, 'optimizer__learning_rate': 0.1}\n",
      "0.375773 (0.338420) with: {'batch_size': 80, 'epochs': 50, 'optimizer__learning_rate': 0.2}\n",
      "0.980654 (0.021292) with: {'batch_size': 80, 'epochs': 100, 'optimizer__learning_rate': 0.01}\n",
      "0.948337 (0.040130) with: {'batch_size': 80, 'epochs': 100, 'optimizer__learning_rate': 0.1}\n",
      "-0.005370 (0.000900) with: {'batch_size': 80, 'epochs': 100, 'optimizer__learning_rate': 0.2}\n",
      "0.962241 (0.020736) with: {'batch_size': 100, 'epochs': 50, 'optimizer__learning_rate': 0.01}\n",
      "0.897146 (0.040488) with: {'batch_size': 100, 'epochs': 50, 'optimizer__learning_rate': 0.1}\n",
      "0.303355 (0.433063) with: {'batch_size': 100, 'epochs': 50, 'optimizer__learning_rate': 0.2}\n",
      "0.993725 (0.005130) with: {'batch_size': 100, 'epochs': 100, 'optimizer__learning_rate': 0.01}\n",
      "0.911065 (0.001954) with: {'batch_size': 100, 'epochs': 100, 'optimizer__learning_rate': 0.1}\n",
      "-0.004303 (0.002623) with: {'batch_size': 100, 'epochs': 100, 'optimizer__learning_rate': 0.2}\n"
     ]
    }
   ],
   "source": [
    "# create model\n",
    "model = KerasRegressor(model=create_model, verbose=0, optimizer = 'Nadam', loss = 'mean_squared_error', metrics = ['mae'])\n",
    "\n",
    "# define the grid search parameters\n",
    "batch_size = [50, 60, 80, 100]\n",
    "epochs = [50, 100, 200]\n",
    "learn_rate = [0.001, 0.01, 0.1]\n",
    "#momentum = [0.8, 0.9]\n",
    "\n",
    "# gridsearch\n",
    "param_grid = dict(batch_size=batch_size, epochs=epochs, optimizer__learning_rate=learn_rate)\n",
    "grid = GridSearchCV(estimator=model, param_grid=param_grid, n_jobs=-1, cv=3)\n",
    "grid_result = grid.fit(X_train, y_train)\n",
    "\n",
    "# summarize results\n",
    "print(\"Best: %f using %s\" % (grid_result.best_score_, grid_result.best_params_))\n",
    "means = grid_result.cv_results_['mean_test_score']\n",
    "stds = grid_result.cv_results_['std_test_score']\n",
    "params = grid_result.cv_results_['params']\n",
    "for mean, stdev, param in zip(means, stds, params):\n",
    "    print(\"%f (%f) with: %r\" % (mean, stdev, param))"
   ]
  },
  {
   "cell_type": "markdown",
   "metadata": {},
   "source": [
    "### Hyperparameter tuning - layers, neurons, activation function"
   ]
  },
  {
   "cell_type": "code",
   "execution_count": 10,
   "metadata": {},
   "outputs": [],
   "source": [
    "from tensorflow.keras.wrappers.scikit_learn import KerasRegressor as KR\n",
    "import math\n",
    "def FindLayerNodesLinear(n_layers, first_layer_nodes, last_layer_nodes):\n",
    "    layers = []\n",
    "    \n",
    "    nodes_increment = (last_layer_nodes - first_layer_nodes)/ (n_layers-1)\n",
    "    nodes = first_layer_nodes\n",
    "    for i in range(1, n_layers+1):\n",
    "        layers.append(math.ceil(nodes))\n",
    "        nodes = nodes + nodes_increment\n",
    "    \n",
    "    return layers"
   ]
  },
  {
   "cell_type": "code",
   "execution_count": 13,
   "metadata": {},
   "outputs": [
    {
     "name": "stderr",
     "output_type": "stream",
     "text": [
      "C:\\Users\\Chathura Gamage\\AppData\\Local\\Temp\\ipykernel_24080\\1312055941.py:18: DeprecationWarning: KerasRegressor is deprecated, use Sci-Keras (https://github.com/adriangb/scikeras) instead. See https://www.adriangb.com/scikeras/stable/migration.html for help migrating.\n",
      "  model = KR(build_fn=create_model, verbose=0, epochs = 550, batch_size = 20)\n"
     ]
    }
   ],
   "source": [
    "from tensorflow.keras.optimizers import Nadam\n",
    "def create_model(n_layers, first_layer_nodes, last_layer_nodes, activation_func):\n",
    "    model = Sequential()\n",
    "    n_nodes = FindLayerNodesLinear(n_layers, first_layer_nodes, last_layer_nodes)\n",
    "    for i in range(1, n_layers):\n",
    "        if i==1:\n",
    "            model.add(Dense(units = first_layer_nodes,  input_shape=(X_train.shape[1],), activation=activation_func))\n",
    "        else:\n",
    "            model.add(Dense(n_nodes[i-1], activation=activation_func))\n",
    "            \n",
    "    #Finally, the output layer should have a single node in binary classification\n",
    "    model.add(Dense(1, activation='linear'))\n",
    "    opt = Nadam(learning_rate=0.001)\n",
    "    model.compile(optimizer = opt, loss = 'mean_squared_error', metrics = ['mae'])\n",
    "    return model\n",
    "\n",
    "##Wrap model into scikit-learn\n",
    "model = KR(build_fn=create_model, verbose=0, epochs = 550, batch_size = 20)"
   ]
  },
  {
   "cell_type": "code",
   "execution_count": 14,
   "metadata": {},
   "outputs": [
    {
     "name": "stdout",
     "output_type": "stream",
     "text": [
      "Best: 0.989236 using {'activation_func': 'relu', 'first_layer_nodes': 300, 'last_layer_nodes': 50, 'n_layers': 3}\n",
      "0.952359 (0.000465) with: {'activation_func': 'relu', 'first_layer_nodes': 200, 'last_layer_nodes': 50, 'n_layers': 2}\n",
      "0.977370 (0.012000) with: {'activation_func': 'relu', 'first_layer_nodes': 200, 'last_layer_nodes': 50, 'n_layers': 3}\n",
      "0.953201 (0.001414) with: {'activation_func': 'relu', 'first_layer_nodes': 300, 'last_layer_nodes': 50, 'n_layers': 2}\n",
      "0.989236 (0.003514) with: {'activation_func': 'relu', 'first_layer_nodes': 300, 'last_layer_nodes': 50, 'n_layers': 3}\n",
      "0.933941 (0.003331) with: {'activation_func': 'softplus', 'first_layer_nodes': 200, 'last_layer_nodes': 50, 'n_layers': 2}\n",
      "0.969069 (0.012189) with: {'activation_func': 'softplus', 'first_layer_nodes': 200, 'last_layer_nodes': 50, 'n_layers': 3}\n",
      "0.934921 (0.001241) with: {'activation_func': 'softplus', 'first_layer_nodes': 300, 'last_layer_nodes': 50, 'n_layers': 2}\n",
      "0.982666 (0.011698) with: {'activation_func': 'softplus', 'first_layer_nodes': 300, 'last_layer_nodes': 50, 'n_layers': 3}\n",
      "0.946361 (0.001659) with: {'activation_func': 'leaky_relu', 'first_layer_nodes': 200, 'last_layer_nodes': 50, 'n_layers': 2}\n",
      "0.965632 (0.009350) with: {'activation_func': 'leaky_relu', 'first_layer_nodes': 200, 'last_layer_nodes': 50, 'n_layers': 3}\n",
      "0.949393 (0.000944) with: {'activation_func': 'leaky_relu', 'first_layer_nodes': 300, 'last_layer_nodes': 50, 'n_layers': 2}\n",
      "0.968674 (0.005479) with: {'activation_func': 'leaky_relu', 'first_layer_nodes': 300, 'last_layer_nodes': 50, 'n_layers': 3}\n"
     ]
    }
   ],
   "source": [
    "activation_funcs = ['relu', 'softplus', 'leaky_relu'] \n",
    "param_grid = dict(n_layers=[2,3], first_layer_nodes = [200,300], last_layer_nodes = [50],  activation_func = activation_funcs)\n",
    "grid = GridSearchCV(estimator = model, param_grid = param_grid,  n_jobs=-1, cv=3, scoring = 'r2')\n",
    "grid_result = grid.fit(X_train, y_train)\n",
    "\n",
    "# summarize results\n",
    "print(\"Best: %f using %s\" % (grid_result.best_score_, grid_result.best_params_))\n",
    "means = grid_result.cv_results_['mean_test_score']\n",
    "stds = grid_result.cv_results_['std_test_score']\n",
    "params = grid_result.cv_results_['params']\n",
    "for mean, stdev, param in zip(means, stds, params):\n",
    "    print(\"%f (%f) with: %r\" % (mean, stdev, param))"
   ]
  }
 ],
 "metadata": {
  "colab": {
   "collapsed_sections": [],
   "name": "Artificial Neural Network",
   "provenance": [],
   "toc_visible": true
  },
  "kernelspec": {
   "display_name": "Python 3 (ipykernel)",
   "language": "python",
   "name": "python3"
  },
  "language_info": {
   "codemirror_mode": {
    "name": "ipython",
    "version": 3
   },
   "file_extension": ".py",
   "mimetype": "text/x-python",
   "name": "python",
   "nbconvert_exporter": "python",
   "pygments_lexer": "ipython3",
   "version": "3.9.7"
  }
 },
 "nbformat": 4,
 "nbformat_minor": 4
}
