{
 "cells": [
  {
   "cell_type": "markdown",
   "metadata": {
    "colab_type": "text",
    "id": "3cbb7fRy-eyr"
   },
   "source": [
    "# Artificial Neural Network"
   ]
  },
  {
   "cell_type": "markdown",
   "metadata": {
    "colab_type": "text",
    "id": "8sNDnxE2-pwE"
   },
   "source": [
    "### Importing the libraries"
   ]
  },
  {
   "cell_type": "code",
   "execution_count": 1,
   "metadata": {
    "colab": {},
    "colab_type": "code",
    "id": "lxChR1Rk-umf"
   },
   "outputs": [],
   "source": [
    "import numpy as np\n",
    "import pandas as pd\n",
    "import tensorflow as tf"
   ]
  },
  {
   "cell_type": "markdown",
   "metadata": {
    "colab_type": "text",
    "id": "AG3FQEch-yuA"
   },
   "source": [
    "## Part 1 - Data Preprocessing"
   ]
  },
  {
   "cell_type": "markdown",
   "metadata": {
    "colab_type": "text",
    "id": "-4zq8Mza_D9O",
    "tags": []
   },
   "source": [
    "### Importing the dataset"
   ]
  },
  {
   "cell_type": "code",
   "execution_count": 2,
   "metadata": {
    "colab": {},
    "colab_type": "code",
    "id": "B9CV13Co_HHM"
   },
   "outputs": [
    {
     "name": "stdout",
     "output_type": "stream",
     "text": [
      "<class 'pandas.core.frame.DataFrame'>\n",
      "RangeIndex: 546 entries, 0 to 545\n",
      "Data columns (total 4 columns):\n",
      " #   Column             Non-Null Count  Dtype  \n",
      "---  ------             --------------  -----  \n",
      " 0   Charge_type        546 non-null    object \n",
      " 1   Charge_size        546 non-null    float64\n",
      " 2   Standoff_distance  546 non-null    float64\n",
      " 3   Impulse            546 non-null    float64\n",
      "dtypes: float64(3), object(1)\n",
      "memory usage: 17.2+ KB\n"
     ]
    }
   ],
   "source": [
    "dataset = pd.read_excel('IDataset1.xlsx')\n",
    "dataset.info()"
   ]
  },
  {
   "cell_type": "code",
   "execution_count": 3,
   "metadata": {},
   "outputs": [
    {
     "name": "stdout",
     "output_type": "stream",
     "text": [
      "<class 'pandas.core.frame.DataFrame'>\n",
      "RangeIndex: 546 entries, 0 to 545\n",
      "Data columns (total 5 columns):\n",
      " #   Column             Non-Null Count  Dtype  \n",
      "---  ------             --------------  -----  \n",
      " 0   Charge_size        546 non-null    float64\n",
      " 1   Standoff_distance  546 non-null    float64\n",
      " 2   Impulse            546 non-null    float64\n",
      " 3   Charge_type_CompB  546 non-null    uint8  \n",
      " 4   Charge_type_TNT    546 non-null    uint8  \n",
      "dtypes: float64(3), uint8(2)\n",
      "memory usage: 14.0 KB\n"
     ]
    }
   ],
   "source": [
    "# convert categorical variable into dummy variables\n",
    "dataset = pd.get_dummies(dataset, columns=['Charge_type'])\n",
    "dataset.info()"
   ]
  },
  {
   "cell_type": "code",
   "execution_count": 4,
   "metadata": {},
   "outputs": [
    {
     "data": {
      "text/html": [
       "<div>\n",
       "<style scoped>\n",
       "    .dataframe tbody tr th:only-of-type {\n",
       "        vertical-align: middle;\n",
       "    }\n",
       "\n",
       "    .dataframe tbody tr th {\n",
       "        vertical-align: top;\n",
       "    }\n",
       "\n",
       "    .dataframe thead th {\n",
       "        text-align: right;\n",
       "    }\n",
       "</style>\n",
       "<table border=\"1\" class=\"dataframe\">\n",
       "  <thead>\n",
       "    <tr style=\"text-align: right;\">\n",
       "      <th></th>\n",
       "      <th>Charge_size</th>\n",
       "      <th>Standoff_distance</th>\n",
       "      <th>Impulse</th>\n",
       "      <th>Charge_type_CompB</th>\n",
       "      <th>Charge_type_TNT</th>\n",
       "    </tr>\n",
       "  </thead>\n",
       "  <tbody>\n",
       "    <tr>\n",
       "      <th>0</th>\n",
       "      <td>0.5</td>\n",
       "      <td>1.5</td>\n",
       "      <td>58.168617</td>\n",
       "      <td>0</td>\n",
       "      <td>1</td>\n",
       "    </tr>\n",
       "    <tr>\n",
       "      <th>1</th>\n",
       "      <td>0.5</td>\n",
       "      <td>2.5</td>\n",
       "      <td>38.798874</td>\n",
       "      <td>0</td>\n",
       "      <td>1</td>\n",
       "    </tr>\n",
       "    <tr>\n",
       "      <th>2</th>\n",
       "      <td>0.5</td>\n",
       "      <td>3.5</td>\n",
       "      <td>28.473915</td>\n",
       "      <td>0</td>\n",
       "      <td>1</td>\n",
       "    </tr>\n",
       "    <tr>\n",
       "      <th>3</th>\n",
       "      <td>0.5</td>\n",
       "      <td>4.5</td>\n",
       "      <td>22.343452</td>\n",
       "      <td>0</td>\n",
       "      <td>1</td>\n",
       "    </tr>\n",
       "    <tr>\n",
       "      <th>4</th>\n",
       "      <td>0.5</td>\n",
       "      <td>5.5</td>\n",
       "      <td>18.326342</td>\n",
       "      <td>0</td>\n",
       "      <td>1</td>\n",
       "    </tr>\n",
       "  </tbody>\n",
       "</table>\n",
       "</div>"
      ],
      "text/plain": [
       "   Charge_size  Standoff_distance    Impulse  Charge_type_CompB  \\\n",
       "0          0.5                1.5  58.168617                  0   \n",
       "1          0.5                2.5  38.798874                  0   \n",
       "2          0.5                3.5  28.473915                  0   \n",
       "3          0.5                4.5  22.343452                  0   \n",
       "4          0.5                5.5  18.326342                  0   \n",
       "\n",
       "   Charge_type_TNT  \n",
       "0                1  \n",
       "1                1  \n",
       "2                1  \n",
       "3                1  \n",
       "4                1  "
      ]
     },
     "execution_count": 4,
     "metadata": {},
     "output_type": "execute_result"
    }
   ],
   "source": [
    "dataset.head()"
   ]
  },
  {
   "cell_type": "code",
   "execution_count": 5,
   "metadata": {},
   "outputs": [
    {
     "name": "stdout",
     "output_type": "stream",
     "text": [
      "(546, 4) (546,)\n"
     ]
    }
   ],
   "source": [
    "y = dataset['Impulse']\n",
    "X = dataset.drop('Impulse', axis=1)\n",
    "print(X.shape, y.shape)"
   ]
  },
  {
   "cell_type": "code",
   "execution_count": 6,
   "metadata": {},
   "outputs": [],
   "source": [
    "# convert to numpy array\n",
    "X = np.array(X)\n",
    "y = np.array(y)"
   ]
  },
  {
   "cell_type": "markdown",
   "metadata": {
    "colab_type": "text",
    "id": "VC6omXel_Up0"
   },
   "source": [
    "### Splitting the dataset into the Training set and Test set"
   ]
  },
  {
   "cell_type": "code",
   "execution_count": 7,
   "metadata": {
    "colab": {},
    "colab_type": "code",
    "id": "L5edeb2r_agx"
   },
   "outputs": [],
   "source": [
    "from sklearn.model_selection import train_test_split\n",
    "X_train, X_test, y_train, y_test = train_test_split(X, y, test_size = 0.3, random_state = 0)\n",
    "X_val, X_test, y_val, y_test = train_test_split(X_test, y_test, test_size = 0.5, random_state = 0)"
   ]
  },
  {
   "cell_type": "code",
   "execution_count": 12,
   "metadata": {},
   "outputs": [
    {
     "name": "stdout",
     "output_type": "stream",
     "text": [
      "Train 382 382\n",
      "Test 82 82\n",
      "Val 82 82\n"
     ]
    }
   ],
   "source": [
    "print (\"Train\",len(X_train), len(y_train))\n",
    "print (\"Test\",len(X_test), len(y_test))\n",
    "print (\"Val\",len(X_val), len(y_val))"
   ]
  },
  {
   "cell_type": "markdown",
   "metadata": {
    "colab_type": "text",
    "id": "_mSLlAT9_eyI"
   },
   "source": [
    "## Part 2 - Building the ANN"
   ]
  },
  {
   "cell_type": "markdown",
   "metadata": {
    "colab_type": "text",
    "id": "CsBULd_f_wLY"
   },
   "source": [
    "### Initializing the ANN"
   ]
  },
  {
   "cell_type": "code",
   "execution_count": 8,
   "metadata": {
    "colab": {},
    "colab_type": "code",
    "id": "J6Hd97Ls__Nz"
   },
   "outputs": [],
   "source": [
    "ann = tf.keras.models.Sequential()"
   ]
  },
  {
   "cell_type": "markdown",
   "metadata": {
    "colab_type": "text",
    "id": "iitAFJS_ABUn"
   },
   "source": [
    "### Adding the input layer and the first hidden layer"
   ]
  },
  {
   "cell_type": "code",
   "execution_count": 9,
   "metadata": {
    "colab": {},
    "colab_type": "code",
    "id": "ksO_Vv40AHix"
   },
   "outputs": [],
   "source": [
    "ann.add(tf.keras.layers.Dense(units=300, input_shape=(X_train.shape[1],), activation='relu'))"
   ]
  },
  {
   "cell_type": "markdown",
   "metadata": {
    "colab_type": "text",
    "id": "-lb4kK_wAKbs"
   },
   "source": [
    "### Adding the second hidden layer"
   ]
  },
  {
   "cell_type": "code",
   "execution_count": 10,
   "metadata": {
    "colab": {},
    "colab_type": "code",
    "id": "c2357OqEAQOQ",
    "tags": []
   },
   "outputs": [],
   "source": [
    "ann.add(tf.keras.layers.Dense(units=200, activation='relu'))"
   ]
  },
  {
   "cell_type": "markdown",
   "metadata": {
    "colab_type": "text",
    "id": "-lb4kK_wAKbs",
    "tags": []
   },
   "source": [
    "### Adding the third hidden layer"
   ]
  },
  {
   "cell_type": "code",
   "execution_count": 11,
   "metadata": {
    "colab": {},
    "colab_type": "code",
    "id": "c2357OqEAQOQ",
    "tags": []
   },
   "outputs": [],
   "source": [
    "ann.add(tf.keras.layers.Dense(units=100, activation='relu'))"
   ]
  },
  {
   "cell_type": "markdown",
   "metadata": {
    "colab_type": "text",
    "id": "jwMOmKb3AdBY"
   },
   "source": [
    "### Adding the output layer"
   ]
  },
  {
   "cell_type": "code",
   "execution_count": 12,
   "metadata": {
    "colab": {},
    "colab_type": "code",
    "id": "YFATpzsUAkLL"
   },
   "outputs": [],
   "source": [
    "ann.add(tf.keras.layers.Dense(units=1, activation='linear'))"
   ]
  },
  {
   "cell_type": "markdown",
   "metadata": {},
   "source": [
    "### what model looks like"
   ]
  },
  {
   "cell_type": "code",
   "execution_count": 13,
   "metadata": {},
   "outputs": [
    {
     "name": "stdout",
     "output_type": "stream",
     "text": [
      "Model: \"sequential\"\n",
      "_________________________________________________________________\n",
      " Layer (type)                Output Shape              Param #   \n",
      "=================================================================\n",
      " dense (Dense)               (None, 300)               1500      \n",
      "                                                                 \n",
      " dense_1 (Dense)             (None, 200)               60200     \n",
      "                                                                 \n",
      " dense_2 (Dense)             (None, 100)               20100     \n",
      "                                                                 \n",
      " dense_3 (Dense)             (None, 1)                 101       \n",
      "                                                                 \n",
      "=================================================================\n",
      "Total params: 81,901\n",
      "Trainable params: 81,901\n",
      "Non-trainable params: 0\n",
      "_________________________________________________________________\n"
     ]
    }
   ],
   "source": [
    "ann.summary()"
   ]
  },
  {
   "cell_type": "markdown",
   "metadata": {
    "colab_type": "text",
    "id": "fq7e4fF6A1yy"
   },
   "source": [
    "## Part 3 - Training the ANN"
   ]
  },
  {
   "cell_type": "markdown",
   "metadata": {
    "colab_type": "text",
    "id": "qDeylAs2An25"
   },
   "source": [
    "### Compiling the ANN"
   ]
  },
  {
   "cell_type": "code",
   "execution_count": 14,
   "metadata": {
    "colab": {},
    "colab_type": "code",
    "id": "pesgbWlCAtB4"
   },
   "outputs": [],
   "source": [
    "from tensorflow.keras.optimizers import RMSprop\n",
    "opt = RMSprop(learning_rate=0.001)\n",
    "ann.compile(optimizer = opt, loss = 'mean_squared_error', metrics = ['mae'])"
   ]
  },
  {
   "cell_type": "markdown",
   "metadata": {},
   "source": [
    "### early stopping callback"
   ]
  },
  {
   "cell_type": "code",
   "execution_count": 15,
   "metadata": {},
   "outputs": [],
   "source": [
    "# protects from unnecessary further training of the model if a particular metric does not continue to improve over a number of n epochs. In such a case, the model training would be automatically aborted.\n",
    "from keras.callbacks import EarlyStopping\n",
    "es = EarlyStopping(monitor='val_loss',\n",
    "                   mode='min',\n",
    "                   patience=50,\n",
    "                   restore_best_weights = True)"
   ]
  },
  {
   "cell_type": "markdown",
   "metadata": {
    "colab_type": "text",
    "id": "YjVuiybYOo7r"
   },
   "source": [
    "### Training the ANN model on the Training set"
   ]
  },
  {
   "cell_type": "code",
   "execution_count": 16,
   "metadata": {
    "colab": {
     "base_uri": "https://localhost:8080/",
     "height": 1000
    },
    "colab_type": "code",
    "id": "c_vV-tiiA5zn",
    "outputId": "4a2b6ee6-ed75-4698-9069-b250e613803f"
   },
   "outputs": [
    {
     "name": "stdout",
     "output_type": "stream",
     "text": [
      "Epoch 1/500\n",
      "7/7 [==============================] - 1s 27ms/step - loss: 17958.8770 - mae: 97.1727 - val_loss: 9991.4092 - val_mae: 63.9215\n",
      "Epoch 2/500\n",
      "7/7 [==============================] - 0s 8ms/step - loss: 10446.9648 - mae: 65.7119 - val_loss: 6339.0791 - val_mae: 57.6755\n",
      "Epoch 3/500\n",
      "7/7 [==============================] - 0s 7ms/step - loss: 7504.7324 - mae: 60.9795 - val_loss: 4930.7319 - val_mae: 47.3484\n",
      "Epoch 4/500\n",
      "7/7 [==============================] - 0s 8ms/step - loss: 6122.8110 - mae: 53.3105 - val_loss: 3936.5896 - val_mae: 43.3048\n",
      "Epoch 5/500\n",
      "7/7 [==============================] - 0s 8ms/step - loss: 4945.9746 - mae: 48.9837 - val_loss: 3554.7791 - val_mae: 41.6430\n",
      "Epoch 6/500\n",
      "7/7 [==============================] - 0s 9ms/step - loss: 4459.4951 - mae: 46.5781 - val_loss: 2947.9253 - val_mae: 38.3855\n",
      "Epoch 7/500\n",
      "7/7 [==============================] - 0s 9ms/step - loss: 3779.2776 - mae: 43.2870 - val_loss: 2462.0742 - val_mae: 34.8727\n",
      "Epoch 8/500\n",
      "7/7 [==============================] - 0s 8ms/step - loss: 3323.6392 - mae: 40.3199 - val_loss: 2182.6968 - val_mae: 32.4830\n",
      "Epoch 9/500\n",
      "7/7 [==============================] - 0s 10ms/step - loss: 2941.4988 - mae: 37.8013 - val_loss: 1936.7316 - val_mae: 30.7595\n",
      "Epoch 10/500\n",
      "7/7 [==============================] - 0s 9ms/step - loss: 2612.6521 - mae: 35.3676 - val_loss: 1638.1492 - val_mae: 28.1812\n",
      "Epoch 11/500\n",
      "7/7 [==============================] - 0s 10ms/step - loss: 2421.6042 - mae: 34.4738 - val_loss: 1530.4850 - val_mae: 28.5599\n",
      "Epoch 12/500\n",
      "7/7 [==============================] - 0s 9ms/step - loss: 2348.6343 - mae: 33.4564 - val_loss: 1492.6444 - val_mae: 27.5199\n",
      "Epoch 13/500\n",
      "7/7 [==============================] - 0s 8ms/step - loss: 1999.3169 - mae: 29.7326 - val_loss: 1457.4554 - val_mae: 27.0685\n",
      "Epoch 14/500\n",
      "7/7 [==============================] - 0s 7ms/step - loss: 1971.1573 - mae: 30.8107 - val_loss: 1130.8696 - val_mae: 24.1302\n",
      "Epoch 15/500\n",
      "7/7 [==============================] - 0s 8ms/step - loss: 2063.7502 - mae: 31.2994 - val_loss: 1079.8601 - val_mae: 24.0045\n",
      "Epoch 16/500\n",
      "7/7 [==============================] - 0s 8ms/step - loss: 1633.3125 - mae: 26.8234 - val_loss: 1029.0634 - val_mae: 22.3398\n",
      "Epoch 17/500\n",
      "7/7 [==============================] - 0s 8ms/step - loss: 1647.4313 - mae: 27.4932 - val_loss: 900.3094 - val_mae: 21.1951\n",
      "Epoch 18/500\n",
      "7/7 [==============================] - 0s 8ms/step - loss: 1437.3895 - mae: 24.8868 - val_loss: 920.2601 - val_mae: 22.3676\n",
      "Epoch 19/500\n",
      "7/7 [==============================] - 0s 9ms/step - loss: 1361.2467 - mae: 24.3053 - val_loss: 1397.0085 - val_mae: 27.0401\n",
      "Epoch 20/500\n",
      "7/7 [==============================] - 0s 8ms/step - loss: 1427.8467 - mae: 25.4968 - val_loss: 788.5980 - val_mae: 19.3594\n",
      "Epoch 21/500\n",
      "7/7 [==============================] - 0s 9ms/step - loss: 1237.9554 - mae: 23.0562 - val_loss: 681.3146 - val_mae: 18.2885\n",
      "Epoch 22/500\n",
      "7/7 [==============================] - 0s 9ms/step - loss: 1056.2889 - mae: 20.6576 - val_loss: 671.3541 - val_mae: 15.9720\n",
      "Epoch 23/500\n",
      "7/7 [==============================] - 0s 9ms/step - loss: 1338.5696 - mae: 25.7057 - val_loss: 543.3987 - val_mae: 15.3867\n",
      "Epoch 24/500\n",
      "7/7 [==============================] - 0s 10ms/step - loss: 1021.7191 - mae: 20.4660 - val_loss: 533.8670 - val_mae: 15.1680\n",
      "Epoch 25/500\n",
      "7/7 [==============================] - 0s 9ms/step - loss: 895.1893 - mae: 18.9186 - val_loss: 440.9463 - val_mae: 12.9492\n",
      "Epoch 26/500\n",
      "7/7 [==============================] - 0s 9ms/step - loss: 796.7976 - mae: 17.1407 - val_loss: 1040.7355 - val_mae: 26.2632\n",
      "Epoch 27/500\n",
      "7/7 [==============================] - 0s 7ms/step - loss: 1074.9800 - mae: 24.2022 - val_loss: 732.6754 - val_mae: 16.4729\n",
      "Epoch 28/500\n",
      "7/7 [==============================] - 0s 9ms/step - loss: 905.6089 - mae: 19.9254 - val_loss: 426.8294 - val_mae: 12.1502\n",
      "Epoch 29/500\n",
      "7/7 [==============================] - 0s 9ms/step - loss: 785.7407 - mae: 18.6254 - val_loss: 715.5005 - val_mae: 21.2420\n",
      "Epoch 30/500\n",
      "7/7 [==============================] - 0s 9ms/step - loss: 877.0570 - mae: 20.7823 - val_loss: 460.8867 - val_mae: 14.0212\n",
      "Epoch 31/500\n",
      "7/7 [==============================] - 0s 7ms/step - loss: 766.3488 - mae: 17.9521 - val_loss: 398.8333 - val_mae: 13.6499\n",
      "Epoch 32/500\n",
      "7/7 [==============================] - 0s 8ms/step - loss: 722.3857 - mae: 18.2542 - val_loss: 291.8740 - val_mae: 10.6454\n",
      "Epoch 33/500\n",
      "7/7 [==============================] - 0s 8ms/step - loss: 661.3323 - mae: 16.7310 - val_loss: 285.3180 - val_mae: 10.3783\n",
      "Epoch 34/500\n",
      "7/7 [==============================] - 0s 8ms/step - loss: 739.0591 - mae: 19.2288 - val_loss: 492.3305 - val_mae: 13.8040\n",
      "Epoch 35/500\n",
      "7/7 [==============================] - 0s 10ms/step - loss: 605.7238 - mae: 15.0987 - val_loss: 260.3561 - val_mae: 9.8495\n",
      "Epoch 36/500\n",
      "7/7 [==============================] - 0s 8ms/step - loss: 934.6696 - mae: 21.1443 - val_loss: 266.7798 - val_mae: 9.8318\n",
      "Epoch 37/500\n",
      "7/7 [==============================] - 0s 16ms/step - loss: 671.7312 - mae: 16.8134 - val_loss: 252.9982 - val_mae: 9.4573\n",
      "Epoch 38/500\n",
      "7/7 [==============================] - 0s 8ms/step - loss: 569.5173 - mae: 15.4140 - val_loss: 786.2958 - val_mae: 21.8514\n",
      "Epoch 39/500\n",
      "7/7 [==============================] - 0s 6ms/step - loss: 767.8354 - mae: 19.2866 - val_loss: 258.0796 - val_mae: 9.6599\n",
      "Epoch 40/500\n",
      "7/7 [==============================] - 0s 9ms/step - loss: 522.9698 - mae: 13.7961 - val_loss: 232.9628 - val_mae: 9.5854\n",
      "Epoch 41/500\n",
      "7/7 [==============================] - 0s 7ms/step - loss: 868.7459 - mae: 19.3917 - val_loss: 297.7001 - val_mae: 11.5665\n",
      "Epoch 42/500\n",
      "7/7 [==============================] - 0s 9ms/step - loss: 487.9009 - mae: 13.0474 - val_loss: 497.3525 - val_mae: 16.1294\n",
      "Epoch 43/500\n",
      "7/7 [==============================] - 0s 9ms/step - loss: 833.5180 - mae: 19.9124 - val_loss: 207.9462 - val_mae: 8.8161\n",
      "Epoch 44/500\n",
      "7/7 [==============================] - 0s 7ms/step - loss: 507.6246 - mae: 13.6335 - val_loss: 1158.4631 - val_mae: 28.2563\n",
      "Epoch 45/500\n",
      "7/7 [==============================] - 0s 7ms/step - loss: 686.5690 - mae: 17.1583 - val_loss: 239.9048 - val_mae: 11.0563\n",
      "Epoch 46/500\n",
      "7/7 [==============================] - 0s 8ms/step - loss: 490.8873 - mae: 13.3829 - val_loss: 307.6894 - val_mae: 12.8897\n",
      "Epoch 47/500\n",
      "7/7 [==============================] - 0s 9ms/step - loss: 635.5313 - mae: 17.3714 - val_loss: 395.5931 - val_mae: 15.7267\n",
      "Epoch 48/500\n",
      "7/7 [==============================] - 0s 8ms/step - loss: 494.8611 - mae: 14.4308 - val_loss: 549.3434 - val_mae: 17.6495\n",
      "Epoch 49/500\n",
      "7/7 [==============================] - 0s 9ms/step - loss: 696.3613 - mae: 18.4184 - val_loss: 326.4486 - val_mae: 13.2566\n",
      "Epoch 50/500\n",
      "7/7 [==============================] - 0s 8ms/step - loss: 662.8454 - mae: 17.3884 - val_loss: 188.2057 - val_mae: 7.5454\n",
      "Epoch 51/500\n",
      "7/7 [==============================] - 0s 9ms/step - loss: 421.4995 - mae: 11.3078 - val_loss: 281.7340 - val_mae: 12.3842\n",
      "Epoch 52/500\n",
      "7/7 [==============================] - 0s 9ms/step - loss: 585.6019 - mae: 16.7150 - val_loss: 437.1848 - val_mae: 15.1293\n",
      "Epoch 53/500\n",
      "7/7 [==============================] - 0s 8ms/step - loss: 461.6118 - mae: 12.9326 - val_loss: 225.9805 - val_mae: 10.0037\n",
      "Epoch 54/500\n",
      "7/7 [==============================] - 0s 9ms/step - loss: 380.2418 - mae: 10.8516 - val_loss: 181.8747 - val_mae: 7.6504\n",
      "Epoch 55/500\n",
      "7/7 [==============================] - 0s 9ms/step - loss: 981.4413 - mae: 20.9935 - val_loss: 203.9974 - val_mae: 9.7542\n",
      "Epoch 56/500\n",
      "7/7 [==============================] - 0s 8ms/step - loss: 359.5172 - mae: 10.5850 - val_loss: 263.0980 - val_mae: 9.1464\n",
      "Epoch 57/500\n",
      "7/7 [==============================] - 0s 7ms/step - loss: 679.6215 - mae: 17.3298 - val_loss: 205.4386 - val_mae: 7.7193\n",
      "Epoch 58/500\n",
      "7/7 [==============================] - 0s 8ms/step - loss: 420.7227 - mae: 11.3964 - val_loss: 933.1523 - val_mae: 25.6774\n",
      "Epoch 59/500\n",
      "7/7 [==============================] - 0s 9ms/step - loss: 464.7409 - mae: 12.8373 - val_loss: 210.3593 - val_mae: 9.2545\n",
      "Epoch 60/500\n",
      "7/7 [==============================] - 0s 8ms/step - loss: 566.9611 - mae: 15.9634 - val_loss: 159.7306 - val_mae: 6.2651\n",
      "Epoch 61/500\n",
      "7/7 [==============================] - 0s 7ms/step - loss: 467.6531 - mae: 14.1936 - val_loss: 156.5567 - val_mae: 6.8768\n",
      "Epoch 62/500\n",
      "7/7 [==============================] - 0s 7ms/step - loss: 403.8034 - mae: 12.8156 - val_loss: 179.1726 - val_mae: 7.0988\n",
      "Epoch 63/500\n",
      "7/7 [==============================] - 0s 8ms/step - loss: 502.7049 - mae: 14.7983 - val_loss: 915.2097 - val_mae: 20.0034\n",
      "Epoch 64/500\n",
      "7/7 [==============================] - 0s 9ms/step - loss: 606.3225 - mae: 14.9564 - val_loss: 234.4095 - val_mae: 10.1174\n",
      "Epoch 65/500\n",
      "7/7 [==============================] - 0s 8ms/step - loss: 440.7446 - mae: 13.3721 - val_loss: 167.4813 - val_mae: 7.9009\n",
      "Epoch 66/500\n",
      "7/7 [==============================] - 0s 8ms/step - loss: 346.9772 - mae: 10.5158 - val_loss: 232.9465 - val_mae: 11.8382\n",
      "Epoch 67/500\n",
      "7/7 [==============================] - 0s 9ms/step - loss: 533.7275 - mae: 16.6474 - val_loss: 242.9001 - val_mae: 10.7129\n",
      "Epoch 68/500\n",
      "7/7 [==============================] - 0s 9ms/step - loss: 458.7914 - mae: 13.4205 - val_loss: 139.6547 - val_mae: 5.8338\n",
      "Epoch 69/500\n",
      "7/7 [==============================] - 0s 8ms/step - loss: 310.8212 - mae: 9.5382 - val_loss: 286.5960 - val_mae: 12.5618\n",
      "Epoch 70/500\n",
      "7/7 [==============================] - 0s 8ms/step - loss: 580.9406 - mae: 16.2824 - val_loss: 156.3990 - val_mae: 7.0176\n",
      "Epoch 71/500\n",
      "7/7 [==============================] - 0s 7ms/step - loss: 398.7224 - mae: 9.7911 - val_loss: 459.2312 - val_mae: 18.6503\n",
      "Epoch 72/500\n",
      "7/7 [==============================] - 0s 8ms/step - loss: 474.4444 - mae: 14.1013 - val_loss: 180.6647 - val_mae: 7.2359\n",
      "Epoch 73/500\n",
      "7/7 [==============================] - 0s 8ms/step - loss: 482.7244 - mae: 14.3601 - val_loss: 290.6672 - val_mae: 13.7679\n",
      "Epoch 74/500\n",
      "7/7 [==============================] - 0s 8ms/step - loss: 349.3531 - mae: 10.7897 - val_loss: 287.6600 - val_mae: 11.1290\n",
      "Epoch 75/500\n",
      "7/7 [==============================] - 0s 8ms/step - loss: 566.2760 - mae: 16.6418 - val_loss: 271.9059 - val_mae: 12.0764\n",
      "Epoch 76/500\n",
      "7/7 [==============================] - 0s 8ms/step - loss: 300.3099 - mae: 8.9814 - val_loss: 125.8738 - val_mae: 5.1714\n",
      "Epoch 77/500\n",
      "7/7 [==============================] - 0s 17ms/step - loss: 589.4365 - mae: 15.4108 - val_loss: 208.2964 - val_mae: 9.4212\n",
      "Epoch 78/500\n",
      "7/7 [==============================] - 0s 7ms/step - loss: 323.8656 - mae: 10.1156 - val_loss: 135.9032 - val_mae: 6.3962\n",
      "Epoch 79/500\n",
      "7/7 [==============================] - 0s 8ms/step - loss: 377.6935 - mae: 11.1255 - val_loss: 351.1210 - val_mae: 13.7519\n",
      "Epoch 80/500\n",
      "7/7 [==============================] - 0s 8ms/step - loss: 412.2502 - mae: 13.3940 - val_loss: 129.8159 - val_mae: 5.3700\n",
      "Epoch 81/500\n",
      "7/7 [==============================] - 0s 10ms/step - loss: 519.9377 - mae: 14.5189 - val_loss: 287.3795 - val_mae: 12.5530\n",
      "Epoch 82/500\n",
      "7/7 [==============================] - 0s 9ms/step - loss: 306.1116 - mae: 9.3215 - val_loss: 124.7728 - val_mae: 5.4202\n",
      "Epoch 83/500\n",
      "7/7 [==============================] - 0s 8ms/step - loss: 342.4660 - mae: 10.2191 - val_loss: 181.1636 - val_mae: 8.8753\n",
      "Epoch 84/500\n",
      "7/7 [==============================] - 0s 8ms/step - loss: 379.2590 - mae: 12.3766 - val_loss: 225.7752 - val_mae: 10.4674\n",
      "Epoch 85/500\n",
      "7/7 [==============================] - 0s 7ms/step - loss: 645.7521 - mae: 17.3823 - val_loss: 122.7652 - val_mae: 5.3571\n",
      "Epoch 86/500\n",
      "7/7 [==============================] - 0s 8ms/step - loss: 289.8820 - mae: 7.8708 - val_loss: 419.6402 - val_mae: 16.3582\n",
      "Epoch 87/500\n",
      "7/7 [==============================] - 0s 8ms/step - loss: 515.7423 - mae: 15.3178 - val_loss: 157.4893 - val_mae: 6.7002\n",
      "Epoch 88/500\n",
      "7/7 [==============================] - 0s 7ms/step - loss: 306.4667 - mae: 8.9503 - val_loss: 395.3545 - val_mae: 16.0757\n",
      "Epoch 89/500\n",
      "7/7 [==============================] - 0s 8ms/step - loss: 346.5146 - mae: 11.6451 - val_loss: 137.5267 - val_mae: 7.1534\n",
      "Epoch 90/500\n",
      "7/7 [==============================] - 0s 9ms/step - loss: 279.0866 - mae: 9.7884 - val_loss: 130.8783 - val_mae: 6.7386\n",
      "Epoch 91/500\n",
      "7/7 [==============================] - 0s 7ms/step - loss: 634.6546 - mae: 15.8747 - val_loss: 745.1466 - val_mae: 20.5489\n",
      "Epoch 92/500\n",
      "7/7 [==============================] - 0s 7ms/step - loss: 476.0961 - mae: 12.8962 - val_loss: 125.3798 - val_mae: 5.9929\n",
      "Epoch 93/500\n",
      "7/7 [==============================] - 0s 8ms/step - loss: 362.8087 - mae: 10.4817 - val_loss: 147.9573 - val_mae: 5.8693\n",
      "Epoch 94/500\n",
      "7/7 [==============================] - 0s 9ms/step - loss: 289.3173 - mae: 8.6545 - val_loss: 392.4497 - val_mae: 14.1921\n",
      "Epoch 95/500\n",
      "7/7 [==============================] - 0s 9ms/step - loss: 506.4841 - mae: 15.2813 - val_loss: 204.0623 - val_mae: 8.3292\n",
      "Epoch 96/500\n",
      "7/7 [==============================] - 0s 8ms/step - loss: 465.0995 - mae: 13.6548 - val_loss: 136.5461 - val_mae: 7.1328\n",
      "Epoch 97/500\n",
      "7/7 [==============================] - 0s 8ms/step - loss: 273.0874 - mae: 7.8245 - val_loss: 140.5618 - val_mae: 7.9162\n",
      "Epoch 98/500\n",
      "7/7 [==============================] - 0s 7ms/step - loss: 387.9357 - mae: 13.0769 - val_loss: 268.0413 - val_mae: 9.7888\n",
      "Epoch 99/500\n",
      "7/7 [==============================] - 0s 8ms/step - loss: 311.6195 - mae: 10.8991 - val_loss: 244.3405 - val_mae: 11.1103\n",
      "Epoch 100/500\n",
      "7/7 [==============================] - 0s 9ms/step - loss: 265.6262 - mae: 8.8979 - val_loss: 277.2494 - val_mae: 12.9364\n",
      "Epoch 101/500\n",
      "7/7 [==============================] - 0s 8ms/step - loss: 548.9743 - mae: 15.5079 - val_loss: 227.9933 - val_mae: 10.2176\n",
      "Epoch 102/500\n",
      "7/7 [==============================] - 0s 9ms/step - loss: 361.1064 - mae: 11.5293 - val_loss: 118.4108 - val_mae: 5.6634\n",
      "Epoch 103/500\n",
      "7/7 [==============================] - 0s 8ms/step - loss: 391.4658 - mae: 10.6374 - val_loss: 232.0529 - val_mae: 10.0244\n",
      "Epoch 104/500\n",
      "7/7 [==============================] - 0s 8ms/step - loss: 321.6446 - mae: 10.8680 - val_loss: 134.6024 - val_mae: 7.2395\n",
      "Epoch 105/500\n",
      "7/7 [==============================] - 0s 8ms/step - loss: 490.4252 - mae: 14.5426 - val_loss: 153.3606 - val_mae: 8.3705\n",
      "Epoch 106/500\n",
      "7/7 [==============================] - 0s 8ms/step - loss: 264.2825 - mae: 8.4925 - val_loss: 121.5425 - val_mae: 5.4114\n",
      "Epoch 107/500\n",
      "7/7 [==============================] - 0s 8ms/step - loss: 518.7386 - mae: 13.3228 - val_loss: 219.4926 - val_mae: 9.0586\n",
      "Epoch 108/500\n",
      "7/7 [==============================] - 0s 9ms/step - loss: 298.7344 - mae: 9.9196 - val_loss: 112.2120 - val_mae: 5.0889\n",
      "Epoch 109/500\n",
      "7/7 [==============================] - 0s 7ms/step - loss: 413.5898 - mae: 12.6958 - val_loss: 430.4778 - val_mae: 15.6442\n",
      "Epoch 110/500\n",
      "7/7 [==============================] - 0s 7ms/step - loss: 387.1636 - mae: 11.2114 - val_loss: 217.7191 - val_mae: 9.6872\n",
      "Epoch 111/500\n",
      "7/7 [==============================] - 0s 8ms/step - loss: 460.0339 - mae: 13.4204 - val_loss: 245.2269 - val_mae: 11.3658\n",
      "Epoch 112/500\n",
      "7/7 [==============================] - 0s 8ms/step - loss: 260.7636 - mae: 7.7322 - val_loss: 338.0575 - val_mae: 13.4768\n",
      "Epoch 113/500\n",
      "7/7 [==============================] - 0s 8ms/step - loss: 307.6746 - mae: 10.7718 - val_loss: 140.8328 - val_mae: 6.0289\n",
      "Epoch 114/500\n",
      "7/7 [==============================] - 0s 8ms/step - loss: 365.5473 - mae: 11.7967 - val_loss: 209.6156 - val_mae: 11.2255\n",
      "Epoch 115/500\n",
      "7/7 [==============================] - 0s 7ms/step - loss: 230.9184 - mae: 7.7609 - val_loss: 175.5070 - val_mae: 6.9452\n",
      "Epoch 116/500\n",
      "7/7 [==============================] - 0s 8ms/step - loss: 548.3928 - mae: 16.1382 - val_loss: 236.0258 - val_mae: 9.3837\n",
      "Epoch 117/500\n",
      "7/7 [==============================] - 0s 8ms/step - loss: 297.7587 - mae: 9.4907 - val_loss: 148.6430 - val_mae: 7.5058\n",
      "Epoch 118/500\n",
      "7/7 [==============================] - 0s 8ms/step - loss: 287.0904 - mae: 9.5680 - val_loss: 216.3763 - val_mae: 11.7657\n",
      "Epoch 119/500\n",
      "7/7 [==============================] - 0s 8ms/step - loss: 523.9901 - mae: 14.3908 - val_loss: 153.8016 - val_mae: 7.3261\n",
      "Epoch 120/500\n",
      "7/7 [==============================] - 0s 7ms/step - loss: 335.9828 - mae: 10.1474 - val_loss: 103.9027 - val_mae: 4.6808\n",
      "Epoch 121/500\n",
      "7/7 [==============================] - 0s 8ms/step - loss: 279.4969 - mae: 8.7330 - val_loss: 140.4900 - val_mae: 7.7754\n",
      "Epoch 122/500\n",
      "7/7 [==============================] - 0s 9ms/step - loss: 385.0276 - mae: 12.6358 - val_loss: 275.8700 - val_mae: 13.0220\n",
      "Epoch 123/500\n",
      "7/7 [==============================] - 0s 8ms/step - loss: 410.1186 - mae: 13.1268 - val_loss: 120.3786 - val_mae: 5.3846\n",
      "Epoch 124/500\n",
      "7/7 [==============================] - 0s 8ms/step - loss: 235.5099 - mae: 6.9191 - val_loss: 501.8613 - val_mae: 16.1319\n",
      "Epoch 125/500\n",
      "7/7 [==============================] - 0s 11ms/step - loss: 395.9751 - mae: 12.1850 - val_loss: 102.6491 - val_mae: 4.5575\n",
      "Epoch 126/500\n",
      "7/7 [==============================] - 0s 8ms/step - loss: 439.5325 - mae: 12.8729 - val_loss: 1019.8256 - val_mae: 24.1982\n",
      "Epoch 127/500\n",
      "7/7 [==============================] - 0s 8ms/step - loss: 458.4809 - mae: 10.5981 - val_loss: 119.1713 - val_mae: 5.7282\n",
      "Epoch 128/500\n",
      "7/7 [==============================] - 0s 8ms/step - loss: 233.2439 - mae: 7.3692 - val_loss: 117.6690 - val_mae: 6.8140\n",
      "Epoch 129/500\n",
      "7/7 [==============================] - 0s 8ms/step - loss: 250.5486 - mae: 7.4753 - val_loss: 818.3033 - val_mae: 24.1548\n",
      "Epoch 130/500\n",
      "7/7 [==============================] - 0s 8ms/step - loss: 453.5306 - mae: 14.1230 - val_loss: 102.3168 - val_mae: 5.1474\n",
      "Epoch 131/500\n",
      "7/7 [==============================] - 0s 8ms/step - loss: 236.9963 - mae: 7.1698 - val_loss: 175.0055 - val_mae: 10.3723\n",
      "Epoch 132/500\n",
      "7/7 [==============================] - 0s 8ms/step - loss: 367.5569 - mae: 12.1692 - val_loss: 332.6305 - val_mae: 13.8650\n",
      "Epoch 133/500\n",
      "7/7 [==============================] - 0s 8ms/step - loss: 265.7464 - mae: 9.2872 - val_loss: 132.4720 - val_mae: 7.4062\n",
      "Epoch 134/500\n",
      "7/7 [==============================] - 0s 8ms/step - loss: 220.9200 - mae: 7.7893 - val_loss: 145.2326 - val_mae: 8.1994\n",
      "Epoch 135/500\n",
      "7/7 [==============================] - 0s 9ms/step - loss: 274.9837 - mae: 10.9664 - val_loss: 708.5101 - val_mae: 21.7017\n",
      "Epoch 136/500\n",
      "7/7 [==============================] - 0s 8ms/step - loss: 528.1143 - mae: 14.1298 - val_loss: 624.0125 - val_mae: 19.0729\n",
      "Epoch 137/500\n",
      "7/7 [==============================] - 0s 8ms/step - loss: 322.7741 - mae: 9.8158 - val_loss: 222.7616 - val_mae: 8.9750\n",
      "Epoch 138/500\n",
      "7/7 [==============================] - 0s 7ms/step - loss: 263.9008 - mae: 9.2872 - val_loss: 98.9322 - val_mae: 4.8937\n",
      "Epoch 139/500\n",
      "7/7 [==============================] - 0s 7ms/step - loss: 267.5337 - mae: 9.3272 - val_loss: 104.5463 - val_mae: 5.1975\n",
      "Epoch 140/500\n",
      "7/7 [==============================] - 0s 8ms/step - loss: 474.7455 - mae: 12.9954 - val_loss: 260.4195 - val_mae: 12.4857\n",
      "Epoch 141/500\n",
      "7/7 [==============================] - 0s 7ms/step - loss: 342.4753 - mae: 10.8073 - val_loss: 118.9415 - val_mae: 7.0019\n",
      "Epoch 142/500\n",
      "7/7 [==============================] - 0s 8ms/step - loss: 331.5337 - mae: 10.1704 - val_loss: 120.5209 - val_mae: 6.4382\n",
      "Epoch 143/500\n",
      "7/7 [==============================] - 0s 7ms/step - loss: 237.1386 - mae: 8.4145 - val_loss: 130.3054 - val_mae: 6.0605\n",
      "Epoch 144/500\n",
      "7/7 [==============================] - 0s 7ms/step - loss: 270.9529 - mae: 8.7496 - val_loss: 741.3409 - val_mae: 23.0361\n",
      "Epoch 145/500\n",
      "7/7 [==============================] - 0s 7ms/step - loss: 434.6201 - mae: 12.1701 - val_loss: 123.7614 - val_mae: 7.8043\n",
      "Epoch 146/500\n",
      "7/7 [==============================] - 0s 7ms/step - loss: 422.9400 - mae: 10.9253 - val_loss: 171.8691 - val_mae: 7.9539\n",
      "Epoch 147/500\n",
      "7/7 [==============================] - 0s 9ms/step - loss: 216.2120 - mae: 6.4235 - val_loss: 105.2393 - val_mae: 5.8827\n",
      "Epoch 148/500\n",
      "7/7 [==============================] - 0s 8ms/step - loss: 426.8321 - mae: 12.5571 - val_loss: 126.7821 - val_mae: 7.6826\n",
      "Epoch 149/500\n",
      "7/7 [==============================] - 0s 8ms/step - loss: 243.7028 - mae: 8.1063 - val_loss: 294.7155 - val_mae: 12.4622\n",
      "Epoch 150/500\n",
      "7/7 [==============================] - 0s 16ms/step - loss: 311.3781 - mae: 11.1294 - val_loss: 407.9225 - val_mae: 12.0124\n",
      "Epoch 151/500\n",
      "7/7 [==============================] - 0s 8ms/step - loss: 362.4865 - mae: 11.3085 - val_loss: 235.3765 - val_mae: 8.3723\n",
      "Epoch 152/500\n",
      "7/7 [==============================] - 0s 8ms/step - loss: 336.1187 - mae: 11.3012 - val_loss: 96.9124 - val_mae: 4.3698\n",
      "Epoch 153/500\n",
      "7/7 [==============================] - 0s 8ms/step - loss: 287.5865 - mae: 9.8573 - val_loss: 143.0229 - val_mae: 8.0273\n",
      "Epoch 154/500\n",
      "7/7 [==============================] - 0s 8ms/step - loss: 199.8324 - mae: 6.6010 - val_loss: 366.9452 - val_mae: 14.2872\n",
      "Epoch 155/500\n",
      "7/7 [==============================] - 0s 8ms/step - loss: 394.3310 - mae: 13.0281 - val_loss: 301.8431 - val_mae: 11.5293\n",
      "Epoch 156/500\n",
      "7/7 [==============================] - 0s 9ms/step - loss: 272.3396 - mae: 8.3473 - val_loss: 96.4664 - val_mae: 5.6873\n",
      "Epoch 157/500\n",
      "7/7 [==============================] - 0s 7ms/step - loss: 211.9914 - mae: 7.8926 - val_loss: 100.7190 - val_mae: 5.2950\n",
      "Epoch 158/500\n",
      "7/7 [==============================] - 0s 7ms/step - loss: 334.6842 - mae: 11.4204 - val_loss: 204.3558 - val_mae: 6.9836\n",
      "Epoch 159/500\n",
      "7/7 [==============================] - 0s 7ms/step - loss: 240.8493 - mae: 8.2975 - val_loss: 94.4881 - val_mae: 5.0225\n",
      "Epoch 160/500\n",
      "7/7 [==============================] - 0s 6ms/step - loss: 338.8391 - mae: 10.9748 - val_loss: 596.3224 - val_mae: 20.0792\n",
      "Epoch 161/500\n",
      "7/7 [==============================] - 0s 7ms/step - loss: 262.2209 - mae: 8.8171 - val_loss: 96.1774 - val_mae: 5.7142\n",
      "Epoch 162/500\n",
      "7/7 [==============================] - 0s 7ms/step - loss: 221.3981 - mae: 7.0759 - val_loss: 209.4796 - val_mae: 11.1489\n",
      "Epoch 163/500\n",
      "7/7 [==============================] - 0s 7ms/step - loss: 383.3868 - mae: 11.5163 - val_loss: 182.7253 - val_mae: 10.2725\n",
      "Epoch 164/500\n",
      "7/7 [==============================] - 0s 7ms/step - loss: 258.3357 - mae: 9.0179 - val_loss: 122.5591 - val_mae: 7.3914\n",
      "Epoch 165/500\n",
      "7/7 [==============================] - 0s 7ms/step - loss: 183.7653 - mae: 6.0449 - val_loss: 389.0208 - val_mae: 15.4380\n",
      "Epoch 166/500\n",
      "7/7 [==============================] - 0s 8ms/step - loss: 349.8481 - mae: 12.7299 - val_loss: 304.6715 - val_mae: 11.0341\n",
      "Epoch 167/500\n",
      "7/7 [==============================] - 0s 6ms/step - loss: 361.7783 - mae: 11.9712 - val_loss: 122.2868 - val_mae: 7.4353\n",
      "Epoch 168/500\n",
      "7/7 [==============================] - 0s 6ms/step - loss: 229.2877 - mae: 8.1539 - val_loss: 153.1009 - val_mae: 8.8555\n",
      "Epoch 169/500\n",
      "7/7 [==============================] - 0s 8ms/step - loss: 210.9607 - mae: 7.6282 - val_loss: 330.9901 - val_mae: 13.4388\n",
      "Epoch 170/500\n",
      "7/7 [==============================] - 0s 7ms/step - loss: 484.4290 - mae: 11.9156 - val_loss: 78.6904 - val_mae: 4.0721\n",
      "Epoch 171/500\n",
      "7/7 [==============================] - 0s 8ms/step - loss: 186.8147 - mae: 6.2616 - val_loss: 303.1591 - val_mae: 10.1717\n",
      "Epoch 172/500\n",
      "7/7 [==============================] - 0s 7ms/step - loss: 306.1062 - mae: 10.0237 - val_loss: 259.5720 - val_mae: 11.3249\n",
      "Epoch 173/500\n",
      "7/7 [==============================] - 0s 7ms/step - loss: 270.8676 - mae: 10.0896 - val_loss: 324.2436 - val_mae: 10.5003\n",
      "Epoch 174/500\n",
      "7/7 [==============================] - 0s 7ms/step - loss: 352.5256 - mae: 11.9358 - val_loss: 96.9406 - val_mae: 4.8671\n",
      "Epoch 175/500\n",
      "7/7 [==============================] - 0s 8ms/step - loss: 326.3664 - mae: 9.9059 - val_loss: 137.9593 - val_mae: 8.9673\n",
      "Epoch 176/500\n",
      "7/7 [==============================] - 0s 7ms/step - loss: 191.4411 - mae: 6.9235 - val_loss: 198.5276 - val_mae: 8.6028\n",
      "Epoch 177/500\n",
      "7/7 [==============================] - 0s 7ms/step - loss: 439.2711 - mae: 12.4138 - val_loss: 89.7096 - val_mae: 4.8633\n",
      "Epoch 178/500\n",
      "7/7 [==============================] - 0s 8ms/step - loss: 160.6534 - mae: 5.9982 - val_loss: 582.3712 - val_mae: 15.9223\n",
      "Epoch 179/500\n",
      "7/7 [==============================] - 0s 7ms/step - loss: 290.5676 - mae: 10.0825 - val_loss: 115.5287 - val_mae: 5.1483\n",
      "Epoch 180/500\n",
      "7/7 [==============================] - 0s 7ms/step - loss: 254.6090 - mae: 9.4344 - val_loss: 475.1172 - val_mae: 17.2274\n",
      "Epoch 181/500\n",
      "7/7 [==============================] - 0s 7ms/step - loss: 319.2904 - mae: 11.3875 - val_loss: 88.3282 - val_mae: 4.8500\n",
      "Epoch 182/500\n",
      "7/7 [==============================] - 0s 6ms/step - loss: 178.9680 - mae: 6.0156 - val_loss: 189.0693 - val_mae: 8.7955\n",
      "Epoch 183/500\n",
      "7/7 [==============================] - 0s 7ms/step - loss: 165.3577 - mae: 7.5003 - val_loss: 112.0493 - val_mae: 7.7535\n",
      "Epoch 184/500\n",
      "7/7 [==============================] - 0s 7ms/step - loss: 319.7345 - mae: 11.9173 - val_loss: 246.9270 - val_mae: 11.2870\n",
      "Epoch 185/500\n",
      "7/7 [==============================] - 0s 7ms/step - loss: 378.3806 - mae: 11.7003 - val_loss: 96.0205 - val_mae: 6.1647\n",
      "Epoch 186/500\n",
      "7/7 [==============================] - 0s 8ms/step - loss: 164.8368 - mae: 6.2741 - val_loss: 87.3823 - val_mae: 4.8413\n",
      "Epoch 187/500\n",
      "7/7 [==============================] - 0s 7ms/step - loss: 276.4098 - mae: 10.2488 - val_loss: 559.2561 - val_mae: 17.8808\n",
      "Epoch 188/500\n",
      "7/7 [==============================] - 0s 7ms/step - loss: 275.4706 - mae: 10.1069 - val_loss: 80.0948 - val_mae: 4.4728\n",
      "Epoch 189/500\n",
      "7/7 [==============================] - 0s 7ms/step - loss: 307.3362 - mae: 9.7240 - val_loss: 217.4715 - val_mae: 11.2448\n",
      "Epoch 190/500\n",
      "7/7 [==============================] - 0s 6ms/step - loss: 265.9110 - mae: 9.2246 - val_loss: 172.3321 - val_mae: 9.7226\n",
      "Epoch 191/500\n",
      "7/7 [==============================] - 0s 6ms/step - loss: 174.9964 - mae: 7.3835 - val_loss: 141.8085 - val_mae: 9.1916\n",
      "Epoch 192/500\n",
      "7/7 [==============================] - 0s 7ms/step - loss: 263.8206 - mae: 9.4837 - val_loss: 753.1373 - val_mae: 21.4835\n",
      "Epoch 193/500\n",
      "7/7 [==============================] - 0s 6ms/step - loss: 300.9628 - mae: 9.9963 - val_loss: 86.0676 - val_mae: 4.6778\n",
      "Epoch 194/500\n",
      "7/7 [==============================] - 0s 7ms/step - loss: 182.1868 - mae: 7.1243 - val_loss: 214.2602 - val_mae: 7.4077\n",
      "Epoch 195/500\n",
      "7/7 [==============================] - 0s 7ms/step - loss: 290.1078 - mae: 9.6099 - val_loss: 188.7831 - val_mae: 10.1229\n",
      "Epoch 196/500\n",
      "7/7 [==============================] - 0s 8ms/step - loss: 202.7695 - mae: 7.8529 - val_loss: 102.3802 - val_mae: 5.8837\n",
      "Epoch 197/500\n",
      "7/7 [==============================] - 0s 7ms/step - loss: 187.9652 - mae: 7.6109 - val_loss: 1059.1488 - val_mae: 23.7181\n",
      "Epoch 198/500\n",
      "7/7 [==============================] - 0s 6ms/step - loss: 482.7415 - mae: 11.7120 - val_loss: 83.4968 - val_mae: 4.1453\n",
      "Epoch 199/500\n",
      "7/7 [==============================] - 0s 6ms/step - loss: 145.2969 - mae: 5.5173 - val_loss: 82.0580 - val_mae: 5.0225\n",
      "Epoch 200/500\n",
      "7/7 [==============================] - 0s 7ms/step - loss: 150.0998 - mae: 6.4139 - val_loss: 126.5106 - val_mae: 8.7337\n",
      "Epoch 201/500\n",
      "7/7 [==============================] - 0s 7ms/step - loss: 296.5435 - mae: 11.4269 - val_loss: 91.1255 - val_mae: 4.6620\n",
      "Epoch 202/500\n",
      "7/7 [==============================] - 0s 7ms/step - loss: 189.4966 - mae: 7.7804 - val_loss: 92.0942 - val_mae: 6.3642\n",
      "Epoch 203/500\n",
      "7/7 [==============================] - 0s 7ms/step - loss: 259.6493 - mae: 10.3626 - val_loss: 325.8603 - val_mae: 10.2927\n",
      "Epoch 204/500\n",
      "7/7 [==============================] - 0s 14ms/step - loss: 213.3822 - mae: 8.6490 - val_loss: 131.5659 - val_mae: 8.7983\n",
      "Epoch 205/500\n",
      "7/7 [==============================] - 0s 7ms/step - loss: 175.2629 - mae: 8.3106 - val_loss: 94.4444 - val_mae: 5.8580\n",
      "Epoch 206/500\n",
      "7/7 [==============================] - 0s 8ms/step - loss: 142.8700 - mae: 6.0316 - val_loss: 272.3965 - val_mae: 14.0887\n",
      "Epoch 207/500\n",
      "7/7 [==============================] - 0s 7ms/step - loss: 315.5751 - mae: 12.8332 - val_loss: 86.1845 - val_mae: 4.9952\n",
      "Epoch 208/500\n",
      "7/7 [==============================] - 0s 7ms/step - loss: 197.2747 - mae: 6.7200 - val_loss: 105.3027 - val_mae: 6.4349\n",
      "Epoch 209/500\n",
      "7/7 [==============================] - 0s 7ms/step - loss: 163.5468 - mae: 7.0927 - val_loss: 73.7874 - val_mae: 4.1124\n",
      "Epoch 210/500\n",
      "7/7 [==============================] - 0s 9ms/step - loss: 248.4975 - mae: 9.2450 - val_loss: 211.3522 - val_mae: 8.7365\n",
      "Epoch 211/500\n",
      "7/7 [==============================] - 0s 6ms/step - loss: 281.0531 - mae: 10.3882 - val_loss: 154.0175 - val_mae: 9.4437\n",
      "Epoch 212/500\n",
      "7/7 [==============================] - 0s 8ms/step - loss: 131.4276 - mae: 6.0367 - val_loss: 71.4460 - val_mae: 4.8176\n",
      "Epoch 213/500\n",
      "7/7 [==============================] - 0s 6ms/step - loss: 357.4919 - mae: 12.3553 - val_loss: 77.9926 - val_mae: 4.3105\n",
      "Epoch 214/500\n",
      "7/7 [==============================] - 0s 7ms/step - loss: 179.3390 - mae: 7.1477 - val_loss: 105.2319 - val_mae: 6.9111\n",
      "Epoch 215/500\n",
      "7/7 [==============================] - 0s 6ms/step - loss: 180.8422 - mae: 8.3714 - val_loss: 397.1360 - val_mae: 13.7595\n",
      "Epoch 216/500\n",
      "7/7 [==============================] - 0s 10ms/step - loss: 310.9469 - mae: 10.5935 - val_loss: 123.3749 - val_mae: 5.5114\n",
      "Epoch 217/500\n",
      "7/7 [==============================] - 0s 6ms/step - loss: 114.5123 - mae: 4.7831 - val_loss: 481.3956 - val_mae: 14.0889\n",
      "Epoch 218/500\n",
      "7/7 [==============================] - 0s 6ms/step - loss: 267.3305 - mae: 11.0419 - val_loss: 170.8149 - val_mae: 6.1197\n",
      "Epoch 219/500\n",
      "7/7 [==============================] - 0s 8ms/step - loss: 262.4350 - mae: 9.3815 - val_loss: 118.6069 - val_mae: 7.8668\n",
      "Epoch 220/500\n",
      "7/7 [==============================] - 0s 6ms/step - loss: 141.3940 - mae: 6.6815 - val_loss: 104.2963 - val_mae: 6.6102\n",
      "Epoch 221/500\n",
      "7/7 [==============================] - 0s 7ms/step - loss: 154.9324 - mae: 7.3890 - val_loss: 63.1091 - val_mae: 4.1700\n",
      "Epoch 222/500\n",
      "7/7 [==============================] - 0s 6ms/step - loss: 230.0073 - mae: 9.3823 - val_loss: 487.3712 - val_mae: 15.5036\n",
      "Epoch 223/500\n",
      "7/7 [==============================] - 0s 7ms/step - loss: 228.6543 - mae: 8.8889 - val_loss: 80.5391 - val_mae: 4.4218\n",
      "Epoch 224/500\n",
      "7/7 [==============================] - 0s 7ms/step - loss: 105.6882 - mae: 4.7110 - val_loss: 408.2075 - val_mae: 13.0383\n",
      "Epoch 225/500\n",
      "7/7 [==============================] - 0s 7ms/step - loss: 197.5467 - mae: 9.4655 - val_loss: 187.0194 - val_mae: 11.2797\n",
      "Epoch 226/500\n",
      "7/7 [==============================] - 0s 6ms/step - loss: 274.0770 - mae: 9.7531 - val_loss: 62.8234 - val_mae: 3.8215\n",
      "Epoch 227/500\n",
      "7/7 [==============================] - 0s 7ms/step - loss: 135.4093 - mae: 5.9823 - val_loss: 367.1578 - val_mae: 14.7287\n",
      "Epoch 228/500\n",
      "7/7 [==============================] - 0s 6ms/step - loss: 180.2679 - mae: 8.5371 - val_loss: 168.3940 - val_mae: 10.3361\n",
      "Epoch 229/500\n",
      "7/7 [==============================] - 0s 7ms/step - loss: 283.8988 - mae: 11.6402 - val_loss: 132.0039 - val_mae: 7.8497\n",
      "Epoch 230/500\n",
      "7/7 [==============================] - 0s 6ms/step - loss: 174.6368 - mae: 7.8956 - val_loss: 491.0198 - val_mae: 12.6640\n",
      "Epoch 231/500\n",
      "7/7 [==============================] - 0s 6ms/step - loss: 331.2964 - mae: 10.8906 - val_loss: 63.8852 - val_mae: 4.1328\n",
      "Epoch 232/500\n",
      "7/7 [==============================] - 0s 7ms/step - loss: 109.4307 - mae: 4.7641 - val_loss: 943.8151 - val_mae: 21.9668\n",
      "Epoch 233/500\n",
      "7/7 [==============================] - 0s 6ms/step - loss: 304.4763 - mae: 9.3212 - val_loss: 78.4315 - val_mae: 4.5887\n",
      "Epoch 234/500\n",
      "7/7 [==============================] - 0s 7ms/step - loss: 110.5203 - mae: 5.4376 - val_loss: 120.5907 - val_mae: 8.6582\n",
      "Epoch 235/500\n",
      "7/7 [==============================] - 0s 7ms/step - loss: 239.3321 - mae: 10.5348 - val_loss: 658.1268 - val_mae: 17.2185\n",
      "Epoch 236/500\n",
      "7/7 [==============================] - 0s 6ms/step - loss: 241.4769 - mae: 8.7580 - val_loss: 93.8344 - val_mae: 6.6916\n",
      "Epoch 237/500\n",
      "7/7 [==============================] - 0s 7ms/step - loss: 181.2659 - mae: 8.3843 - val_loss: 470.7532 - val_mae: 13.7862\n",
      "Epoch 238/500\n",
      "7/7 [==============================] - 0s 7ms/step - loss: 259.3977 - mae: 8.4037 - val_loss: 360.4788 - val_mae: 12.9566\n",
      "Epoch 239/500\n",
      "7/7 [==============================] - 0s 7ms/step - loss: 178.8935 - mae: 7.9163 - val_loss: 70.2467 - val_mae: 5.1915\n",
      "Epoch 240/500\n",
      "7/7 [==============================] - 0s 7ms/step - loss: 90.2014 - mae: 4.5602 - val_loss: 198.2457 - val_mae: 9.9576\n",
      "Epoch 241/500\n",
      "7/7 [==============================] - 0s 6ms/step - loss: 270.2113 - mae: 11.8418 - val_loss: 70.0182 - val_mae: 4.4380\n",
      "Epoch 242/500\n",
      "7/7 [==============================] - 0s 13ms/step - loss: 150.8497 - mae: 6.6213 - val_loss: 151.1811 - val_mae: 9.0553\n",
      "Epoch 243/500\n",
      "7/7 [==============================] - 0s 6ms/step - loss: 312.3286 - mae: 11.1580 - val_loss: 73.8248 - val_mae: 5.7252\n",
      "Epoch 244/500\n",
      "7/7 [==============================] - 0s 8ms/step - loss: 115.0724 - mae: 5.7273 - val_loss: 68.8187 - val_mae: 5.5940\n",
      "Epoch 245/500\n",
      "7/7 [==============================] - 0s 6ms/step - loss: 168.3216 - mae: 8.6568 - val_loss: 394.3191 - val_mae: 14.7465\n",
      "Epoch 246/500\n",
      "7/7 [==============================] - 0s 6ms/step - loss: 159.2948 - mae: 7.6486 - val_loss: 139.4204 - val_mae: 6.1177\n",
      "Epoch 247/500\n",
      "7/7 [==============================] - 0s 8ms/step - loss: 125.1259 - mae: 6.7041 - val_loss: 375.2385 - val_mae: 15.6844\n",
      "Epoch 248/500\n",
      "7/7 [==============================] - 0s 8ms/step - loss: 173.1552 - mae: 8.1951 - val_loss: 212.5719 - val_mae: 11.4477\n",
      "Epoch 249/500\n",
      "7/7 [==============================] - 0s 6ms/step - loss: 268.3203 - mae: 11.1639 - val_loss: 195.5508 - val_mae: 10.3497\n",
      "Epoch 250/500\n",
      "7/7 [==============================] - 0s 7ms/step - loss: 103.0843 - mae: 5.8495 - val_loss: 62.2862 - val_mae: 4.0906\n",
      "Epoch 251/500\n",
      "7/7 [==============================] - 0s 7ms/step - loss: 138.0655 - mae: 6.8481 - val_loss: 83.1838 - val_mae: 6.8711\n",
      "Epoch 252/500\n",
      "7/7 [==============================] - 0s 6ms/step - loss: 176.9730 - mae: 8.0262 - val_loss: 112.3374 - val_mae: 8.2492\n",
      "Epoch 253/500\n",
      "7/7 [==============================] - 0s 7ms/step - loss: 122.4760 - mae: 6.9507 - val_loss: 51.1693 - val_mae: 3.5636\n",
      "Epoch 254/500\n",
      "7/7 [==============================] - 0s 6ms/step - loss: 195.4445 - mae: 9.2747 - val_loss: 105.2182 - val_mae: 6.1447\n",
      "Epoch 255/500\n",
      "7/7 [==============================] - 0s 6ms/step - loss: 75.0901 - mae: 4.3609 - val_loss: 96.3647 - val_mae: 4.5085\n",
      "Epoch 256/500\n",
      "7/7 [==============================] - 0s 7ms/step - loss: 307.6220 - mae: 11.1563 - val_loss: 65.7219 - val_mae: 4.1461\n",
      "Epoch 257/500\n",
      "7/7 [==============================] - 0s 7ms/step - loss: 104.4027 - mae: 5.4033 - val_loss: 82.3968 - val_mae: 6.2044\n",
      "Epoch 258/500\n",
      "7/7 [==============================] - 0s 6ms/step - loss: 210.0700 - mae: 9.1922 - val_loss: 58.5738 - val_mae: 3.8012\n",
      "Epoch 259/500\n",
      "7/7 [==============================] - 0s 6ms/step - loss: 131.3193 - mae: 6.0936 - val_loss: 89.2880 - val_mae: 5.5514\n",
      "Epoch 260/500\n",
      "7/7 [==============================] - 0s 6ms/step - loss: 104.1538 - mae: 6.5333 - val_loss: 234.3040 - val_mae: 10.8179\n",
      "Epoch 261/500\n",
      "7/7 [==============================] - 0s 7ms/step - loss: 317.4659 - mae: 10.8462 - val_loss: 52.8066 - val_mae: 3.4775\n",
      "Epoch 262/500\n",
      "7/7 [==============================] - 0s 8ms/step - loss: 74.7172 - mae: 4.0386 - val_loss: 153.5232 - val_mae: 8.4362\n",
      "Epoch 263/500\n",
      "7/7 [==============================] - 0s 6ms/step - loss: 116.7159 - mae: 7.3343 - val_loss: 43.8853 - val_mae: 3.2599\n",
      "Epoch 264/500\n",
      "7/7 [==============================] - 0s 7ms/step - loss: 82.4466 - mae: 4.0516 - val_loss: 916.6791 - val_mae: 23.1694\n",
      "Epoch 265/500\n",
      "7/7 [==============================] - 0s 6ms/step - loss: 443.9914 - mae: 11.3362 - val_loss: 74.8610 - val_mae: 6.4914\n",
      "Epoch 266/500\n",
      "7/7 [==============================] - 0s 6ms/step - loss: 76.7910 - mae: 4.5946 - val_loss: 76.1502 - val_mae: 5.9309\n",
      "Epoch 267/500\n",
      "7/7 [==============================] - 0s 6ms/step - loss: 87.5225 - mae: 4.5541 - val_loss: 418.7549 - val_mae: 17.2594\n",
      "Epoch 268/500\n",
      "7/7 [==============================] - 0s 6ms/step - loss: 141.8597 - mae: 7.4110 - val_loss: 51.6394 - val_mae: 3.5037\n",
      "Epoch 269/500\n",
      "7/7 [==============================] - 0s 7ms/step - loss: 243.3581 - mae: 10.1934 - val_loss: 54.0623 - val_mae: 4.7628\n",
      "Epoch 270/500\n",
      "7/7 [==============================] - 0s 7ms/step - loss: 65.8273 - mae: 3.9758 - val_loss: 46.7538 - val_mae: 3.5836\n",
      "Epoch 271/500\n",
      "7/7 [==============================] - 0s 8ms/step - loss: 97.9679 - mae: 6.3202 - val_loss: 251.6628 - val_mae: 12.8706\n",
      "Epoch 272/500\n",
      "7/7 [==============================] - 0s 6ms/step - loss: 245.8772 - mae: 10.1778 - val_loss: 59.3134 - val_mae: 4.2064\n",
      "Epoch 273/500\n",
      "7/7 [==============================] - 0s 7ms/step - loss: 131.3250 - mae: 6.9656 - val_loss: 40.8174 - val_mae: 3.4950\n",
      "Epoch 274/500\n",
      "7/7 [==============================] - 0s 6ms/step - loss: 71.3734 - mae: 4.2661 - val_loss: 130.6671 - val_mae: 8.5082\n",
      "Epoch 275/500\n",
      "7/7 [==============================] - 0s 11ms/step - loss: 161.8345 - mae: 9.5109 - val_loss: 608.0605 - val_mae: 18.3615\n",
      "Epoch 276/500\n",
      "7/7 [==============================] - 0s 7ms/step - loss: 178.7729 - mae: 7.7687 - val_loss: 42.1455 - val_mae: 3.5057\n",
      "Epoch 277/500\n",
      "7/7 [==============================] - 0s 6ms/step - loss: 106.4600 - mae: 5.8395 - val_loss: 752.1733 - val_mae: 20.7041\n",
      "Epoch 278/500\n",
      "7/7 [==============================] - 0s 6ms/step - loss: 219.1652 - mae: 8.3320 - val_loss: 75.0322 - val_mae: 4.8771\n",
      "Epoch 279/500\n",
      "7/7 [==============================] - 0s 8ms/step - loss: 75.2150 - mae: 4.4640 - val_loss: 41.1848 - val_mae: 3.4758\n",
      "Epoch 280/500\n",
      "7/7 [==============================] - 0s 8ms/step - loss: 109.8198 - mae: 6.4111 - val_loss: 109.0822 - val_mae: 8.1529\n",
      "Epoch 281/500\n",
      "7/7 [==============================] - 0s 7ms/step - loss: 87.9190 - mae: 5.8936 - val_loss: 77.1930 - val_mae: 5.9685\n",
      "Epoch 282/500\n",
      "7/7 [==============================] - 0s 6ms/step - loss: 323.4814 - mae: 12.2412 - val_loss: 56.6390 - val_mae: 4.4620\n",
      "Epoch 283/500\n",
      "7/7 [==============================] - 0s 6ms/step - loss: 72.4919 - mae: 3.8304 - val_loss: 258.1073 - val_mae: 8.8108\n",
      "Epoch 284/500\n",
      "7/7 [==============================] - 0s 6ms/step - loss: 100.4698 - mae: 5.7597 - val_loss: 54.0287 - val_mae: 4.0854\n",
      "Epoch 285/500\n",
      "7/7 [==============================] - 0s 6ms/step - loss: 146.8519 - mae: 8.7737 - val_loss: 389.5045 - val_mae: 11.6204\n",
      "Epoch 286/500\n",
      "7/7 [==============================] - 0s 6ms/step - loss: 102.4909 - mae: 5.8690 - val_loss: 104.1519 - val_mae: 4.7642\n",
      "Epoch 287/500\n",
      "7/7 [==============================] - 0s 7ms/step - loss: 221.2468 - mae: 9.0850 - val_loss: 53.9462 - val_mae: 4.0149\n",
      "Epoch 288/500\n",
      "7/7 [==============================] - 0s 7ms/step - loss: 69.3978 - mae: 4.7091 - val_loss: 95.7550 - val_mae: 7.7916\n",
      "Epoch 289/500\n",
      "7/7 [==============================] - 0s 7ms/step - loss: 207.6406 - mae: 10.6714 - val_loss: 162.1555 - val_mae: 8.1857\n",
      "Epoch 290/500\n",
      "7/7 [==============================] - 0s 7ms/step - loss: 140.7163 - mae: 7.7273 - val_loss: 107.1062 - val_mae: 8.6456\n",
      "Epoch 291/500\n",
      "7/7 [==============================] - 0s 6ms/step - loss: 92.8016 - mae: 6.2223 - val_loss: 219.8795 - val_mae: 9.7362\n",
      "Epoch 292/500\n",
      "7/7 [==============================] - 0s 6ms/step - loss: 179.6658 - mae: 7.8414 - val_loss: 110.0121 - val_mae: 8.5747\n",
      "Epoch 293/500\n",
      "7/7 [==============================] - 0s 6ms/step - loss: 128.8449 - mae: 7.7235 - val_loss: 149.7860 - val_mae: 8.5492\n",
      "Epoch 294/500\n",
      "7/7 [==============================] - 0s 6ms/step - loss: 131.0618 - mae: 7.6289 - val_loss: 253.8612 - val_mae: 12.2461\n",
      "Epoch 295/500\n",
      "7/7 [==============================] - 0s 6ms/step - loss: 208.9458 - mae: 8.7360 - val_loss: 157.5000 - val_mae: 10.1950\n",
      "Epoch 296/500\n",
      "7/7 [==============================] - 0s 7ms/step - loss: 117.6656 - mae: 7.1133 - val_loss: 87.8469 - val_mae: 6.7200\n",
      "Epoch 297/500\n",
      "7/7 [==============================] - 0s 6ms/step - loss: 119.9698 - mae: 7.7003 - val_loss: 90.4925 - val_mae: 7.7373\n",
      "Epoch 298/500\n",
      "7/7 [==============================] - 0s 6ms/step - loss: 80.9988 - mae: 5.8809 - val_loss: 70.5850 - val_mae: 5.7342\n",
      "Epoch 299/500\n",
      "7/7 [==============================] - 0s 6ms/step - loss: 201.5925 - mae: 9.6098 - val_loss: 207.8637 - val_mae: 8.1329\n",
      "Epoch 300/500\n",
      "7/7 [==============================] - 0s 6ms/step - loss: 147.6369 - mae: 8.2928 - val_loss: 50.2910 - val_mae: 4.3709\n",
      "Epoch 301/500\n",
      "7/7 [==============================] - 0s 6ms/step - loss: 126.0487 - mae: 7.5581 - val_loss: 187.8498 - val_mae: 8.7115\n",
      "Epoch 302/500\n",
      "7/7 [==============================] - 0s 11ms/step - loss: 125.3999 - mae: 7.6334 - val_loss: 415.7706 - val_mae: 15.6802\n",
      "Epoch 303/500\n",
      "7/7 [==============================] - 0s 7ms/step - loss: 122.7775 - mae: 6.3037 - val_loss: 48.2564 - val_mae: 4.0467\n",
      "Epoch 304/500\n",
      "7/7 [==============================] - 0s 6ms/step - loss: 63.2785 - mae: 3.9212 - val_loss: 361.9713 - val_mae: 14.7319\n",
      "Epoch 305/500\n",
      "7/7 [==============================] - 0s 6ms/step - loss: 240.0262 - mae: 9.7979 - val_loss: 43.6233 - val_mae: 3.2228\n",
      "Epoch 306/500\n",
      "7/7 [==============================] - 0s 7ms/step - loss: 54.9686 - mae: 3.9674 - val_loss: 37.5084 - val_mae: 3.3746\n",
      "Epoch 307/500\n",
      "7/7 [==============================] - 0s 8ms/step - loss: 172.2191 - mae: 8.2563 - val_loss: 37.1860 - val_mae: 3.3917\n",
      "Epoch 308/500\n",
      "7/7 [==============================] - 0s 6ms/step - loss: 118.7599 - mae: 5.4768 - val_loss: 138.4863 - val_mae: 8.5367\n",
      "Epoch 309/500\n",
      "7/7 [==============================] - 0s 7ms/step - loss: 103.1083 - mae: 7.0701 - val_loss: 74.0575 - val_mae: 7.0223\n",
      "Epoch 310/500\n",
      "7/7 [==============================] - 0s 7ms/step - loss: 80.3157 - mae: 6.0649 - val_loss: 32.0530 - val_mae: 3.2161\n",
      "Epoch 311/500\n",
      "7/7 [==============================] - 0s 7ms/step - loss: 206.5802 - mae: 8.8398 - val_loss: 53.9321 - val_mae: 5.1622\n",
      "Epoch 312/500\n",
      "7/7 [==============================] - 0s 6ms/step - loss: 95.9810 - mae: 6.0985 - val_loss: 497.7791 - val_mae: 16.5023\n",
      "Epoch 313/500\n",
      "7/7 [==============================] - 0s 6ms/step - loss: 132.2079 - mae: 6.6852 - val_loss: 97.2017 - val_mae: 6.0315\n",
      "Epoch 314/500\n",
      "7/7 [==============================] - 0s 7ms/step - loss: 166.6702 - mae: 8.7659 - val_loss: 33.9734 - val_mae: 3.3537\n",
      "Epoch 315/500\n",
      "7/7 [==============================] - 0s 6ms/step - loss: 90.0574 - mae: 5.7969 - val_loss: 117.9719 - val_mae: 8.6738\n",
      "Epoch 316/500\n",
      "7/7 [==============================] - 0s 6ms/step - loss: 107.9849 - mae: 6.4218 - val_loss: 36.0395 - val_mae: 3.2536\n",
      "Epoch 317/500\n",
      "7/7 [==============================] - 0s 7ms/step - loss: 124.0061 - mae: 7.3706 - val_loss: 150.9513 - val_mae: 9.3755\n",
      "Epoch 318/500\n",
      "7/7 [==============================] - 0s 6ms/step - loss: 187.9444 - mae: 8.9539 - val_loss: 33.7333 - val_mae: 3.6937\n",
      "Epoch 319/500\n",
      "7/7 [==============================] - 0s 7ms/step - loss: 65.0069 - mae: 4.5122 - val_loss: 247.2760 - val_mae: 12.6187\n",
      "Epoch 320/500\n",
      "7/7 [==============================] - 0s 6ms/step - loss: 191.0780 - mae: 9.4103 - val_loss: 111.5996 - val_mae: 8.5670\n",
      "Epoch 321/500\n",
      "7/7 [==============================] - 0s 7ms/step - loss: 82.8326 - mae: 5.1052 - val_loss: 45.9076 - val_mae: 4.3301\n",
      "Epoch 322/500\n",
      "7/7 [==============================] - 0s 6ms/step - loss: 151.7350 - mae: 7.8888 - val_loss: 87.7406 - val_mae: 5.7450\n",
      "Epoch 323/500\n",
      "7/7 [==============================] - 0s 7ms/step - loss: 104.5291 - mae: 6.3123 - val_loss: 45.7624 - val_mae: 3.4568\n",
      "Epoch 324/500\n",
      "7/7 [==============================] - 0s 7ms/step - loss: 142.9190 - mae: 7.9938 - val_loss: 79.5997 - val_mae: 6.0736\n",
      "Epoch 325/500\n",
      "7/7 [==============================] - 0s 6ms/step - loss: 70.4061 - mae: 4.9048 - val_loss: 62.3768 - val_mae: 6.1761\n",
      "Epoch 326/500\n",
      "7/7 [==============================] - 0s 7ms/step - loss: 263.2501 - mae: 10.0101 - val_loss: 35.4328 - val_mae: 3.4469\n",
      "Epoch 327/500\n",
      "7/7 [==============================] - 0s 6ms/step - loss: 49.3368 - mae: 3.7030 - val_loss: 26.5573 - val_mae: 2.6194\n",
      "Epoch 328/500\n",
      "7/7 [==============================] - 0s 6ms/step - loss: 40.3621 - mae: 2.7860 - val_loss: 150.2990 - val_mae: 9.8846\n",
      "Epoch 329/500\n",
      "7/7 [==============================] - 0s 11ms/step - loss: 224.7189 - mae: 11.2221 - val_loss: 53.6275 - val_mae: 4.0737\n",
      "Epoch 330/500\n",
      "7/7 [==============================] - 0s 7ms/step - loss: 54.4542 - mae: 4.1418 - val_loss: 53.2865 - val_mae: 5.5909\n",
      "Epoch 331/500\n",
      "7/7 [==============================] - 0s 6ms/step - loss: 167.9772 - mae: 9.0561 - val_loss: 142.0744 - val_mae: 9.3346\n",
      "Epoch 332/500\n",
      "7/7 [==============================] - 0s 7ms/step - loss: 124.5703 - mae: 7.3376 - val_loss: 27.5666 - val_mae: 2.9453\n",
      "Epoch 333/500\n",
      "7/7 [==============================] - 0s 8ms/step - loss: 121.1004 - mae: 7.2513 - val_loss: 38.3314 - val_mae: 3.4462\n",
      "Epoch 334/500\n",
      "7/7 [==============================] - 0s 9ms/step - loss: 52.1692 - mae: 4.0644 - val_loss: 83.6405 - val_mae: 7.3878\n",
      "Epoch 335/500\n",
      "7/7 [==============================] - 0s 7ms/step - loss: 137.4233 - mae: 9.0502 - val_loss: 29.6974 - val_mae: 2.9634\n",
      "Epoch 336/500\n",
      "7/7 [==============================] - 0s 7ms/step - loss: 42.0586 - mae: 3.5096 - val_loss: 53.7503 - val_mae: 4.8572\n",
      "Epoch 337/500\n",
      "7/7 [==============================] - 0s 6ms/step - loss: 196.1340 - mae: 9.9000 - val_loss: 31.8851 - val_mae: 3.2361\n",
      "Epoch 338/500\n",
      "7/7 [==============================] - 0s 7ms/step - loss: 93.2947 - mae: 6.0732 - val_loss: 300.4902 - val_mae: 12.8716\n",
      "Epoch 339/500\n",
      "7/7 [==============================] - 0s 6ms/step - loss: 178.6177 - mae: 9.2039 - val_loss: 31.6466 - val_mae: 3.3440\n",
      "Epoch 340/500\n",
      "7/7 [==============================] - 0s 7ms/step - loss: 96.4987 - mae: 4.7625 - val_loss: 525.9535 - val_mae: 18.6310\n",
      "Epoch 341/500\n",
      "7/7 [==============================] - 0s 6ms/step - loss: 118.2394 - mae: 6.2796 - val_loss: 34.2572 - val_mae: 3.1380\n",
      "Epoch 342/500\n",
      "7/7 [==============================] - 0s 7ms/step - loss: 50.7989 - mae: 3.8965 - val_loss: 89.0900 - val_mae: 5.2771\n",
      "Epoch 343/500\n",
      "7/7 [==============================] - 0s 7ms/step - loss: 172.2883 - mae: 9.7198 - val_loss: 200.4320 - val_mae: 11.1856\n",
      "Epoch 344/500\n",
      "7/7 [==============================] - 0s 7ms/step - loss: 111.8038 - mae: 6.8113 - val_loss: 37.6136 - val_mae: 3.6549\n",
      "Epoch 345/500\n",
      "7/7 [==============================] - 0s 8ms/step - loss: 93.8778 - mae: 5.5178 - val_loss: 48.4271 - val_mae: 4.6987\n",
      "Epoch 346/500\n",
      "7/7 [==============================] - 0s 6ms/step - loss: 52.3205 - mae: 3.7959 - val_loss: 274.8860 - val_mae: 14.4321\n",
      "Epoch 347/500\n",
      "7/7 [==============================] - 0s 7ms/step - loss: 222.5772 - mae: 9.5388 - val_loss: 40.7099 - val_mae: 4.0368\n",
      "Epoch 348/500\n",
      "7/7 [==============================] - 0s 7ms/step - loss: 55.5589 - mae: 4.2213 - val_loss: 159.7863 - val_mae: 10.2798\n",
      "Epoch 349/500\n",
      "7/7 [==============================] - 0s 6ms/step - loss: 163.4063 - mae: 8.9363 - val_loss: 31.6420 - val_mae: 3.1128\n",
      "Epoch 350/500\n",
      "7/7 [==============================] - 0s 7ms/step - loss: 41.7009 - mae: 3.2109 - val_loss: 32.7118 - val_mae: 3.6679\n",
      "Epoch 351/500\n",
      "7/7 [==============================] - 0s 6ms/step - loss: 232.2871 - mae: 10.8733 - val_loss: 76.6448 - val_mae: 7.0024\n",
      "Epoch 352/500\n",
      "7/7 [==============================] - 0s 6ms/step - loss: 48.9472 - mae: 3.7873 - val_loss: 47.6991 - val_mae: 3.9533\n",
      "Epoch 353/500\n",
      "7/7 [==============================] - 0s 7ms/step - loss: 63.1829 - mae: 4.7913 - val_loss: 307.8116 - val_mae: 13.7086\n",
      "Epoch 354/500\n",
      "7/7 [==============================] - 0s 7ms/step - loss: 179.6750 - mae: 9.5400 - val_loss: 31.8484 - val_mae: 3.4270\n",
      "Epoch 355/500\n",
      "7/7 [==============================] - 0s 6ms/step - loss: 43.9791 - mae: 3.3371 - val_loss: 99.7046 - val_mae: 7.8274\n",
      "Epoch 356/500\n",
      "7/7 [==============================] - 0s 6ms/step - loss: 161.5851 - mae: 9.3993 - val_loss: 52.5305 - val_mae: 5.8934\n",
      "Epoch 357/500\n",
      "7/7 [==============================] - 0s 8ms/step - loss: 84.6883 - mae: 6.0097 - val_loss: 165.8090 - val_mae: 9.4604\n",
      "Epoch 358/500\n",
      "7/7 [==============================] - 0s 6ms/step - loss: 169.5432 - mae: 9.4958 - val_loss: 47.7580 - val_mae: 4.3046\n",
      "Epoch 359/500\n",
      "7/7 [==============================] - 0s 12ms/step - loss: 85.4959 - mae: 5.9067 - val_loss: 52.5660 - val_mae: 4.5643\n",
      "Epoch 360/500\n",
      "7/7 [==============================] - 0s 7ms/step - loss: 121.3044 - mae: 7.5338 - val_loss: 29.4296 - val_mae: 3.0221\n",
      "Epoch 361/500\n",
      "7/7 [==============================] - 0s 6ms/step - loss: 100.1426 - mae: 6.2883 - val_loss: 154.1155 - val_mae: 10.0693\n",
      "Epoch 362/500\n",
      "7/7 [==============================] - 0s 7ms/step - loss: 133.2855 - mae: 7.2949 - val_loss: 24.2851 - val_mae: 2.5911\n",
      "Epoch 363/500\n",
      "7/7 [==============================] - 0s 8ms/step - loss: 48.7832 - mae: 3.8571 - val_loss: 117.4776 - val_mae: 8.6431\n",
      "Epoch 364/500\n",
      "7/7 [==============================] - 0s 7ms/step - loss: 200.7549 - mae: 8.9659 - val_loss: 26.0113 - val_mae: 3.0439\n",
      "Epoch 365/500\n",
      "7/7 [==============================] - 0s 7ms/step - loss: 59.6723 - mae: 4.6192 - val_loss: 83.1802 - val_mae: 7.2225\n",
      "Epoch 366/500\n",
      "7/7 [==============================] - 0s 7ms/step - loss: 196.6794 - mae: 9.7055 - val_loss: 167.2697 - val_mae: 8.1305\n",
      "Epoch 367/500\n",
      "7/7 [==============================] - 0s 6ms/step - loss: 60.1863 - mae: 4.1577 - val_loss: 45.6540 - val_mae: 4.0834\n",
      "Epoch 368/500\n",
      "7/7 [==============================] - 0s 6ms/step - loss: 74.9811 - mae: 5.5438 - val_loss: 35.7726 - val_mae: 3.8784\n",
      "Epoch 369/500\n",
      "7/7 [==============================] - 0s 6ms/step - loss: 41.2486 - mae: 3.3038 - val_loss: 69.7765 - val_mae: 6.9955\n",
      "Epoch 370/500\n",
      "7/7 [==============================] - 0s 7ms/step - loss: 322.1999 - mae: 12.3602 - val_loss: 71.2368 - val_mae: 5.5145\n",
      "Epoch 371/500\n",
      "7/7 [==============================] - 0s 6ms/step - loss: 44.3631 - mae: 3.2855 - val_loss: 28.1567 - val_mae: 3.2084\n",
      "Epoch 372/500\n",
      "7/7 [==============================] - 0s 6ms/step - loss: 46.5617 - mae: 3.7624 - val_loss: 25.2847 - val_mae: 2.8141\n",
      "Epoch 373/500\n",
      "7/7 [==============================] - 0s 7ms/step - loss: 93.1251 - mae: 6.1576 - val_loss: 451.9639 - val_mae: 16.4699\n",
      "Epoch 374/500\n",
      "7/7 [==============================] - 0s 7ms/step - loss: 167.6786 - mae: 7.5048 - val_loss: 49.5294 - val_mae: 4.5507\n",
      "Epoch 375/500\n",
      "7/7 [==============================] - 0s 7ms/step - loss: 44.1644 - mae: 3.5514 - val_loss: 37.8457 - val_mae: 4.1427\n",
      "Epoch 376/500\n",
      "7/7 [==============================] - 0s 6ms/step - loss: 125.4015 - mae: 8.1294 - val_loss: 91.3980 - val_mae: 7.2551\n",
      "Epoch 377/500\n",
      "7/7 [==============================] - 0s 6ms/step - loss: 73.4268 - mae: 5.9701 - val_loss: 42.9553 - val_mae: 4.6580\n",
      "Epoch 378/500\n",
      "7/7 [==============================] - 0s 7ms/step - loss: 162.8195 - mae: 8.1430 - val_loss: 55.8891 - val_mae: 4.9881\n",
      "Epoch 379/500\n",
      "7/7 [==============================] - 0s 7ms/step - loss: 113.3002 - mae: 7.4570 - val_loss: 142.9039 - val_mae: 9.1508\n",
      "Epoch 380/500\n",
      "7/7 [==============================] - 0s 6ms/step - loss: 161.3871 - mae: 7.9929 - val_loss: 27.0476 - val_mae: 3.1158\n",
      "Epoch 381/500\n",
      "7/7 [==============================] - 0s 7ms/step - loss: 38.9380 - mae: 3.0612 - val_loss: 19.9801 - val_mae: 2.3524\n",
      "Epoch 382/500\n",
      "7/7 [==============================] - 0s 6ms/step - loss: 116.4821 - mae: 6.5345 - val_loss: 239.7703 - val_mae: 11.4058\n",
      "Epoch 383/500\n",
      "7/7 [==============================] - 0s 6ms/step - loss: 100.6780 - mae: 6.3442 - val_loss: 107.9818 - val_mae: 6.7861\n",
      "Epoch 384/500\n",
      "7/7 [==============================] - 0s 6ms/step - loss: 108.8697 - mae: 6.9190 - val_loss: 25.3826 - val_mae: 2.9101\n",
      "Epoch 385/500\n",
      "7/7 [==============================] - 0s 6ms/step - loss: 67.8891 - mae: 5.1952 - val_loss: 379.3499 - val_mae: 15.5804\n",
      "Epoch 386/500\n",
      "7/7 [==============================] - 0s 6ms/step - loss: 186.6373 - mae: 8.5276 - val_loss: 23.7533 - val_mae: 2.6811\n",
      "Epoch 387/500\n",
      "7/7 [==============================] - 0s 6ms/step - loss: 36.9340 - mae: 2.6563 - val_loss: 252.4435 - val_mae: 12.9986\n",
      "Epoch 388/500\n",
      "7/7 [==============================] - 0s 7ms/step - loss: 188.2553 - mae: 9.5582 - val_loss: 29.4263 - val_mae: 3.1530\n",
      "Epoch 389/500\n",
      "7/7 [==============================] - 0s 6ms/step - loss: 44.6413 - mae: 3.7622 - val_loss: 68.7540 - val_mae: 6.0590\n",
      "Epoch 390/500\n",
      "7/7 [==============================] - 0s 9ms/step - loss: 174.7115 - mae: 9.9204 - val_loss: 224.3071 - val_mae: 11.0319\n",
      "Epoch 391/500\n",
      "7/7 [==============================] - 0s 7ms/step - loss: 103.3611 - mae: 5.9842 - val_loss: 41.6364 - val_mae: 4.6409\n",
      "Epoch 392/500\n",
      "7/7 [==============================] - 0s 7ms/step - loss: 41.5389 - mae: 3.4579 - val_loss: 61.5585 - val_mae: 5.0263\n",
      "Epoch 393/500\n",
      "7/7 [==============================] - 0s 7ms/step - loss: 211.3557 - mae: 10.5736 - val_loss: 31.7569 - val_mae: 3.1345\n",
      "Epoch 394/500\n",
      "7/7 [==============================] - 0s 7ms/step - loss: 34.6812 - mae: 2.6454 - val_loss: 21.7805 - val_mae: 2.4003\n",
      "Epoch 395/500\n",
      "7/7 [==============================] - 0s 8ms/step - loss: 214.4432 - mae: 9.5629 - val_loss: 27.1404 - val_mae: 3.0622\n",
      "Epoch 396/500\n",
      "7/7 [==============================] - 0s 6ms/step - loss: 47.7056 - mae: 3.4429 - val_loss: 35.5029 - val_mae: 4.3471\n",
      "Epoch 397/500\n",
      "7/7 [==============================] - 0s 7ms/step - loss: 45.9294 - mae: 3.6172 - val_loss: 154.3982 - val_mae: 9.6527\n",
      "Epoch 398/500\n",
      "7/7 [==============================] - 0s 6ms/step - loss: 202.5995 - mae: 9.5759 - val_loss: 40.7277 - val_mae: 4.7356\n",
      "Epoch 399/500\n",
      "7/7 [==============================] - 0s 6ms/step - loss: 37.4434 - mae: 2.9833 - val_loss: 61.1970 - val_mae: 4.6707\n",
      "Epoch 400/500\n",
      "7/7 [==============================] - 0s 7ms/step - loss: 165.3363 - mae: 9.0463 - val_loss: 169.2900 - val_mae: 10.8413\n",
      "Epoch 401/500\n",
      "7/7 [==============================] - 0s 6ms/step - loss: 93.3000 - mae: 5.8199 - val_loss: 22.2024 - val_mae: 2.5410\n",
      "Epoch 402/500\n",
      "7/7 [==============================] - 0s 7ms/step - loss: 40.2365 - mae: 3.3141 - val_loss: 162.8047 - val_mae: 9.3693\n",
      "Epoch 403/500\n",
      "7/7 [==============================] - 0s 7ms/step - loss: 210.7314 - mae: 10.4600 - val_loss: 22.8903 - val_mae: 2.5491\n",
      "Epoch 404/500\n",
      "7/7 [==============================] - 0s 6ms/step - loss: 36.0520 - mae: 2.9044 - val_loss: 22.3502 - val_mae: 2.8620\n",
      "Epoch 405/500\n",
      "7/7 [==============================] - 0s 6ms/step - loss: 193.7942 - mae: 9.1974 - val_loss: 31.8925 - val_mae: 3.7987\n",
      "Epoch 406/500\n",
      "7/7 [==============================] - 0s 8ms/step - loss: 35.2375 - mae: 2.7316 - val_loss: 47.3119 - val_mae: 4.5917\n",
      "Epoch 407/500\n",
      "7/7 [==============================] - 0s 7ms/step - loss: 155.3041 - mae: 8.9248 - val_loss: 27.6845 - val_mae: 3.3492\n",
      "Epoch 408/500\n",
      "7/7 [==============================] - 0s 6ms/step - loss: 40.3898 - mae: 3.3883 - val_loss: 82.8319 - val_mae: 6.5264\n",
      "Epoch 409/500\n",
      "7/7 [==============================] - 0s 6ms/step - loss: 179.5585 - mae: 9.7892 - val_loss: 30.0255 - val_mae: 3.4809\n",
      "Epoch 410/500\n",
      "7/7 [==============================] - 0s 6ms/step - loss: 54.1582 - mae: 4.3753 - val_loss: 42.2743 - val_mae: 5.1613\n",
      "Epoch 411/500\n",
      "7/7 [==============================] - 0s 6ms/step - loss: 150.3225 - mae: 8.6622 - val_loss: 113.0928 - val_mae: 7.1463\n",
      "Epoch 412/500\n",
      "7/7 [==============================] - 0s 7ms/step - loss: 66.1676 - mae: 4.7939 - val_loss: 21.8804 - val_mae: 2.4938\n",
      "Epoch 413/500\n",
      "7/7 [==============================] - 0s 6ms/step - loss: 118.0405 - mae: 6.5336 - val_loss: 77.9828 - val_mae: 7.1831\n",
      "Epoch 414/500\n",
      "7/7 [==============================] - 0s 6ms/step - loss: 69.7210 - mae: 5.0528 - val_loss: 356.2271 - val_mae: 14.0890\n",
      "Epoch 415/500\n",
      "7/7 [==============================] - 0s 8ms/step - loss: 167.9858 - mae: 6.9038 - val_loss: 34.8643 - val_mae: 3.8709\n",
      "Epoch 416/500\n",
      "7/7 [==============================] - 0s 6ms/step - loss: 47.5182 - mae: 4.0132 - val_loss: 245.4077 - val_mae: 11.4672\n",
      "Epoch 417/500\n",
      "7/7 [==============================] - 0s 7ms/step - loss: 112.3909 - mae: 7.8529 - val_loss: 38.3577 - val_mae: 4.2943\n",
      "Epoch 418/500\n",
      "7/7 [==============================] - 0s 6ms/step - loss: 57.0720 - mae: 4.0888 - val_loss: 383.3045 - val_mae: 15.5200\n",
      "Epoch 419/500\n",
      "7/7 [==============================] - 0s 7ms/step - loss: 149.2624 - mae: 7.6870 - val_loss: 26.9869 - val_mae: 3.5251\n",
      "Epoch 420/500\n",
      "7/7 [==============================] - 0s 12ms/step - loss: 107.5415 - mae: 6.9214 - val_loss: 59.8864 - val_mae: 6.0893\n",
      "Epoch 421/500\n",
      "7/7 [==============================] - 0s 8ms/step - loss: 98.9794 - mae: 5.5532 - val_loss: 219.3688 - val_mae: 12.9103\n",
      "Epoch 422/500\n",
      "7/7 [==============================] - 0s 6ms/step - loss: 94.9282 - mae: 5.9694 - val_loss: 23.6256 - val_mae: 2.8278\n",
      "Epoch 423/500\n",
      "7/7 [==============================] - 0s 6ms/step - loss: 107.0478 - mae: 7.1110 - val_loss: 100.3304 - val_mae: 7.2292\n",
      "Epoch 424/500\n",
      "7/7 [==============================] - 0s 7ms/step - loss: 95.8746 - mae: 6.8272 - val_loss: 37.4544 - val_mae: 3.7464\n",
      "Epoch 425/500\n",
      "7/7 [==============================] - 0s 8ms/step - loss: 137.2757 - mae: 7.8292 - val_loss: 25.1221 - val_mae: 2.9269\n",
      "Epoch 426/500\n",
      "7/7 [==============================] - 0s 6ms/step - loss: 40.7416 - mae: 3.2828 - val_loss: 86.5184 - val_mae: 6.3793\n",
      "Epoch 427/500\n",
      "7/7 [==============================] - 0s 6ms/step - loss: 173.6109 - mae: 8.7903 - val_loss: 35.3267 - val_mae: 3.3666\n",
      "Epoch 428/500\n",
      "7/7 [==============================] - 0s 6ms/step - loss: 77.6597 - mae: 5.9117 - val_loss: 43.1871 - val_mae: 4.9814\n",
      "Epoch 429/500\n",
      "7/7 [==============================] - 0s 6ms/step - loss: 90.7351 - mae: 6.4927 - val_loss: 38.6326 - val_mae: 4.6646\n",
      "Epoch 430/500\n",
      "7/7 [==============================] - 0s 7ms/step - loss: 84.7314 - mae: 6.3632 - val_loss: 27.6165 - val_mae: 3.0902\n",
      "Epoch 431/500\n",
      "7/7 [==============================] - 0s 7ms/step - loss: 175.1356 - mae: 8.9012 - val_loss: 44.5925 - val_mae: 3.6420\n"
     ]
    }
   ],
   "source": [
    "history = ann.fit(X_train, y_train,\n",
    "                    validation_data = (X_val, y_val),\n",
    "                    callbacks=[es],\n",
    "                    epochs=500,\n",
    "                    batch_size=60,\n",
    "                    verbose=1)"
   ]
  },
  {
   "cell_type": "markdown",
   "metadata": {
    "colab_type": "text",
    "id": "0H0zKKNEBLD5"
   },
   "source": [
    "### Predicting the results of the Test set"
   ]
  },
  {
   "cell_type": "code",
   "execution_count": 17,
   "metadata": {},
   "outputs": [
    {
     "data": {
      "image/png": "[encoded data removed]",
      "text/plain": [
       "<Figure size 432x288 with 1 Axes>"
      ]
     },
     "metadata": {
      "needs_background": "light"
     },
     "output_type": "display_data"
    }
   ],
   "source": [
    "import matplotlib.pyplot as plt\n",
    "# let's see the training and validation accuracy by epoch\n",
    "history_dict = history.history\n",
    "loss_values = history_dict['loss'] # you can change this\n",
    "val_loss_values = history_dict['val_loss'] # you can also change this\n",
    "epochs = range(1, len(loss_values) + 1) # range of X (no. of epochs)\n",
    "plt.plot(epochs, loss_values, 'blue', label='Training loss')\n",
    "plt.plot(epochs, val_loss_values, 'orange', label='Testing loss')\n",
    "plt.title('Training and testing loss')\n",
    "plt.xlabel('Epochs')\n",
    "plt.ylabel('Loss (MSE)')\n",
    "plt.legend()\n",
    "plt.show()"
   ]
  },
  {
   "cell_type": "code",
   "execution_count": 18,
   "metadata": {},
   "outputs": [
    {
     "data": {
      "image/png": "[encoded data removed]",
      "text/plain": [
       "<Figure size 432x288 with 1 Axes>"
      ]
     },
     "metadata": {
      "needs_background": "light"
     },
     "output_type": "display_data"
    }
   ],
   "source": [
    "loss_values1 = history_dict['mae'] # you can change this\n",
    "val_loss_values1 = history_dict['val_mae'] # you can also change this\n",
    "epochs = range(1, len(loss_values1) + 1) # range of X (no. of epochs)\n",
    "plt.plot(epochs, loss_values1, 'blue', label='Training MAE')\n",
    "plt.plot(epochs, val_loss_values1, 'orange', label='Testing MAE')\n",
    "plt.title('Training and testing MAE')\n",
    "plt.xlabel('Epochs')\n",
    "plt.ylabel('MAE')\n",
    "plt.legend()\n",
    "plt.show()"
   ]
  },
  {
   "cell_type": "code",
   "execution_count": 19,
   "metadata": {},
   "outputs": [
    {
     "name": "stdout",
     "output_type": "stream",
     "text": [
      "range(1, 432)\n"
     ]
    }
   ],
   "source": [
    "print (epochs)"
   ]
  },
  {
   "cell_type": "code",
   "execution_count": 20,
   "metadata": {},
   "outputs": [
    {
     "name": "stdout",
     "output_type": "stream",
     "text": [
      "12/12 [==============================] - 0s 1ms/step\n",
      "3/3 [==============================] - 0s 2ms/step\n"
     ]
    },
    {
     "data": {
      "image/png": "[encoded data removed]",
      "text/plain": [
       "<Figure size 432x288 with 2 Axes>"
      ]
     },
     "metadata": {
      "needs_background": "light"
     },
     "output_type": "display_data"
    }
   ],
   "source": [
    "# scatterplot of actual vs. pred\n",
    "# specify the dimensions \n",
    "fig, axes = plt.subplots(1,2) # 1 row, 2 columns\n",
    "\n",
    "# this makes the individual subplots\n",
    "# Training Results\n",
    "axes[0].scatter(x=y_train, y=ann.predict(X_train)) #first row, first entry (left top)\n",
    "axes[0].set_xlabel(\"Actual\", fontsize=10)\n",
    "axes[0].set_ylabel(\"Predicted\",  fontsize=10)\n",
    "axes[0].set_title(\"Training\")\n",
    "# add 45 deg line\n",
    "x = np.linspace(*axes[0].get_xlim())\n",
    "axes[0].plot(x, x, color='red')\n",
    "# Validation Results\n",
    "axes[1].scatter(x=y_test, y=ann.predict(X_test)) # first row, second entry (right top)\n",
    "axes[1].set_xlabel(\"Actual\", fontsize=10)\n",
    "axes[1].set_ylabel(\"Predicted\",  fontsize=10)\n",
    "axes[1].set_title(\"Validation\")\n",
    "# add 45 deg line\n",
    "x = np.linspace(*axes[1].get_xlim())\n",
    "axes[1].plot(x, x, color='red')\n",
    "\n",
    "# tight layout\n",
    "fig.tight_layout()\n",
    "\n",
    "# show the plot\n",
    "plt.show()"
   ]
  },
  {
   "cell_type": "code",
   "execution_count": 21,
   "metadata": {
    "colab": {
     "base_uri": "https://localhost:8080/",
     "height": 134
    },
    "colab_type": "code",
    "id": "IA0yApEmBG1X",
    "outputId": "cb981e1f-9204-4a2a-fece-9d66a6919189"
   },
   "outputs": [
    {
     "name": "stdout",
     "output_type": "stream",
     "text": [
      "3/3 [==============================] - 0s 2ms/step\n",
      "[[ 45.83  46.16]\n",
      " [109.43 106.79]\n",
      " [ 67.92  70.49]\n",
      " [ 38.17  38.93]\n",
      " [172.08 169.54]\n",
      " [ 79.92  78.32]\n",
      " [240.51 246.71]\n",
      " [ 69.44  66.54]\n",
      " [173.06 175.25]\n",
      " [119.03 116.92]\n",
      " [185.23 186.47]\n",
      " [ 51.98  54.09]\n",
      " [218.61 216.82]\n",
      " [ 66.39  68.81]\n",
      " [140.76 143.07]\n",
      " [ 79.01  77.36]\n",
      " [ 76.    78.77]\n",
      " [289.11 296.19]\n",
      " [ 43.36  41.52]\n",
      " [ 71.37  68.5 ]\n",
      " [136.63 136.91]\n",
      " [444.54 465.29]\n",
      " [ 63.74  60.09]\n",
      " [ 29.98   2.79]\n",
      " [ 21.19  20.56]\n",
      " [ 76.16  75.35]\n",
      " [108.25 105.94]\n",
      " [183.81 183.23]\n",
      " [166.8  170.01]\n",
      " [ 31.31  31.03]\n",
      " [ 70.65   7.42]\n",
      " [174.19 178.35]\n",
      " [ 62.54  62.9 ]\n",
      " [286.03 284.67]\n",
      " [181.77 179.97]\n",
      " [ 71.92  72.03]\n",
      " [ 19.23  20.64]\n",
      " [291.12 293.22]\n",
      " [197.64 197.24]\n",
      " [145.02 146.06]\n",
      " [ 47.49  48.96]\n",
      " [ 61.72  59.69]\n",
      " [ 51.17  52.22]\n",
      " [ 83.61  82.95]\n",
      " [ 71.83  71.26]\n",
      " [ 76.73  73.68]\n",
      " [ 27.48  25.25]\n",
      " [ 39.03  38.42]\n",
      " [ 54.8   55.88]\n",
      " [ 10.1   10.11]\n",
      " [ 42.12  42.82]\n",
      " [ 39.25  38.8 ]\n",
      " [ 71.43  70.49]\n",
      " [ 36.29  35.03]\n",
      " [ 40.54  41.68]\n",
      " [387.24 392.18]\n",
      " [148.92 150.67]\n",
      " [ 60.8   59.12]\n",
      " [170.   174.46]\n",
      " [ 80.58  79.63]\n",
      " [ 31.34  31.63]\n",
      " [ 79.56  79.86]\n",
      " [212.46 216.48]\n",
      " [ 96.22  95.29]\n",
      " [105.89 105.61]\n",
      " [ 29.23  29.16]\n",
      " [ 14.33  14.92]\n",
      " [102.71 103.92]\n",
      " [ 15.79  15.6 ]\n",
      " [103.48 103.39]\n",
      " [  8.09   6.9 ]\n",
      " [ 75.71  74.79]\n",
      " [373.31 377.38]\n",
      " [ 58.19  59.78]\n",
      " [ 70.28  71.84]\n",
      " [100.86 103.44]\n",
      " [127.06 124.46]\n",
      " [ 15.25  16.36]\n",
      " [ 54.1   55.19]\n",
      " [ 57.88  58.79]\n",
      " [ 80.46  84.79]\n",
      " [ 50.89  52.68]]\n"
     ]
    }
   ],
   "source": [
    "#X_test=np.asarray(X_test).astype(np.int)\n",
    "\n",
    "#y_test=np.asarray(y_test).astype(np.int)\n",
    "\n",
    "y_pred = ann.predict(X_test)\n",
    "np.set_printoptions(precision=2)\n",
    "print(np.concatenate((y_pred.reshape(len(y_pred),1), y_test.reshape(len(y_test),1)),1))"
   ]
  },
  {
   "cell_type": "code",
   "execution_count": 22,
   "metadata": {},
   "outputs": [
    {
     "data": {
      "text/plain": [
       "Text(0, 0.5, 'Predicted data')"
      ]
     },
     "execution_count": 22,
     "metadata": {},
     "output_type": "execute_result"
    },
    {
     "data": {
      "image/png": "[encoded data removed]",
      "text/plain": [
       "<Figure size 432x288 with 1 Axes>"
      ]
     },
     "metadata": {
      "needs_background": "light"
     },
     "output_type": "display_data"
    }
   ],
   "source": [
    "import matplotlib.pyplot as plt\n",
    "plt.scatter(y_test, y_pred, color=\"blue\")\n",
    "plt.plot ([0,400],[0,400], color = \"red\")\n",
    "plt.axis ([0,400,0,400])\n",
    "plt.xlabel ('Actual data')\n",
    "plt.ylabel ('Predicted data')"
   ]
  },
  {
   "cell_type": "code",
   "execution_count": 23,
   "metadata": {},
   "outputs": [
    {
     "data": {
      "image/png": "[encoded data removed]",
      "text/plain": [
       "<Figure size 648x648 with 1 Axes>"
      ]
     },
     "metadata": {
      "needs_background": "light"
     },
     "output_type": "display_data"
    }
   ],
   "source": [
    "from sklearn.metrics import r2_score\n",
    "# Initialize layout\n",
    "fig1, ax1 = plt.subplots(figsize = (9, 9))\n",
    "\n",
    "\n",
    "#y = y_pred         # Model on prvious line is called here\n",
    "#x = y_test\n",
    "\n",
    "\n",
    "\n",
    "# Add scatterplot\n",
    "ax1.scatter(y_test, y_pred, s=70, alpha=1, edgecolors=\"k\",c='mediumblue',zorder=5, label = 'Points')\n",
    "\n",
    "\n",
    "plt.ylabel('Predicted Peak Impulse (Pa.s)',fontsize = 25)\n",
    "plt.xlabel('Actual Peak Impulse (Pa.s)',fontsize = 25)\n",
    "plt.xticks(fontsize = 19)\n",
    "plt.yticks(fontsize = 19)\n",
    "\n",
    "\n",
    "x1 = np.linspace(0,4000)\n",
    "\n",
    "plt.plot(x1, x1, 'Red', label='45\\N{DEGREE SIGN} line',lw=2.5,alpha=1)\n",
    "plt.plot(x1, 1.1*x1, '--m', label='\\u00B110% Error',lw=2.5,alpha=0.7)\n",
    "plt.plot(x1, 0.9*x1,'m', linestyle='--',lw=2.5,alpha=0.7)\n",
    "plt.plot(x1, 1.2*x1, '-.g', label='\\u00B120% Error',lw=2.5,alpha=0.7)\n",
    "plt.plot(x1, 0.8*x1,'-.g',lw=2.5,alpha=0.7)\n",
    "\n",
    "plt.ylim(0, 400)\n",
    "plt.xlim(0, 400)\n",
    "plt.legend(loc='upper left',fontsize = 25)\n",
    "\n",
    "plt.grid()\n",
    "\n",
    "ax1.spines['left'].set_color('black')        # setting up Y-axis tick color to red\n",
    "ax1.spines['bottom'].set_color('black')         #setting up above X-axis tick color to red\n",
    "\n",
    "\n",
    "\n",
    "#ax1.annotate(\"$R^2$ = {:.3f}\".format(r2), (2500, 1000),fontsize = 25)  #Model is called here\n",
    "#ax1.annotate(\"Adj.$R^2$ = {:.3f}\".format(adj_r2), (2500, 750),fontsize = 25)\n",
    "\n",
    "#plt.savefig('plot1.png', dpi = 600, bbox_inches = 'tight')"
   ]
  },
  {
   "cell_type": "code",
   "execution_count": 24,
   "metadata": {},
   "outputs": [
    {
     "data": {
      "image/png": "[encoded data removed]",
      "text/plain": [
       "<Figure size 648x648 with 1 Axes>"
      ]
     },
     "metadata": {
      "needs_background": "light"
     },
     "output_type": "display_data"
    }
   ],
   "source": [
    "# Initialize layout\n",
    "fig2, bx = plt.subplots(figsize = (9, 9))\n",
    "\n",
    "\n",
    "\n",
    "# Add scatterplot\n",
    "bx.scatter(y_test, y_pred, s=70, alpha=1, edgecolors=\"k\",c='mediumblue',zorder=5, label = 'Points')\n",
    "\n",
    "\n",
    "\n",
    "\n",
    "plt.ylabel('Predicted Peak Impulse (Pa.s)',fontsize = 25)\n",
    "plt.xlabel('Actual Peak Impulse (Pa.s)',fontsize = 25)\n",
    "plt.xticks(fontsize = 19)\n",
    "plt.yticks(fontsize = 19)\n",
    "\n",
    "\n",
    "\n",
    "x1 = np.linspace(0,500)\n",
    "\n",
    "plt.plot(x1, x1, 'Red', label='45\\N{DEGREE SIGN} line',lw=2.5,alpha=1)\n",
    "plt.plot(x1, 1.1*x1, '--m', label='\\u00B110% Error',lw=2.5,alpha=0.7) #\\u00B1\n",
    "plt.plot(x1, 0.9*x1,'m', linestyle='--',lw=2.5,alpha=0.7)\n",
    "plt.plot(x1, 1.2*x1, '-.g', label='\\u00B120% Error',lw=2.5,alpha=0.7)\n",
    "plt.plot(x1, 0.8*x1,'-.g',lw=2.5,alpha=0.7)\n",
    "\n",
    "plt.ylim(0, 100)\n",
    "plt.xlim(0, 100)\n",
    "plt.legend(loc='upper left',fontsize = 25)\n",
    "\n",
    "plt.grid()\n",
    "\n",
    "bx.spines['left'].set_color('black')        # setting up Y-axis tick color to red\n",
    "bx.spines['bottom'].set_color('black')         #setting up above X-axis tick color to red\n",
    "\n",
    "\n",
    "#plt.savefig('plot1.png', dpi = 600, bbox_inches = 'tight')"
   ]
  },
  {
   "cell_type": "code",
   "execution_count": 25,
   "metadata": {},
   "outputs": [
    {
     "name": "stdout",
     "output_type": "stream",
     "text": [
      "12/12 [==============================] - 0s 2ms/step\n",
      "2.294443786524243\n",
      "3.0283259379333103\n"
     ]
    }
   ],
   "source": [
    "# metrics\n",
    "\n",
    "\n",
    "trainpreds = ann.predict(X_train)\n",
    "\n",
    "from sklearn.metrics import mean_absolute_error\n",
    "print(mean_absolute_error(y_train, trainpreds)) # train\n",
    "print(mean_absolute_error(y_test, y_pred)) # test"
   ]
  },
  {
   "cell_type": "code",
   "execution_count": 26,
   "metadata": {},
   "outputs": [
    {
     "name": "stdout",
     "output_type": "stream",
     "text": [
      "0.9917168171733851\n"
     ]
    }
   ],
   "source": [
    "from sklearn.metrics import r2_score\n",
    "r2 = r2_score(y_test, y_pred)\n",
    "print (r2)"
   ]
  },
  {
   "cell_type": "code",
   "execution_count": 27,
   "metadata": {},
   "outputs": [
    {
     "name": "stdout",
     "output_type": "stream",
     "text": [
      "0.9959818719263542\n"
     ]
    }
   ],
   "source": [
    "r2_train = r2_score(y_train, trainpreds)\n",
    "print (r2_train)"
   ]
  },
  {
   "cell_type": "code",
   "execution_count": 28,
   "metadata": {},
   "outputs": [
    {
     "name": "stdout",
     "output_type": "stream",
     "text": [
      "Within 10% margin 96.34%\n",
      "Within 20% margin 97.56%\n",
      "Out of 20% margin 2.44%\n"
     ]
    }
   ],
   "source": [
    "count1 = 0\n",
    "for i in range(len(y_pred)):\n",
    "    line1 = y_pred[i] - 0.9*y_test[i]\n",
    "    line2 = y_pred[i] - 1.1*y_test[i]\n",
    "    #print ('line 1 ', line1)\n",
    "    #print ('line 2 ', line2)\n",
    "    mask1 = (line1 > 0) & (line2 < 0)\n",
    "    #print (mask)\n",
    "    count1 = np.sum(mask1+count1)\n",
    "    #print (count)\n",
    "\n",
    "count2 = 0\n",
    "for j in range(len(y_pred)):\n",
    "    line3 = y_pred[j] - 0.8*y_test[j]\n",
    "    line4 = y_pred[j] - 1.2*y_test[j]\n",
    "    mask2 = (line3 > 0) & (line4 < 0)\n",
    "    count2 = np.sum(mask2+count2)\n",
    "\n",
    "\n",
    "count3 = 0    \n",
    "for k in range(len(y_pred)):\n",
    "    line5 = y_pred[k] - 0.8*y_test[k]\n",
    "    line6 = y_pred[k] - 1.2*y_test[k]\n",
    "    mask3 = (line5 < 0) or (line6 > 0)\n",
    "    count3 = np.sum(mask3+count3)\n",
    "   \n",
    "\n",
    "print ('Within 10% margin', format((count1/len (y_pred)),'.2%'))\n",
    "print ('Within 20% margin', format((count2/len (y_pred)),'.2%'))\n",
    "print ('Out of 20% margin', format((count3/len (y_pred)),'.2%'))"
   ]
  },
  {
   "cell_type": "code",
   "execution_count": 29,
   "metadata": {},
   "outputs": [
    {
     "name": "stdout",
     "output_type": "stream",
     "text": [
      "0.9912865219616129\n"
     ]
    }
   ],
   "source": [
    "adj_r2 = 1 - ((1 - r2) * (len(X_test) - 1) / (len(X_test) - len (X_test[0]) - 1))\n",
    "print (adj_r2)"
   ]
  },
  {
   "cell_type": "code",
   "execution_count": 30,
   "metadata": {},
   "outputs": [
    {
     "data": {
      "text/plain": [
       "8.235197951182654"
      ]
     },
     "execution_count": 30,
     "metadata": {},
     "output_type": "execute_result"
    }
   ],
   "source": [
    "import math\n",
    "from sklearn.metrics import mean_squared_error\n",
    "\n",
    "math.sqrt(mean_squared_error(y_test, y_pred))"
   ]
  },
  {
   "cell_type": "code",
   "execution_count": 31,
   "metadata": {},
   "outputs": [
    {
     "data": {
      "text/plain": [
       "3.0283259379333103"
      ]
     },
     "execution_count": 31,
     "metadata": {},
     "output_type": "execute_result"
    }
   ],
   "source": [
    "from sklearn.metrics import mean_absolute_error\n",
    "\n",
    "mean_absolute_error(y_test, y_pred)"
   ]
  }
 ],
 "metadata": {
  "colab": {
   "collapsed_sections": [],
   "name": "Artificial Neural Network",
   "provenance": [],
   "toc_visible": true
  },
  "kernelspec": {
   "display_name": "Python 3 (ipykernel)",
   "language": "python",
   "name": "python3"
  },
  "language_info": {
   "codemirror_mode": {
    "name": "ipython",
    "version": 3
   },
   "file_extension": ".py",
   "mimetype": "text/x-python",
   "name": "python",
   "nbconvert_exporter": "python",
   "pygments_lexer": "ipython3",
   "version": "3.9.7"
  }
 },
 "nbformat": 4,
 "nbformat_minor": 4
}
